{
 "cells": [
  {
   "cell_type": "markdown",
   "metadata": {},
   "source": [
    "# Chp. 1) Regular expressions & word tokenization\n",
    "## Natural Language Processing\n",
    "- Field of study focused on making sense of languge\n",
    "    - using stats and computers\n",
    "- You will learn basics on NLP\n",
    "    - topic identification\n",
    "    - text classification\n",
    "- NLP applications include:\n",
    "    - chatbots\n",
    "    - translation\n",
    "    - sentiment analysis\n",
    "    - many more\n",
    "\n",
    "## What are regular expressions\n",
    "- strings with special syntax\n",
    "- allow us to match patters in other strings\n",
    "- applications\n",
    "    - find all web links in a document\n",
    "    - parse email addresses\n",
    "    - remove/replace unwanted characters"
   ]
  },
  {
   "cell_type": "code",
   "execution_count": 1,
   "metadata": {
    "collapsed": true
   },
   "outputs": [],
   "source": [
    "import re"
   ]
  },
  {
   "cell_type": "code",
   "execution_count": 2,
   "metadata": {},
   "outputs": [
    {
     "data": {
      "text/plain": [
       "<_sre.SRE_Match object; span=(0, 3), match='abc'>"
      ]
     },
     "execution_count": 2,
     "metadata": {},
     "output_type": "execute_result"
    }
   ],
   "source": [
    "re.match ('abc', 'abcdef')\n",
    "# patter, string to look in"
   ]
  },
  {
   "cell_type": "code",
   "execution_count": 3,
   "metadata": {},
   "outputs": [
    {
     "data": {
      "text/plain": [
       "<_sre.SRE_Match object; span=(0, 2), match='hi'>"
      ]
     },
     "execution_count": 3,
     "metadata": {},
     "output_type": "execute_result"
    }
   ],
   "source": [
    "word_regex = '\\w+'\n",
    "\n",
    "re.match(word_regex, 'hi there!')\n",
    "#matches the first word it finds"
   ]
  },
  {
   "cell_type": "markdown",
   "metadata": {},
   "source": [
    "Common Rgex Patters\n",
    "![](images/regex-patterns.png)"
   ]
  },
  {
   "cell_type": "markdown",
   "metadata": {},
   "source": [
    "## Python's `re` Module\n",
    "-  `re` module\n",
    "- `split:` split a string on regex\n",
    "- `findall:` find all patterns in a string\n",
    "- `search`: search for a pattern\n",
    "- `match`: match an entire string or substring based on a pattern\n",
    "\n",
    "- Pattern first, string second\n",
    "- May return an iterator, string, or match object"
   ]
  },
  {
   "cell_type": "code",
   "execution_count": 4,
   "metadata": {},
   "outputs": [
    {
     "data": {
      "text/plain": [
       "['Split', 'on', 'spaces.']"
      ]
     },
     "execution_count": 4,
     "metadata": {},
     "output_type": "execute_result"
    }
   ],
   "source": [
    "re.split('\\s+', 'Split on spaces.')"
   ]
  },
  {
   "cell_type": "code",
   "execution_count": 5,
   "metadata": {},
   "outputs": [
    {
     "data": {
      "text/plain": [
       "['Let', 's', 'write', 'RegEx']"
      ]
     },
     "execution_count": 5,
     "metadata": {},
     "output_type": "execute_result"
    }
   ],
   "source": [
    "my_string = \"Let's write RegEx!\"\n",
    "\n",
    "PATTERN = r\"\\w+\"\n",
    "\n",
    "re.findall(PATTERN, my_string)"
   ]
  },
  {
   "cell_type": "code",
   "execution_count": 6,
   "metadata": {
    "collapsed": true
   },
   "outputs": [],
   "source": [
    "my_string = \"Let's write RegEx!  Won't that be fun?  I sure think so.  Can you find 4 sentences?  Or perhaps, all 19 words?\""
   ]
  },
  {
   "cell_type": "code",
   "execution_count": 7,
   "metadata": {},
   "outputs": [
    {
     "name": "stdout",
     "output_type": "stream",
     "text": [
      "[\"Let's write RegEx\", \"  Won't that be fun\", '  I sure think so', '  Can you find 4 sentences', '  Or perhaps, all 19 words', '']\n",
      "['Let', 'RegEx', 'Won', 'Can', 'Or']\n",
      "[\"Let's\", 'write', 'RegEx!', \"Won't\", 'that', 'be', 'fun?', 'I', 'sure', 'think', 'so.', 'Can', 'you', 'find', '4', 'sentences?', 'Or', 'perhaps,', 'all', '19', 'words?']\n",
      "['4', '19']\n"
     ]
    }
   ],
   "source": [
    "# Write a pattern to match sentence endings: sentence_endings\n",
    "sentence_endings = r\"[.?!]\"\n",
    "\n",
    "# Split my_string on sentence endings and print the result\n",
    "print(re.split(sentence_endings, my_string))\n",
    "\n",
    "# Find all capitalized words in my_string and print the result\n",
    "capitalized_words = r\"[A-Z]\\w+\"\n",
    "print(re.findall(capitalized_words, my_string))\n",
    "\n",
    "# Split my_string on spaces and print the result\n",
    "spaces = r\"[ ]+\"\n",
    "print(re.split(spaces, my_string))\n",
    "\n",
    "# Find all digits in my_string and print the result\n",
    "digits = r\"\\d+\"\n",
    "print(re.findall(digits, my_string))"
   ]
  },
  {
   "cell_type": "markdown",
   "metadata": {},
   "source": [
    "## Introduction to Tokenization\n",
    "- turning a string or document into **tokens** (smaller chunks)\n",
    "- One step in preparing a text for NLP\n",
    "- Many different approaches\n",
    "- You can create your own rules too\n",
    "- Examples:\n",
    "    - breaking out words or sentences\n",
    "    - separating punctuation\n",
    "    - separating all hashtags in a tweet\n",
    "    \n",
    "## `nltk` library\n",
    "- `nltk`: natural language toolkit"
   ]
  },
  {
   "cell_type": "code",
   "execution_count": 8,
   "metadata": {
    "collapsed": true
   },
   "outputs": [],
   "source": [
    "from nltk.tokenize import word_tokenize"
   ]
  },
  {
   "cell_type": "code",
   "execution_count": 9,
   "metadata": {},
   "outputs": [
    {
     "data": {
      "text/plain": [
       "['Hi', 'there', '!']"
      ]
     },
     "execution_count": 9,
     "metadata": {},
     "output_type": "execute_result"
    }
   ],
   "source": [
    "word_tokenize(\"Hi there!\")\n",
    "#can handle punctuation, capitalization."
   ]
  },
  {
   "cell_type": "markdown",
   "metadata": {},
   "source": [
    "*Looks like this saves us the trouble of writing our own patterns, or even of using re's patterns*"
   ]
  },
  {
   "cell_type": "markdown",
   "metadata": {},
   "source": [
    "## Why tokenize?\n",
    "- easier to map part of speech\n",
    "- matching common words\n",
    "- removing unwanted tokens\n",
    "- \"I don't like Sam's shoes.\"\n",
    "- \"I\", \"do\", \"n't\", \"like\", \"Sam\", \"'s\", \"shoes\", \".\"\n",
    "\n",
    "## Other `nltk` tokenizewrs\n",
    "- `sent_tokenize`: tokenize a document into sentences\n",
    "- `regexp_tokenize`: tokenize a string or document based on a regular expression pattern\n",
    "- `TweetTokenizer`: special class just for tweet tokenization, allowing you to separate hashtags, mentions and lots of exclamation points!!!\n",
    "\n",
    "## More regex practice\n",
    "- difference between `re.search()` and `re.match()`"
   ]
  },
  {
   "cell_type": "code",
   "execution_count": 10,
   "metadata": {},
   "outputs": [
    {
     "data": {
      "text/plain": [
       "<_sre.SRE_Match object; span=(0, 3), match='abc'>"
      ]
     },
     "execution_count": 10,
     "metadata": {},
     "output_type": "execute_result"
    }
   ],
   "source": [
    "re.match ('abc', 'abcde')"
   ]
  },
  {
   "cell_type": "code",
   "execution_count": 11,
   "metadata": {},
   "outputs": [
    {
     "data": {
      "text/plain": [
       "<_sre.SRE_Match object; span=(0, 3), match='abc'>"
      ]
     },
     "execution_count": 11,
     "metadata": {},
     "output_type": "execute_result"
    }
   ],
   "source": [
    "re.search('abc', 'abcde')"
   ]
  },
  {
   "cell_type": "code",
   "execution_count": 12,
   "metadata": {
    "collapsed": true
   },
   "outputs": [],
   "source": [
    "#you get the same result when the strings are at the beginning"
   ]
  },
  {
   "cell_type": "code",
   "execution_count": 13,
   "metadata": {
    "collapsed": true
   },
   "outputs": [],
   "source": [
    "re.match('cd', 'abcde')"
   ]
  },
  {
   "cell_type": "markdown",
   "metadata": {},
   "source": [
    "re.match\n",
    "- requires the strings to have matching beginnings too.\n",
    "re.search\n",
    "- can search for subsets of the string"
   ]
  },
  {
   "cell_type": "code",
   "execution_count": 14,
   "metadata": {
    "collapsed": true
   },
   "outputs": [],
   "source": [
    "# wtf, what did that top one do?"
   ]
  },
  {
   "cell_type": "code",
   "execution_count": 15,
   "metadata": {},
   "outputs": [
    {
     "data": {
      "text/plain": [
       "<_sre.SRE_Match object; span=(2, 4), match='cd'>"
      ]
     },
     "execution_count": 15,
     "metadata": {},
     "output_type": "execute_result"
    }
   ],
   "source": [
    "re.search('cd', 'abcde')"
   ]
  },
  {
   "cell_type": "code",
   "execution_count": 16,
   "metadata": {
    "scrolled": true
   },
   "outputs": [
    {
     "data": {
      "text/plain": [
       "\"SCENE 1: [wind] [clop clop clop] \\nKING ARTHUR: Whoa there!  [clop clop clop] \\nSOLDIER #1: Halt!  Who goes there?\\nARTHUR: It is I, Arthur, son of Uther Pendragon, from the castle of Camelot.  King of the Britons, defeator of the Saxons, sovereign of all England!\\nSOLDIER #1: Pull the other one!\\nARTHUR: I am, ...  and this is my trusty servant Patsy.  We have ridden the length and breadth of the land in search of knights who will join me in my court at Camelot.  I must speak with your lord and master.\\nSOLDIER #1: What?  Ridden on a horse?\\nARTHUR: Yes!\\nSOLDIER #1: You're using coconuts!\\nARTHUR: What?\\nSOLDIER #1: You've got two empty halves of coconut and you're bangin' 'em together.\\nARTHUR: So?  We have ridden since the snows of winter covered this land, through the kingdom of Mercea, through--\\nSOLDIER #1: Where'd you get the coconuts?\\nARTHUR: We found them.\\nSOLDIER #1: Found them?  In Mercea?  The coconut's tropical!\\nARTHUR: What do you mean?\\nSOLDIER #1: Well, this is a temperate zone.\\nARTHUR: The swallow may fly south with the sun or the house martin or the plover may seek warmer climes in winter, yet these are not strangers to our land?\\nSOLDIER #1: Are you suggesting coconuts migrate?\\nARTHUR: Not at all.  They could be carried.\\nSOLDIER #1: What?  A swallow carrying a coconut?\\nARTHUR: It could grip it by the husk!\\nSOLDIER #1: It's not a question of where he grips it!  It's a simple question of weight ratios!  A five ounce bird could not carry a one pound coconut.\\nARTHUR: Well, it doesn't matter.  Will you go and tell your master that Arthur from the Court of Camelot is here.\\nSOLDIER #1: Listen.  In order to maintain air-speed velocity, a swallow needs to beat its wings forty-three times every second, right?\\nARTHUR: Please!\\nSOLDIER #1: Am I right?\\nARTHUR: I'm not interested!\\nSOLDIER #2: It could be carried by an African swallow!\\nSOLDIER #1: Oh, yeah, an African swallow maybe, but not a European swallow.  That's my point.\\nSOLDIER #2: Oh, yeah, I agree with that.\\nARTHUR: Will you ask your master if he wants to join my court at Camelot?!\\nSOLDIER #1: But then of course a-- African swallows are non-migratory.\\nSOLDIER #2: Oh, yeah...\\nSOLDIER #1: So they couldn't bring a coconut back anyway...  [clop clop clop] \\nSOLDIER #2: Wait a minute!  Supposing two swallows carried it together?\\nSOLDIER #1: No, they'd have to have it on a line.\\nSOLDIER #2: Well, simple!  They'd just use a strand of creeper!\\nSOLDIER #1: What, held under the dorsal guiding feathers?\\nSOLDIER #2: Well, why not?\\n\""
      ]
     },
     "execution_count": 16,
     "metadata": {},
     "output_type": "execute_result"
    }
   ],
   "source": [
    "scene_one = \"SCENE 1: [wind] [clop clop clop] \\nKING ARTHUR: Whoa there!  [clop clop clop] \\nSOLDIER #1: Halt!  Who goes there?\\nARTHUR: It is I, Arthur, son of Uther Pendragon, from the castle of Camelot.  King of the Britons, defeator of the Saxons, sovereign of all England!\\nSOLDIER #1: Pull the other one!\\nARTHUR: I am, ...  and this is my trusty servant Patsy.  We have ridden the length and breadth of the land in search of knights who will join me in my court at Camelot.  I must speak with your lord and master.\\nSOLDIER #1: What?  Ridden on a horse?\\nARTHUR: Yes!\\nSOLDIER #1: You're using coconuts!\\nARTHUR: What?\\nSOLDIER #1: You've got two empty halves of coconut and you're bangin' 'em together.\\nARTHUR: So?  We have ridden since the snows of winter covered this land, through the kingdom of Mercea, through--\\nSOLDIER #1: Where'd you get the coconuts?\\nARTHUR: We found them.\\nSOLDIER #1: Found them?  In Mercea?  The coconut's tropical!\\nARTHUR: What do you mean?\\nSOLDIER #1: Well, this is a temperate zone.\\nARTHUR: The swallow may fly south with the sun or the house martin or the plover may seek warmer climes in winter, yet these are not strangers to our land?\\nSOLDIER #1: Are you suggesting coconuts migrate?\\nARTHUR: Not at all.  They could be carried.\\nSOLDIER #1: What?  A swallow carrying a coconut?\\nARTHUR: It could grip it by the husk!\\nSOLDIER #1: It's not a question of where he grips it!  It's a simple question of weight ratios!  A five ounce bird could not carry a one pound coconut.\\nARTHUR: Well, it doesn't matter.  Will you go and tell your master that Arthur from the Court of Camelot is here.\\nSOLDIER #1: Listen.  In order to maintain air-speed velocity, a swallow needs to beat its wings forty-three times every second, right?\\nARTHUR: Please!\\nSOLDIER #1: Am I right?\\nARTHUR: I'm not interested!\\nSOLDIER #2: It could be carried by an African swallow!\\nSOLDIER #1: Oh, yeah, an African swallow maybe, but not a European swallow.  That's my point.\\nSOLDIER #2: Oh, yeah, I agree with that.\\nARTHUR: Will you ask your master if he wants to join my court at Camelot?!\\nSOLDIER #1: But then of course a-- African swallows are non-migratory.\\nSOLDIER #2: Oh, yeah...\\nSOLDIER #1: So they couldn't bring a coconut back anyway...  [clop clop clop] \\nSOLDIER #2: Wait a minute!  Supposing two swallows carried it together?\\nSOLDIER #1: No, they'd have to have it on a line.\\nSOLDIER #2: Well, simple!  They'd just use a strand of creeper!\\nSOLDIER #1: What, held under the dorsal guiding feathers?\\nSOLDIER #2: Well, why not?\\n\"\n",
    "scene_one"
   ]
  },
  {
   "cell_type": "code",
   "execution_count": 17,
   "metadata": {},
   "outputs": [
    {
     "name": "stdout",
     "output_type": "stream",
     "text": [
      "{'No', 'are', 'there', 'kingdom', 'length', '!', 'pound', 'our', 'fly', '#', 'But', 'I', 'must', 'temperate', 'goes', 'What', 'through', 'dorsal', 'snows', 'ARTHUR', \"'\", 'south', 'Are', 'trusty', 'by', 'Pull', 'African', 'and', 'agree', 'Patsy', 'held', 'using', 'Whoa', '2', 'defeator', 'The', 'am', 'Well', 'may', 'right', 'its', 'got', 'all', '...', '--', 'Oh', 'ounce', 'minute', 'Arthur', 'search', 'carried', 'Saxons', 'other', 'European', 'servant', 'strangers', \"'re\", 'sun', 'Listen', 'land', \"'s\", 'coconuts', 'lord', 'anyway', 'coconut', 'carrying', 'who', 'empty', 'wings', 'then', 'yeah', 'Yes', 'suggesting', 'under', 'They', 'bangin', 'be', \"'m\", 'on', 'winter', 'two', 'bring', 'covered', 'SCENE', 'together', 'does', 'with', 'maintain', 'It', 'have', \"'ve\", 'non-migratory', 'to', 'knights', 'martin', 'yet', 'Not', 'Camelot', \"'em\", \"'d\", 'a', 'use', ':', 'grip', 'course', 'he', 'times', \"n't\", 'Halt', 'wind', 'court', 'here', 'is', 'Where', 'warmer', 'carry', 'this', 'my', 'Mercea', 'swallows', 'tropical', 'line', 'A', '.', 'at', 'the', 'zone', 'but', 'mean', 'Will', 'ask', 'back', 'your', 'Ridden', 'if', 'climes', 'Britons', 'So', 'bird', '?', 'feathers', 'We', 'Court', 'go', 'these', 'England', 'they', 'question', 'Uther', 'tell', 'get', 'seek', 'speak', '1', 'it', 'breadth', ']', 'grips', 'SOLDIER', 'second', 'wants', 'In', 'just', 'clop', 'Am', 'since', 'needs', 'matter', 'found', 'strand', 'guiding', 'King', 'swallow', 'Supposing', 'Please', 'why', 'KING', 'ratios', 'Found', 'will', 'sovereign', 'creeper', 'them', 'Who', 'you', 'son', 'join', 'beat', 'halves', 'me', 'master', 'five', 'That', 'do', 'velocity', 'or', 'air-speed', 'castle', 'maybe', 'plover', 'husk', 'migrate', 'order', 'ridden', 'house', 'from', 'not', '[', 'weight', 'Pendragon', 'could', 'of', 'Wait', 'simple', 'You', 'every', 'one', 'forty-three', 'horse', 'where', 'point', 'in', 'that', ',', 'interested', 'an'}\n"
     ]
    }
   ],
   "source": [
    "# Import necessary modules\n",
    "from nltk.tokenize import sent_tokenize, word_tokenize\n",
    "\n",
    "# Split scene_one into sentences: sentences\n",
    "sentences = sent_tokenize(scene_one)\n",
    "\n",
    "# Use word_tokenize to tokenize the fourth sentence: tokenized_sent\n",
    "tokenized_sent = word_tokenize(sentences[3])\n",
    "\n",
    "# Make a set of unique tokens in the entire scene: unique_tokens\n",
    "unique_tokens = set(word_tokenize(scene_one))\n",
    "\n",
    "# Print the unique tokens result\n",
    "print(unique_tokens)\n"
   ]
  },
  {
   "cell_type": "code",
   "execution_count": 18,
   "metadata": {},
   "outputs": [
    {
     "name": "stdout",
     "output_type": "stream",
     "text": [
      "580 588\n"
     ]
    }
   ],
   "source": [
    "# Search for the first occurrence of \"coconuts\" in scene_one: match\n",
    "match = re.search(\"coconuts\", scene_one)\n",
    "\n",
    "# Print the start and end indices of match\n",
    "print(match.start(), match.end())"
   ]
  },
  {
   "cell_type": "code",
   "execution_count": 19,
   "metadata": {},
   "outputs": [
    {
     "name": "stdout",
     "output_type": "stream",
     "text": [
      "<_sre.SRE_Match object; span=(9, 32), match='[wind] [clop clop clop]'>\n"
     ]
    }
   ],
   "source": [
    "# write a regular expression to search for anythin in square brackets: pattern 1\n",
    "pattern1 = r\"\\[.*\\]\"\n",
    "\n",
    "# use re.search to find the first text in square brackets\n",
    "print(re.search(pattern1, scene_one))"
   ]
  },
  {
   "cell_type": "markdown",
   "metadata": {},
   "source": [
    "*Looks like when searching with a pattern you can get multiple results, as opposed to searching for a string would give you only the first result*"
   ]
  },
  {
   "cell_type": "code",
   "execution_count": 20,
   "metadata": {},
   "outputs": [
    {
     "name": "stdout",
     "output_type": "stream",
     "text": [
      "<_sre.SRE_Match object; span=(16, 32), match='[clop clop clop]'>\n"
     ]
    }
   ],
   "source": [
    "print(re.search('\\[clop.*\\]', scene_one))"
   ]
  },
  {
   "cell_type": "code",
   "execution_count": 21,
   "metadata": {},
   "outputs": [
    {
     "name": "stdout",
     "output_type": "stream",
     "text": [
      "<_sre.SRE_Match object; span=(0, 7), match='ARTHUR:'>\n"
     ]
    }
   ],
   "source": [
    "# Find the script notation at the beginning of the fourth sentence and print it\n",
    "pattern2 = r\"[\\w\\s]+:\"\n",
    "print(re.match(pattern2, sentences[3]))"
   ]
  },
  {
   "cell_type": "markdown",
   "metadata": {},
   "source": [
    "## Advanced tokenization with NLTK and regex\n",
    "### Regex groups using or \"|\"\n",
    "- OR is represented using |\n",
    "- You can define a group using ()\n",
    "- You can define explicit character reanges using []"
   ]
  },
  {
   "cell_type": "code",
   "execution_count": 22,
   "metadata": {},
   "outputs": [
    {
     "data": {
      "text/plain": [
       "['He', 'has', '11', 'cats']"
      ]
     },
     "execution_count": 22,
     "metadata": {},
     "output_type": "execute_result"
    }
   ],
   "source": [
    "match_digits_and_words = ('(\\d+|\\w+)')\n",
    "re.findall(match_digits_and_words, 'He has 11 cats.')"
   ]
  },
  {
   "cell_type": "markdown",
   "metadata": {},
   "source": [
    "### Regex ranges and groups\n",
    "![](images/regex-group-patterns.png)\n",
    "\n",
    "Notice that groups are more explicitly literal in the syntax of their scope\n",
    "\n",
    "### Character range with `re.match()`"
   ]
  },
  {
   "cell_type": "code",
   "execution_count": 23,
   "metadata": {},
   "outputs": [
    {
     "data": {
      "text/plain": [
       "<_sre.SRE_Match object; span=(0, 35), match='match lowercase spaces nums like 12'>"
      ]
     },
     "execution_count": 23,
     "metadata": {},
     "output_type": "execute_result"
    }
   ],
   "source": [
    "my_str = 'match lowercase spaces nums like 12, but no commas'\n",
    "\n",
    "re.match('[a-z0-9 ]+', my_str)"
   ]
  },
  {
   "cell_type": "markdown",
   "metadata": {},
   "source": [
    "*Notice: the above call to match, stops matching as soon as it encounters something outside it's given pattern*"
   ]
  },
  {
   "cell_type": "code",
   "execution_count": 24,
   "metadata": {
    "collapsed": true
   },
   "outputs": [],
   "source": [
    "my_string = \"SOLDIER #1: Found them? In Mercea? The coconut's tropical!\""
   ]
  },
  {
   "cell_type": "code",
   "execution_count": 25,
   "metadata": {
    "collapsed": true
   },
   "outputs": [],
   "source": [
    "#tokenizer to retain sentence punctuation as separate tokens, \n",
    "# but have `#1` remain a single token\n",
    "\n",
    "my_tokenizer = r\"(\\w+|#\\d|\\?|!)\"\n",
    "#group of words (zero or more times), or the pound sign followed by a digit, or the question mark or the exclamation mark"
   ]
  },
  {
   "cell_type": "code",
   "execution_count": 26,
   "metadata": {
    "collapsed": true
   },
   "outputs": [],
   "source": [
    "tweets = ['This is the best #nlp exercise ive found online! #python',\n",
    " '#NLP is super fun! <3 #learning',\n",
    " 'Thanks @datacamp :) #nlp #python']"
   ]
  },
  {
   "cell_type": "code",
   "execution_count": 27,
   "metadata": {},
   "outputs": [
    {
     "data": {
      "text/plain": [
       "['This is the best #nlp exercise ive found online! #python',\n",
       " '#NLP is super fun! <3 #learning',\n",
       " 'Thanks @datacamp :) #nlp #python']"
      ]
     },
     "execution_count": 27,
     "metadata": {},
     "output_type": "execute_result"
    }
   ],
   "source": [
    "tweets"
   ]
  },
  {
   "cell_type": "code",
   "execution_count": 28,
   "metadata": {},
   "outputs": [
    {
     "name": "stdout",
     "output_type": "stream",
     "text": [
      "[['This', 'is', 'the', 'best', '#nlp', 'exercise', 'ive', 'found', 'online', '!', '#python'], ['#NLP', 'is', 'super', 'fun', '!', '<3', '#learning'], ['Thanks', '@datacamp', ':)', '#nlp', '#python']]\n"
     ]
    }
   ],
   "source": [
    "# Import the necessary modules\n",
    "from nltk.tokenize import regexp_tokenize, TweetTokenizer\n",
    "\n",
    "# Define a regex pattern to find hashtags: pattern1\n",
    "pattern1 = r\"#\\w+\"\n",
    "\n",
    "# Use the pattern on the first tweet in the tweets list\n",
    "regexp_tokenize(tweets[0], pattern1)\n",
    "\n",
    "# Write a pattern that matches both mentions and hashtags\n",
    "pattern2 = r\"([@#]\\w+)\"\n",
    "    # notice the above pattern is a group with a pattern inside it\n",
    "\n",
    "# Use the pattern on the last tweet in the tweets list\n",
    "regexp_tokenize(tweets[-1], pattern2)\n",
    "\n",
    "# Use the TweetTokenizer to tokenize all tweets into one list\n",
    "tknzr = TweetTokenizer()\n",
    "all_tokens = [tknzr.tokenize(t) for t in tweets]\n",
    "print(all_tokens)\n"
   ]
  },
  {
   "cell_type": "markdown",
   "metadata": {},
   "source": [
    "### non-ascii tokenization\n",
    "German with emoji!\n",
    "\n",
    "Unicode ranges for emoji are:\n",
    "\n",
    "('\\U0001F300'-'\\U0001F5FF'), \n",
    "('\\U0001F600-\\U0001F64F'), \n",
    "('\\U0001F680-\\U0001F6FF'), and \n",
    "('\\u2600'-\\u26FF-\\u2700-\\u27BF')."
   ]
  },
  {
   "cell_type": "code",
   "execution_count": 29,
   "metadata": {
    "collapsed": true
   },
   "outputs": [],
   "source": [
    "german_text = 'Wann gehen wir zum Pizza? 🍕 Und fährst du mit Über? 🚕'"
   ]
  },
  {
   "cell_type": "code",
   "execution_count": 30,
   "metadata": {},
   "outputs": [
    {
     "data": {
      "text/plain": [
       "'Wann gehen wir zum Pizza? 🍕 Und fährst du mit Über? 🚕'"
      ]
     },
     "execution_count": 30,
     "metadata": {},
     "output_type": "execute_result"
    }
   ],
   "source": [
    "german_text"
   ]
  },
  {
   "cell_type": "code",
   "execution_count": 31,
   "metadata": {},
   "outputs": [
    {
     "name": "stdout",
     "output_type": "stream",
     "text": [
      "['Wann', 'gehen', 'wir', 'zum', 'Pizza', '?', '🍕', 'Und', 'fährst', 'du', 'mit', 'Über', '?', '🚕']\n"
     ]
    }
   ],
   "source": [
    "# Tokenize and print all words in german_text\n",
    "all_words = word_tokenize(german_text)\n",
    "print(all_words)"
   ]
  },
  {
   "cell_type": "code",
   "execution_count": 32,
   "metadata": {},
   "outputs": [
    {
     "name": "stdout",
     "output_type": "stream",
     "text": [
      "['Wann', 'Pizza', 'Und', 'Über']\n"
     ]
    }
   ],
   "source": [
    "# tokenize and print only capitalized words\n",
    "capital_words = r\"[A-ZÜ]\\w+\"\n",
    "print(regexp_tokenize(german_text, capital_words))"
   ]
  },
  {
   "cell_type": "code",
   "execution_count": 33,
   "metadata": {},
   "outputs": [
    {
     "name": "stdout",
     "output_type": "stream",
     "text": [
      "['🍕', '🚕']\n"
     ]
    }
   ],
   "source": [
    "# tokenize and print only emoji\n",
    "emoji = \"['\\U0001F300-\\U0001F5FF'|'\\U0001F600-\\U0001F64F'|'\\U0001F680-\\U0001F6FF'|'\\u2600-\\u26FF\\u2700-\\u27BF']\"\n",
    "print(regexp_tokenize(german_text, emoji))"
   ]
  },
  {
   "cell_type": "markdown",
   "metadata": {},
   "source": [
    "## Charting word length with NLTK\n",
    "### Getting started with `matplotlib`\n",
    "- can even do 3d graphs and animations"
   ]
  },
  {
   "cell_type": "code",
   "execution_count": 34,
   "metadata": {
    "collapsed": true
   },
   "outputs": [],
   "source": [
    "from matplotlib import pyplot as plt"
   ]
  },
  {
   "cell_type": "code",
   "execution_count": 35,
   "metadata": {},
   "outputs": [
    {
     "data": {
      "text/plain": [
       "(array([ 1.,  0.,  0.,  0.,  0.,  2.,  0.,  3.,  0.,  1.]),\n",
       " array([ 1. ,  1.8,  2.6,  3.4,  4.2,  5. ,  5.8,  6.6,  7.4,  8.2,  9. ]),\n",
       " <a list of 10 Patch objects>)"
      ]
     },
     "execution_count": 35,
     "metadata": {},
     "output_type": "execute_result"
    }
   ],
   "source": [
    "plt.hist([1, 5, 5, 7, 7, 7, 9])"
   ]
  },
  {
   "cell_type": "code",
   "execution_count": 36,
   "metadata": {},
   "outputs": [
    {
     "data": {
      "image/png": "[encoded data removed]",
      "text/plain": [
       "<matplotlib.figure.Figure at 0x1a15d0d278>"
      ]
     },
     "metadata": {},
     "output_type": "display_data"
    }
   ],
   "source": [
    "plt.show()"
   ]
  },
  {
   "cell_type": "code",
   "execution_count": 37,
   "metadata": {},
   "outputs": [
    {
     "data": {
      "text/plain": [
       "(array([ 2.,  0.,  1.,  0.,  0.,  0.,  3.,  0.,  0.,  1.]),\n",
       " array([ 1. ,  1.5,  2. ,  2.5,  3. ,  3.5,  4. ,  4.5,  5. ,  5.5,  6. ]),\n",
       " <a list of 10 Patch objects>)"
      ]
     },
     "execution_count": 37,
     "metadata": {},
     "output_type": "execute_result"
    }
   ],
   "source": [
    "words = word_tokenize(\"This is a pretty cool tool!\")\n",
    "\n",
    "word_lengths = [len(w) for w in words]\n",
    "\n",
    "plt.hist(word_lengths)"
   ]
  },
  {
   "cell_type": "code",
   "execution_count": 38,
   "metadata": {},
   "outputs": [
    {
     "data": {
      "image/png": "[encoded data removed]",
      "text/plain": [
       "<matplotlib.figure.Figure at 0x1a1aca2d68>"
      ]
     },
     "metadata": {},
     "output_type": "display_data"
    }
   ],
   "source": [
    "plt.show()"
   ]
  },
  {
   "cell_type": "code",
   "execution_count": 39,
   "metadata": {
    "collapsed": true
   },
   "outputs": [],
   "source": [
    "holy_grail = \"SCENE 1: [wind] [clop clop clop] \\nKING ARTHUR: Whoa there!  [clop clop clop] \\nSOLDIER #1: Halt!  Who goes there?\\nARTHUR: It is I, Arthur, son of Uther Pendragon, from the castle of Camelot.  King of the Britons, defeator of the Saxons, sovereign of all England!\\nSOLDIER #1: Pull the other one!\\nARTHUR: I am, ...  and this is my trusty servant Patsy.  We have ridden the length and breadth of the land in search of knights who will join me in my court at Camelot.  I must speak with your lord and master.\\nSOLDIER #1: What?  Ridden on a horse?\\nARTHUR: Yes!\\nSOLDIER #1: You're using coconuts!\\nARTHUR: What?\\nSOLDIER #1: You've got two empty halves of coconut and you're bangin' 'em together.\\nARTHUR: So?  We have ridden since the snows of winter covered this land, through the kingdom of Mercea, through--\\nSOLDIER #1: Where'd you get the coconuts?\\nARTHUR: We found them.\\nSOLDIER #1: Found them?  In Mercea?  The coconut's tropical!\\nARTHUR: What do you mean?\\nSOLDIER #1: Well, this is a temperate zone.\\nARTHUR: The swallow may fly south with the sun or the house martin or the plover may seek warmer climes in winter, yet these are not strangers to our land?\\nSOLDIER #1: Are you suggesting coconuts migrate?\\nARTHUR: Not at all.  They could be carried.\\nSOLDIER #1: What?  A swallow carrying a coconut?\\nARTHUR: It could grip it by the husk!\\nSOLDIER #1: It's not a question of where he grips it!  It's a simple question of weight ratios!  A five ounce bird could not carry a one pound coconut.\\nARTHUR: Well, it doesn't matter.  Will you go and tell your master that Arthur from the Court of Camelot is here.\\nSOLDIER #1: Listen.  In order to maintain air-speed velocity, a swallow needs to beat its wings forty-three times every second, right?\\nARTHUR: Please!\\nSOLDIER #1: Am I right?\\nARTHUR: I'm not interested!\\nSOLDIER #2: It could be carried by an African swallow!\\nSOLDIER #1: Oh, yeah, an African swallow maybe, but not a European swallow.  That's my point.\\nSOLDIER #2: Oh, yeah, I agree with that.\\nARTHUR: Will you ask your master if he wants to join my court at Camelot?!\\nSOLDIER #1: But then of course a-- African swallows are non-migratory.\\nSOLDIER #2: Oh, yeah...\\nSOLDIER #1: So they couldn't bring a coconut back anyway...  [clop clop clop] \\nSOLDIER #2: Wait a minute!  Supposing two swallows carried it together?\\nSOLDIER #1: No, they'd have to have it on a line.\\nSOLDIER #2: Well, simple!  They'd just use a strand of creeper!\\nSOLDIER #1: What, held under the dorsal guiding feathers?\\nSOLDIER #2: Well, why not?\\nSCENE 2: [thud] [clang] \\nCART-MASTER: Bring out your dead!  [clang] Bring out your dead!  [clang] Bring out your dead!  [clang] Bring out your dead!  [clang] Bring out your dead!  [cough cough...] [clang] [... cough cough] Bring out your dead!  [clang] Bring out your dead!  [clang] Bring out your dead!  Ninepence.  [clang] Bring out your dead!  [clang] Bring out your dead!  [clang] Bring out...  [rewr!] ... your dead!  [rewr!] [clang] Bring out your dead!\\nCUSTOMER: Here's one.\\nCART-MASTER: Ninepence.\\nDEAD PERSON: I'm not dead!\\nCART-MASTER: What?\\nCUSTOMER: Nothing.  Here's your ninepence.\\nDEAD PERSON: I'm not dead!\\nCART-MASTER: 'Ere.  He says he's not dead!\\nCUSTOMER: Yes he is.\\nDEAD PERSON: I'm not!\\nCART-MASTER: He isn't?\\nCUSTOMER: Well, he will be soon.  He's very ill.\\nDEAD PERSON: I'm getting better!  \\nCUSTOMER: No you're not.  You'll be stone dead in a moment.\\nCART-MASTER: Oh, I can't take him like that.  It's against regulations.\\nDEAD PERSON: I don't want to go on the cart!\\nCUSTOMER: Oh, don't be such a baby.\\nCART-MASTER: I can't take him.\\nDEAD PERSON: I feel fine!\\nCUSTOMER: Well, do us a favor.\\nCART-MASTER: I can't.\\nCUSTOMER: Well, can you hang around a couple of minutes?  He won't be long.\\nCART-MASTER: No, I've got to go to the Robinson's.  They've lost nine today.\\nCUSTOMER: Well, when's your next round?\\nCART-MASTER: Thursday.\\nDEAD PERSON: I think I'll go for a walk.\\nCUSTOMER: You're not fooling anyone you know.  Look, isn't there something you can do?\\nDEAD PERSON: [singing] I feel happy...  I feel happy.  [whop] \\nCUSTOMER: Ah, thanks very much.\\nCART-MASTER: Not at all.  See you on Thursday.\\nCUSTOMER: Right.  All right.  [howl] [clop clop clop] Who's that then?\\nCART-MASTER: I dunno.  Must be a king.\\nCUSTOMER: Why?\\nCART-MASTER: He hasn't got shit all over him.\\nSCENE 3: [thud] [King Arthur music] [thud thud thud] [King Arthur music stops] \\nARTHUR: Old woman!\\nDENNIS: Man!\\nARTHUR: Man.  Sorry.  What knight live in that castle over there?\\nDENNIS: I'm thirty-seven.\\nARTHUR: I-- what?\\nDENNIS: I'm thirty-seven.  I'm not old.\\nARTHUR: Well, I can't just call you 'Man'.\\nDENNIS: Well, you could say 'Dennis'.\\nARTHUR: Well, I didn't know you were called 'Dennis'.\\nDENNIS: Well, you didn't bother to find out, did you?\\nARTHUR: I did say 'sorry' about the 'old woman', but from the behind you looked--\\nDENNIS: What I object to is that you automatically treat me like an inferior!\\nARTHUR: Well, I am king!\\nDENNIS: Oh king, eh, very nice.  And how d'you get that, eh?  By exploiting the workers!  By 'anging on to outdated imperialist dogma which perpetuates the economic and social differences in our society.  If there's ever going to be any progress with the--\\nWOMAN: Dennis, there's some lovely filth down here.  Oh!  How d'you do?\\nARTHUR: How do you do, good lady.  I am Arthur, King of the Britons.  Who's castle is that?\\nWOMAN: King of the who?\\nARTHUR: The Britons.\\nWOMAN: Who are the Britons?\\nARTHUR: Well, we all are.  We are all Britons, and I am your king.\\nWOMAN: I didn't know we had a king.  I thought we were an autonomous collective.\\nDENNIS: You're fooling yourself.  We're living in a dictatorship.  A self-perpetuating autocracy in which the working classes--\\nWOMAN: Oh, there you go, bringing class into it again.\\nDENNIS: That's what it's all about.  If only people would hear of--\\nARTHUR: Please, please good people.  I am in haste.  Who lives in that castle?\\nWOMAN: No one live there.\\nARTHUR: Then who is your lord?\\nWOMAN: We don't have a lord.\\nARTHUR: What?\\nDENNIS: I told you.  We're an anarcho-syndicalist commune.  We take it in turns to act as a sort of executive officer for the week.\\nARTHUR: Yes.\\nDENNIS: But all the decision of that officer have to be ratified at a special bi-weekly meeting--\\nARTHUR: Yes, I see.\\nDENNIS: By a simple majority in the case of purely internal affairs,--\\nARTHUR: Be quiet!\\nDENNIS: But by a two-thirds majority in the case of more major--\\nARTHUR: Be quiet!  I order you to be quiet!\\nWOMAN: Order, eh?  Who does he think he is?  Heh.\\nARTHUR: I am your king!\\nWOMAN: Well, I didn't vote for you.\\nARTHUR: You don't vote for kings.\\nWOMAN: Well, how did you become king then?\\nARTHUR: The Lady of the Lake, ... [angels sing] ... her arm clad in the purest shimmering samite, held aloft Excalibur from the bosom of the water signifying by Divine Providence that I, Arthur, was to carry Excalibur. [singing stops] That is why I am your king!\\nDENNIS: Listen, strange women lying in ponds distributing swords is no basis for a system of government.  Supreme executive power derives from a mandate from the masses, not from some farcical aquatic ceremony.\\nARTHUR: Be quiet!\\nDENNIS: Well, but you can't expect to wield supreme executive power just 'cause some watery tart threw a sword at you!\\nARTHUR: Shut up!\\nDENNIS: I mean, if I went 'round saying I was an emperor just because some moistened bint had lobbed a scimitar at me, they'd put me away!\\nARTHUR: Shut up, will you.  Shut up!\\nDENNIS: Ah, now we see the violence inherent in the system.\\nARTHUR: Shut up!\\nDENNIS: Oh!  Come and see the violence inherent in the system!  Help, help!  I'm being repressed!\\nARTHUR: Bloody peasant!\\nDENNIS: Oh, what a give-away.  Did you hear that?  Did you hear that, eh?  That's what I'm on about.  Did you see him repressing me?  You saw it, didn't you\\nSCENE 4: [King Arthur music] [music stops] \\nBLACK KNIGHT: Aaagh!  [King Arthur music] [music stops] \\nBLACK KNIGHT: Aaagh!\\nGREEN KNIGHT: Ooh! [King Arthur music] [music stops] [stab] \\nBLACK KNIGHT: Aagh!\\nGREEN KNIGHT: Oh! [King Arthur music] Ooh! [music stops] \\nBLACK KNIGHT: Aaagh! [clang] \\nBLACK KNIGHT and GREEN KNIGHT: Agh!, oh!, etc.\\nGREEN KNIGHT: Aaaaaah!  Aaaaaaaaah! [woosh] [BLACK KNIGHT kills GREEN KNIGHT] [thud] [scrape] \\nBLACK KNIGHT: Umm! [clop clop clop] \\nARTHUR: You fight with the strength of many men, Sir Knight. [pause] I am Arthur, King of the Britons. [pause] I seek the finest and the bravest knights in the land to join me in my court at Camelot. [pause] You have proved yourself worthy.  Will you join me? [pause] You make me sad.  So be it.  Come, Patsy.\\nBLACK KNIGHT: None shall pass.\\nARTHUR: What?\\nBLACK KNIGHT: None shall pass.\\nARTHUR: I have no quarrel with you, good Sir Knight, but I must cross this bridge.\\nBLACK KNIGHT: Then you shall die.\\nARTHUR: I command you, as King of the Britons, to stand aside!\\nBLACK KNIGHT: I move for no man.\\nARTHUR: So be it!\\nARTHUR and BLACK KNIGHT: Aaah!, hiyaah!, etc. [ARTHUR chops the BLACK KNIGHT's left arm off] \\nARTHUR: Now stand aside, worthy adversary.\\nBLACK KNIGHT: 'Tis but a scratch.\\nARTHUR: A scratch?  Your arm's off!\\nBLACK KNIGHT: No, it isn't.\\nARTHUR: Well, what's that then?\\nBLACK KNIGHT: I've had worse.\\nARTHUR: You liar!\\nBLACK KNIGHT: Come on, you pansy! [clang] Huyah! [clang] Hiyaah! [clang] Aaaaaaaah! [ARTHUR chops the BLACK KNIGHT's right arm off] \\nARTHUR: Victory is mine! [kneeling] We thank Thee Lord, that in Thy mer--\\nBLACK KNIGHT: Hah! [clunk] Come on then.\\nARTHUR: What?\\nBLACK KNIGHT: Have at you! [kick] \\nARTHUR: Eh.  You are indeed brave, Sir Knight, but the fight is mine.\\nBLACK KNIGHT: Oh, had enough, eh?\\nARTHUR: Look, you stupid bastard.  You've got no arms left.\\nBLACK KNIGHT: Yes I have.\\nARTHUR: Look!\\nBLACK KNIGHT: Just a flesh wound. [kick] \\nARTHUR: Look, stop that.\\nBLACK KNIGHT: Chicken! [kick] Chickennn!\\nARTHUR: Look, I'll have your leg. [kick] Right! [whop] [ARTHUR chops the BLACK KNIGHT's right leg off] \\nBLACK KNIGHT: Right.  I'll do you for that!\\nARTHUR: You'll what?\\nBLACK KNIGHT: Come here!\\nARTHUR: What are you going to do, bleed on me?\\nBLACK KNIGHT: I'm invincible!\\nARTHUR: You're a looney.\\nBLACK KNIGHT: The Black Knight always triumphs!  Have at you!  Come on then. [whop] [ARTHUR chops the BLACK KNIGHT's last leg off] \\nBLACK KNIGHT: Ooh.  All right, we'll call it a draw.\\nARTHUR: Come, Patsy.\\nBLACK KNIGHT: Oh.  Oh, I see.  Running away, eh?  You yellow bastards!  Come back here and take what's coming to you.  I'll bite your legs off\\nSCENE 5:\\nMONKS: [chanting] Pie Iesu domine, dona eis requiem. [bonk] Pie Iesu domine, ... [bonk] ... dona eis requiem. [bonk] Pie Iesu domine, ... [bonk] ... dona eis requiem.\\nCROWD: A witch!  A witch! [bonk] A witch!  A witch!\\nMONKS: [chanting] Pie Iesu domine...\\nCROWD: A witch!  A witch!  A witch!  A witch!  We've found a witch!  A witch!  A witch!  A witch!  A witch!  We've got a witch!  A witch!  A witch!  Burn her!  Burn her!  Burn her!  We've found a witch!  We've found a witch!  A witch!  A witch!  A witch!\\nVILLAGER #1: We have found a witch.  May we burn her?\\nCROWD: Burn her!  Burn!  Burn her!  Burn her!\\nBEDEVERE: How do you know she is a witch?\\nVILLAGER #2: She looks like one.\\nCROWD: Right!  Yeah!  Yeah!\\nBEDEVERE: Bring her forward.\\nWITCH: I'm not a witch.  I'm not a witch.\\nBEDEVERE: Uh, but you are dressed as one.\\nWITCH: They dressed me up like this.\\nCROWD: Augh, we didn't!  We didn't...\\nWITCH: And this isn't my nose.  It's a false one.\\nBEDEVERE: Well?\\nVILLAGER #1: Well, we did do the nose.\\nBEDEVERE: The nose?\\nVILLAGER #1: And the hat, but she is a witch!\\nVILLAGER #2: Yeah!\\nCROWD: We burn her!  Right!  Yeaaah!  Yeaah!\\nBEDEVERE: Did you dress her up like this?\\nVILLAGER #1: No!\\nVILLAGER #2 and 3: No.  No.\\nVILLAGER #2: No.\\nVILLAGER #1: No.\\nVILLAGERS #2 and #3: No.\\nVILLAGER #1: Yes.\\nVILLAGER #2: Yes.\\nVILLAGER #1: Yes.  Yeah, a bit.\\nVILLAGER #3: A bit.\\nVILLAGERS #1 and #2: A bit.\\nVILLAGER #3: A bit.\\nVILLAGER #1: She has got a wart.\\nRANDOM: [cough] \\nBEDEVERE: What makes you think she is a witch?\\nVILLAGER #3: Well, she turned me into a newt.\\nBEDEVERE: A newt?\\nVILLAGER #3: I got better.\\nVILLAGER #2: Burn her anyway!\\nVILLAGER #1: Burn!\\nCROWD: Burn her!  Burn!  Burn her! ...\\nBEDEVERE: Quiet!  Quiet!  Quiet!  Quiet!  There are ways of telling whether she is a witch.\\nVILLAGER #1: Are there?\\nVILLAGER #2: Ah?\\nVILLAGER #1: What are they?\\nCROWD: Tell us!  Tell us! ...\\nBEDEVERE: Tell me, what do you do with witches?\\nVILLAGER #2: Burn!\\nVILLAGER #1: Burn!\\nCROWD: Burn!  Burn them up!  Burn! ...\\nBEDEVERE: And what do you burn apart from witches?\\nVILLAGER #1: More witches!\\nVILLAGER #3: Shh!\\nVILLAGER #2: Wood!\\nBEDEVERE: So, why do witches burn? [pause] \\nVILLAGER #3: B--...  'cause they're made of...  wood?\\nBEDEVERE: Good!  Heh heh.\\nCROWD: Oh yeah.  Oh.\\nBEDEVERE: So, how do we tell whether she is made of wood?\\nVILLAGER #1: Build a bridge out of her.\\nBEDEVERE: Ah, but can you not also make bridges out of stone?\\nVILLAGER #1: Oh, yeah.\\nRANDOM: Oh, yeah.  True.  Uhh...\\nBEDEVERE: Does wood sink in water?\\nVILLAGER #1: No.  No.\\nVILLAGER #2: No, it floats!  It floats!\\nVILLAGER #1: Throw her into the pond!\\nCROWD: The pond!  Throw her into the pond!\\nBEDEVERE: What also floats in water?\\nVILLAGER #1: Bread!\\nVILLAGER #2: Apples!\\nVILLAGER #3: Uh, very small rocks!\\nVILLAGER #1: Cider!\\nVILLAGER #2: Uh, gra-- gravy!\\nVILLAGER #1: Cherries!\\nVILLAGER #2: Mud!\\nVILLAGER #3: Churches!  Churches!\\nVILLAGER #2: Lead!  Lead!\\nARTHUR: A duck!\\nCROWD: Oooh.\\nBEDEVERE: Exactly.  So, logically...\\nVILLAGER #1: If...  she...  weighs...  the same as a duck, ...  she's made of wood.\\nBEDEVERE: And therefore?\\nVILLAGER #2: A witch!\\nVILLAGER #1: A witch!\\nCROWD: A witch!  A witch! ...\\nVILLAGER #4: Here is a duck.  Use this duck. [quack quack quack] \\nBEDEVERE: We shall use my largest scales.\\nCROWD: Ohh!  Ohh!  Burn the witch!  Burn the witch!  Burn her!  Burn her!  Burn her!  Burn her!  Burn her!  Burn her!  Burn her!  Ahh!  Ahh...\\nBEDEVERE: Right.  Remove the supports! [whop] [clunk] [creak] \\nCROWD: A witch!  A witch!  A witch!\\nWITCH: It's a fair cop.\\nVILLAGER #3: Burn her!\\nCROWD: Burn her!  Burn her!  Burn her!  Burn!  Burn! ...\\nBEDEVERE: Who are you who are so wise in the ways of science?\\nARTHUR: I am Arthur, King of the Britons.\\nBEDEVERE: My liege!\\nARTHUR: Good Sir Knight, will you come with me to Camelot, and join us at the Round Table?\\nBEDEVERE: My liege!  I would be honored.\\nARTHUR: What is your name?\\nBEDEVERE: Bedevere, my liege.\\nARTHUR: Then I dub you Sir Bedevere, Knight of the Round Table\\nNARRATOR: The wise Sir Bedevere was the first to join King Arthur's knights, but other illustrious names were soon to follow: Sir Lancelot the Brave; Sir Gallahad the Pure; and Sir Robin the-not-quite-so-brave-as-Sir-Lancelot, who had nearly fought the Dragon of Angnor, who had nearly stood up to the vicious Chicken of Bristol, and who had personally wet himself at the Battle of Badon Hill; and the aptly named Sir Not-appearing-in-this-film.  Together they formed a band whose names and deeds were to be retold throughout the centuries: the Knights of the Round Table\\nSCENE 6: [clop clop clop] \\nSIR BEDEVERE: And that, my liege, is how we know the earth to be banana-shaped.\\nARTHUR: This new learning amazes me, Sir Bedevere.  Explain again how sheep's bladders may be employed to prevent earthquakes.\\nBEDEVERE: Oh, certainly, sir.\\nSIR LAUNCELOT: Look, my liege! [trumpets] \\nARTHUR: Camelot!\\nSIR GALAHAD: Camelot!\\nLAUNCELOT: Camelot!\\nPATSY: It's only a model.\\nARTHUR: Shh!  Knights, I bid you welcome to your new home.  Let us ride... to...  Camelot! [in medieval hall] \\nKNIGHTS: [singing] We're knights of the round table.  We dance when e'er we're able.  We do routines and chorus scenes With footwork impeccable.  We dine well here in Camelot.  We eat ham and jam and spam a lot [dancing] We're knights of the Round Table. Our shows are formidable, But many times we're given rhymes That are quite unsingable. We're opera mad in Camelot. We sing from the diaphragm a lot [in dungeon] \\nPRISONER: [clap clap clap clap] [in medieval hall] \\nKNIGHTS: [tap-dancing] In war we're tough and able, Quite indefatigable.  Between our quests we sequin vests and impersonate Clark Gable.  It's a busy life in Camelot.\\nMAN: I have to push the pram a lot [outdoors] \\nARTHUR: Well, on second thought, let's not go to Camelot.  It is a silly place.\\nKNIGHTS: Right.  Right\\nSCENE 7: [clop clop clop] [boom boom] [angels sing] \\nGOD: Arthur!  Arthur, King of the Britons!  Oh, don't grovel! [singing stops] One thing I can't stand, it's people groveling.\\nARTHUR: Sorry. [boom] \\nGOD: And don't apologise.  Every time I try to talk to someone it's 'sorry this' and 'forgive me that' and 'I'm not worthy'. [boom] What are you doing now?!\\nARTHUR: I'm averting my eyes, O Lord.\\nGOD: Well, don't.  It's like those miserable Psalms-- they're so depressing. Now knock it off!\\nARTHUR: Yes, Lord.\\nGOD: Right!  Arthur, King of the Britons, your Knights of the Round Table shall have a task to make them an example in these dark times.\\nARTHUR: Good idea, O Lord!\\nGOD: 'Course it's a good idea!  Behold! [angels sing] Arthur, this is the Holy Grail.  Look well, Arthur, for it is your sacred task to seek this grail.  That is your purpose, Arthur...  the quest for the Holy Grail. [boom] [singing stops] \\nLAUNCELOT: A blessing!  A blessing from the Lord!\\nGALAHAD: God be praised\\nSCENE 8: [King Arthur music] [clop clop clop] \\nARTHUR: Halt! [horn] Hallo! [pause] Hallo!\\nFRENCH GUARD: Allo!  Who is eet?\\nARTHUR: It is King Arthur, and these are my Knights of the Round Table.  Who's castle is this?\\nFRENCH GUARD: This is the castle of my master Guy de Loimbard.\\nARTHUR: Go and tell your master that we have been charged by God with a sacred quest.  If he will give us food and shelter for the night he can join us in our quest for the Holy Grail.\\nFRENCH GUARD: Well, I'll ask him, but I don't think he'll be very keen.  Uh, he's already got one, you see?\\nARTHUR: What?\\nGALAHAD: He says they've already got one!\\nARTHUR: Are you sure he's got one?\\nFRENCH GUARD: Oh, yes, it's very nice-a.  (I told him we already got one.)\\nARTHUR: Well, u-- um, can we come up and have a look?\\nFRENCH GUARD: Of course not!  You are English types-a!\\nARTHUR: Well, what are you then?\\nFRENCH GUARD: I'm French!  Why do think I have this outrageous accent, you silly king-a?!\\nGALAHAD: What are you doing in England?\\nFRENCH GUARD: Mind your own business!\\nARTHUR: If you will not show us the Grail, we shall take your castle by force!\\nFRENCH GUARD: You don't frighten us, English pig-dogs!  Go and boil your bottom, sons of a silly person.  I blow my nose at you, so-called Arthur King, you and all your silly English k-nnnnniggets.  Thpppppt!  Thppt! Thppt!\\nGALAHAD: What a strange person.\\nARTHUR: Now look here, my good man--\\nFRENCH GUARD: I don't wanna talk to you no more, you empty headed animal food trough wiper!  I fart in your general direction!  You mother was a hamster and your father smelt of elderberries!\\nGALAHAD: Is there someone else up there we could talk to?\\nFRENCH GUARD: No, now go away or I shall taunt you a second time-a! [sniff] \\nARTHUR: Now, this is your last chance.  I've been more than reasonable.\\nFRENCH GUARD: (Fetchez la vache.)\\nOTHER FRENCH GUARD: Quoi?\\nFRENCH GUARD: (Fetchez la vache!) [mooo] \\nARTHUR: If you do not agree to my commands, then I shall-- [twong] [mooooooo] Jesus Christ!\\nKNIGHTS: Christ! [thud] Ah!  Ohh!\\nARTHUR: Right!  Charge!\\nKNIGHTS: Charge! [mayhem] \\nFRENCH GUARD: Hey, this one is for your mother!  There you go. [mayhem] \\nFRENCH GUARD: And this one's for your dad!\\nARTHUR: Run away!\\nKNIGHTS: Run away!\\nFRENCH GUARD: Thppppt!\\nFRENCH GUARDS: [taunting] \\nLAUNCELOT: Fiends!  I'll tear them apart!\\nARTHUR: No, no.  No, no.\\nBEDEVERE: Sir!  I have a plan, sir. [later] [wind] [saw saw saw saw saw saw saw saw saw saw saw saw saw saw saw saw] [clunk] [bang] [rewr!] [squeak squeak squeak squeak squeak squeak squeak squeak squeak squeak] [rrrr rrrr rrrr] [drilllll] [sawwwww] [clunk] [crash] [clang] [squeak squeak squeak squeak squeak...] [creak] \\nFRENCH GUARDS: [whispering] C'est un lapin, lapin de bois.  Quoi?  Un cadeau.  What?  A present.  Oh, un cadeau.  Oui, oui.  Hurry.  What?  Let's go.  Oh. On y va.  Bon magne.  Over here... [squeak squeak squeak squeak squeak...] [clllank] \\nARTHUR: What happens now?\\nBEDEVERE: Well, now, uh, Launcelot, Galahad, and I, uh, wait until nightfall, and then leap out of the rabbit, taking the French, uh, by surprise.  Not only by surprise, but totally unarmed!\\nARTHUR: Who leaps out?\\nBEDEVERE: U-- u-- uh, Launcelot, Galahad, and I.  Uh, leap out of the rabbit, uh, and uh...\\nARTHUR: Ohh.\\nBEDEVERE: Oh.  Um, l-- look, i-- i-- if we built this large wooden badger-- [clank] [twong] \\nARTHUR: Run away!\\nKNIGHTS: Run away!  Run away!  Run away!  Run away!  Run away!  Run away!  Run away! [CRASH] \\nFRENCH GUARDS: Oh, haw haw haw haw!  Haw!  Haw haw heh..\\nSCENE 9: [clack] \\nVOICE: Picture for Schools, take eight.\\nDIRECTOR: Action!\\nHISTORIAN: Defeat at the castle seems to have utterly disheartened King Arthur.  The ferocity of the French taunting took him completely by surprise, and Arthur became convinced that a new strategy was required if the quest for the Holy Grail were to be brought to a successful conclusion.  Arthur, having consulted his closest knights, decided that they should separate, and search for the Grail individually. [clop clop clop] Now, this is what they did: Launcelot--\\nKNIGHT: Aaaah! [slash] [KNIGHT kills HISTORIAN] \\nHISTORIAN'S WIFE: Frank\\nSCENE 10: [trumpets] \\nNARRATOR: The Tale of Sir Robin.  So each of the knights went their separate ways.  Sir Robin rode north, through the dark forest of Ewing, accompanied by his favorite minstrels.\\nMINSTREL: [singing] Bravely bold Sir Robin, rode forth from Camelot.  He was not afraid to die, O brave Sir Robin.  He was not at all afraid to be killed in nasty ways.  Brave, brave, brave, brave Sir Robin!  He was not in the least bit scared to be mashed into a pulp, Or to have his eyes gouged out, and his elbows broken.  To have his kneecaps split, and his body burned away, And his limbs all hacked and mangled, brave Sir Robin!\\nHis head smashed in and his heart cut out, And his liver removed and his bowels unplugged, And his nostrils raped and his bottom burned off, And his pen--\\nSIR ROBIN: That's-- that's, uh-- that's enough music for now, lads.  Heh.  Looks like there's dirty work afoot.\\nDENNIS: Anarcho-syndicalism is a way of preserving freedom.\\nWOMAN: Oh, Dennis, forget about freedom.  We haven't got enough mud.\\nALL HEADS: Halt!  Who art thou?\\nMINSTREL: [singing] He is brave Sir Robin, brave Sir Robin, who--\\nROBIN: Shut up!  Um, n-- n-- n-- nobody really, I'm j-- j-- j-- ju-- just um, just passing through.\\nALL HEADS: What do you want?\\nMINSTREL: [singing] To fight and--\\nROBIN: Shut up!  Um, oo, a-- nothing, nothing really.  I, uh, j-- j-- just--just to um, just to p-- pass through, good Sir Knight.\\nALL HEADS: I'm afraid not!\\nROBIN: Ah.  W-- well, actually I-- I am a Knight of the Round Table.\\nALL HEADS: You're a Knight of the Round Table?\\nROBIN: I am.\\nLEFT HEAD: In that case I shall have to kill you.\\nMIDDLE HEAD: Shall I?\\nRIGHT HEAD: Oh, I don't think so.\\nMIDDLE HEAD: Well, what do I think?\\nLEFT HEAD: I think kill him.\\nRIGHT HEAD: Oh, let's be nice to him.\\nLEFT HEAD: Oh shut up.\\nROBIN: Perhaps I could--\\nLEFT HEAD: And you.  Oh, quick!  Get the sword out.  I want to cut his headoff!\\nRIGHT HEAD: Oh, cut your own head off!\\nMIDDLE HEAD: Yes, do us all a favor!\\nLEFT HEAD: What?\\nRIGHT HEAD: Yapping on all the time.\\nMIDDLE HEAD: You're lucky.  You're not next to him.\\nLEFT HEAD: What do you mean?\\nMIDDLE HEAD: You snore!\\nLEFT HEAD: Oh, I don't.  Anyway, you've got bad breath.\\nMIDDLE HEAD: Well it's only because you don't brush my teeth.\\nRIGHT HEAD: Oh stop bitching and let's go have tea.\\nLEFT HEAD: Oh, all right.  All right.  All right.  We'll kill him first and then have tea and biscuits.\\nMIDDLE HEAD: Yes.\\nRIGHT HEAD: Oh, not biscuits.\\nLEFT HEAD: All right.  All right, not biscuits, but let's kill him anyway.\\nALL HEADS: Right!\\nMIDDLE HEAD: He buggered off.\\nRIGHT HEAD: So he has.  He's scarper\\nMINSTREL: [singing] Brave Sir Robin ran away.\\nROBIN: No!\\nMINSTREL: [singing] Bravely ran away away.\\nROBIN: I didn't!\\nMINSTREL: [singing] When danger reared its ugly head, he bravely turned his tail and fled.\\nROBIN: No!\\nMINSTREL: [singing] Yes, brave Sir Robin turned about\\nROBIN: I didn't!\\nMINSTREL: [singing] And gallantly he chickened out, bravely taking to his feet.\\nROBIN: I never did!\\nMINSTREL: [singing] He beat a very brave retreat.\\nROBIN: All lies!\\nMINSTREL: [singing] Bravest of the brave, Sir Robin.\\nROBIN: I never\\nCARTOON MONKS: [chanting] Pie Iesu domine, dona eis requiem.\\nCARTOON CHARACTER: Heh heh heeh ooh... [twang] \\nCARTOON MONKS: [chanting] Pie Iesu domine, ...\\nCARTOON CHARACTERS: Wayy! [splash] Ho ho.  Woa, wayy! [twang] [splash] Heh heh heh heh ho!  Heh heh heh!\\nCARTOON MONKS: [chanting] ... dona eis requiem.\\nCARTOON CHARACTER: Wayy! [twang] Wayy! [twang] \\nVOICE: [whispering] Forgive me for asking.\\nCARTOON CHARACTER: Oh!  Oooo\\nSCENE 11: [trumpets] \\nNARRATOR: The Tale of Sir Galahad. [boom] [wind] [howl] [howl] [boom] [angels singing] [howl] [boom] [howl] [boom] [pound pound pound] \\nGALAHAD: Open the door!  Open the door! [pound pound pound] In the name of King Arthur, open the door! [squeak] [thump] [squeak] [boom] \\nGIRLS: Hello!\\nZOOT: Welcome gentle Sir Knight.  Welcome to the Castle Anthrax.\\nGALAHAD: The Castle Anthrax?\\nZOOT: Yes.  Oh, it's not a very good name is it?  Oh, but we are nice and we will attend to your every, every need!\\nGALAHAD: You are the keepers of the Holy Grail?\\nZOOT: The what?\\nGALAHAD: The Grail.  It is here.\\nZOOT: Oh, but you are tired, and you must rest awhile.  Midget!  Crapper!\\nMIDGET and CRAPPER: Yes, O Zoot?\\nZOOT: Prepare a bed for our guest.\\nMIDGET and CRAPPER: Oh thank you!  Thank you!  Thank you!  Thank you!  Thank you!  Thank you! ...\\nZOOT: Away, away varletesses.  The beds here are warm and soft, and very, very big.\\nGALAHAD: Well, look, I-- I-- uh--\\nZOOT: What is your name, handsome knight?\\nGALAHAD: Sir Galahad...  the Chaste.\\nZOOT: Mine is Zoot.  Just Zoot.  Oh, but come.\\nGALAHAD: Look, please!  In God's name, show me the Grail!\\nZOOT: Oh, you have suffered much.  You are delirious.\\nGALAHAD: No, look.  I have seen it!  It is here, in this--\\nZOOT: Sir Galahad!  You would not be so ungallant as to refuse our hospitality.\\nGALAHAD: Well, I-- I-- uh--\\nZOOT: Oh, I am afraid our life must seem very dull and quiet compared to yours.  We are but eight score young blondes and brunettes, all between sixteen and nineteen-and-a-half, cut off in this castle with no one to protect us.  Oooh.  It is a lonely life: bathing, dressing, undressing, making exciting underwear.  We are just not used to handsome knights.  Nay.  Nay.  Come.  Come.  You may lie here.  Oh, but you are wounded!\\nGALAHAD: No, no-- it's-- it's nothing.\\nZOOT: Oh, you must see the doctors immediately!  No, no, please!  Lie down. [clap clap] \\nPIGLET: Well, what seems to be the trouble?\\nGALAHAD: They're doctors?!\\nZOOT: Uh, they have a basic medical training, yes.\\nGALAHAD: B-- but--\\nZOOT: Oh, come, come.  You must try to rest.  Doctor Piglet!  Doctor Winston!  Practice your art.\\nWINSTON: Try to relax.\\nGALAHAD: Are you sure that's absolutely necessary?\\nPIGLET: We must examine you.\\nGALAHAD: There's nothing wrong with that!\\nPIGLET: Please.  We are doctors.\\nGALAHAD: Look!  This cannot be.  I am sworn to chastity.\\nPIGLET: Back to your bed!  At once!\\nGALAHAD: Torment me no longer.  I have seen the Grail!\\nPIGLET: There's no grail here.\\nGALAHAD: I have seen it!  I have seen it! [clank] I have seen--\\nGIRLS: Hello.\\nGALAHAD: Oh.\\nGIRLS: Hello.  Hello.  Hello.  Hello.  Hello.  Hello.  Hello.  Hello.  Hello.  Hello.  Hello.  Hello.  Hello.  Hello.  Hello.  Hello.  Hello.  Hello.  Hello.  Hello.  Hello.  Hello.  Hello.\\nGALAHAD: Zoot!\\nDINGO: No, I am Zoot's identical twin sister, Dingo.\\nGALAHAD: Oh, well, excuse me, I--\\nDINGO: Where are you going?\\nGALAHAD: I seek the Grail!  I have seen it, here in this castle!\\nDINGO: Oh no.  Oh, no!  Bad, bad Zoot!\\nGALAHAD: Well, what is it?\\nDINGO: Oh, wicked, bad, naughty Zoot!  She has been setting alight to our beacon, which, I have just remembered, is grail-shaped.  It's not the first time we've had this problem.\\nGALAHAD: It's not the real Grail?\\nDINGO: Oh, wicked, bad, naughty, evil Zoot!  She is a bad person and must pay the penalty.  Do you think this scene should have been cut?  We were so worried when the boys were writing it, but now, we're glad.  It's better than some of the previous scenes, I think.\\nLEFT HEAD: At least ours was better visually.\\nDENNIS: Well, at least ours was committed.  It wasn't just a string of pussy jokes.\\nOLD MAN: Get on with it.\\nTIM THE ENCHANTER: Yes, get on with it!\\nARMY OF KNIGHTS: Yes, get on with it!\\nDINGO: Oh, I am enjoying this scene.\\nGOD: Get on with it!\\nDINGO: [sigh] Oh, wicked, wicked Zoot.  Oh, she is a naughty person, and she must pay the penalty.  And here in Castle Anthrax, we have but one punishment for setting alight the grail-shaped beacon.  You must tie her down on a bed and spank her.\\nGIRLS: A spanking!  A spanking!\\nDINGO: You must spank her well.  And after you have spanked her, you may deal with her as you like.  And then, spank me.\\nAMAZING: And spank me.\\nSTUNNER: And me.\\nLOVELY: And me.\\nDINGO: Yes, yes, you must give us all a good spanking!\\nGIRLS: A spanking!  A spanking!  There is going to be a spanking tonight!\\nDINGO: And after the spanking, the oral sex.\\nGIRLS: The oral sex!  The oral sex!\\nGALAHAD: Well, I could stay a bit longer.\\nLAUNCELOT: Sir Galahad!\\nGALAHAD: Oh, hello.\\nLAUNCELOT: Quick!\\nGALAHAD: What?\\nLAUNCELOT: Quick!\\nGALAHAD: Why?\\nLAUNCELOT: You are in great peril!\\nDINGO: No he isn't.\\nLAUNCELOT: Silence, foul temptress!\\nGALAHAD: You know, she's got a point.\\nLAUNCELOT: Come on!  We will cover your escape!\\nGALAHAD: Look, I'm fine!\\nLAUNCELOT: Come on!\\nGIRLS: Sir Galahad!\\nGALAHAD: No.  Look, I can tackle this lot single-handed!\\nDINGO: Yes!  Let him tackle us single-handed!\\nGIRLS: Yes!  Let him tackle us single-handed!\\nLAUNCELOT: No, Sir Galahad.  Come on!\\nGALAHAD: No!  Really!  Honestly, I can cope.  I can handle this lot easily.\\nDINGO: Oh, yes.  Let him handle us easily.\\nGIRLS: Yes.  Let him handle us easily.\\nLAUNCELOT: No.  Quick!  Quick!\\nGALAHAD: Please!  I can defeat them!  There's only a hundred-and-fifty of them!\\nDINGO: Yes, yes!  He will beat us easily!  We haven't a chance.\\nGIRLS: We haven't a chance.  He will beat us easily... [boom] \\nDINGO: Oh, shit.\\nLAUNCELOT: We were in the nick of time.  You were in great peril.\\nGALAHAD: I don't think I was.\\nLAUNCELOT: Yes you were.  You were in terrible peril.\\nGALAHAD: Look, let me go back in there and face the peril.\\nLAUNCELOT: No, it's too perilous.\\nGALAHAD: Look, it's my duty as a knight to sample as much peril as I can.\\nLAUNCELOT: No, we've got to find the Holy Grail.  Come on!\\nGALAHAD: Oh, let me have just a little bit of peril?\\nLAUNCELOT: No.  It's unhealthy.\\nGALAHAD: I bet you're gay.\\nLAUNCELOT: No I'm not\\nNARRATOR: Sir Launcelot had saved Sir Galahad from almost certain temptation, but they were still no nearer the Grail.  Meanwhile, King Arthur and Sir Bedevere, not more than a swallow's flight away, had discovered something.  Oh, that's an unladen swallow's flight, obviously.  I mean, they were more than two laden swallows' flights away-- four, really, if they had a coconut on a line between them.  I mean, if the birds were walking and dragging--\\nCROWD: Get on with it!\\nNARRATOR: Oh, anyway.  On to scene twenty-four, which is a smashing scene with some lovely acting, in which Arthur discovers a vital clue, and in which there aren't any swallows, although I think you can hear a starling-- oooh\\nSCENE 12:\\nOLD MAN: Heh, hee ha ha hee hee!  Hee hee hee ha ha ha...\\nARTHUR: And this enchanter of whom you speak, he has seen the Grail?\\nOLD MAN: ... Ha ha ha ha!  Heh, hee ha ha hee!  Ha hee ha!  Ha ha ha ha...\\nARTHUR: Where does he live?\\nOLD MAN: ... Heh heh heh heh...\\nARTHUR: Old man, where does he live?\\nOLD MAN: ... Hee ha ha ha.  He knows of a cave, a cave which no man has entered.\\nARTHUR: And the Grail.  The Grail is there?\\nOLD MAN: There is much danger, for beyond the cave lies the Gorge of Eternal Peril, which no man has ever crossed.\\nARTHUR: But the Grail!  Where is the Grail?!\\nOLD MAN: Seek you the Bridge of Death.\\nARTHUR: The Bridge of Death, which leads to the Grail?\\nOLD MAN: Heh, hee hee hee hee!  Ha ha ha ha ha!  Hee ha ha..\\nSCENE 13: [spooky music] [music stops] \\nHEAD KNIGHT OF NI: Ni!\\nKNIGHTS OF NI: Ni!  Ni!  Ni!  Ni!  Ni!\\nARTHUR: Who are you?\\nHEAD KNIGHT: We are the Knights Who Say...  'Ni'!\\nRANDOM: Ni!\\nARTHUR: No!  Not the Knights Who Say 'Ni'!\\nHEAD KNIGHT: The same!\\nBEDEVERE: Who are they?\\nHEAD KNIGHT: We are the keepers of the sacred words: Ni, Peng, and Neee-wom!\\nRANDOM: Neee-wom!\\nARTHUR: Those who hear them seldom live to tell the tale!\\nHEAD KNIGHT: The Knights Who Say 'Ni' demand a sacrifice!\\nARTHUR: Knights of Ni, we are but simple travellers who seek the enchanter who lives beyond these woods.\\nHEAD KNIGHT: Ni!\\nKNIGHTS OF NI: Ni!  Ni!  Ni!  Ni!  Ni! ...\\nARTHUR: Ow!  Ow!  Ow!  Agh!\\nHEAD KNIGHT: We shall say 'ni' again to you if you do not appease us.\\nARTHUR: Well, what is it you want?\\nHEAD KNIGHT: We want...  a shrubbery! [dramatic chord] \\nARTHUR: A what?\\nKNIGHTS OF NI: Ni!  Ni!  Ni!  Ni!\\nARTHUR and PARTY: Ow!  Oh!\\nARTHUR: Please, please!  No more!  We will find you a shrubbery.\\nHEAD KNIGHT: You must return here with a shrubbery or else you will never pass through this wood alive!\\nARTHUR: O Knights of Ni, you are just and fair, and we will return with a shrubbery.\\nHEAD KNIGHT: One that looks nice.\\nARTHUR: Of course.\\nHEAD KNIGHT: And not too expensive.\\nARTHUR: Yes.\\nHEAD KNIGHT: Now...  go [trumpets] \\nCARTOON CHARACTER: Hmm hmm-- [boom] Oh!  Great scott!  Hm.  Hmm. [boom] Hm!  Hmm.  [mumble mumble mumble] [boom] [mumble mumble mumble] [boom] [mumble mumble mumble] [boom] [mumble mumble mumble] [boom] [mumble mumble mumble] [boom] [mumble mumble mumble] [boom] [mumble mumble mumble] [boom] [mumble mumble mumble] [boom] Ohh! [crash] [mumble mumble mumble] [boom] \\nSUN: Ay, up!  Thsss. [boom] Ayy, up! [boom] Thsss. [boom] Ayy, up!\\nCARTOON CHARACTER: Stop that!  Stop that! [boom] \\nSUN: Ay, up!\\nCARTOON CHARACTER: Stop that! [boom] Look on!  Clear off!  Go on!  Go away!  Go away!  Go away!  And you!  Clear off!  [sniff] \\nSUN: [mumble mumble mumble] [bells] \\nCARTOON CHARACTER: Hah.  Bloody weather\\nSCENE 14:\\nNARRATOR: The Tale of Sir Launcelot.\\nFATHER: One day, lad, all this will be yours!\\nPRINCE HERBERT: What, the curtains?\\nFATHER: No.  Not the curtains, lad.  All that you can see, stretched out over the hills and valleys of this land!  This'll be your kingdom, lad.\\nHERBERT: But Mother--\\nFATHER: Father, lad.  Father.\\nHERBERT: B-- b-- but Father, I don't want any of that.\\nFATHER: Listen, lad.  I built this kingdom up from nothing.  When I started here, all there was was swamp.  Other kings said I was daft to build a castle on a swamp, but I built it all the same, just to show 'em.  It sank into the swamp.  So, I built a second one.  That sank into the swamp.  So I built a third one.  That burned down, fell over, then sank into the swamp.  But the fourth one...  stayed up!  And that's what you're gonna get, lad: the strongest castle in these islands.\\nHERBERT: But I don't want any of that.  I'd rather--\\nFATHER: Rather what?!\\nHERBERT: I'd rather... [music] ... just...  sing!\\nFATHER: Stop that!  Stop that!  You're not going into a song while I'm here.  Now listen, lad.  In twenty minutes you're getting married to a girl whose father owns the biggest tracts of open land in Britain.\\nHERBERT: B-- but I don't want land.\\nFATHER: Listen, Alice,--\\nHERBERT: Herbert.\\nFATHER: 'Erbert.  We live in a bloody swamp.  We need all the land we can get.\\nHERBERT: But-- but I don't like her.\\nFATHER: Don't like her?!  What's wrong with her?!  She's beautiful.  She's rich.  She's got huge...  tracts o' land.\\nHERBERT: I know, but I want the-- the girl that I marry to have...  [music] ... a certain...  special...  something!\\nFATHER: Cut that out!  Cut that out!  Look, you're marrying Princess Lucky, so you'd better get used to the idea! [smack] Guards!  Make sure the Prince doesn't leave this room until I come and get him.\\nGUARD #1: Not to leave the room even if you come and get him.\\nGUARD #2: Hic!\\nFATHER: No, no.  Until I come and get him.\\nGUARD #1: Until you come and get him, we're not to enter the room.\\nFATHER: No, no.  No.  You stay in the room and make sure he doesn't leave.\\nGUARD #1: And you'll come and get him.\\nGUARD #2: Hic!\\nFATHER: Right.\\nGUARD #1: We don't need to do anything, apart from just stop him entering the room.\\nFATHER: No, no.  Leaving the room.\\nGUARD #1: Leaving the room.  Yes. [sniff] \\nFATHER: All right?\\nGUARD #1: Right.\\nGUARD #2: Hic!\\nFATHER: Right.\\nGUARD #1: Oh, if-- if-- if-- uhh-- if-- if-- w-- ehh-- i-- if-- if we--\\nFATHER: Yes?  What is it?\\nGUARD #1: Oh, i-- if-- i-- oh--\\nFATHER: Look, it's quite simple.\\nGUARD #1: Uh...\\nFATHER: You just stay here, and make sure 'e doesn't leave the room.  Alright?\\nGUARD #2: Hic!\\nFATHER: Right.\\nGUARD #1: Oh, I remember.  Uhh, can he leave the room with us?\\nFATHER: N-- no no.  No.  You just keep him in here, and make sure he--\\nGUARD #1: Oh, yes.  We'll keep him in here, obviously.  But if he had to leave and we were with him--\\nFATHER: No, no, no, no.  Just keep him in here--\\nGUARD #1: Until you, or anyone else--\\nFATHER: No, not anyone else.  Just me.\\nGUARD #1: Just you.\\nGUARD #2: Hic!\\nFATHER: Get back.\\nGUARD #1: Get back.\\nFATHER: All right?\\nGUARD #1: Right.  We'll stay here until you get back.\\nGUARD #2: Hic!\\nFATHER: And, uh, make sure he doesn't leave.\\nGUARD #1: What?\\nFATHER: Make sure 'e doesn't leave.\\nGUARD #1: The Prince?\\nFATHER: Yes.  Make sure 'e doesn't leave.\\nGUARD #1: Oh, yes, of course.  \\nGUARD #2: Hic!\\nGUARD #1: Ah.  I thought you meant him.  You know, it seemed a bit daft me havin' to guard him when he's a guard.\\nFATHER: Is that clear?\\nGUARD #2: Hic!\\nGUARD #1: Oh, quite clear.  No problems.\\nFATHER: Right.  Where are you going?\\nGUARD #1: We're coming with you.\\nFATHER: No, no.  I want you to stay here and make sure 'e doesn't leave.\\nGUARD #1: Oh, I see.  Right.\\nHERBERT: But Father!\\nFATHER: Shut your noise, you!  And get that suit on! [music] And no singing!\\nGUARD #2: Hic!\\nFATHER: Oh, go and get a glass of water. [clank] [scribble scribble scribble fold fold] [twong]\\nSCENE 15:\\nLAUNCELOT: Well taken, Concorde!\\nCONCORDE: Thank you, sir!  Most kind.\\nLAUNCELOT: And again!  Over we go!  Good.  Steady!  And now, the big one!  Uuh!  Come on, Concorde! [thwonk] \\nCONCORDE: Message for you, sir. [fwump] \\nLAUNCELOT: Concorde!  Concorde!  Speak to me!  'To whoever finds this note: I have been imprisoned by my father, who wishes me to marry against my will.  Please, please, please come and rescue me.  I am in the Tall Tower of Swamp Castle.' At last!  A call!  A cry of distress!  This could be the sign that leads us to the Holy Grail!  Brave, brave Concorde, you shall not have died in vain!\\nCONCORDE: Uh, I'm-- I'm not quite dead, sir.\\nLAUNCELOT: Well, you shall not have been mortally wounded in vain!\\nCONCORDE: I-- I-- I think I c-- I could pull through, sir.\\nLAUNCELOT: Oh, I see.\\nCONCORDE: Actually, I think I'm all right to come with you, sir--\\nLAUNCELOT: No, no, sweet Concorde!  Stay here!  I will send help as soon as I have accomplished a daring and heroic rescue in my own particular...  [sigh] \\nCONCORDE: Idiom, sir?\\nLAUNCELOT: Idiom!\\nCONCORDE: No, I feel fine, actually, sir.\\nLAUNCELOT: Farewell, sweet Concorde!\\nCONCORDE: I'll, um, I'll just stay here then.  Shall I, sir?  Yeah\\nSCENE 16: [inside castle] \\nPRINCESS LUCKY and GIRLS: [giggle giggle giggle] [outside castle] \\nGUEST: 'Morning!\\nSENTRY #1: 'Morning.\\nSENTRY #2: Oooh.\\nSENTRY #1: [ptoo] \\nLAUNCELOT: Ha ha!  Hiyya!\\nSENTRY #2: Hey!\\nLAUNCELOT: Hiyya!, Ha!, etc.\\nPRINCESS LUCKY and GIRLS: [giggle giggle giggle] \\nLAUNCELOT: Ha ha!  Huy!\\nGUESTS: Uuh!  Aaah!\\nLAUNCELOT: Ha ha!  And take this!  Aah!  Hiyah!  Aah!  Aaah!  Hyy!  Hya!  Hiyya!  Ha! ...\\nGUARD #1: Now, you're not allowed to enter the room-- aaugh!\\nLAUNCELOT: O fair one, behold your humble servant Sir Launcelot of Camelot.  I have come to take y-- Oh, I'm terribly sorry.\\nHERBERT: You got my note!\\nLAUNCELOT: Uh, well, I-- I got a-- a note.\\nHERBERT: You've come to rescue me!\\nLAUNCELOT: Uh, well, no.  You see, I hadn't--\\nHERBERT: I knew someone would.  I knew that somewhere out there...  [music] \\nLAUNCELOT: Well, I--\\nHERBERT: ... there must be...  someone...\\nFATHER: Stop that!  Stop that!  Stop it!  Stop it!  Who are you?\\nHERBERT: I'm your son!\\nFATHER: No, not you.\\nLAUNCELOT: Uh, I am Sir Launcelot, sir.\\nHERBERT: He's come to rescue me, Father.\\nLAUNCELOT: Well, let's not jump to conclusions.\\nFATHER: Did you kill all those guards?\\nLAUNCELOT: Uh...  Oh, yes.  Sorry.\\nFATHER: They cost fifty pounds each!\\nLAUNCELOT: Well, I'm awfully sorry.  Um, I really can explain everything.\\nHERBERT: Don't be afraid of him, Sir Launcelot.  I've got a rope all ready.\\nFATHER: You killed eight wedding guests in all!\\nLAUNCELOT: Well, uh, you see, the thing is, I thought your son was a lady.\\nFATHER: I can understand that.\\nHERBERT: Hurry, Sir Launcelot!  Hurry!\\nFATHER: Shut up!  You only killed the bride's father, that's all!\\nLAUNCELOT: Well, I really didn't mean to...\\nFATHER: Didn't mean to?!  You put your sword right through his head!\\nLAUNCELOT: Oh, dear.  Is he all right?\\nFATHER: You even kicked the bride in the chest!  This is going to cost me a fortune!\\nLAUNCELOT: Well, I can explain.  I was in the forest, um, riding north from Camelot, when I got this note, you see--\\nFATHER: Camelot?  Are you from, uh, Camelot?\\nHERBERT: Hurry, Sir Launcelot!\\nLAUNCELOT: Uh, I am a Knight of King Arthur, sir.\\nFATHER: Very nice castle, Camelot.  Uh, very good pig country...\\nLAUNCELOT: Is it?\\nHERBERT: Hurry!  I'm ready!\\nFATHER: Would you, uh, like to come and have a drink?\\nLAUNCELOT: Well, that-- that's, uh, awfully nice of you, ...\\nHERBERT: I am ready!\\nLAUNCELOT: ... um, I mean to be so understanding. [thonk] Um, ... [woosh] \\nHERBERT: Oooh!\\nLAUNCELOT: ... I'm afraid when I'm in this idiom, I sometimes get a bit, uh, sort of carried away.\\nFATHER: Oh, don't worry about that.\\nHERBERT: Oooh! [splat] \\nSCENE 17:\\nGUESTS: [crying] \\nFATHER: Well, this is the main hall.  We're going to have all this knocked through, and made into one big, uh, living room.\\nGUEST: There he is!\\nFATHER: Oh, bloody hell.\\nLAUNCELOT: Ha ha ha!  Hey!  Ha ha!\\nFATHER: Hold it!  Stop it!  Hold it!  Hold it!  Hold it!  Hold it!  Hold it!  Please!\\nLAUNCELOT: Sorry.  Sorry.  You see what I mean?  I just get carried away.  I'm really most awfully sorry.  Sorry!  Sorry, everyone.\\nGUEST #1: He's killed the best man!\\nGUESTS: [yelling] \\nFATHER: Hold it!  Hold it!  Please!  Hold it!  This is Sir Launcelot from the Court of Camelot, a very brave and influential knight, and my special guest here today.\\nLAUNCELOT: Hello.\\nGUEST: He killed my auntie!\\nGUESTS: [yelling] \\nFATHER: Please!  Please!  This is supposed to be a happy occasion!  Let's not bicker and argue about who killed who.  We are here today to witness the union of two young people in the joyful bond of the holy wedlock.  Unfortunately, one of them, my son Herbert, has just fallen to his death.\\nGUESTS: Oh!  Oh no!\\nFATHER: But I don't want to think I've not lost a son, so much as...  gained a daughter! [clap clap clap] For, since the tragic death of her father--\\nGUEST #2: He's not quite dead!\\nFATHER: Since the near fatal wounding of her father--\\nGUEST #2: He's getting better!\\nFATHER: For, since her own father, who, when he seemed about to recover, suddenly felt the icy hand of death upon him.\\nBRIDE'S FATHER: Uugh!\\nGUEST #2: Oh, he's died!\\nFATHER: And I want his only daughter to look upon me as her old dad, in a very real, and legally binding sense. [clap clap clap] And I feel sure that the merger-- er, the union between the Princess and the brave, but dangerous, Sir Launcelot of Camelot--\\nLAUNCELOT: What?\\nGUEST #2: Look!  The dead Prince!\\nGUESTS: Oooh!  The dead Prince!\\nCONCORDE: He's not quite dead.\\nHERBERT: No, I feel much better.\\nFATHER: You fell out of the Tall Tower, you creep!\\nHERBERT: No, I was saved at the last minute.\\nFATHER: How?!\\nHERBERT: Well, I'll tell you. [music] \\nFATHER: Not like that!  Not like that!  No!  Stop it!\\nGUESTS: [singing] He's going to tell!  He's going to tell! ...\\nFATHER: Shut uuup!\\nGUESTS: [singing] He's going to tell! ...\\nFATHER: Shut up!\\nGUESTS: [singing] He's going to tell! ...\\nFATHER: Shut up!\\nGUESTS: [singing] He's going to tell! ...\\nFATHER: Not like that!\\nGUESTS: [singing] He's going to tell!  He's going to tell!  He's going to tell!  He's going to tell! ...\\nCONCORDE: Quickly, sir!\\nGUESTS: [singing] He's going to tell! ...\\nCONCORDE: Come this way!\\nGUESTS: [singing] He's going to tell!  He's going to tell! ...\\nLAUNCELOT: No!  It's not right for my idiom!\\nGUESTS: [singing] He's going to tell about his great escape...\\nLAUNCELOT: I must escape more...  [sigh] \\nGUESTS: [singing] Oh, he fell a long, long way...\\nCONCORDE: Dramatically, sir?\\nLAUNCELOT: Dramatically!\\nGUESTS: [singing] But he's here with us today...\\nLAUNCELOT: Heee!  Hoa! [crash] Hoo!\\nGUESTS: [singing] What a wonderful escape!\\nLAUNCELOT: Excuse me.  Could, uh-- could somebody give me a push, please\\nSCENE 18: [King Arthur music] [clop clop clop] [rewr!  rewr!  rewr!  rewr!  rewr!  rewr!] \\nARTHUR: Old crone! [rewr!] [music stops] Is there anywhere in this town where we could buy a shrubbery? [dramatic chord] \\nOLD CRONE: Who sent you?\\nARTHUR: The Knights Who Say 'Ni'.\\nCRONE: Aggh!  No!  Never!  We have no shrubberies here.\\nARTHUR: If you do not tell us where we can buy a shrubbery, my friend and I will say...  we will say...  'ni'.\\nCRONE: Agh!  Do your worst!\\nARTHUR: Very well!  If you will not assist us voluntarily, ...  ni!\\nCRONE: No!  Never!  No shrubberies!\\nARTHUR: Ni!\\nCRONE: [cough] \\nBEDEVERE: Nu!\\nARTHUR: No, no, no, no...\\nBEDEVERE: Nu!\\nARTHUR: No, it's not that, it's 'ni'.\\nBEDEVERE: Nu!\\nARTHUR: No, no-- 'ni'.  You're not doing it properly.  No.\\nBEDEVERE: Ni!\\nARTHUR and BEDEVERE: Ni!\\nARTHUR: That's it.  That's it.  You've got it.\\nARTHUR and BEDEVERE: Ni!\\nCRONE: Ohh!\\nBEDEVERE: Ni!\\nARTHUR: Ni!\\nCRONE: Agh!\\nBEDEVERE: Ni!\\nARTHUR: Ni!\\nBEDEVERE: Ni!\\nARTHUR: Ni!\\nBEDEVERE: Ni!\\nROGER THE SHRUBBER: Are you saying 'ni' to that old woman?\\nARTHUR: Erm, yes.\\nROGER: Oh, what sad times are these when passing ruffians can 'ni' at will to old ladies.  There is a pestilence upon this land.  Nothing is sacred. Even those who arrange and design shrubberies are under considerable economic stress at this period in history.\\nARTHUR: Did you say 'shrubberies'?\\nROGER: Yes.  Shrubberies are my trade.  I am a shrubber.  My name is Roger the Shrubber.  I arrange, design, and sell shrubberies.\\nBEDEVERE: Ni!\\nARTHUR: No!  No, no, no!  No\\nSCENE 19:\\nARTHUR: O Knights of Ni, we have brought you your shrubbery.  May we go now?\\nHEAD KNIGHT: It is a good shrubbery.  I like the laurels particularly.  But there is one small problem.\\nARTHUR: What is that?\\nHEAD KNIGHT: We are now...  no longer the Knights Who Say 'Ni'.\\nKNIGHTS OF NI: Ni!  Shh!\\nHEAD KNIGHT: Shh!  We are now the Knights Who Say 'Ecky-ecky-ecky-ecky-pikang-zoop-boing-goodem-zoo-owli-zhiv'.\\nRANDOM: Ni!\\nHEAD KNIGHT: Therefore, we must give you a test.\\nARTHUR: What is this test, O Knights of-- Knights Who 'Til Recently Said 'Ni'?\\nHEAD KNIGHT: Firstly, you must find...  another shrubbery! [dramatic chord] \\nARTHUR: Not another shrubbery!\\nRANDOM: Ni!\\nHEAD KNIGHT: Then, when you have found the shrubbery, you must place it here beside this shrubbery, only slightly higher so you get the two-level effect with a little path running down the middle.\\nKNIGHTS OF NI: A path!  A path!  A path!  Ni!  Shh!  Ni!  Ni!  Ni!  Shh!  Shh! ...\\nHEAD KNIGHT: Then, when you have found the shrubbery, you must cut down the mightiest tree in the forest...  with...  a herring! [dramatic chord] \\nARTHUR: We shall do no such thing!\\nHEAD KNIGHT: Oh, please!\\nARTHUR: Cut down a tree with a herring?  It can't be done.\\nKNIGHTS OF NI: Aaaugh!  Aaaugh!\\nHEAD KNIGHT: Augh!  Ohh!  Don't say that word.\\nARTHUR: What word?\\nHEAD KNIGHT: I cannot tell, suffice to say is one of the words the Knights of Ni cannot hear.\\nARTHUR: How can we not say the word if you don't tell us what it is?\\nKNIGHTS OF NI: Aaaaugh!\\nHEAD KNIGHT: You said it again!\\nARTHUR: What, 'is'?\\nKNIGHTS OF NI: Agh!  No, not 'is'.\\nHEAD KNIGHT: No, not 'is'.  You wouldn't get vary far in life not saying 'is'.\\nKNIGHTS OF NI: No, not 'is'.  Not 'is'.\\nBEDEVERE: My liege, it's Sir Robin!\\nMINSTREL: [singing] Packing it in and packing it up, And sneaking away and buggering up, And chickening out and pissing off home, Yes, bravely he is throwing in the sponge.\\nARTHUR: Sir Robin!\\nROBIN: My liege!  It's good to see you.\\nHEAD KNIGHT: Now he's said the word!  \\nARTHUR: Surely you've not given up your quest for the Holy Grail?\\nMINSTREL: [singing] He is sneaking away and buggering up--\\nROBIN: Shut up!  No, no.  No.  Far from it.\\nHEAD KNIGHT: He said the word again!\\nKNIGHTS OF NI: Aaaaugh!\\nROBIN: I was looking for it.\\nKNIGHTS OF NI: Aaaaugh!\\nROBIN: Uh, here-- here in this forest.\\nARTHUR: No, it is far from this place.\\nKNIGHTS OF NI: Aaaaugh!\\nHEAD KNIGHT: Aaaaugh!  Stop saying the word!  The word...\\nARTHUR: Oh, stop it!\\nKNIGHTS OF NI: ... we cannot hear!\\nHEAD KNIGHT: Ow!  He said it again!\\nARTHUR: Patsy!\\nHEAD KNIGHT: Wait!  I said it!  I said it! [clop clop clop] Ooh!  I said it again!  And there again!  That's three 'it's!  Ohh!\\nKNIGHTS OF NI: Aaaaugh\\nNARRATOR: And so, Arthur and Bedevere and Sir Robin set out on their search to find the enchanter of whom the old man had spoken in scene twenty-four.  Beyond the forest they met Launcelot and Galahad, and there was much rejoicing.\\nKNIGHTS: Yay!  Yay! [woosh] \\nNARRATOR: In the frozen land of Nador, they were forced to eat Robin's minstrels.\\nMINSTREL: [high-pitched] Get back!  Eee!\\nNARRATOR: And there was much rejoicing.\\nKNIGHTS: Yay!\\nNARRATOR: A year passed.\\nCARTOON CHARACTER: [shivering] \\nNARRATOR: Winter changed into Spring.\\nCARTOON CHARACTER: Mmm, nice.\\nNARRATOR: Spring changed into Summer.\\nCARTOON CHARACTER: Oh.  Ahh.\\nNARRATOR: Summer changed back into Winter.\\nCARTOON CHARACTER: Oh?\\nNARRATOR: And Winter gave Spring and Summer a miss and went straight on into Autumn.\\nCARTOON CHARACTER: Aah. [snap] Oh!  Waa!\\nNARRATOR: Until one day..\\nSCENE 20: [King Arthur music] [clop clop clop] [music stops] [boom] \\nKNIGHTS: Eh.  Oh.  See it?  Oh.  Oh.\\nARTHUR: Knights!  Forward! [boom boom boom boom boom] [squeak] [boom boom boom boom] What manner of man are you that can summon up fire without flint or tinder?\\nTIM THE ENCHANTER: I...  am an enchanter.\\nARTHUR: By what name are you known?\\nTIM: There are some who call me...  Tim?\\nARTHUR: Greetings, Tim the Enchanter.\\nTIM: Greetings, King Arthur!\\nARTHUR: You know my name?\\nTIM: I do. [zoosh] You seek the Holy Grail!\\nARTHUR: That is our quest.  You know much that is hidden, O Tim.\\nTIM: Quite. [pweeng boom] [clap clap clap] \\nROBIN: Oh.\\nARTHUR: Yes, we're-- we're looking for the Holy Grail.  Our quest is to find the Holy Grail.\\nKNIGHTS: Yeah.  Yes.  It is.  It is.  Yeah.  Yup.  Yup.  Hm.\\nARTHUR: And so we're-- we're-- we're-- we're looking for it.\\nBEDEVERE: Yes, we are.\\nGALAHAD: Yeah.  \\nROBIN: We are.  We are.\\nBEDEVERE: We have been for some time.\\nROBIN: Ages.\\nBEDEVERE: Umhm.\\nARTHUR: Uh-- uh, so, uh, anything that you could do to, uh-- to help, would be...  very...  helpful.\\nGALAHAD: Look, can you tell us where-- [boom] \\nARTHUR: Fine.  Um, I don't want to waste any more of your time, but, uh, I don't suppose you could, uh, tell us where we might find a, um-- find a, uh-- a, um-- a, uh--\\nTIM: A what...?\\nARTHUR: A g-- a-- a g-- a g-- a-- a g--\\nTIM: A grail?!\\nARTHUR: Yes, I think so.\\nROBIN: Y-- y-- yes.\\nARTHUR: Yes.\\nGALAHAD: Yup.\\nKNIGHTS: That's it...\\nTIM: Yes!\\nROBIN: Oh.\\nARTHUR: Oh.  Thank you.\\nROBIN: Ahh.\\nGALAHAD: Oh.  Fine.\\nARTHUR: Thank you.\\nROBIN: Splendid.\\nKNIGHTS: Aah... [boom pweeng boom boom] \\nARTHUR: Look, um, you're a busy man, uh--\\nTIM: Yes, I can help you find the Holy Grail.\\nKNIGHTS: Oh, thank you.  Oh...\\nTIM: To the north there lies a cave-- the cave of Caerbannog-- wherein, carved in mystic runes upon the very living rock, the last words of Olfin Bedwere of Rheged... [boom] ... make plain the last resting place of the most Holy Grail.\\nARTHUR: Where could we find this cave, O Tim?\\nTIM: Follow.  But!  Follow only if ye be men of valor, for the entrance to this cave is guarded by a creature so foul, so cruel that no man yet has fought with it and lived!  Bones of full fifty men lie strewn about its lair.  So, brave knights, if you do doubt your courage or your strength, come no further, for death awaits you all with nasty, big, pointy teeth.\\nARTHUR: What an eccentric performance\\nSCENE 21: [clop clop clop] [whinny whinny] \\nGALAHAD: They're nervous, sire.\\nARTHUR: Then we'd best leave them here and carry on on foot.  Dis-mount!\\nTIM: Behold the cave of Caerbannog!\\nARTHUR: Right!  Keep me covered.\\nGALAHAD: What with?\\nARTHUR: W-- just keep me covered.\\nTIM: Too late! [dramatic chord] \\nARTHUR: What?\\nTIM: There he is!\\nARTHUR: Where?\\nTIM: There!\\nARTHUR: What, behind the rabbit?\\nTIM: It is the rabbit!\\nARTHUR: You silly sod!\\nTIM: What?\\nARTHUR: You got us all worked up!\\nTIM: Well, that's no ordinary rabbit.\\nARTHUR: Ohh.\\nTIM: That's the most foul, cruel, and bad-tempered rodent you ever set eyes on.\\nROBIN: You tit!  I soiled my armor I was so scared!\\nTIM: Look, that rabbit's got a vicious streak a mile wide; it's a killer!\\nGALAHAD: Get stuffed!\\nTIM: He'll do you up a treat mate!\\nGALAHAD: Oh, yeah?\\nROBIN: You mangy scots git!\\nTIM: I'm warning you!\\nROBIN: What's he do, nibble your bum?\\nTIM: He's got huge, sharp-- eh-- he can leap about-- look at the bones!\\nARTHUR: Go on, Bors.  Chop his head off!\\nBORS: Right!  Silly little bleeder.  One rabbit stew comin' right up!\\nTIM: Look! [squeak] \\nBORS: Aaaugh! [dramatic chord] [clunk] \\nARTHUR: Jesus Christ!\\nTIM: I warned you!\\nROBIN: I done it again!\\nTIM: I warned you, but did you listen to me?  Oh, no, you knew it all, didn't you?  Oh, it's just a harmless little bunny, isn't it?  Well, it's always the same.  I always tell them--\\nARTHUR: Oh, shut up!\\nTIM: Do they listen to me?\\nARTHUR: Right!\\nTIM: Oh, no...\\nKNIGHTS: Charge! [squeak squeak squeak] \\nKNIGHTS: Aaaaugh!, Aaaugh!, etc.\\nARTHUR: Run away!  Run away!\\nKNIGHTS: Run away!  Run away! ...\\nTIM: Ha ha ha ha!  Ha haw haw!  Ha!  Ha ha!\\nARTHUR: Right.  How many did we lose?\\nLAUNCELOT: Gawain.\\nGALAHAD: Ector.\\nARTHUR: And Bors.  That's five.\\nGALAHAD: Three, sir.\\nARTHUR: Three.  Three.  And we'd better not risk another frontal assault.  That rabbit's dynamite.\\nROBIN: Would it help to confuse it if we run away more?\\nARTHUR: Oh, shut up and go and change your armor.\\nGALAHAD: Let us taunt it!  It may become so cross that it will make a mistake.\\nARTHUR: Like what?\\nGALAHAD: Well...  ooh.\\nLAUNCELOT: Have we got bows?\\nARTHUR: No.\\nLAUNCELOT: We have the Holy Hand Grenade.\\nARTHUR: Yes, of course!  The Holy Hand Grenade of Antioch!  'Tis one of the sacred relics Brother Maynard carries with him!  Brother Maynard!  Bring up the Holy Hand Grenade!\\nMONKS: [chanting] Pie Iesu domine, dona eis requiem.  Pie Iesu domine, donaeis requiem.  Pie Iesu domine, dona eis requiem.  Pie Iesu domine, dona eisrequiem.\\nARTHUR: How does it, um-- how does it work?\\nLAUNCELOT: I know not, my liege.\\nARTHUR: Consult the Book of Armaments!\\nBROTHER MAYNARD: Armaments, Chapter Two, verses Nine to Twenty-one.\\nSECOND BROTHER: And Saint Attila raised the hand grenade up on high, saying,'O Lord, bless this thy hand grenade that with it thou mayest blow thine enemies to tiny bits, in thy mercy.' And the Lord did grin, and the people did feast upon the lambs and sloths and carp and anchovies and orangutans and breakfast cereals and fruit bats and large chu--\\nMAYNARD: Skip a bit, Brother.\\nSECOND BROTHER: And the Lord spake, saying, 'First shalt thou take out the Holy Pin.  Then, shalt thou count to three, no more, no less.  Three shalt be the number thou shalt count, and the number of the counting shall be three.  Four shalt thou not count, nor either count thou two, excepting that thou then proceed to three.  Five is right out.  Once the number three, being the third number, be reached, then lobbest thou thy Holy Hand Grenade of Antioch towards thy foe, who, being naughty in my sight, shall snuff it.'\\nMAYNARD: Amen.\\nKNIGHTS: Amen.\\nARTHUR: Right!  One...  two...  five!\\nGALAHAD: Three, sir!\\nARTHUR: Three! [angels sing] [boom] \\nSCENE 22:\\nARTHUR: There!  Look!\\nLAUNCELOT: What does it say?\\nGALAHAD: What language is that?\\nARTHUR: Brother Maynard!  You are a scholar.\\nMAYNARD: It's Aramaic!\\nGALAHAD: Of course!  Joseph of Arimathea!\\nLAUNCELOT: 'Course!\\nARTHUR: What does it say?\\nMAYNARD: It reads, 'Here may be found the last words of Joseph of Arimathea.  He who is valiant and pure of spirit may find the Holy Grail in the Castle of uuggggggh'.\\nARTHUR: What?\\nMAYNARD: '...  the Castle of uuggggggh'.\\nBEDEVERE: What is that?\\nMAYNARD: He must have died while carving it.\\nLAUNCELOT: Oh, come on!\\nMAYNARD: Well, that's what it says.\\nARTHUR: Look, if he was dying, he wouldn't bother to carve 'aaggggh'.  He'd just say it!\\nMAYNARD: Well, that's what's carved in the rock!\\nGALAHAD: Perhaps he was dictating.\\nARTHUR: Oh, shut up.  Well, does it say anything else?\\nMAYNARD: No.  Just, 'uuggggggh'.\\nLAUNCELOT: Aauuggghhh.\\nARTHUR: Aaauggh.\\nBEDEVERE: Do you suppose he meant the Camaaaaaargue?\\nGALAHAD: Where's that?\\nBEDEVERE: France, I think.\\nLAUNCELOT: Isn't there a Saint Aauuuves in Cornwall?\\nARTHUR: No, that's Saint Ives.\\nLAUNCELOT: Oh, yes.  Saint Iiiives.\\nKNIGHTS: Iiiiives.\\nBEDEVERE: Oooohoohohooo!\\nLAUNCELOT: No, no.  'Aauuuuugh', at the back of the throat.  Aauuugh.\\nBEDEVERE: N-- no.  No, no, no, no.  'Oooooooh', in surprise and alarm.\\nLAUNCELOT: Oh, you mean sort of a 'aaaah'!\\nBEDEVERE: Yes, but I-- aaaaaah!\\nARTHUR: Oooh!\\nGALAHAD: My God! [dramatic chord] [roar] \\nMAYNARD: It's the legendary Black Beast of Aaauugh! [Black Beast of Aaauugh eats BROTHER MAYNARD] \\nBEDEVERE: That's it!  That's it!\\nARTHUR: Run away!\\nKNIGHTS: Run away! [roar] Run away!  Run awaaay!  Run awaaaaay! [roar] Keep running! [boom] [roar] Shh!  Shh!  Shh!  Shh!  Shh!  Shh!  Shh!  Shh! ...\\nBEDEVERE: We've lost him. [roar] \\nKNIGHTS: Aagh!\\nNARRATOR: As the horrendous Black Beast lunged forward, escape for Arthur and his knights seemed hopeless, when suddenly, the animator suffered a fatal heart attack.\\nANIMATOR: Ulk! [thump] \\nNARRATOR: The cartoon peril was no more.  The quest for Holy Grail could continue.\\nSCENE 23: [gurgle] \\nGALAHAD: There it is!\\nARTHUR: The Bridge of Death!\\nROBIN: Oh, great.\\nARTHUR: Look!  There's the old man from scene twenty-four!\\nBEDEVERE: What is he doing here?\\nARTHUR: He is the keeper of the Bridge of Death.  He asks each traveller five questions--\\nGALAHAD: Three questions.\\nARTHUR: Three questions.  He who answers the five questions--\\nGALAHAD: Three questions.\\nARTHUR: Three questions may cross in safety.\\nROBIN: What if you get a question wrong?\\nARTHUR: Then you are cast into the Gorge of Eternal Peril.\\nROBIN: Oh, I won't go.\\nGALAHAD: Who's going to answer the questions?\\nARTHUR: Sir Robin!\\nROBIN: Yes?\\nARTHUR: Brave Sir Robin, you go.\\nROBIN: Hey!  I've got a great idea.  Why doesn't Launcelot go?\\nLAUNCELOT: Yes.  Let me go, my liege.  I will take him single-handed.  I shall make a feint to the north-east that s--\\nARTHUR: No, no.  No.  Hang on!  Hang on!  Hang on!  Just answer the five questions--\\nGALAHAD: Three questions.\\nARTHUR: Three questions as best you can.  And we shall watch...  and pray.\\nLAUNCELOT: I understand, my liege.\\nARTHUR: Good luck, brave Sir Launcelot.  God be with you.\\nBRIDGEKEEPER: Stop!  Who would cross the Bridge of Death must answer me these questions three, ere the other side he see.\\nLAUNCELOT: Ask me the questions, bridgekeeper.  I am not afraid.\\nBRIDGEKEEPER: What is your name?\\nLAUNCELOT: My name is Sir Launcelot of Camelot.\\nBRIDGEKEEPER: What is your quest?\\nLAUNCELOT: To seek the Holy Grail.\\nBRIDGEKEEPER: What is your favorite color?\\nLAUNCELOT: Blue.\\nBRIDGEKEEPER: Right.  Off you go.\\nLAUNCELOT: Oh, thank you.  Thank you very much.\\nROBIN: That's easy!\\nBRIDGEKEEPER: Stop!  Who approacheth the Bridge of Death must answer me these questions three, ere the other side he see.\\nROBIN: Ask me the questions, bridgekeeper.  I'm not afraid.\\nBRIDGEKEEPER: What is your name?\\nROBIN: Sir Robin of Camelot.\\nBRIDGEKEEPER: What is your quest?\\nROBIN: To seek the Holy Grail.\\nBRIDGEKEEPER: What is the capital of Assyria?\\nROBIN: I don't know that!  Auuuuuuuugh!\\nBRIDGEKEEPER: Stop!  What is your name?\\nGALAHAD: Sir Galahad of Camelot.\\nBRIDGEKEEPER: What is your quest?\\nGALAHAD: I seek the Grail.\\nBRIDGEKEEPER: What is your favorite color?\\nGALAHAD: Blue.  No yel-- auuuuuuuugh!\\nBRIDGEKEEPER: Hee hee heh.  Stop!  What is your name?\\nARTHUR: It is Arthur, King of the Britons.\\nBRIDGEKEEPER: What is your quest?\\nARTHUR: To seek the Holy Grail.\\nBRIDGEKEEPER: What is the air-speed velocity of an unladen swallow?\\nARTHUR: What do you mean?  An African or European swallow?\\nBRIDGEKEEPER: Huh?  I-- I don't know that!  Auuuuuuuugh!\\nBEDEVERE: How do know so much about swallows?\\nARTHUR: Well, you have to know these things when you're a king, you know. [suspenseful music] [music suddenly stops] [intermission] [suspenseful music resumes]\\nSCENE 24:\\nARTHUR: Launcelot!  Launcelot!  Launcelot!\\nBEDEVERE: Launcelot!  Launcelot!\\nARTHUR: Launcelot! [police radio] Launcelot!\\nBEDEVERE: Launcelot!  Launcelot! [angels sing] [singing stops] [ethereal music] \\nARTHUR: The Castle Aaagh.  Our quest is at an end!  God be praised!  Almighty God, we thank Thee that Thou hast vouchsafed to us the most holy-- [twong] [baaaa] Jesus Christ! [thud] \\nFRENCH GUARD: Allo, dappy English k-niggets and Monsieur Arthur King, who has the brain of a duck, you know.  So, we French fellows outwit you a second time!\\nARTHUR: How dare you profane this place with your presence!  I command you, in the name of the Knights of Camelot, to open the doors of this sacred castle, to which God Himself has guided us!\\nFRENCH GUARD: How you English say, 'I one more time, mac, unclog my nose in your direction', sons of a window-dresser!  So, you think you could out-clever us French folk with your silly knees-bent running about advancing behaviour?!  I wave my private parts at your aunties, you cheesy lot of second hand electric donkey-bottom biters.\\nARTHUR: In the name of the Lord, we demand entrance to this sacred castle!\\nFRENCH GUARD: No chance, English bed-wetting types.  I burst my pimples at you and call your door-opening request a silly thing, you tiny-brained wipers of other people's bottoms!\\nARTHUR: If you do not open this door, we shall take this castle by force! [splat] In the name of God and the glory of our-- [splat] \\nFRENCH GUARDS: [laughing] \\nARTHUR: Agh.  Right!  That settles it!\\nFRENCH GUARD: Yes, depart a lot at this time, and cut the approaching any more or we fire arrows at the tops of your heads and make castanets out of your testicles already!  Ha ha haaa ha!\\nARTHUR: Walk away.  Just ignore them.\\nFRENCH GUARD: And now, remain gone, illegitimate-faced bugger-folk!  And, if you think you got a nasty taunting this time, you ain't heard nothing yet, dappy English k-nnniggets!  Thpppt!\\nFRENCH GUARDS: [taunting] \\nARTHUR: We shall attack at once!\\nBEDEVERE: Yes, my liege!\\nARTHUR: Stand by for attack! [exciting music] [music stops] [silence] French persons!\\nFRENCH GUARDS: [taunting] ... Dappy! ...\\nARTHUR: Today the blood of many a valiant knight shall be avenged.  In the name of God, ...\\nFRENCH GUARDS: Hoo hoo!  Ohh, ha ha ha ha ha! ...\\nARTHUR: ... we shall not stop our fight 'til each one of you lies dead, and the Holy Grail returns to those whom God has chosen!\\nFRENCH GUARDS: ... Ha ha ha! ...\\nARTHUR: Charge!\\nARMY OF KNIGHTS: Hooray! [police siren] \\nHISTORIAN'S WIFE: Yes.  They're the ones.  I'm sure.\\nINSPECTOR: Come on.  Anybody armed must go too.\\nOFFICER #1: All right.  Come on.  Back.\\nHISTORIAN'S WIFE: Get that one.\\nOFFICER #1: Back.  Right away.  Just...  pull it off.  Come on.  Come along.\\nINSPECTOR: Put this man in the van.\\nOFFICER #1: Clear off.  Come on.\\nBEDEVERE: With whom?\\nINSPECTOR: Which one?\\nOFFICER #1: Oh-- this one.\\nINSPECTOR: Come on.  Put him in the van.\\nOFFICER #2: Get a blanket.\\nOFFICER #1: We have no hospital.\\nRANDOM: Ahh. [squeak] \\nRANDOM: Ooh.\\nOFFICER #1: Come on.  Back.  Riiight back.  Come on!\\nOFFICER #2: Run along!  Run along!\\nOFFICER #1: Pull that off.  My, that's an offensive weapon, that is.\\nOFFICER #2: Come on.  Back with 'em.  Back.  Right.  Come along.\\nINSPECTOR: Everything? [squeak] \\nOFFICER #1: All right, sonny.  That's enough.  Just pack that in. [crash] \\nCAMERAMAN: Christ!\\n\""
   ]
  },
  {
   "cell_type": "code",
   "execution_count": 40,
   "metadata": {},
   "outputs": [
    {
     "data": {
      "text/plain": [
       "\"SCENE 1: [wind] [clop clop clop] \\nKING ARTHUR: Whoa there!  [clop clop clop] \\nSOLDIER #1: Halt!  Who goes there?\\nARTHUR: It is I, Arthur, son of Uther Pendragon, from the castle of Camelot.  King of the Britons, defeator of the Saxons, sovereign of all England!\\nSOLDIER #1: Pull the other one!\\nARTHUR: I am, ...  and this is my trusty servant Patsy.  We have ridden the length and breadth of the land in search of knights who will join me in my court at Camelot.  I must speak with your lord and master.\\nSOLDIER #1: What?  Ridden on a horse?\\nARTHUR: Yes!\\nSOLDIER #1: You're using coconuts!\\nARTHUR: What?\\nSOLDIER #1: You've got two empty halves of coconut and you're bangin' 'em together.\\nARTHUR: So?  We have ridden since the snows of winter covered this land, through the kingdom of Mercea, through--\\nSOLDIER #1: Where'd you get the coconuts?\\nARTHUR: We found them.\\nSOLDIER #1: Found them?  In Mercea?  The coconut's tropical!\\nARTHUR: What do you mean?\\nSOLDIER #1: Well, this is a temperate zone.\\nARTHUR: The swallow may fly south with the sun or the house martin or the plover may seek warmer climes in winter, yet these are not strangers to our land?\\nSOLDIER #1: Are you suggesting coconuts migrate?\\nARTHUR: Not at all.  They could be carried.\\nSOLDIER #1: What?  A swallow carrying a coconut?\\nARTHUR: It could grip it by the husk!\\nSOLDIER #1: It's not a question of where he grips it!  It's a simple question of weight ratios!  A five ounce bird could not carry a one pound coconut.\\nARTHUR: Well, it doesn't matter.  Will you go and tell your master that Arthur from the Court of Camelot is here.\\nSOLDIER #1: Listen.  In order to maintain air-speed velocity, a swallow needs to beat its wings forty-three times every second, right?\\nARTHUR: Please!\\nSOLDIER #1: Am I right?\\nARTHUR: I'm not interested!\\nSOLDIER #2: It could be carried by an African swallow!\\nSOLDIER #1: Oh, yeah, an African swallow maybe, but not a European swallow.  That's my point.\\nSOLDIER #2: Oh, yeah, I agree with that.\\nARTHUR: Will you ask your master if he wants to join my court at Camelot?!\\nSOLDIER #1: But then of course a-- African swallows are non-migratory.\\nSOLDIER #2: Oh, yeah...\\nSOLDIER #1: So they couldn't bring a coconut back anyway...  [clop clop clop] \\nSOLDIER #2: Wait a minute!  Supposing two swallows carried it together?\\nSOLDIER #1: No, they'd have to have it on a line.\\nSOLDIER #2: Well, simple!  They'd just use a strand of creeper!\\nSOLDIER #1: What, held under the dorsal guiding feathers?\\nSOLDIER #2: Well, why not?\\nSCENE 2: [thud] [clang] \\nCART-MASTER: Bring out your dead!  [clang] Bring out your dead!  [clang] Bring out your dead!  [clang] Bring out your dead!  [clang] Bring out your dead!  [cough cough...] [clang] [... cough cough] Bring out your dead!  [clang] Bring out your dead!  [clang] Bring out your dead!  Ninepence.  [clang] Bring out your dead!  [clang] Bring out your dead!  [clang] Bring out...  [rewr!] ... your dead!  [rewr!] [clang] Bring out your dead!\\nCUSTOMER: Here's one.\\nCART-MASTER: Ninepence.\\nDEAD PERSON: I'm not dead!\\nCART-MASTER: What?\\nCUSTOMER: Nothing.  Here's your ninepence.\\nDEAD PERSON: I'm not dead!\\nCART-MASTER: 'Ere.  He says he's not dead!\\nCUSTOMER: Yes he is.\\nDEAD PERSON: I'm not!\\nCART-MASTER: He isn't?\\nCUSTOMER: Well, he will be soon.  He's very ill.\\nDEAD PERSON: I'm getting better!  \\nCUSTOMER: No you're not.  You'll be stone dead in a moment.\\nCART-MASTER: Oh, I can't take him like that.  It's against regulations.\\nDEAD PERSON: I don't want to go on the cart!\\nCUSTOMER: Oh, don't be such a baby.\\nCART-MASTER: I can't take him.\\nDEAD PERSON: I feel fine!\\nCUSTOMER: Well, do us a favor.\\nCART-MASTER: I can't.\\nCUSTOMER: Well, can you hang around a couple of minutes?  He won't be long.\\nCART-MASTER: No, I've got to go to the Robinson's.  They've lost nine today.\\nCUSTOMER: Well, when's your next round?\\nCART-MASTER: Thursday.\\nDEAD PERSON: I think I'll go for a walk.\\nCUSTOMER: You're not fooling anyone you know.  Look, isn't there something you can do?\\nDEAD PERSON: [singing] I feel happy...  I feel happy.  [whop] \\nCUSTOMER: Ah, thanks very much.\\nCART-MASTER: Not at all.  See you on Thursday.\\nCUSTOMER: Right.  All right.  [howl] [clop clop clop] Who's that then?\\nCART-MASTER: I dunno.  Must be a king.\\nCUSTOMER: Why?\\nCART-MASTER: He hasn't got shit all over him.\\nSCENE 3: [thud] [King Arthur music] [thud thud thud] [King Arthur music stops] \\nARTHUR: Old woman!\\nDENNIS: Man!\\nARTHUR: Man.  Sorry.  What knight live in that castle over there?\\nDENNIS: I'm thirty-seven.\\nARTHUR: I-- what?\\nDENNIS: I'm thirty-seven.  I'm not old.\\nARTHUR: Well, I can't just call you 'Man'.\\nDENNIS: Well, you could say 'Dennis'.\\nARTHUR: Well, I didn't know you were called 'Dennis'.\\nDENNIS: Well, you didn't bother to find out, did you?\\nARTHUR: I did say 'sorry' about the 'old woman', but from the behind you looked--\\nDENNIS: What I object to is that you automatically treat me like an inferior!\\nARTHUR: Well, I am king!\\nDENNIS: Oh king, eh, very nice.  And how d'you get that, eh?  By exploiting the workers!  By 'anging on to outdated imperialist dogma which perpetuates the economic and social differences in our society.  If there's ever going to be any progress with the--\\nWOMAN: Dennis, there's some lovely filth down here.  Oh!  How d'you do?\\nARTHUR: How do you do, good lady.  I am Arthur, King of the Britons.  Who's castle is that?\\nWOMAN: King of the who?\\nARTHUR: The Britons.\\nWOMAN: Who are the Britons?\\nARTHUR: Well, we all are.  We are all Britons, and I am your king.\\nWOMAN: I didn't know we had a king.  I thought we were an autonomous collective.\\nDENNIS: You're fooling yourself.  We're living in a dictatorship.  A self-perpetuating autocracy in which the working classes--\\nWOMAN: Oh, there you go, bringing class into it again.\\nDENNIS: That's what it's all about.  If only people would hear of--\\nARTHUR: Please, please good people.  I am in haste.  Who lives in that castle?\\nWOMAN: No one live there.\\nARTHUR: Then who is your lord?\\nWOMAN: We don't have a lord.\\nARTHUR: What?\\nDENNIS: I told you.  We're an anarcho-syndicalist commune.  We take it in turns to act as a sort of executive officer for the week.\\nARTHUR: Yes.\\nDENNIS: But all the decision of that officer have to be ratified at a special bi-weekly meeting--\\nARTHUR: Yes, I see.\\nDENNIS: By a simple majority in the case of purely internal affairs,--\\nARTHUR: Be quiet!\\nDENNIS: But by a two-thirds majority in the case of more major--\\nARTHUR: Be quiet!  I order you to be quiet!\\nWOMAN: Order, eh?  Who does he think he is?  Heh.\\nARTHUR: I am your king!\\nWOMAN: Well, I didn't vote for you.\\nARTHUR: You don't vote for kings.\\nWOMAN: Well, how did you become king then?\\nARTHUR: The Lady of the Lake, ... [angels sing] ... her arm clad in the purest shimmering samite, held aloft Excalibur from the bosom of the water signifying by Divine Providence that I, Arthur, was to carry Excalibur. [singing stops] That is why I am your king!\\nDENNIS: Listen, strange women lying in ponds distributing swords is no basis for a system of government.  Supreme executive power derives from a mandate from the masses, not from some farcical aquatic ceremony.\\nARTHUR: Be quiet!\\nDENNIS: Well, but you can't expect to wield supreme executive power just 'cause some watery tart threw a sword at you!\\nARTHUR: Shut up!\\nDENNIS: I mean, if I went 'round saying I was an emperor just because some moistened bint had lobbed a scimitar at me, they'd put me away!\\nARTHUR: Shut up, will you.  Shut up!\\nDENNIS: Ah, now we see the violence inherent in the system.\\nARTHUR: Shut up!\\nDENNIS: Oh!  Come and see the violence inherent in the system!  Help, help!  I'm being repressed!\\nARTHUR: Bloody peasant!\\nDENNIS: Oh, what a give-away.  Did you hear that?  Did you hear that, eh?  That's what I'm on about.  Did you see him repressing me?  You saw it, didn't you\\nSCENE 4: [King Arthur music] [music stops] \\nBLACK KNIGHT: Aaagh!  [King Arthur music] [music stops] \\nBLACK KNIGHT: Aaagh!\\nGREEN KNIGHT: Ooh! [King Arthur music] [music stops] [stab] \\nBLACK KNIGHT: Aagh!\\nGREEN KNIGHT: Oh! [King Arthur music] Ooh! [music stops] \\nBLACK KNIGHT: Aaagh! [clang] \\nBLACK KNIGHT and GREEN KNIGHT: Agh!, oh!, etc.\\nGREEN KNIGHT: Aaaaaah!  Aaaaaaaaah! [woosh] [BLACK KNIGHT kills GREEN KNIGHT] [thud] [scrape] \\nBLACK KNIGHT: Umm! [clop clop clop] \\nARTHUR: You fight with the strength of many men, Sir Knight. [pause] I am Arthur, King of the Britons. [pause] I seek the finest and the bravest knights in the land to join me in my court at Camelot. [pause] You have proved yourself worthy.  Will you join me? [pause] You make me sad.  So be it.  Come, Patsy.\\nBLACK KNIGHT: None shall pass.\\nARTHUR: What?\\nBLACK KNIGHT: None shall pass.\\nARTHUR: I have no quarrel with you, good Sir Knight, but I must cross this bridge.\\nBLACK KNIGHT: Then you shall die.\\nARTHUR: I command you, as King of the Britons, to stand aside!\\nBLACK KNIGHT: I move for no man.\\nARTHUR: So be it!\\nARTHUR and BLACK KNIGHT: Aaah!, hiyaah!, etc. [ARTHUR chops the BLACK KNIGHT's left arm off] \\nARTHUR: Now stand aside, worthy adversary.\\nBLACK KNIGHT: 'Tis but a scratch.\\nARTHUR: A scratch?  Your arm's off!\\nBLACK KNIGHT: No, it isn't.\\nARTHUR: Well, what's that then?\\nBLACK KNIGHT: I've had worse.\\nARTHUR: You liar!\\nBLACK KNIGHT: Come on, you pansy! [clang] Huyah! [clang] Hiyaah! [clang] Aaaaaaaah! [ARTHUR chops the BLACK KNIGHT's right arm off] \\nARTHUR: Victory is mine! [kneeling] We thank Thee Lord, that in Thy mer--\\nBLACK KNIGHT: Hah! [clunk] Come on then.\\nARTHUR: What?\\nBLACK KNIGHT: Have at you! [kick] \\nARTHUR: Eh.  You are indeed brave, Sir Knight, but the fight is mine.\\nBLACK KNIGHT: Oh, had enough, eh?\\nARTHUR: Look, you stupid bastard.  You've got no arms left.\\nBLACK KNIGHT: Yes I have.\\nARTHUR: Look!\\nBLACK KNIGHT: Just a flesh wound. [kick] \\nARTHUR: Look, stop that.\\nBLACK KNIGHT: Chicken! [kick] Chickennn!\\nARTHUR: Look, I'll have your leg. [kick] Right! [whop] [ARTHUR chops the BLACK KNIGHT's right leg off] \\nBLACK KNIGHT: Right.  I'll do you for that!\\nARTHUR: You'll what?\\nBLACK KNIGHT: Come here!\\nARTHUR: What are you going to do, bleed on me?\\nBLACK KNIGHT: I'm invincible!\\nARTHUR: You're a looney.\\nBLACK KNIGHT: The Black Knight always triumphs!  Have at you!  Come on then. [whop] [ARTHUR chops the BLACK KNIGHT's last leg off] \\nBLACK KNIGHT: Ooh.  All right, we'll call it a draw.\\nARTHUR: Come, Patsy.\\nBLACK KNIGHT: Oh.  Oh, I see.  Running away, eh?  You yellow bastards!  Come back here and take what's coming to you.  I'll bite your legs off\\nSCENE 5:\\nMONKS: [chanting] Pie Iesu domine, dona eis requiem. [bonk] Pie Iesu domine, ... [bonk] ... dona eis requiem. [bonk] Pie Iesu domine, ... [bonk] ... dona eis requiem.\\nCROWD: A witch!  A witch! [bonk] A witch!  A witch!\\nMONKS: [chanting] Pie Iesu domine...\\nCROWD: A witch!  A witch!  A witch!  A witch!  We've found a witch!  A witch!  A witch!  A witch!  A witch!  We've got a witch!  A witch!  A witch!  Burn her!  Burn her!  Burn her!  We've found a witch!  We've found a witch!  A witch!  A witch!  A witch!\\nVILLAGER #1: We have found a witch.  May we burn her?\\nCROWD: Burn her!  Burn!  Burn her!  Burn her!\\nBEDEVERE: How do you know she is a witch?\\nVILLAGER #2: She looks like one.\\nCROWD: Right!  Yeah!  Yeah!\\nBEDEVERE: Bring her forward.\\nWITCH: I'm not a witch.  I'm not a witch.\\nBEDEVERE: Uh, but you are dressed as one.\\nWITCH: They dressed me up like this.\\nCROWD: Augh, we didn't!  We didn't...\\nWITCH: And this isn't my nose.  It's a false one.\\nBEDEVERE: Well?\\nVILLAGER #1: Well, we did do the nose.\\nBEDEVERE: The nose?\\nVILLAGER #1: And the hat, but she is a witch!\\nVILLAGER #2: Yeah!\\nCROWD: We burn her!  Right!  Yeaaah!  Yeaah!\\nBEDEVERE: Did you dress her up like this?\\nVILLAGER #1: No!\\nVILLAGER #2 and 3: No.  No.\\nVILLAGER #2: No.\\nVILLAGER #1: No.\\nVILLAGERS #2 and #3: No.\\nVILLAGER #1: Yes.\\nVILLAGER #2: Yes.\\nVILLAGER #1: Yes.  Yeah, a bit.\\nVILLAGER #3: A bit.\\nVILLAGERS #1 and #2: A bit.\\nVILLAGER #3: A bit.\\nVILLAGER #1: She has got a wart.\\nRANDOM: [cough] \\nBEDEVERE: What makes you think she is a witch?\\nVILLAGER #3: Well, she turned me into a newt.\\nBEDEVERE: A newt?\\nVILLAGER #3: I got better.\\nVILLAGER #2: Burn her anyway!\\nVILLAGER #1: Burn!\\nCROWD: Burn her!  Burn!  Burn her! ...\\nBEDEVERE: Quiet!  Quiet!  Quiet!  Quiet!  There are ways of telling whether she is a witch.\\nVILLAGER #1: Are there?\\nVILLAGER #2: Ah?\\nVILLAGER #1: What are they?\\nCROWD: Tell us!  Tell us! ...\\nBEDEVERE: Tell me, what do you do with witches?\\nVILLAGER #2: Burn!\\nVILLAGER #1: Burn!\\nCROWD: Burn!  Burn them up!  Burn! ...\\nBEDEVERE: And what do you burn apart from witches?\\nVILLAGER #1: More witches!\\nVILLAGER #3: Shh!\\nVILLAGER #2: Wood!\\nBEDEVERE: So, why do witches burn? [pause] \\nVILLAGER #3: B--...  'cause they're made of...  wood?\\nBEDEVERE: Good!  Heh heh.\\nCROWD: Oh yeah.  Oh.\\nBEDEVERE: So, how do we tell whether she is made of wood?\\nVILLAGER #1: Build a bridge out of her.\\nBEDEVERE: Ah, but can you not also make bridges out of stone?\\nVILLAGER #1: Oh, yeah.\\nRANDOM: Oh, yeah.  True.  Uhh...\\nBEDEVERE: Does wood sink in water?\\nVILLAGER #1: No.  No.\\nVILLAGER #2: No, it floats!  It floats!\\nVILLAGER #1: Throw her into the pond!\\nCROWD: The pond!  Throw her into the pond!\\nBEDEVERE: What also floats in water?\\nVILLAGER #1: Bread!\\nVILLAGER #2: Apples!\\nVILLAGER #3: Uh, very small rocks!\\nVILLAGER #1: Cider!\\nVILLAGER #2: Uh, gra-- gravy!\\nVILLAGER #1: Cherries!\\nVILLAGER #2: Mud!\\nVILLAGER #3: Churches!  Churches!\\nVILLAGER #2: Lead!  Lead!\\nARTHUR: A duck!\\nCROWD: Oooh.\\nBEDEVERE: Exactly.  So, logically...\\nVILLAGER #1: If...  she...  weighs...  the same as a duck, ...  she's made of wood.\\nBEDEVERE: And therefore?\\nVILLAGER #2: A witch!\\nVILLAGER #1: A witch!\\nCROWD: A witch!  A witch! ...\\nVILLAGER #4: Here is a duck.  Use this duck. [quack quack quack] \\nBEDEVERE: We shall use my largest scales.\\nCROWD: Ohh!  Ohh!  Burn the witch!  Burn the witch!  Burn her!  Burn her!  Burn her!  Burn her!  Burn her!  Burn her!  Burn her!  Ahh!  Ahh...\\nBEDEVERE: Right.  Remove the supports! [whop] [clunk] [creak] \\nCROWD: A witch!  A witch!  A witch!\\nWITCH: It's a fair cop.\\nVILLAGER #3: Burn her!\\nCROWD: Burn her!  Burn her!  Burn her!  Burn!  Burn! ...\\nBEDEVERE: Who are you who are so wise in the ways of science?\\nARTHUR: I am Arthur, King of the Britons.\\nBEDEVERE: My liege!\\nARTHUR: Good Sir Knight, will you come with me to Camelot, and join us at the Round Table?\\nBEDEVERE: My liege!  I would be honored.\\nARTHUR: What is your name?\\nBEDEVERE: Bedevere, my liege.\\nARTHUR: Then I dub you Sir Bedevere, Knight of the Round Table\\nNARRATOR: The wise Sir Bedevere was the first to join King Arthur's knights, but other illustrious names were soon to follow: Sir Lancelot the Brave; Sir Gallahad the Pure; and Sir Robin the-not-quite-so-brave-as-Sir-Lancelot, who had nearly fought the Dragon of Angnor, who had nearly stood up to the vicious Chicken of Bristol, and who had personally wet himself at the Battle of Badon Hill; and the aptly named Sir Not-appearing-in-this-film.  Together they formed a band whose names and deeds were to be retold throughout the centuries: the Knights of the Round Table\\nSCENE 6: [clop clop clop] \\nSIR BEDEVERE: And that, my liege, is how we know the earth to be banana-shaped.\\nARTHUR: This new learning amazes me, Sir Bedevere.  Explain again how sheep's bladders may be employed to prevent earthquakes.\\nBEDEVERE: Oh, certainly, sir.\\nSIR LAUNCELOT: Look, my liege! [trumpets] \\nARTHUR: Camelot!\\nSIR GALAHAD: Camelot!\\nLAUNCELOT: Camelot!\\nPATSY: It's only a model.\\nARTHUR: Shh!  Knights, I bid you welcome to your new home.  Let us ride... to...  Camelot! [in medieval hall] \\nKNIGHTS: [singing] We're knights of the round table.  We dance when e'er we're able.  We do routines and chorus scenes With footwork impeccable.  We dine well here in Camelot.  We eat ham and jam and spam a lot [dancing] We're knights of the Round Table. Our shows are formidable, But many times we're given rhymes That are quite unsingable. We're opera mad in Camelot. We sing from the diaphragm a lot [in dungeon] \\nPRISONER: [clap clap clap clap] [in medieval hall] \\nKNIGHTS: [tap-dancing] In war we're tough and able, Quite indefatigable.  Between our quests we sequin vests and impersonate Clark Gable.  It's a busy life in Camelot.\\nMAN: I have to push the pram a lot [outdoors] \\nARTHUR: Well, on second thought, let's not go to Camelot.  It is a silly place.\\nKNIGHTS: Right.  Right\\nSCENE 7: [clop clop clop] [boom boom] [angels sing] \\nGOD: Arthur!  Arthur, King of the Britons!  Oh, don't grovel! [singing stops] One thing I can't stand, it's people groveling.\\nARTHUR: Sorry. [boom] \\nGOD: And don't apologise.  Every time I try to talk to someone it's 'sorry this' and 'forgive me that' and 'I'm not worthy'. [boom] What are you doing now?!\\nARTHUR: I'm averting my eyes, O Lord.\\nGOD: Well, don't.  It's like those miserable Psalms-- they're so depressing. Now knock it off!\\nARTHUR: Yes, Lord.\\nGOD: Right!  Arthur, King of the Britons, your Knights of the Round Table shall have a task to make them an example in these dark times.\\nARTHUR: Good idea, O Lord!\\nGOD: 'Course it's a good idea!  Behold! [angels sing] Arthur, this is the Holy Grail.  Look well, Arthur, for it is your sacred task to seek this grail.  That is your purpose, Arthur...  the quest for the Holy Grail. [boom] [singing stops] \\nLAUNCELOT: A blessing!  A blessing from the Lord!\\nGALAHAD: God be praised\\nSCENE 8: [King Arthur music] [clop clop clop] \\nARTHUR: Halt! [horn] Hallo! [pause] Hallo!\\nFRENCH GUARD: Allo!  Who is eet?\\nARTHUR: It is King Arthur, and these are my Knights of the Round Table.  Who's castle is this?\\nFRENCH GUARD: This is the castle of my master Guy de Loimbard.\\nARTHUR: Go and tell your master that we have been charged by God with a sacred quest.  If he will give us food and shelter for the night he can join us in our quest for the Holy Grail.\\nFRENCH GUARD: Well, I'll ask him, but I don't think he'll be very keen.  Uh, he's already got one, you see?\\nARTHUR: What?\\nGALAHAD: He says they've already got one!\\nARTHUR: Are you sure he's got one?\\nFRENCH GUARD: Oh, yes, it's very nice-a.  (I told him we already got one.)\\nARTHUR: Well, u-- um, can we come up and have a look?\\nFRENCH GUARD: Of course not!  You are English types-a!\\nARTHUR: Well, what are you then?\\nFRENCH GUARD: I'm French!  Why do think I have this outrageous accent, you silly king-a?!\\nGALAHAD: What are you doing in England?\\nFRENCH GUARD: Mind your own business!\\nARTHUR: If you will not show us the Grail, we shall take your castle by force!\\nFRENCH GUARD: You don't frighten us, English pig-dogs!  Go and boil your bottom, sons of a silly person.  I blow my nose at you, so-called Arthur King, you and all your silly English k-nnnnniggets.  Thpppppt!  Thppt! Thppt!\\nGALAHAD: What a strange person.\\nARTHUR: Now look here, my good man--\\nFRENCH GUARD: I don't wanna talk to you no more, you empty headed animal food trough wiper!  I fart in your general direction!  You mother was a hamster and your father smelt of elderberries!\\nGALAHAD: Is there someone else up there we could talk to?\\nFRENCH GUARD: No, now go away or I shall taunt you a second time-a! [sniff] \\nARTHUR: Now, this is your last chance.  I've been more than reasonable.\\nFRENCH GUARD: (Fetchez la vache.)\\nOTHER FRENCH GUARD: Quoi?\\nFRENCH GUARD: (Fetchez la vache!) [mooo] \\nARTHUR: If you do not agree to my commands, then I shall-- [twong] [mooooooo] Jesus Christ!\\nKNIGHTS: Christ! [thud] Ah!  Ohh!\\nARTHUR: Right!  Charge!\\nKNIGHTS: Charge! [mayhem] \\nFRENCH GUARD: Hey, this one is for your mother!  There you go. [mayhem] \\nFRENCH GUARD: And this one's for your dad!\\nARTHUR: Run away!\\nKNIGHTS: Run away!\\nFRENCH GUARD: Thppppt!\\nFRENCH GUARDS: [taunting] \\nLAUNCELOT: Fiends!  I'll tear them apart!\\nARTHUR: No, no.  No, no.\\nBEDEVERE: Sir!  I have a plan, sir. [later] [wind] [saw saw saw saw saw saw saw saw saw saw saw saw saw saw saw saw] [clunk] [bang] [rewr!] [squeak squeak squeak squeak squeak squeak squeak squeak squeak squeak] [rrrr rrrr rrrr] [drilllll] [sawwwww] [clunk] [crash] [clang] [squeak squeak squeak squeak squeak...] [creak] \\nFRENCH GUARDS: [whispering] C'est un lapin, lapin de bois.  Quoi?  Un cadeau.  What?  A present.  Oh, un cadeau.  Oui, oui.  Hurry.  What?  Let's go.  Oh. On y va.  Bon magne.  Over here... [squeak squeak squeak squeak squeak...] [clllank] \\nARTHUR: What happens now?\\nBEDEVERE: Well, now, uh, Launcelot, Galahad, and I, uh, wait until nightfall, and then leap out of the rabbit, taking the French, uh, by surprise.  Not only by surprise, but totally unarmed!\\nARTHUR: Who leaps out?\\nBEDEVERE: U-- u-- uh, Launcelot, Galahad, and I.  Uh, leap out of the rabbit, uh, and uh...\\nARTHUR: Ohh.\\nBEDEVERE: Oh.  Um, l-- look, i-- i-- if we built this large wooden badger-- [clank] [twong] \\nARTHUR: Run away!\\nKNIGHTS: Run away!  Run away!  Run away!  Run away!  Run away!  Run away!  Run away! [CRASH] \\nFRENCH GUARDS: Oh, haw haw haw haw!  Haw!  Haw haw heh..\\nSCENE 9: [clack] \\nVOICE: Picture for Schools, take eight.\\nDIRECTOR: Action!\\nHISTORIAN: Defeat at the castle seems to have utterly disheartened King Arthur.  The ferocity of the French taunting took him completely by surprise, and Arthur became convinced that a new strategy was required if the quest for the Holy Grail were to be brought to a successful conclusion.  Arthur, having consulted his closest knights, decided that they should separate, and search for the Grail individually. [clop clop clop] Now, this is what they did: Launcelot--\\nKNIGHT: Aaaah! [slash] [KNIGHT kills HISTORIAN] \\nHISTORIAN'S WIFE: Frank\\nSCENE 10: [trumpets] \\nNARRATOR: The Tale of Sir Robin.  So each of the knights went their separate ways.  Sir Robin rode north, through the dark forest of Ewing, accompanied by his favorite minstrels.\\nMINSTREL: [singing] Bravely bold Sir Robin, rode forth from Camelot.  He was not afraid to die, O brave Sir Robin.  He was not at all afraid to be killed in nasty ways.  Brave, brave, brave, brave Sir Robin!  He was not in the least bit scared to be mashed into a pulp, Or to have his eyes gouged out, and his elbows broken.  To have his kneecaps split, and his body burned away, And his limbs all hacked and mangled, brave Sir Robin!\\nHis head smashed in and his heart cut out, And his liver removed and his bowels unplugged, And his nostrils raped and his bottom burned off, And his pen--\\nSIR ROBIN: That's-- that's, uh-- that's enough music for now, lads.  Heh.  Looks like there's dirty work afoot.\\nDENNIS: Anarcho-syndicalism is a way of preserving freedom.\\nWOMAN: Oh, Dennis, forget about freedom.  We haven't got enough mud.\\nALL HEADS: Halt!  Who art thou?\\nMINSTREL: [singing] He is brave Sir Robin, brave Sir Robin, who--\\nROBIN: Shut up!  Um, n-- n-- n-- nobody really, I'm j-- j-- j-- ju-- just um, just passing through.\\nALL HEADS: What do you want?\\nMINSTREL: [singing] To fight and--\\nROBIN: Shut up!  Um, oo, a-- nothing, nothing really.  I, uh, j-- j-- just--just to um, just to p-- pass through, good Sir Knight.\\nALL HEADS: I'm afraid not!\\nROBIN: Ah.  W-- well, actually I-- I am a Knight of the Round Table.\\nALL HEADS: You're a Knight of the Round Table?\\nROBIN: I am.\\nLEFT HEAD: In that case I shall have to kill you.\\nMIDDLE HEAD: Shall I?\\nRIGHT HEAD: Oh, I don't think so.\\nMIDDLE HEAD: Well, what do I think?\\nLEFT HEAD: I think kill him.\\nRIGHT HEAD: Oh, let's be nice to him.\\nLEFT HEAD: Oh shut up.\\nROBIN: Perhaps I could--\\nLEFT HEAD: And you.  Oh, quick!  Get the sword out.  I want to cut his headoff!\\nRIGHT HEAD: Oh, cut your own head off!\\nMIDDLE HEAD: Yes, do us all a favor!\\nLEFT HEAD: What?\\nRIGHT HEAD: Yapping on all the time.\\nMIDDLE HEAD: You're lucky.  You're not next to him.\\nLEFT HEAD: What do you mean?\\nMIDDLE HEAD: You snore!\\nLEFT HEAD: Oh, I don't.  Anyway, you've got bad breath.\\nMIDDLE HEAD: Well it's only because you don't brush my teeth.\\nRIGHT HEAD: Oh stop bitching and let's go have tea.\\nLEFT HEAD: Oh, all right.  All right.  All right.  We'll kill him first and then have tea and biscuits.\\nMIDDLE HEAD: Yes.\\nRIGHT HEAD: Oh, not biscuits.\\nLEFT HEAD: All right.  All right, not biscuits, but let's kill him anyway.\\nALL HEADS: Right!\\nMIDDLE HEAD: He buggered off.\\nRIGHT HEAD: So he has.  He's scarper\\nMINSTREL: [singing] Brave Sir Robin ran away.\\nROBIN: No!\\nMINSTREL: [singing] Bravely ran away away.\\nROBIN: I didn't!\\nMINSTREL: [singing] When danger reared its ugly head, he bravely turned his tail and fled.\\nROBIN: No!\\nMINSTREL: [singing] Yes, brave Sir Robin turned about\\nROBIN: I didn't!\\nMINSTREL: [singing] And gallantly he chickened out, bravely taking to his feet.\\nROBIN: I never did!\\nMINSTREL: [singing] He beat a very brave retreat.\\nROBIN: All lies!\\nMINSTREL: [singing] Bravest of the brave, Sir Robin.\\nROBIN: I never\\nCARTOON MONKS: [chanting] Pie Iesu domine, dona eis requiem.\\nCARTOON CHARACTER: Heh heh heeh ooh... [twang] \\nCARTOON MONKS: [chanting] Pie Iesu domine, ...\\nCARTOON CHARACTERS: Wayy! [splash] Ho ho.  Woa, wayy! [twang] [splash] Heh heh heh heh ho!  Heh heh heh!\\nCARTOON MONKS: [chanting] ... dona eis requiem.\\nCARTOON CHARACTER: Wayy! [twang] Wayy! [twang] \\nVOICE: [whispering] Forgive me for asking.\\nCARTOON CHARACTER: Oh!  Oooo\\nSCENE 11: [trumpets] \\nNARRATOR: The Tale of Sir Galahad. [boom] [wind] [howl] [howl] [boom] [angels singing] [howl] [boom] [howl] [boom] [pound pound pound] \\nGALAHAD: Open the door!  Open the door! [pound pound pound] In the name of King Arthur, open the door! [squeak] [thump] [squeak] [boom] \\nGIRLS: Hello!\\nZOOT: Welcome gentle Sir Knight.  Welcome to the Castle Anthrax.\\nGALAHAD: The Castle Anthrax?\\nZOOT: Yes.  Oh, it's not a very good name is it?  Oh, but we are nice and we will attend to your every, every need!\\nGALAHAD: You are the keepers of the Holy Grail?\\nZOOT: The what?\\nGALAHAD: The Grail.  It is here.\\nZOOT: Oh, but you are tired, and you must rest awhile.  Midget!  Crapper!\\nMIDGET and CRAPPER: Yes, O Zoot?\\nZOOT: Prepare a bed for our guest.\\nMIDGET and CRAPPER: Oh thank you!  Thank you!  Thank you!  Thank you!  Thank you!  Thank you! ...\\nZOOT: Away, away varletesses.  The beds here are warm and soft, and very, very big.\\nGALAHAD: Well, look, I-- I-- uh--\\nZOOT: What is your name, handsome knight?\\nGALAHAD: Sir Galahad...  the Chaste.\\nZOOT: Mine is Zoot.  Just Zoot.  Oh, but come.\\nGALAHAD: Look, please!  In God's name, show me the Grail!\\nZOOT: Oh, you have suffered much.  You are delirious.\\nGALAHAD: No, look.  I have seen it!  It is here, in this--\\nZOOT: Sir Galahad!  You would not be so ungallant as to refuse our hospitality.\\nGALAHAD: Well, I-- I-- uh--\\nZOOT: Oh, I am afraid our life must seem very dull and quiet compared to yours.  We are but eight score young blondes and brunettes, all between sixteen and nineteen-and-a-half, cut off in this castle with no one to protect us.  Oooh.  It is a lonely life: bathing, dressing, undressing, making exciting underwear.  We are just not used to handsome knights.  Nay.  Nay.  Come.  Come.  You may lie here.  Oh, but you are wounded!\\nGALAHAD: No, no-- it's-- it's nothing.\\nZOOT: Oh, you must see the doctors immediately!  No, no, please!  Lie down. [clap clap] \\nPIGLET: Well, what seems to be the trouble?\\nGALAHAD: They're doctors?!\\nZOOT: Uh, they have a basic medical training, yes.\\nGALAHAD: B-- but--\\nZOOT: Oh, come, come.  You must try to rest.  Doctor Piglet!  Doctor Winston!  Practice your art.\\nWINSTON: Try to relax.\\nGALAHAD: Are you sure that's absolutely necessary?\\nPIGLET: We must examine you.\\nGALAHAD: There's nothing wrong with that!\\nPIGLET: Please.  We are doctors.\\nGALAHAD: Look!  This cannot be.  I am sworn to chastity.\\nPIGLET: Back to your bed!  At once!\\nGALAHAD: Torment me no longer.  I have seen the Grail!\\nPIGLET: There's no grail here.\\nGALAHAD: I have seen it!  I have seen it! [clank] I have seen--\\nGIRLS: Hello.\\nGALAHAD: Oh.\\nGIRLS: Hello.  Hello.  Hello.  Hello.  Hello.  Hello.  Hello.  Hello.  Hello.  Hello.  Hello.  Hello.  Hello.  Hello.  Hello.  Hello.  Hello.  Hello.  Hello.  Hello.  Hello.  Hello.  Hello.\\nGALAHAD: Zoot!\\nDINGO: No, I am Zoot's identical twin sister, Dingo.\\nGALAHAD: Oh, well, excuse me, I--\\nDINGO: Where are you going?\\nGALAHAD: I seek the Grail!  I have seen it, here in this castle!\\nDINGO: Oh no.  Oh, no!  Bad, bad Zoot!\\nGALAHAD: Well, what is it?\\nDINGO: Oh, wicked, bad, naughty Zoot!  She has been setting alight to our beacon, which, I have just remembered, is grail-shaped.  It's not the first time we've had this problem.\\nGALAHAD: It's not the real Grail?\\nDINGO: Oh, wicked, bad, naughty, evil Zoot!  She is a bad person and must pay the penalty.  Do you think this scene should have been cut?  We were so worried when the boys were writing it, but now, we're glad.  It's better than some of the previous scenes, I think.\\nLEFT HEAD: At least ours was better visually.\\nDENNIS: Well, at least ours was committed.  It wasn't just a string of pussy jokes.\\nOLD MAN: Get on with it.\\nTIM THE ENCHANTER: Yes, get on with it!\\nARMY OF KNIGHTS: Yes, get on with it!\\nDINGO: Oh, I am enjoying this scene.\\nGOD: Get on with it!\\nDINGO: [sigh] Oh, wicked, wicked Zoot.  Oh, she is a naughty person, and she must pay the penalty.  And here in Castle Anthrax, we have but one punishment for setting alight the grail-shaped beacon.  You must tie her down on a bed and spank her.\\nGIRLS: A spanking!  A spanking!\\nDINGO: You must spank her well.  And after you have spanked her, you may deal with her as you like.  And then, spank me.\\nAMAZING: And spank me.\\nSTUNNER: And me.\\nLOVELY: And me.\\nDINGO: Yes, yes, you must give us all a good spanking!\\nGIRLS: A spanking!  A spanking!  There is going to be a spanking tonight!\\nDINGO: And after the spanking, the oral sex.\\nGIRLS: The oral sex!  The oral sex!\\nGALAHAD: Well, I could stay a bit longer.\\nLAUNCELOT: Sir Galahad!\\nGALAHAD: Oh, hello.\\nLAUNCELOT: Quick!\\nGALAHAD: What?\\nLAUNCELOT: Quick!\\nGALAHAD: Why?\\nLAUNCELOT: You are in great peril!\\nDINGO: No he isn't.\\nLAUNCELOT: Silence, foul temptress!\\nGALAHAD: You know, she's got a point.\\nLAUNCELOT: Come on!  We will cover your escape!\\nGALAHAD: Look, I'm fine!\\nLAUNCELOT: Come on!\\nGIRLS: Sir Galahad!\\nGALAHAD: No.  Look, I can tackle this lot single-handed!\\nDINGO: Yes!  Let him tackle us single-handed!\\nGIRLS: Yes!  Let him tackle us single-handed!\\nLAUNCELOT: No, Sir Galahad.  Come on!\\nGALAHAD: No!  Really!  Honestly, I can cope.  I can handle this lot easily.\\nDINGO: Oh, yes.  Let him handle us easily.\\nGIRLS: Yes.  Let him handle us easily.\\nLAUNCELOT: No.  Quick!  Quick!\\nGALAHAD: Please!  I can defeat them!  There's only a hundred-and-fifty of them!\\nDINGO: Yes, yes!  He will beat us easily!  We haven't a chance.\\nGIRLS: We haven't a chance.  He will beat us easily... [boom] \\nDINGO: Oh, shit.\\nLAUNCELOT: We were in the nick of time.  You were in great peril.\\nGALAHAD: I don't think I was.\\nLAUNCELOT: Yes you were.  You were in terrible peril.\\nGALAHAD: Look, let me go back in there and face the peril.\\nLAUNCELOT: No, it's too perilous.\\nGALAHAD: Look, it's my duty as a knight to sample as much peril as I can.\\nLAUNCELOT: No, we've got to find the Holy Grail.  Come on!\\nGALAHAD: Oh, let me have just a little bit of peril?\\nLAUNCELOT: No.  It's unhealthy.\\nGALAHAD: I bet you're gay.\\nLAUNCELOT: No I'm not\\nNARRATOR: Sir Launcelot had saved Sir Galahad from almost certain temptation, but they were still no nearer the Grail.  Meanwhile, King Arthur and Sir Bedevere, not more than a swallow's flight away, had discovered something.  Oh, that's an unladen swallow's flight, obviously.  I mean, they were more than two laden swallows' flights away-- four, really, if they had a coconut on a line between them.  I mean, if the birds were walking and dragging--\\nCROWD: Get on with it!\\nNARRATOR: Oh, anyway.  On to scene twenty-four, which is a smashing scene with some lovely acting, in which Arthur discovers a vital clue, and in which there aren't any swallows, although I think you can hear a starling-- oooh\\nSCENE 12:\\nOLD MAN: Heh, hee ha ha hee hee!  Hee hee hee ha ha ha...\\nARTHUR: And this enchanter of whom you speak, he has seen the Grail?\\nOLD MAN: ... Ha ha ha ha!  Heh, hee ha ha hee!  Ha hee ha!  Ha ha ha ha...\\nARTHUR: Where does he live?\\nOLD MAN: ... Heh heh heh heh...\\nARTHUR: Old man, where does he live?\\nOLD MAN: ... Hee ha ha ha.  He knows of a cave, a cave which no man has entered.\\nARTHUR: And the Grail.  The Grail is there?\\nOLD MAN: There is much danger, for beyond the cave lies the Gorge of Eternal Peril, which no man has ever crossed.\\nARTHUR: But the Grail!  Where is the Grail?!\\nOLD MAN: Seek you the Bridge of Death.\\nARTHUR: The Bridge of Death, which leads to the Grail?\\nOLD MAN: Heh, hee hee hee hee!  Ha ha ha ha ha!  Hee ha ha..\\nSCENE 13: [spooky music] [music stops] \\nHEAD KNIGHT OF NI: Ni!\\nKNIGHTS OF NI: Ni!  Ni!  Ni!  Ni!  Ni!\\nARTHUR: Who are you?\\nHEAD KNIGHT: We are the Knights Who Say...  'Ni'!\\nRANDOM: Ni!\\nARTHUR: No!  Not the Knights Who Say 'Ni'!\\nHEAD KNIGHT: The same!\\nBEDEVERE: Who are they?\\nHEAD KNIGHT: We are the keepers of the sacred words: Ni, Peng, and Neee-wom!\\nRANDOM: Neee-wom!\\nARTHUR: Those who hear them seldom live to tell the tale!\\nHEAD KNIGHT: The Knights Who Say 'Ni' demand a sacrifice!\\nARTHUR: Knights of Ni, we are but simple travellers who seek the enchanter who lives beyond these woods.\\nHEAD KNIGHT: Ni!\\nKNIGHTS OF NI: Ni!  Ni!  Ni!  Ni!  Ni! ...\\nARTHUR: Ow!  Ow!  Ow!  Agh!\\nHEAD KNIGHT: We shall say 'ni' again to you if you do not appease us.\\nARTHUR: Well, what is it you want?\\nHEAD KNIGHT: We want...  a shrubbery! [dramatic chord] \\nARTHUR: A what?\\nKNIGHTS OF NI: Ni!  Ni!  Ni!  Ni!\\nARTHUR and PARTY: Ow!  Oh!\\nARTHUR: Please, please!  No more!  We will find you a shrubbery.\\nHEAD KNIGHT: You must return here with a shrubbery or else you will never pass through this wood alive!\\nARTHUR: O Knights of Ni, you are just and fair, and we will return with a shrubbery.\\nHEAD KNIGHT: One that looks nice.\\nARTHUR: Of course.\\nHEAD KNIGHT: And not too expensive.\\nARTHUR: Yes.\\nHEAD KNIGHT: Now...  go [trumpets] \\nCARTOON CHARACTER: Hmm hmm-- [boom] Oh!  Great scott!  Hm.  Hmm. [boom] Hm!  Hmm.  [mumble mumble mumble] [boom] [mumble mumble mumble] [boom] [mumble mumble mumble] [boom] [mumble mumble mumble] [boom] [mumble mumble mumble] [boom] [mumble mumble mumble] [boom] [mumble mumble mumble] [boom] [mumble mumble mumble] [boom] Ohh! [crash] [mumble mumble mumble] [boom] \\nSUN: Ay, up!  Thsss. [boom] Ayy, up! [boom] Thsss. [boom] Ayy, up!\\nCARTOON CHARACTER: Stop that!  Stop that! [boom] \\nSUN: Ay, up!\\nCARTOON CHARACTER: Stop that! [boom] Look on!  Clear off!  Go on!  Go away!  Go away!  Go away!  And you!  Clear off!  [sniff] \\nSUN: [mumble mumble mumble] [bells] \\nCARTOON CHARACTER: Hah.  Bloody weather\\nSCENE 14:\\nNARRATOR: The Tale of Sir Launcelot.\\nFATHER: One day, lad, all this will be yours!\\nPRINCE HERBERT: What, the curtains?\\nFATHER: No.  Not the curtains, lad.  All that you can see, stretched out over the hills and valleys of this land!  This'll be your kingdom, lad.\\nHERBERT: But Mother--\\nFATHER: Father, lad.  Father.\\nHERBERT: B-- b-- but Father, I don't want any of that.\\nFATHER: Listen, lad.  I built this kingdom up from nothing.  When I started here, all there was was swamp.  Other kings said I was daft to build a castle on a swamp, but I built it all the same, just to show 'em.  It sank into the swamp.  So, I built a second one.  That sank into the swamp.  So I built a third one.  That burned down, fell over, then sank into the swamp.  But the fourth one...  stayed up!  And that's what you're gonna get, lad: the strongest castle in these islands.\\nHERBERT: But I don't want any of that.  I'd rather--\\nFATHER: Rather what?!\\nHERBERT: I'd rather... [music] ... just...  sing!\\nFATHER: Stop that!  Stop that!  You're not going into a song while I'm here.  Now listen, lad.  In twenty minutes you're getting married to a girl whose father owns the biggest tracts of open land in Britain.\\nHERBERT: B-- but I don't want land.\\nFATHER: Listen, Alice,--\\nHERBERT: Herbert.\\nFATHER: 'Erbert.  We live in a bloody swamp.  We need all the land we can get.\\nHERBERT: But-- but I don't like her.\\nFATHER: Don't like her?!  What's wrong with her?!  She's beautiful.  She's rich.  She's got huge...  tracts o' land.\\nHERBERT: I know, but I want the-- the girl that I marry to have...  [music] ... a certain...  special...  something!\\nFATHER: Cut that out!  Cut that out!  Look, you're marrying Princess Lucky, so you'd better get used to the idea! [smack] Guards!  Make sure the Prince doesn't leave this room until I come and get him.\\nGUARD #1: Not to leave the room even if you come and get him.\\nGUARD #2: Hic!\\nFATHER: No, no.  Until I come and get him.\\nGUARD #1: Until you come and get him, we're not to enter the room.\\nFATHER: No, no.  No.  You stay in the room and make sure he doesn't leave.\\nGUARD #1: And you'll come and get him.\\nGUARD #2: Hic!\\nFATHER: Right.\\nGUARD #1: We don't need to do anything, apart from just stop him entering the room.\\nFATHER: No, no.  Leaving the room.\\nGUARD #1: Leaving the room.  Yes. [sniff] \\nFATHER: All right?\\nGUARD #1: Right.\\nGUARD #2: Hic!\\nFATHER: Right.\\nGUARD #1: Oh, if-- if-- if-- uhh-- if-- if-- w-- ehh-- i-- if-- if we--\\nFATHER: Yes?  What is it?\\nGUARD #1: Oh, i-- if-- i-- oh--\\nFATHER: Look, it's quite simple.\\nGUARD #1: Uh...\\nFATHER: You just stay here, and make sure 'e doesn't leave the room.  Alright?\\nGUARD #2: Hic!\\nFATHER: Right.\\nGUARD #1: Oh, I remember.  Uhh, can he leave the room with us?\\nFATHER: N-- no no.  No.  You just keep him in here, and make sure he--\\nGUARD #1: Oh, yes.  We'll keep him in here, obviously.  But if he had to leave and we were with him--\\nFATHER: No, no, no, no.  Just keep him in here--\\nGUARD #1: Until you, or anyone else--\\nFATHER: No, not anyone else.  Just me.\\nGUARD #1: Just you.\\nGUARD #2: Hic!\\nFATHER: Get back.\\nGUARD #1: Get back.\\nFATHER: All right?\\nGUARD #1: Right.  We'll stay here until you get back.\\nGUARD #2: Hic!\\nFATHER: And, uh, make sure he doesn't leave.\\nGUARD #1: What?\\nFATHER: Make sure 'e doesn't leave.\\nGUARD #1: The Prince?\\nFATHER: Yes.  Make sure 'e doesn't leave.\\nGUARD #1: Oh, yes, of course.  \\nGUARD #2: Hic!\\nGUARD #1: Ah.  I thought you meant him.  You know, it seemed a bit daft me havin' to guard him when he's a guard.\\nFATHER: Is that clear?\\nGUARD #2: Hic!\\nGUARD #1: Oh, quite clear.  No problems.\\nFATHER: Right.  Where are you going?\\nGUARD #1: We're coming with you.\\nFATHER: No, no.  I want you to stay here and make sure 'e doesn't leave.\\nGUARD #1: Oh, I see.  Right.\\nHERBERT: But Father!\\nFATHER: Shut your noise, you!  And get that suit on! [music] And no singing!\\nGUARD #2: Hic!\\nFATHER: Oh, go and get a glass of water. [clank] [scribble scribble scribble fold fold] [twong]\\nSCENE 15:\\nLAUNCELOT: Well taken, Concorde!\\nCONCORDE: Thank you, sir!  Most kind.\\nLAUNCELOT: And again!  Over we go!  Good.  Steady!  And now, the big one!  Uuh!  Come on, Concorde! [thwonk] \\nCONCORDE: Message for you, sir. [fwump] \\nLAUNCELOT: Concorde!  Concorde!  Speak to me!  'To whoever finds this note: I have been imprisoned by my father, who wishes me to marry against my will.  Please, please, please come and rescue me.  I am in the Tall Tower of Swamp Castle.' At last!  A call!  A cry of distress!  This could be the sign that leads us to the Holy Grail!  Brave, brave Concorde, you shall not have died in vain!\\nCONCORDE: Uh, I'm-- I'm not quite dead, sir.\\nLAUNCELOT: Well, you shall not have been mortally wounded in vain!\\nCONCORDE: I-- I-- I think I c-- I could pull through, sir.\\nLAUNCELOT: Oh, I see.\\nCONCORDE: Actually, I think I'm all right to come with you, sir--\\nLAUNCELOT: No, no, sweet Concorde!  Stay here!  I will send help as soon as I have accomplished a daring and heroic rescue in my own particular...  [sigh] \\nCONCORDE: Idiom, sir?\\nLAUNCELOT: Idiom!\\nCONCORDE: No, I feel fine, actually, sir.\\nLAUNCELOT: Farewell, sweet Concorde!\\nCONCORDE: I'll, um, I'll just stay here then.  Shall I, sir?  Yeah\\nSCENE 16: [inside castle] \\nPRINCESS LUCKY and GIRLS: [giggle giggle giggle] [outside castle] \\nGUEST: 'Morning!\\nSENTRY #1: 'Morning.\\nSENTRY #2: Oooh.\\nSENTRY #1: [ptoo] \\nLAUNCELOT: Ha ha!  Hiyya!\\nSENTRY #2: Hey!\\nLAUNCELOT: Hiyya!, Ha!, etc.\\nPRINCESS LUCKY and GIRLS: [giggle giggle giggle] \\nLAUNCELOT: Ha ha!  Huy!\\nGUESTS: Uuh!  Aaah!\\nLAUNCELOT: Ha ha!  And take this!  Aah!  Hiyah!  Aah!  Aaah!  Hyy!  Hya!  Hiyya!  Ha! ...\\nGUARD #1: Now, you're not allowed to enter the room-- aaugh!\\nLAUNCELOT: O fair one, behold your humble servant Sir Launcelot of Camelot.  I have come to take y-- Oh, I'm terribly sorry.\\nHERBERT: You got my note!\\nLAUNCELOT: Uh, well, I-- I got a-- a note.\\nHERBERT: You've come to rescue me!\\nLAUNCELOT: Uh, well, no.  You see, I hadn't--\\nHERBERT: I knew someone would.  I knew that somewhere out there...  [music] \\nLAUNCELOT: Well, I--\\nHERBERT: ... there must be...  someone...\\nFATHER: Stop that!  Stop that!  Stop it!  Stop it!  Who are you?\\nHERBERT: I'm your son!\\nFATHER: No, not you.\\nLAUNCELOT: Uh, I am Sir Launcelot, sir.\\nHERBERT: He's come to rescue me, Father.\\nLAUNCELOT: Well, let's not jump to conclusions.\\nFATHER: Did you kill all those guards?\\nLAUNCELOT: Uh...  Oh, yes.  Sorry.\\nFATHER: They cost fifty pounds each!\\nLAUNCELOT: Well, I'm awfully sorry.  Um, I really can explain everything.\\nHERBERT: Don't be afraid of him, Sir Launcelot.  I've got a rope all ready.\\nFATHER: You killed eight wedding guests in all!\\nLAUNCELOT: Well, uh, you see, the thing is, I thought your son was a lady.\\nFATHER: I can understand that.\\nHERBERT: Hurry, Sir Launcelot!  Hurry!\\nFATHER: Shut up!  You only killed the bride's father, that's all!\\nLAUNCELOT: Well, I really didn't mean to...\\nFATHER: Didn't mean to?!  You put your sword right through his head!\\nLAUNCELOT: Oh, dear.  Is he all right?\\nFATHER: You even kicked the bride in the chest!  This is going to cost me a fortune!\\nLAUNCELOT: Well, I can explain.  I was in the forest, um, riding north from Camelot, when I got this note, you see--\\nFATHER: Camelot?  Are you from, uh, Camelot?\\nHERBERT: Hurry, Sir Launcelot!\\nLAUNCELOT: Uh, I am a Knight of King Arthur, sir.\\nFATHER: Very nice castle, Camelot.  Uh, very good pig country...\\nLAUNCELOT: Is it?\\nHERBERT: Hurry!  I'm ready!\\nFATHER: Would you, uh, like to come and have a drink?\\nLAUNCELOT: Well, that-- that's, uh, awfully nice of you, ...\\nHERBERT: I am ready!\\nLAUNCELOT: ... um, I mean to be so understanding. [thonk] Um, ... [woosh] \\nHERBERT: Oooh!\\nLAUNCELOT: ... I'm afraid when I'm in this idiom, I sometimes get a bit, uh, sort of carried away.\\nFATHER: Oh, don't worry about that.\\nHERBERT: Oooh! [splat] \\nSCENE 17:\\nGUESTS: [crying] \\nFATHER: Well, this is the main hall.  We're going to have all this knocked through, and made into one big, uh, living room.\\nGUEST: There he is!\\nFATHER: Oh, bloody hell.\\nLAUNCELOT: Ha ha ha!  Hey!  Ha ha!\\nFATHER: Hold it!  Stop it!  Hold it!  Hold it!  Hold it!  Hold it!  Hold it!  Please!\\nLAUNCELOT: Sorry.  Sorry.  You see what I mean?  I just get carried away.  I'm really most awfully sorry.  Sorry!  Sorry, everyone.\\nGUEST #1: He's killed the best man!\\nGUESTS: [yelling] \\nFATHER: Hold it!  Hold it!  Please!  Hold it!  This is Sir Launcelot from the Court of Camelot, a very brave and influential knight, and my special guest here today.\\nLAUNCELOT: Hello.\\nGUEST: He killed my auntie!\\nGUESTS: [yelling] \\nFATHER: Please!  Please!  This is supposed to be a happy occasion!  Let's not bicker and argue about who killed who.  We are here today to witness the union of two young people in the joyful bond of the holy wedlock.  Unfortunately, one of them, my son Herbert, has just fallen to his death.\\nGUESTS: Oh!  Oh no!\\nFATHER: But I don't want to think I've not lost a son, so much as...  gained a daughter! [clap clap clap] For, since the tragic death of her father--\\nGUEST #2: He's not quite dead!\\nFATHER: Since the near fatal wounding of her father--\\nGUEST #2: He's getting better!\\nFATHER: For, since her own father, who, when he seemed about to recover, suddenly felt the icy hand of death upon him.\\nBRIDE'S FATHER: Uugh!\\nGUEST #2: Oh, he's died!\\nFATHER: And I want his only daughter to look upon me as her old dad, in a very real, and legally binding sense. [clap clap clap] And I feel sure that the merger-- er, the union between the Princess and the brave, but dangerous, Sir Launcelot of Camelot--\\nLAUNCELOT: What?\\nGUEST #2: Look!  The dead Prince!\\nGUESTS: Oooh!  The dead Prince!\\nCONCORDE: He's not quite dead.\\nHERBERT: No, I feel much better.\\nFATHER: You fell out of the Tall Tower, you creep!\\nHERBERT: No, I was saved at the last minute.\\nFATHER: How?!\\nHERBERT: Well, I'll tell you. [music] \\nFATHER: Not like that!  Not like that!  No!  Stop it!\\nGUESTS: [singing] He's going to tell!  He's going to tell! ...\\nFATHER: Shut uuup!\\nGUESTS: [singing] He's going to tell! ...\\nFATHER: Shut up!\\nGUESTS: [singing] He's going to tell! ...\\nFATHER: Shut up!\\nGUESTS: [singing] He's going to tell! ...\\nFATHER: Not like that!\\nGUESTS: [singing] He's going to tell!  He's going to tell!  He's going to tell!  He's going to tell! ...\\nCONCORDE: Quickly, sir!\\nGUESTS: [singing] He's going to tell! ...\\nCONCORDE: Come this way!\\nGUESTS: [singing] He's going to tell!  He's going to tell! ...\\nLAUNCELOT: No!  It's not right for my idiom!\\nGUESTS: [singing] He's going to tell about his great escape...\\nLAUNCELOT: I must escape more...  [sigh] \\nGUESTS: [singing] Oh, he fell a long, long way...\\nCONCORDE: Dramatically, sir?\\nLAUNCELOT: Dramatically!\\nGUESTS: [singing] But he's here with us today...\\nLAUNCELOT: Heee!  Hoa! [crash] Hoo!\\nGUESTS: [singing] What a wonderful escape!\\nLAUNCELOT: Excuse me.  Could, uh-- could somebody give me a push, please\\nSCENE 18: [King Arthur music] [clop clop clop] [rewr!  rewr!  rewr!  rewr!  rewr!  rewr!] \\nARTHUR: Old crone! [rewr!] [music stops] Is there anywhere in this town where we could buy a shrubbery? [dramatic chord] \\nOLD CRONE: Who sent you?\\nARTHUR: The Knights Who Say 'Ni'.\\nCRONE: Aggh!  No!  Never!  We have no shrubberies here.\\nARTHUR: If you do not tell us where we can buy a shrubbery, my friend and I will say...  we will say...  'ni'.\\nCRONE: Agh!  Do your worst!\\nARTHUR: Very well!  If you will not assist us voluntarily, ...  ni!\\nCRONE: No!  Never!  No shrubberies!\\nARTHUR: Ni!\\nCRONE: [cough] \\nBEDEVERE: Nu!\\nARTHUR: No, no, no, no...\\nBEDEVERE: Nu!\\nARTHUR: No, it's not that, it's 'ni'.\\nBEDEVERE: Nu!\\nARTHUR: No, no-- 'ni'.  You're not doing it properly.  No.\\nBEDEVERE: Ni!\\nARTHUR and BEDEVERE: Ni!\\nARTHUR: That's it.  That's it.  You've got it.\\nARTHUR and BEDEVERE: Ni!\\nCRONE: Ohh!\\nBEDEVERE: Ni!\\nARTHUR: Ni!\\nCRONE: Agh!\\nBEDEVERE: Ni!\\nARTHUR: Ni!\\nBEDEVERE: Ni!\\nARTHUR: Ni!\\nBEDEVERE: Ni!\\nROGER THE SHRUBBER: Are you saying 'ni' to that old woman?\\nARTHUR: Erm, yes.\\nROGER: Oh, what sad times are these when passing ruffians can 'ni' at will to old ladies.  There is a pestilence upon this land.  Nothing is sacred. Even those who arrange and design shrubberies are under considerable economic stress at this period in history.\\nARTHUR: Did you say 'shrubberies'?\\nROGER: Yes.  Shrubberies are my trade.  I am a shrubber.  My name is Roger the Shrubber.  I arrange, design, and sell shrubberies.\\nBEDEVERE: Ni!\\nARTHUR: No!  No, no, no!  No\\nSCENE 19:\\nARTHUR: O Knights of Ni, we have brought you your shrubbery.  May we go now?\\nHEAD KNIGHT: It is a good shrubbery.  I like the laurels particularly.  But there is one small problem.\\nARTHUR: What is that?\\nHEAD KNIGHT: We are now...  no longer the Knights Who Say 'Ni'.\\nKNIGHTS OF NI: Ni!  Shh!\\nHEAD KNIGHT: Shh!  We are now the Knights Who Say 'Ecky-ecky-ecky-ecky-pikang-zoop-boing-goodem-zoo-owli-zhiv'.\\nRANDOM: Ni!\\nHEAD KNIGHT: Therefore, we must give you a test.\\nARTHUR: What is this test, O Knights of-- Knights Who 'Til Recently Said 'Ni'?\\nHEAD KNIGHT: Firstly, you must find...  another shrubbery! [dramatic chord] \\nARTHUR: Not another shrubbery!\\nRANDOM: Ni!\\nHEAD KNIGHT: Then, when you have found the shrubbery, you must place it here beside this shrubbery, only slightly higher so you get the two-level effect with a little path running down the middle.\\nKNIGHTS OF NI: A path!  A path!  A path!  Ni!  Shh!  Ni!  Ni!  Ni!  Shh!  Shh! ...\\nHEAD KNIGHT: Then, when you have found the shrubbery, you must cut down the mightiest tree in the forest...  with...  a herring! [dramatic chord] \\nARTHUR: We shall do no such thing!\\nHEAD KNIGHT: Oh, please!\\nARTHUR: Cut down a tree with a herring?  It can't be done.\\nKNIGHTS OF NI: Aaaugh!  Aaaugh!\\nHEAD KNIGHT: Augh!  Ohh!  Don't say that word.\\nARTHUR: What word?\\nHEAD KNIGHT: I cannot tell, suffice to say is one of the words the Knights of Ni cannot hear.\\nARTHUR: How can we not say the word if you don't tell us what it is?\\nKNIGHTS OF NI: Aaaaugh!\\nHEAD KNIGHT: You said it again!\\nARTHUR: What, 'is'?\\nKNIGHTS OF NI: Agh!  No, not 'is'.\\nHEAD KNIGHT: No, not 'is'.  You wouldn't get vary far in life not saying 'is'.\\nKNIGHTS OF NI: No, not 'is'.  Not 'is'.\\nBEDEVERE: My liege, it's Sir Robin!\\nMINSTREL: [singing] Packing it in and packing it up, And sneaking away and buggering up, And chickening out and pissing off home, Yes, bravely he is throwing in the sponge.\\nARTHUR: Sir Robin!\\nROBIN: My liege!  It's good to see you.\\nHEAD KNIGHT: Now he's said the word!  \\nARTHUR: Surely you've not given up your quest for the Holy Grail?\\nMINSTREL: [singing] He is sneaking away and buggering up--\\nROBIN: Shut up!  No, no.  No.  Far from it.\\nHEAD KNIGHT: He said the word again!\\nKNIGHTS OF NI: Aaaaugh!\\nROBIN: I was looking for it.\\nKNIGHTS OF NI: Aaaaugh!\\nROBIN: Uh, here-- here in this forest.\\nARTHUR: No, it is far from this place.\\nKNIGHTS OF NI: Aaaaugh!\\nHEAD KNIGHT: Aaaaugh!  Stop saying the word!  The word...\\nARTHUR: Oh, stop it!\\nKNIGHTS OF NI: ... we cannot hear!\\nHEAD KNIGHT: Ow!  He said it again!\\nARTHUR: Patsy!\\nHEAD KNIGHT: Wait!  I said it!  I said it! [clop clop clop] Ooh!  I said it again!  And there again!  That's three 'it's!  Ohh!\\nKNIGHTS OF NI: Aaaaugh\\nNARRATOR: And so, Arthur and Bedevere and Sir Robin set out on their search to find the enchanter of whom the old man had spoken in scene twenty-four.  Beyond the forest they met Launcelot and Galahad, and there was much rejoicing.\\nKNIGHTS: Yay!  Yay! [woosh] \\nNARRATOR: In the frozen land of Nador, they were forced to eat Robin's minstrels.\\nMINSTREL: [high-pitched] Get back!  Eee!\\nNARRATOR: And there was much rejoicing.\\nKNIGHTS: Yay!\\nNARRATOR: A year passed.\\nCARTOON CHARACTER: [shivering] \\nNARRATOR: Winter changed into Spring.\\nCARTOON CHARACTER: Mmm, nice.\\nNARRATOR: Spring changed into Summer.\\nCARTOON CHARACTER: Oh.  Ahh.\\nNARRATOR: Summer changed back into Winter.\\nCARTOON CHARACTER: Oh?\\nNARRATOR: And Winter gave Spring and Summer a miss and went straight on into Autumn.\\nCARTOON CHARACTER: Aah. [snap] Oh!  Waa!\\nNARRATOR: Until one day..\\nSCENE 20: [King Arthur music] [clop clop clop] [music stops] [boom] \\nKNIGHTS: Eh.  Oh.  See it?  Oh.  Oh.\\nARTHUR: Knights!  Forward! [boom boom boom boom boom] [squeak] [boom boom boom boom] What manner of man are you that can summon up fire without flint or tinder?\\nTIM THE ENCHANTER: I...  am an enchanter.\\nARTHUR: By what name are you known?\\nTIM: There are some who call me...  Tim?\\nARTHUR: Greetings, Tim the Enchanter.\\nTIM: Greetings, King Arthur!\\nARTHUR: You know my name?\\nTIM: I do. [zoosh] You seek the Holy Grail!\\nARTHUR: That is our quest.  You know much that is hidden, O Tim.\\nTIM: Quite. [pweeng boom] [clap clap clap] \\nROBIN: Oh.\\nARTHUR: Yes, we're-- we're looking for the Holy Grail.  Our quest is to find the Holy Grail.\\nKNIGHTS: Yeah.  Yes.  It is.  It is.  Yeah.  Yup.  Yup.  Hm.\\nARTHUR: And so we're-- we're-- we're-- we're looking for it.\\nBEDEVERE: Yes, we are.\\nGALAHAD: Yeah.  \\nROBIN: We are.  We are.\\nBEDEVERE: We have been for some time.\\nROBIN: Ages.\\nBEDEVERE: Umhm.\\nARTHUR: Uh-- uh, so, uh, anything that you could do to, uh-- to help, would be...  very...  helpful.\\nGALAHAD: Look, can you tell us where-- [boom] \\nARTHUR: Fine.  Um, I don't want to waste any more of your time, but, uh, I don't suppose you could, uh, tell us where we might find a, um-- find a, uh-- a, um-- a, uh--\\nTIM: A what...?\\nARTHUR: A g-- a-- a g-- a g-- a-- a g--\\nTIM: A grail?!\\nARTHUR: Yes, I think so.\\nROBIN: Y-- y-- yes.\\nARTHUR: Yes.\\nGALAHAD: Yup.\\nKNIGHTS: That's it...\\nTIM: Yes!\\nROBIN: Oh.\\nARTHUR: Oh.  Thank you.\\nROBIN: Ahh.\\nGALAHAD: Oh.  Fine.\\nARTHUR: Thank you.\\nROBIN: Splendid.\\nKNIGHTS: Aah... [boom pweeng boom boom] \\nARTHUR: Look, um, you're a busy man, uh--\\nTIM: Yes, I can help you find the Holy Grail.\\nKNIGHTS: Oh, thank you.  Oh...\\nTIM: To the north there lies a cave-- the cave of Caerbannog-- wherein, carved in mystic runes upon the very living rock, the last words of Olfin Bedwere of Rheged... [boom] ... make plain the last resting place of the most Holy Grail.\\nARTHUR: Where could we find this cave, O Tim?\\nTIM: Follow.  But!  Follow only if ye be men of valor, for the entrance to this cave is guarded by a creature so foul, so cruel that no man yet has fought with it and lived!  Bones of full fifty men lie strewn about its lair.  So, brave knights, if you do doubt your courage or your strength, come no further, for death awaits you all with nasty, big, pointy teeth.\\nARTHUR: What an eccentric performance\\nSCENE 21: [clop clop clop] [whinny whinny] \\nGALAHAD: They're nervous, sire.\\nARTHUR: Then we'd best leave them here and carry on on foot.  Dis-mount!\\nTIM: Behold the cave of Caerbannog!\\nARTHUR: Right!  Keep me covered.\\nGALAHAD: What with?\\nARTHUR: W-- just keep me covered.\\nTIM: Too late! [dramatic chord] \\nARTHUR: What?\\nTIM: There he is!\\nARTHUR: Where?\\nTIM: There!\\nARTHUR: What, behind the rabbit?\\nTIM: It is the rabbit!\\nARTHUR: You silly sod!\\nTIM: What?\\nARTHUR: You got us all worked up!\\nTIM: Well, that's no ordinary rabbit.\\nARTHUR: Ohh.\\nTIM: That's the most foul, cruel, and bad-tempered rodent you ever set eyes on.\\nROBIN: You tit!  I soiled my armor I was so scared!\\nTIM: Look, that rabbit's got a vicious streak a mile wide; it's a killer!\\nGALAHAD: Get stuffed!\\nTIM: He'll do you up a treat mate!\\nGALAHAD: Oh, yeah?\\nROBIN: You mangy scots git!\\nTIM: I'm warning you!\\nROBIN: What's he do, nibble your bum?\\nTIM: He's got huge, sharp-- eh-- he can leap about-- look at the bones!\\nARTHUR: Go on, Bors.  Chop his head off!\\nBORS: Right!  Silly little bleeder.  One rabbit stew comin' right up!\\nTIM: Look! [squeak] \\nBORS: Aaaugh! [dramatic chord] [clunk] \\nARTHUR: Jesus Christ!\\nTIM: I warned you!\\nROBIN: I done it again!\\nTIM: I warned you, but did you listen to me?  Oh, no, you knew it all, didn't you?  Oh, it's just a harmless little bunny, isn't it?  Well, it's always the same.  I always tell them--\\nARTHUR: Oh, shut up!\\nTIM: Do they listen to me?\\nARTHUR: Right!\\nTIM: Oh, no...\\nKNIGHTS: Charge! [squeak squeak squeak] \\nKNIGHTS: Aaaaugh!, Aaaugh!, etc.\\nARTHUR: Run away!  Run away!\\nKNIGHTS: Run away!  Run away! ...\\nTIM: Ha ha ha ha!  Ha haw haw!  Ha!  Ha ha!\\nARTHUR: Right.  How many did we lose?\\nLAUNCELOT: Gawain.\\nGALAHAD: Ector.\\nARTHUR: And Bors.  That's five.\\nGALAHAD: Three, sir.\\nARTHUR: Three.  Three.  And we'd better not risk another frontal assault.  That rabbit's dynamite.\\nROBIN: Would it help to confuse it if we run away more?\\nARTHUR: Oh, shut up and go and change your armor.\\nGALAHAD: Let us taunt it!  It may become so cross that it will make a mistake.\\nARTHUR: Like what?\\nGALAHAD: Well...  ooh.\\nLAUNCELOT: Have we got bows?\\nARTHUR: No.\\nLAUNCELOT: We have the Holy Hand Grenade.\\nARTHUR: Yes, of course!  The Holy Hand Grenade of Antioch!  'Tis one of the sacred relics Brother Maynard carries with him!  Brother Maynard!  Bring up the Holy Hand Grenade!\\nMONKS: [chanting] Pie Iesu domine, dona eis requiem.  Pie Iesu domine, donaeis requiem.  Pie Iesu domine, dona eis requiem.  Pie Iesu domine, dona eisrequiem.\\nARTHUR: How does it, um-- how does it work?\\nLAUNCELOT: I know not, my liege.\\nARTHUR: Consult the Book of Armaments!\\nBROTHER MAYNARD: Armaments, Chapter Two, verses Nine to Twenty-one.\\nSECOND BROTHER: And Saint Attila raised the hand grenade up on high, saying,'O Lord, bless this thy hand grenade that with it thou mayest blow thine enemies to tiny bits, in thy mercy.' And the Lord did grin, and the people did feast upon the lambs and sloths and carp and anchovies and orangutans and breakfast cereals and fruit bats and large chu--\\nMAYNARD: Skip a bit, Brother.\\nSECOND BROTHER: And the Lord spake, saying, 'First shalt thou take out the Holy Pin.  Then, shalt thou count to three, no more, no less.  Three shalt be the number thou shalt count, and the number of the counting shall be three.  Four shalt thou not count, nor either count thou two, excepting that thou then proceed to three.  Five is right out.  Once the number three, being the third number, be reached, then lobbest thou thy Holy Hand Grenade of Antioch towards thy foe, who, being naughty in my sight, shall snuff it.'\\nMAYNARD: Amen.\\nKNIGHTS: Amen.\\nARTHUR: Right!  One...  two...  five!\\nGALAHAD: Three, sir!\\nARTHUR: Three! [angels sing] [boom] \\nSCENE 22:\\nARTHUR: There!  Look!\\nLAUNCELOT: What does it say?\\nGALAHAD: What language is that?\\nARTHUR: Brother Maynard!  You are a scholar.\\nMAYNARD: It's Aramaic!\\nGALAHAD: Of course!  Joseph of Arimathea!\\nLAUNCELOT: 'Course!\\nARTHUR: What does it say?\\nMAYNARD: It reads, 'Here may be found the last words of Joseph of Arimathea.  He who is valiant and pure of spirit may find the Holy Grail in the Castle of uuggggggh'.\\nARTHUR: What?\\nMAYNARD: '...  the Castle of uuggggggh'.\\nBEDEVERE: What is that?\\nMAYNARD: He must have died while carving it.\\nLAUNCELOT: Oh, come on!\\nMAYNARD: Well, that's what it says.\\nARTHUR: Look, if he was dying, he wouldn't bother to carve 'aaggggh'.  He'd just say it!\\nMAYNARD: Well, that's what's carved in the rock!\\nGALAHAD: Perhaps he was dictating.\\nARTHUR: Oh, shut up.  Well, does it say anything else?\\nMAYNARD: No.  Just, 'uuggggggh'.\\nLAUNCELOT: Aauuggghhh.\\nARTHUR: Aaauggh.\\nBEDEVERE: Do you suppose he meant the Camaaaaaargue?\\nGALAHAD: Where's that?\\nBEDEVERE: France, I think.\\nLAUNCELOT: Isn't there a Saint Aauuuves in Cornwall?\\nARTHUR: No, that's Saint Ives.\\nLAUNCELOT: Oh, yes.  Saint Iiiives.\\nKNIGHTS: Iiiiives.\\nBEDEVERE: Oooohoohohooo!\\nLAUNCELOT: No, no.  'Aauuuuugh', at the back of the throat.  Aauuugh.\\nBEDEVERE: N-- no.  No, no, no, no.  'Oooooooh', in surprise and alarm.\\nLAUNCELOT: Oh, you mean sort of a 'aaaah'!\\nBEDEVERE: Yes, but I-- aaaaaah!\\nARTHUR: Oooh!\\nGALAHAD: My God! [dramatic chord] [roar] \\nMAYNARD: It's the legendary Black Beast of Aaauugh! [Black Beast of Aaauugh eats BROTHER MAYNARD] \\nBEDEVERE: That's it!  That's it!\\nARTHUR: Run away!\\nKNIGHTS: Run away! [roar] Run away!  Run awaaay!  Run awaaaaay! [roar] Keep running! [boom] [roar] Shh!  Shh!  Shh!  Shh!  Shh!  Shh!  Shh!  Shh! ...\\nBEDEVERE: We've lost him. [roar] \\nKNIGHTS: Aagh!\\nNARRATOR: As the horrendous Black Beast lunged forward, escape for Arthur and his knights seemed hopeless, when suddenly, the animator suffered a fatal heart attack.\\nANIMATOR: Ulk! [thump] \\nNARRATOR: The cartoon peril was no more.  The quest for Holy Grail could continue.\\nSCENE 23: [gurgle] \\nGALAHAD: There it is!\\nARTHUR: The Bridge of Death!\\nROBIN: Oh, great.\\nARTHUR: Look!  There's the old man from scene twenty-four!\\nBEDEVERE: What is he doing here?\\nARTHUR: He is the keeper of the Bridge of Death.  He asks each traveller five questions--\\nGALAHAD: Three questions.\\nARTHUR: Three questions.  He who answers the five questions--\\nGALAHAD: Three questions.\\nARTHUR: Three questions may cross in safety.\\nROBIN: What if you get a question wrong?\\nARTHUR: Then you are cast into the Gorge of Eternal Peril.\\nROBIN: Oh, I won't go.\\nGALAHAD: Who's going to answer the questions?\\nARTHUR: Sir Robin!\\nROBIN: Yes?\\nARTHUR: Brave Sir Robin, you go.\\nROBIN: Hey!  I've got a great idea.  Why doesn't Launcelot go?\\nLAUNCELOT: Yes.  Let me go, my liege.  I will take him single-handed.  I shall make a feint to the north-east that s--\\nARTHUR: No, no.  No.  Hang on!  Hang on!  Hang on!  Just answer the five questions--\\nGALAHAD: Three questions.\\nARTHUR: Three questions as best you can.  And we shall watch...  and pray.\\nLAUNCELOT: I understand, my liege.\\nARTHUR: Good luck, brave Sir Launcelot.  God be with you.\\nBRIDGEKEEPER: Stop!  Who would cross the Bridge of Death must answer me these questions three, ere the other side he see.\\nLAUNCELOT: Ask me the questions, bridgekeeper.  I am not afraid.\\nBRIDGEKEEPER: What is your name?\\nLAUNCELOT: My name is Sir Launcelot of Camelot.\\nBRIDGEKEEPER: What is your quest?\\nLAUNCELOT: To seek the Holy Grail.\\nBRIDGEKEEPER: What is your favorite color?\\nLAUNCELOT: Blue.\\nBRIDGEKEEPER: Right.  Off you go.\\nLAUNCELOT: Oh, thank you.  Thank you very much.\\nROBIN: That's easy!\\nBRIDGEKEEPER: Stop!  Who approacheth the Bridge of Death must answer me these questions three, ere the other side he see.\\nROBIN: Ask me the questions, bridgekeeper.  I'm not afraid.\\nBRIDGEKEEPER: What is your name?\\nROBIN: Sir Robin of Camelot.\\nBRIDGEKEEPER: What is your quest?\\nROBIN: To seek the Holy Grail.\\nBRIDGEKEEPER: What is the capital of Assyria?\\nROBIN: I don't know that!  Auuuuuuuugh!\\nBRIDGEKEEPER: Stop!  What is your name?\\nGALAHAD: Sir Galahad of Camelot.\\nBRIDGEKEEPER: What is your quest?\\nGALAHAD: I seek the Grail.\\nBRIDGEKEEPER: What is your favorite color?\\nGALAHAD: Blue.  No yel-- auuuuuuuugh!\\nBRIDGEKEEPER: Hee hee heh.  Stop!  What is your name?\\nARTHUR: It is Arthur, King of the Britons.\\nBRIDGEKEEPER: What is your quest?\\nARTHUR: To seek the Holy Grail.\\nBRIDGEKEEPER: What is the air-speed velocity of an unladen swallow?\\nARTHUR: What do you mean?  An African or European swallow?\\nBRIDGEKEEPER: Huh?  I-- I don't know that!  Auuuuuuuugh!\\nBEDEVERE: How do know so much about swallows?\\nARTHUR: Well, you have to know these things when you're a king, you know. [suspenseful music] [music suddenly stops] [intermission] [suspenseful music resumes]\\nSCENE 24:\\nARTHUR: Launcelot!  Launcelot!  Launcelot!\\nBEDEVERE: Launcelot!  Launcelot!\\nARTHUR: Launcelot! [police radio] Launcelot!\\nBEDEVERE: Launcelot!  Launcelot! [angels sing] [singing stops] [ethereal music] \\nARTHUR: The Castle Aaagh.  Our quest is at an end!  God be praised!  Almighty God, we thank Thee that Thou hast vouchsafed to us the most holy-- [twong] [baaaa] Jesus Christ! [thud] \\nFRENCH GUARD: Allo, dappy English k-niggets and Monsieur Arthur King, who has the brain of a duck, you know.  So, we French fellows outwit you a second time!\\nARTHUR: How dare you profane this place with your presence!  I command you, in the name of the Knights of Camelot, to open the doors of this sacred castle, to which God Himself has guided us!\\nFRENCH GUARD: How you English say, 'I one more time, mac, unclog my nose in your direction', sons of a window-dresser!  So, you think you could out-clever us French folk with your silly knees-bent running about advancing behaviour?!  I wave my private parts at your aunties, you cheesy lot of second hand electric donkey-bottom biters.\\nARTHUR: In the name of the Lord, we demand entrance to this sacred castle!\\nFRENCH GUARD: No chance, English bed-wetting types.  I burst my pimples at you and call your door-opening request a silly thing, you tiny-brained wipers of other people's bottoms!\\nARTHUR: If you do not open this door, we shall take this castle by force! [splat] In the name of God and the glory of our-- [splat] \\nFRENCH GUARDS: [laughing] \\nARTHUR: Agh.  Right!  That settles it!\\nFRENCH GUARD: Yes, depart a lot at this time, and cut the approaching any more or we fire arrows at the tops of your heads and make castanets out of your testicles already!  Ha ha haaa ha!\\nARTHUR: Walk away.  Just ignore them.\\nFRENCH GUARD: And now, remain gone, illegitimate-faced bugger-folk!  And, if you think you got a nasty taunting this time, you ain't heard nothing yet, dappy English k-nnniggets!  Thpppt!\\nFRENCH GUARDS: [taunting] \\nARTHUR: We shall attack at once!\\nBEDEVERE: Yes, my liege!\\nARTHUR: Stand by for attack! [exciting music] [music stops] [silence] French persons!\\nFRENCH GUARDS: [taunting] ... Dappy! ...\\nARTHUR: Today the blood of many a valiant knight shall be avenged.  In the name of God, ...\\nFRENCH GUARDS: Hoo hoo!  Ohh, ha ha ha ha ha! ...\\nARTHUR: ... we shall not stop our fight 'til each one of you lies dead, and the Holy Grail returns to those whom God has chosen!\\nFRENCH GUARDS: ... Ha ha ha! ...\\nARTHUR: Charge!\\nARMY OF KNIGHTS: Hooray! [police siren] \\nHISTORIAN'S WIFE: Yes.  They're the ones.  I'm sure.\\nINSPECTOR: Come on.  Anybody armed must go too.\\nOFFICER #1: All right.  Come on.  Back.\\nHISTORIAN'S WIFE: Get that one.\\nOFFICER #1: Back.  Right away.  Just...  pull it off.  Come on.  Come along.\\nINSPECTOR: Put this man in the van.\\nOFFICER #1: Clear off.  Come on.\\nBEDEVERE: With whom?\\nINSPECTOR: Which one?\\nOFFICER #1: Oh-- this one.\\nINSPECTOR: Come on.  Put him in the van.\\nOFFICER #2: Get a blanket.\\nOFFICER #1: We have no hospital.\\nRANDOM: Ahh. [squeak] \\nRANDOM: Ooh.\\nOFFICER #1: Come on.  Back.  Riiight back.  Come on!\\nOFFICER #2: Run along!  Run along!\\nOFFICER #1: Pull that off.  My, that's an offensive weapon, that is.\\nOFFICER #2: Come on.  Back with 'em.  Back.  Right.  Come along.\\nINSPECTOR: Everything? [squeak] \\nOFFICER #1: All right, sonny.  That's enough.  Just pack that in. [crash] \\nCAMERAMAN: Christ!\\n\""
      ]
     },
     "execution_count": 40,
     "metadata": {},
     "output_type": "execute_result"
    }
   ],
   "source": [
    "holy_grail"
   ]
  },
  {
   "cell_type": "code",
   "execution_count": 41,
   "metadata": {},
   "outputs": [
    {
     "name": "stdout",
     "output_type": "stream",
     "text": [
      "line 0 : SCENE 1: [wind] [clop clop clop] \n",
      "line 1 : KING ARTHUR: Whoa there!  [clop clop clop] \n",
      "line 2 : SOLDIER #1: Halt!  Who goes there?\n",
      "line 3 : ARTHUR: It is I, Arthur, son of Uther Pendragon, from the castle of Camelot.  King of the Britons, defeator of the Saxons, sovereign of all England!\n",
      "line 4 : SOLDIER #1: Pull the other one!\n"
     ]
    }
   ],
   "source": [
    "# Split the script into lines: lines\n",
    "lines = holy_grail.split('\\n')\n",
    "for i in range(5):\n",
    "    print('line', i, ':', lines[i])"
   ]
  },
  {
   "cell_type": "code",
   "execution_count": 42,
   "metadata": {},
   "outputs": [
    {
     "name": "stdout",
     "output_type": "stream",
     "text": [
      "line 0 : SCENE 1: [wind] [clop clop clop] \n",
      "line 1 :  Whoa there!  [clop clop clop] \n",
      "line 2 :  Halt!  Who goes there?\n",
      "line 3 :  It is I, Arthur, son of Uther Pendragon, from the castle of Camelot.  King of the Britons, defeator of the Saxons, sovereign of all England!\n",
      "line 4 :  Pull the other one!\n"
     ]
    }
   ],
   "source": [
    "# Replace all script lines for speaker\n",
    "pattern = \"[A-Z]{2,}(\\s)?(#\\d)?([A-Z]{2,})?:\"\n",
    "lines = [re.sub(pattern, '', l) for l in lines]\n",
    "for i in range(5):\n",
    "    print('line', i, ':', lines[i])"
   ]
  },
  {
   "cell_type": "code",
   "execution_count": 43,
   "metadata": {},
   "outputs": [
    {
     "name": "stdout",
     "output_type": "stream",
     "text": [
      "tokenized line 0 : ['SCENE', '1', 'wind', 'clop', 'clop', 'clop']\n",
      "tokenized line 1 : ['Whoa', 'there', 'clop', 'clop', 'clop']\n",
      "tokenized line 2 : ['Halt', 'Who', 'goes', 'there']\n",
      "tokenized line 3 : ['It', 'is', 'I', 'Arthur', 'son', 'of', 'Uther', 'Pendragon', 'from', 'the', 'castle', 'of', 'Camelot', 'King', 'of', 'the', 'Britons', 'defeator', 'of', 'the', 'Saxons', 'sovereign', 'of', 'all', 'England']\n",
      "tokenized line 4 : ['Pull', 'the', 'other', 'one']\n"
     ]
    }
   ],
   "source": [
    "# Tokenize each line: tokenized_lines\n",
    "tokenized_lines = [regexp_tokenize(s, \"\\w+\") for s in lines]\n",
    "for i in range(5):\n",
    "    print('tokenized line', i, ':', tokenized_lines[i])"
   ]
  },
  {
   "cell_type": "code",
   "execution_count": 44,
   "metadata": {},
   "outputs": [
    {
     "name": "stdout",
     "output_type": "stream",
     "text": [
      "length of tokenized line 0 : 6\n",
      "length of tokenized line 1 : 5\n",
      "length of tokenized line 2 : 4\n",
      "length of tokenized line 3 : 25\n",
      "length of tokenized line 4 : 4\n"
     ]
    }
   ],
   "source": [
    "# Make a frequency list of lengths: line_num_words\n",
    "line_num_words = [len(t_line) for t_line in tokenized_lines]\n",
    "for i in range(5):\n",
    "    print('length of tokenized line', i, ':', line_num_words[i])"
   ]
  },
  {
   "cell_type": "code",
   "execution_count": 45,
   "metadata": {},
   "outputs": [
    {
     "data": {
      "image/png": "[encoded data removed]",
      "text/plain": [
       "<matplotlib.figure.Figure at 0x1a1e1c05f8>"
      ]
     },
     "metadata": {},
     "output_type": "display_data"
    }
   ],
   "source": [
    "# Plot a histogram of the line lengths\n",
    "plt.hist(line_num_words)\n",
    "# Show the plot\n",
    "plt.show()"
   ]
  },
  {
   "cell_type": "markdown",
   "metadata": {},
   "source": [
    "# Chp. 2) Word count with bag-of-words\n",
    "- Basic method for finding topics in a text\n",
    "- Need to first create tokens using tokenization\n",
    "    - and then to cout up all the tokens\n",
    "- the more frequent a word, the more importance is assumed\n",
    "- can deterine the significant words in a text\n",
    "\n",
    "## Bag-of-words example\n",
    "- text: \"The cat is in the box. The cat likes the box. The box is over the cat.\"\n",
    "- Bag of words (stripped punctuation):\n",
    "    - \"The\": 3, \"box\":3\n",
    "    - \"cat\": 3, \"the\": 3\n",
    "    - \"is\" : 2\n",
    "    - \"in\" 1, \"likes\":1, \"over\":1"
   ]
  },
  {
   "cell_type": "code",
   "execution_count": 46,
   "metadata": {
    "collapsed": true
   },
   "outputs": [],
   "source": [
    "from nltk.tokenize import word_tokenize\n",
    "from collections import Counter"
   ]
  },
  {
   "cell_type": "code",
   "execution_count": 47,
   "metadata": {},
   "outputs": [
    {
     "data": {
      "text/plain": [
       "Counter({'.': 3,\n",
       "         'The': 3,\n",
       "         'box': 3,\n",
       "         'cat': 3,\n",
       "         'in': 1,\n",
       "         'is': 2,\n",
       "         'likes': 1,\n",
       "         'over': 1,\n",
       "         'the': 3})"
      ]
     },
     "execution_count": 47,
     "metadata": {},
     "output_type": "execute_result"
    }
   ],
   "source": [
    "Counter(word_tokenize(\"\"\"The cat is in the box. The cat likes the box. The box is over the cat.\"\"\"))"
   ]
  },
  {
   "cell_type": "code",
   "execution_count": 48,
   "metadata": {},
   "outputs": [
    {
     "name": "stdout",
     "output_type": "stream",
     "text": [
      "<class 'collections.Counter'>\n"
     ]
    }
   ],
   "source": [
    "# a counter object\n",
    "counter = Counter(word_tokenize(\"\"\"The cat is in the box. The cat likes the box. The box is over the cat.\"\"\"))\n",
    "print(type(counter))"
   ]
  },
  {
   "cell_type": "code",
   "execution_count": 49,
   "metadata": {},
   "outputs": [
    {
     "data": {
      "text/plain": [
       "[('The', 3), ('cat', 3)]"
      ]
     },
     "execution_count": 49,
     "metadata": {},
     "output_type": "execute_result"
    }
   ],
   "source": [
    "counter.most_common(2)\n",
    "# caution: the most_common method does not sort input, and is mute on if there is equivalently common data"
   ]
  },
  {
   "cell_type": "markdown",
   "metadata": {},
   "source": [
    "### Building a Counter with bag-of-words\n",
    "trying to figure out what a wikipedia article is about using nltk and counter"
   ]
  },
  {
   "cell_type": "code",
   "execution_count": 50,
   "metadata": {
    "collapsed": true
   },
   "outputs": [],
   "source": [
    "article = '\\'\\'\\'Debugging\\'\\'\\' is the process of finding and resolving of defects that prevent correct operation of computer software or a system.  \\n\\nNumerous books have been written about debugging (see below: #Further reading|Further reading), as it involves numerous aspects, including interactive debugging, control flow, integration testing, Logfile|log files, monitoring (Application monitoring|application, System Monitoring|system), memory dumps, Profiling (computer programming)|profiling, Statistical Process Control, and special design tactics to improve detection while simplifying changes.\\n\\nOrigin\\nA computer log entry from the Mark&nbsp;II, with a moth taped to the page\\n\\nThe terms \"bug\" and \"debugging\" are popularly attributed to Admiral Grace Hopper in the 1940s.[http://foldoc.org/Grace+Hopper Grace Hopper]  from FOLDOC While she was working on a Harvard Mark II|Mark II Computer at Harvard University, her associates discovered a moth stuck in a relay and thereby impeding operation, whereupon she remarked that they were \"debugging\" the system. However the term \"bug\" in the meaning of technical error dates back at least to 1878 and Thomas Edison (see software bug for a full discussion), and \"debugging\" seems to have been used as a term in aeronautics before entering the world of computers. Indeed, in an interview Grace Hopper remarked that she was not coining the term{{Citation needed|date=July 2015}}. The moth fit the already existing terminology, so it was saved.  A letter from J. Robert Oppenheimer (director of the WWII atomic bomb \"Manhattan\" project at Los Alamos, NM) used the term in a letter to Dr. Ernest Lawrence at UC Berkeley, dated October 27, 1944,http://bancroft.berkeley.edu/Exhibits/physics/images/bigscience25.jpg regarding the recruitment of additional technical staff.\\n\\nThe Oxford English Dictionary entry for \"debug\" quotes the term \"debugging\" used in reference to airplane engine testing in a 1945 article in the Journal of the Royal Aeronautical Society. An article in \"Airforce\" (June 1945 p.&nbsp;50) also refers to debugging, this time of aircraft cameras.  Hopper\\'s computer bug|bug was found on September 9, 1947. The term was not adopted by computer programmers until the early 1950s.\\nThe seminal article by GillS. Gill, [http://www.jstor.org/stable/98663 The Diagnosis of Mistakes in Programmes on the EDSAC], Proceedings of the Royal Society of London. Series A, Mathematical and Physical Sciences, Vol. 206, No. 1087 (May 22, 1951), pp. 538-554 in 1951 is the earliest in-depth discussion of programming errors, but it does not use the term \"bug\" or \"debugging\".\\nIn the Association for Computing Machinery|ACM\\'s digital library, the term \"debugging\" is first used in three papers from 1952 ACM National Meetings.Robert V. D. Campbell, [http://portal.acm.org/citation.cfm?id=609784.609786 Evolution of automatic computation], Proceedings of the 1952 ACM national meeting (Pittsburgh), p 29-32, 1952.Alex Orden, [http://portal.acm.org/citation.cfm?id=609784.609793 Solution of systems of linear inequalities on a digital computer], Proceedings of the 1952 ACM national meeting (Pittsburgh), p. 91-95, 1952.Howard B. Demuth, John B. Jackson, Edmund Klein, N. Metropolis, Walter Orvedahl, James H. Richardson, [http://portal.acm.org/citation.cfm?id=800259.808982 MANIAC], Proceedings of the 1952 ACM national meeting (Toronto), p. 13-16 Two of the three use the term in quotation marks.\\nBy 1963 \"debugging\" was a common enough term to be mentioned in passing without explanation on page 1 of the Compatible Time-Sharing System|CTSS manual.[http://www.bitsavers.org/pdf/mit/ctss/CTSS_ProgrammersGuide.pdf The Compatible Time-Sharing System], M.I.T. Press, 1963\\n\\nKidwell\\'s article \\'\\'Stalking the Elusive Computer Bug\\'\\'Peggy Aldrich Kidwell, [http://ieeexplore.ieee.org/xpl/freeabs_all.jsp?tp=&arnumber=728224&isnumber=15706 Stalking the Elusive Computer Bug], IEEE Annals of the History of Computing, 1998. discusses the etymology of \"bug\" and \"debug\" in greater detail.\\n\\nScope\\nAs software and electronic systems have become generally more complex, the various common debugging techniques have expanded with more methods to detect anomalies, assess impact, and schedule software patches or full updates to a system. The words \"anomaly\" and \"discrepancy\" can be used, as being more neutral terms, to avoid the words \"error\" and \"defect\" or \"bug\" where there might be an implication that all so-called \\'\\'errors\\'\\', \\'\\'defects\\'\\' or \\'\\'bugs\\'\\' must be fixed (at all costs). Instead, an impact assessment can be made to determine if changes to remove an \\'\\'anomaly\\'\\' (or \\'\\'discrepancy\\'\\') would be cost-effective for the system, or perhaps a scheduled new release might render the change(s) unnecessary. Not all issues are life-critical or mission-critical in a system. Also, it is important to avoid the situation where a change might be more upsetting to users, long-term, than living with the known problem(s) (where the \"cure would be worse than the disease\"). Basing decisions of the acceptability of some anomalies can avoid a culture of a \"zero-defects\" mandate, where people might be tempted to deny the existence of problems so that the result would appear as zero \\'\\'defects\\'\\'. Considering the collateral issues, such as the cost-versus-benefit impact assessment, then broader debugging techniques will expand to determine the frequency of anomalies (how often the same \"bugs\" occur) to help assess their impact to the overall system.\\n\\nTools\\nDebugging on video game consoles is usually done with special hardware such as this Xbox (console)|Xbox debug unit intended for developers.\\n\\nDebugging ranges in complexity from fixing simple errors to performing lengthy and tiresome tasks of data collection, analysis, and scheduling updates.  The debugging skill of the programmer can be a major factor in the ability to debug a problem, but the difficulty of software debugging varies greatly with the complexity of the system, and also depends, to some extent, on the programming language(s) used and the available tools, such as \\'\\'debuggers\\'\\'. Debuggers are software tools which enable the programmer to monitor the execution (computers)|execution of a program, stop it, restart it, set breakpoints, and change values in memory. The term \\'\\'debugger\\'\\' can also refer to the person who is doing the debugging.\\n\\nGenerally, high-level programming languages, such as Java (programming language)|Java, make debugging easier, because they have features such as exception handling that make real sources of erratic behaviour easier to spot. In programming languages such as C (programming language)|C or assembly language|assembly, bugs may cause silent problems such as memory corruption, and it is often difficult to see where the initial problem happened. In those cases, memory debugging|memory debugger tools may be needed.\\n\\nIn certain situations, general purpose software tools that are language specific in nature can be very useful.  These take the form of \\'\\'List of tools for static code analysis|static code analysis tools\\'\\'.  These tools look for a very specific set of known problems, some common and some rare, within the source code.  All such issues detected by these tools would rarely be picked up by a compiler or interpreter, thus they are not syntax checkers, but more semantic checkers.  Some tools claim to be able to detect 300+ unique problems. Both commercial and free tools exist in various languages.  These tools can be extremely useful when checking very large source trees, where it is impractical to do code walkthroughs.  A typical example of a problem detected would be a variable dereference that occurs \\'\\'before\\'\\' the variable is assigned a value.  Another example would be to perform strong type checking when the language does not require such.  Thus, they are better at locating likely errors, versus actual errors.  As a result, these tools have a reputation of false positives.  The old Unix \\'\\'Lint programming tool|lint\\'\\' program is an early example.\\n\\nFor debugging electronic hardware (e.g., computer hardware) as well as low-level software (e.g., BIOSes, device drivers) and firmware, instruments such as oscilloscopes, logic analyzers or in-circuit emulator|in-circuit emulators (ICEs) are often used, alone or in combination.  An ICE may perform many of the typical software debugger\\'s tasks on low-level software and firmware.\\n\\nDebugging process \\nNormally the first step in debugging is to attempt to reproduce the problem. This can be a non-trivial task, for example as with Parallel computing|parallel processes or some unusual software bugs. Also, specific user environment and usage history can make it difficult to reproduce the problem.\\n\\nAfter the bug is reproduced, the input of the program may need to be simplified to make it easier to debug. For example, a bug in a compiler can make it Crash (computing)|crash when parsing some large source file. However, after simplification of the test case, only few lines from the original source file can be sufficient to reproduce the same crash. Such simplification can be made manually, using a Divide and conquer algorithm|divide-and-conquer approach. The programmer will try to remove some parts of original test case and check if the problem still exists. When debugging the problem in a Graphical user interface|GUI, the programmer can try to skip some user interaction from the original problem description and check if remaining actions are sufficient for bugs to appear.\\n\\nAfter the test case is sufficiently simplified, a programmer can use a debugger tool to examine program states (values of variables, plus the call stack) and track down the origin of the problem(s). Alternatively, Tracing (software)|tracing can be used. In simple cases, tracing is just a few print statements, which output the values of variables at certain points of program execution.{{citation needed|date=February 2016}}\\n\\n Techniques \\n \\'\\'Interactive debugging\\'\\'\\n \\'\\'{{visible anchor|Print debugging}}\\'\\' (or tracing) is the act of watching (live or recorded) trace statements, or print statements, that indicate the flow of execution of a process. This is sometimes called \\'\\'{{visible anchor|printf debugging}}\\'\\', due to the use of the printf function in C. This kind of debugging was turned on by the command TRON in the original versions of the novice-oriented BASIC programming language. TRON stood for, \"Trace On.\" TRON caused the line numbers of each BASIC command line to print as the program ran.\\n \\'\\'Remote debugging\\'\\' is the process of debugging a program running on a system different from the debugger. To start remote debugging, a debugger connects to a remote system over a network. The debugger can then control the execution of the program on the remote system and retrieve information about its state.\\n \\'\\'Post-mortem debugging\\'\\' is debugging of the program after it has already Crash (computing)|crashed. Related techniques often include various tracing techniques (for example,[http://www.drdobbs.com/tools/185300443 Postmortem Debugging, Stephen Wormuller, Dr. Dobbs Journal, 2006]) and/or analysis of memory dump (or core dump) of the crashed process. The dump of the process could be obtained automatically by the system (for example, when process has terminated due to an unhandled exception), or by a programmer-inserted instruction, or manually by the interactive user.\\n \\'\\'\"Wolf fence\" algorithm:\\'\\' Edward Gauss described this simple but very useful and now famous algorithm in a 1982 article for communications of the ACM as follows: \"There\\'s one wolf in Alaska; how do you find it? First build a fence down the middle of the state, wait for the wolf to howl, determine which side of the fence it is on. Repeat process on that side only, until you get to the point where you can see the wolf.\"<ref name=\"communications of the ACM\">{{cite journal | title=\"Pracniques: The \"Wolf Fence\" Algorithm for Debugging\", | author=E. J. Gauss | year=1982}} This is implemented e.g. in the Git (software)|Git version control system as the command \\'\\'git bisect\\'\\', which uses the above algorithm to determine which Commit (data management)|commit introduced a particular bug.\\n \\'\\'Delta Debugging\\'\\'{{snd}} a technique of automating test case simplification.Andreas Zeller: <cite>Why Programs Fail: A Guide to Systematic Debugging</cite>, Morgan Kaufmann, 2005. ISBN 1-55860-866-4{{rp|p.123}}<!-- for redirect from \\'Saff Squeeze\\' -->\\n \\'\\'Saff Squeeze\\'\\'{{snd}} a technique of isolating failure within the test using progressive inlining of parts of the failing test.[http://www.threeriversinstitute.org/HitEmHighHitEmLow.html Kent Beck, Hit \\'em High, Hit \\'em Low: Regression Testing and the Saff Squeeze]\\n\\nDebugging for embedded systems\\nIn contrast to the general purpose computer software design environment, a primary characteristic of embedded environments is the sheer number of different platforms available to the developers (CPU architectures, vendors, operating systems and their variants). Embedded systems are, by definition, not general-purpose designs: they are typically developed for a single task (or small range of tasks), and the platform is chosen specifically to optimize that application. Not only does this fact make life tough for embedded system developers, it also makes debugging and testing of these systems harder as well, since different debugging tools are needed in different platforms.\\n\\nto identify and fix bugs in the system (e.g. logical or synchronization problems in the code, or a design error in the hardware);\\nto collect information about the operating states of the system that may then be used to analyze the system: to find ways to boost its performance or to optimize other important characteristics (e.g. energy consumption, reliability, real-time response etc.).\\n\\nAnti-debugging\\nAnti-debugging is \"the implementation of one or more techniques within computer code that hinders attempts at reverse engineering or debugging a target process\".<ref name=\"veracode-antidebugging\">{{cite web |url=http://www.veracode.com/blog/2008/12/anti-debugging-series-part-i/ |title=Anti-Debugging Series - Part I |last=Shields |first=Tyler |date=2008-12-02 |work=Veracode |accessdate=2009-03-17}} It is actively used by recognized publishers in copy protection|copy-protection schemas, but is also used by malware to complicate its detection and elimination.<ref name=\"soft-prot\">[http://people.seas.harvard.edu/~mgagnon/software_protection_through_anti_debugging.pdf Software Protection through Anti-Debugging Michael N Gagnon, Stephen Taylor, Anup Ghosh] Techniques used in anti-debugging include:\\nAPI-based: check for the existence of a debugger using system information\\nException-based: check to see if exceptions are interfered with\\nProcess and thread blocks: check whether process and thread blocks have been manipulated\\nModified code: check for code modifications made by a debugger handling software breakpoints\\nHardware- and register-based: check for hardware breakpoints and CPU registers\\nTiming and latency: check the time taken for the execution of instructions\\nDetecting and penalizing debugger<ref name=\"soft-prot\" /><!-- reference does not exist -->\\n\\nAn early example of anti-debugging existed in early versions of Microsoft Word which, if a debugger was detected, produced a message that said: \"The tree of evil bears bitter fruit. Now trashing program disk.\", after which it caused the floppy disk drive to emit alarming noises with the intent of scaring the user away from attempting it again.<ref name=\"SecurityEngineeringRA\">{{cite book | url=http://www.cl.cam.ac.uk/~rja14/book.html | author=Ross J. Anderson | title=Security Engineering | isbn = 0-471-38922-6 | page=684 }}<ref name=\"toastytech\">{{cite web | url=http://toastytech.com/guis/word1153.html | title=Microsoft Word for DOS 1.15}}\\n'"
   ]
  },
  {
   "cell_type": "code",
   "execution_count": 51,
   "metadata": {},
   "outputs": [
    {
     "data": {
      "text/plain": [
       "'\\'\\'\\'Debugging\\'\\'\\' is the process of finding and resolving of defects that prevent correct operation of computer software or a system.  \\n\\nNumerous books have been written about debugging (see below: #Further reading|Further reading), as it involves numerous aspects, including interactive debugging, control flow, integration testing, Logfile|log files, monitoring (Application monitoring|application, System Monitoring|system), memory dumps, Profiling (computer programming)|profiling, Statistical Process Control, and special design tactics to improve detection while simplifying changes.\\n\\nOrigin\\nA computer log entry from the Mark&nbsp;II, with a moth taped to the page\\n\\nThe terms \"bug\" and \"debugging\" are popularly attributed to Admiral Grace Hopper in the 1940s.[http://foldoc.org/Grace+Hopper Grace Hopper]  from FOLDOC While she was working on a Harvard Mark II|Mark II Computer at Harvard University, her associates discovered a moth stuck in a relay and thereby impeding operation, whereupon she remarked that they were \"debugging\" the system. However the term \"bug\" in the meaning of technical error dates back at least to 1878 and Thomas Edison (see software bug for a full discussion), and \"debugging\" seems to have been used as a term in aeronautics before entering the world of computers. Indeed, in an interview Grace Hopper remarked that she was not coining the term{{Citation needed|date=July 2015}}. The moth fit the already existing terminology, so it was saved.  A letter from J. Robert Oppenheimer (director of the WWII atomic bomb \"Manhattan\" project at Los Alamos, NM) used the term in a letter to Dr. Ernest Lawrence at UC Berkeley, dated October 27, 1944,http://bancroft.berkeley.edu/Exhibits/physics/images/bigscience25.jpg regarding the recruitment of additional technical staff.\\n\\nThe Oxford English Dictionary entry for \"debug\" quotes the term \"debugging\" used in reference to airplane engine testing in a 1945 article in the Journal of the Royal Aeronautical Society. An article in \"Airforce\" (June 1945 p.&nbsp;50) also refers to debugging, this time of aircraft cameras.  Hopper\\'s computer bug|bug was found on September 9, 1947. The term was not adopted by computer programmers until the early 1950s.\\nThe seminal article by GillS. Gill, [http://www.jstor.org/stable/98663 The Diagnosis of Mistakes in Programmes on the EDSAC], Proceedings of the Royal Society of London. Series A, Mathematical and Physical Sciences, Vol. 206, No. 1087 (May 22, 1951), pp. 538-554 in 1951 is the earliest in-depth discussion of programming errors, but it does not use the term \"bug\" or \"debugging\".\\nIn the Association for Computing Machinery|ACM\\'s digital library, the term \"debugging\" is first used in three papers from 1952 ACM National Meetings.Robert V. D. Campbell, [http://portal.acm.org/citation.cfm?id=609784.609786 Evolution of automatic computation], Proceedings of the 1952 ACM national meeting (Pittsburgh), p 29-32, 1952.Alex Orden, [http://portal.acm.org/citation.cfm?id=609784.609793 Solution of systems of linear inequalities on a digital computer], Proceedings of the 1952 ACM national meeting (Pittsburgh), p. 91-95, 1952.Howard B. Demuth, John B. Jackson, Edmund Klein, N. Metropolis, Walter Orvedahl, James H. Richardson, [http://portal.acm.org/citation.cfm?id=800259.808982 MANIAC], Proceedings of the 1952 ACM national meeting (Toronto), p. 13-16 Two of the three use the term in quotation marks.\\nBy 1963 \"debugging\" was a common enough term to be mentioned in passing without explanation on page 1 of the Compatible Time-Sharing System|CTSS manual.[http://www.bitsavers.org/pdf/mit/ctss/CTSS_ProgrammersGuide.pdf The Compatible Time-Sharing System], M.I.T. Press, 1963\\n\\nKidwell\\'s article \\'\\'Stalking the Elusive Computer Bug\\'\\'Peggy Aldrich Kidwell, [http://ieeexplore.ieee.org/xpl/freeabs_all.jsp?tp=&arnumber=728224&isnumber=15706 Stalking the Elusive Computer Bug], IEEE Annals of the History of Computing, 1998. discusses the etymology of \"bug\" and \"debug\" in greater detail.\\n\\nScope\\nAs software and electronic systems have become generally more complex, the various common debugging techniques have expanded with more methods to detect anomalies, assess impact, and schedule software patches or full updates to a system. The words \"anomaly\" and \"discrepancy\" can be used, as being more neutral terms, to avoid the words \"error\" and \"defect\" or \"bug\" where there might be an implication that all so-called \\'\\'errors\\'\\', \\'\\'defects\\'\\' or \\'\\'bugs\\'\\' must be fixed (at all costs). Instead, an impact assessment can be made to determine if changes to remove an \\'\\'anomaly\\'\\' (or \\'\\'discrepancy\\'\\') would be cost-effective for the system, or perhaps a scheduled new release might render the change(s) unnecessary. Not all issues are life-critical or mission-critical in a system. Also, it is important to avoid the situation where a change might be more upsetting to users, long-term, than living with the known problem(s) (where the \"cure would be worse than the disease\"). Basing decisions of the acceptability of some anomalies can avoid a culture of a \"zero-defects\" mandate, where people might be tempted to deny the existence of problems so that the result would appear as zero \\'\\'defects\\'\\'. Considering the collateral issues, such as the cost-versus-benefit impact assessment, then broader debugging techniques will expand to determine the frequency of anomalies (how often the same \"bugs\" occur) to help assess their impact to the overall system.\\n\\nTools\\nDebugging on video game consoles is usually done with special hardware such as this Xbox (console)|Xbox debug unit intended for developers.\\n\\nDebugging ranges in complexity from fixing simple errors to performing lengthy and tiresome tasks of data collection, analysis, and scheduling updates.  The debugging skill of the programmer can be a major factor in the ability to debug a problem, but the difficulty of software debugging varies greatly with the complexity of the system, and also depends, to some extent, on the programming language(s) used and the available tools, such as \\'\\'debuggers\\'\\'. Debuggers are software tools which enable the programmer to monitor the execution (computers)|execution of a program, stop it, restart it, set breakpoints, and change values in memory. The term \\'\\'debugger\\'\\' can also refer to the person who is doing the debugging.\\n\\nGenerally, high-level programming languages, such as Java (programming language)|Java, make debugging easier, because they have features such as exception handling that make real sources of erratic behaviour easier to spot. In programming languages such as C (programming language)|C or assembly language|assembly, bugs may cause silent problems such as memory corruption, and it is often difficult to see where the initial problem happened. In those cases, memory debugging|memory debugger tools may be needed.\\n\\nIn certain situations, general purpose software tools that are language specific in nature can be very useful.  These take the form of \\'\\'List of tools for static code analysis|static code analysis tools\\'\\'.  These tools look for a very specific set of known problems, some common and some rare, within the source code.  All such issues detected by these tools would rarely be picked up by a compiler or interpreter, thus they are not syntax checkers, but more semantic checkers.  Some tools claim to be able to detect 300+ unique problems. Both commercial and free tools exist in various languages.  These tools can be extremely useful when checking very large source trees, where it is impractical to do code walkthroughs.  A typical example of a problem detected would be a variable dereference that occurs \\'\\'before\\'\\' the variable is assigned a value.  Another example would be to perform strong type checking when the language does not require such.  Thus, they are better at locating likely errors, versus actual errors.  As a result, these tools have a reputation of false positives.  The old Unix \\'\\'Lint programming tool|lint\\'\\' program is an early example.\\n\\nFor debugging electronic hardware (e.g., computer hardware) as well as low-level software (e.g., BIOSes, device drivers) and firmware, instruments such as oscilloscopes, logic analyzers or in-circuit emulator|in-circuit emulators (ICEs) are often used, alone or in combination.  An ICE may perform many of the typical software debugger\\'s tasks on low-level software and firmware.\\n\\nDebugging process \\nNormally the first step in debugging is to attempt to reproduce the problem. This can be a non-trivial task, for example as with Parallel computing|parallel processes or some unusual software bugs. Also, specific user environment and usage history can make it difficult to reproduce the problem.\\n\\nAfter the bug is reproduced, the input of the program may need to be simplified to make it easier to debug. For example, a bug in a compiler can make it Crash (computing)|crash when parsing some large source file. However, after simplification of the test case, only few lines from the original source file can be sufficient to reproduce the same crash. Such simplification can be made manually, using a Divide and conquer algorithm|divide-and-conquer approach. The programmer will try to remove some parts of original test case and check if the problem still exists. When debugging the problem in a Graphical user interface|GUI, the programmer can try to skip some user interaction from the original problem description and check if remaining actions are sufficient for bugs to appear.\\n\\nAfter the test case is sufficiently simplified, a programmer can use a debugger tool to examine program states (values of variables, plus the call stack) and track down the origin of the problem(s). Alternatively, Tracing (software)|tracing can be used. In simple cases, tracing is just a few print statements, which output the values of variables at certain points of program execution.{{citation needed|date=February 2016}}\\n\\n Techniques \\n \\'\\'Interactive debugging\\'\\'\\n \\'\\'{{visible anchor|Print debugging}}\\'\\' (or tracing) is the act of watching (live or recorded) trace statements, or print statements, that indicate the flow of execution of a process. This is sometimes called \\'\\'{{visible anchor|printf debugging}}\\'\\', due to the use of the printf function in C. This kind of debugging was turned on by the command TRON in the original versions of the novice-oriented BASIC programming language. TRON stood for, \"Trace On.\" TRON caused the line numbers of each BASIC command line to print as the program ran.\\n \\'\\'Remote debugging\\'\\' is the process of debugging a program running on a system different from the debugger. To start remote debugging, a debugger connects to a remote system over a network. The debugger can then control the execution of the program on the remote system and retrieve information about its state.\\n \\'\\'Post-mortem debugging\\'\\' is debugging of the program after it has already Crash (computing)|crashed. Related techniques often include various tracing techniques (for example,[http://www.drdobbs.com/tools/185300443 Postmortem Debugging, Stephen Wormuller, Dr. Dobbs Journal, 2006]) and/or analysis of memory dump (or core dump) of the crashed process. The dump of the process could be obtained automatically by the system (for example, when process has terminated due to an unhandled exception), or by a programmer-inserted instruction, or manually by the interactive user.\\n \\'\\'\"Wolf fence\" algorithm:\\'\\' Edward Gauss described this simple but very useful and now famous algorithm in a 1982 article for communications of the ACM as follows: \"There\\'s one wolf in Alaska; how do you find it? First build a fence down the middle of the state, wait for the wolf to howl, determine which side of the fence it is on. Repeat process on that side only, until you get to the point where you can see the wolf.\"<ref name=\"communications of the ACM\">{{cite journal | title=\"Pracniques: The \"Wolf Fence\" Algorithm for Debugging\", | author=E. J. Gauss | year=1982}} This is implemented e.g. in the Git (software)|Git version control system as the command \\'\\'git bisect\\'\\', which uses the above algorithm to determine which Commit (data management)|commit introduced a particular bug.\\n \\'\\'Delta Debugging\\'\\'{{snd}} a technique of automating test case simplification.Andreas Zeller: <cite>Why Programs Fail: A Guide to Systematic Debugging</cite>, Morgan Kaufmann, 2005. ISBN 1-55860-866-4{{rp|p.123}}<!-- for redirect from \\'Saff Squeeze\\' -->\\n \\'\\'Saff Squeeze\\'\\'{{snd}} a technique of isolating failure within the test using progressive inlining of parts of the failing test.[http://www.threeriversinstitute.org/HitEmHighHitEmLow.html Kent Beck, Hit \\'em High, Hit \\'em Low: Regression Testing and the Saff Squeeze]\\n\\nDebugging for embedded systems\\nIn contrast to the general purpose computer software design environment, a primary characteristic of embedded environments is the sheer number of different platforms available to the developers (CPU architectures, vendors, operating systems and their variants). Embedded systems are, by definition, not general-purpose designs: they are typically developed for a single task (or small range of tasks), and the platform is chosen specifically to optimize that application. Not only does this fact make life tough for embedded system developers, it also makes debugging and testing of these systems harder as well, since different debugging tools are needed in different platforms.\\n\\nto identify and fix bugs in the system (e.g. logical or synchronization problems in the code, or a design error in the hardware);\\nto collect information about the operating states of the system that may then be used to analyze the system: to find ways to boost its performance or to optimize other important characteristics (e.g. energy consumption, reliability, real-time response etc.).\\n\\nAnti-debugging\\nAnti-debugging is \"the implementation of one or more techniques within computer code that hinders attempts at reverse engineering or debugging a target process\".<ref name=\"veracode-antidebugging\">{{cite web |url=http://www.veracode.com/blog/2008/12/anti-debugging-series-part-i/ |title=Anti-Debugging Series - Part I |last=Shields |first=Tyler |date=2008-12-02 |work=Veracode |accessdate=2009-03-17}} It is actively used by recognized publishers in copy protection|copy-protection schemas, but is also used by malware to complicate its detection and elimination.<ref name=\"soft-prot\">[http://people.seas.harvard.edu/~mgagnon/software_protection_through_anti_debugging.pdf Software Protection through Anti-Debugging Michael N Gagnon, Stephen Taylor, Anup Ghosh] Techniques used in anti-debugging include:\\nAPI-based: check for the existence of a debugger using system information\\nException-based: check to see if exceptions are interfered with\\nProcess and thread blocks: check whether process and thread blocks have been manipulated\\nModified code: check for code modifications made by a debugger handling software breakpoints\\nHardware- and register-based: check for hardware breakpoints and CPU registers\\nTiming and latency: check the time taken for the execution of instructions\\nDetecting and penalizing debugger<ref name=\"soft-prot\" /><!-- reference does not exist -->\\n\\nAn early example of anti-debugging existed in early versions of Microsoft Word which, if a debugger was detected, produced a message that said: \"The tree of evil bears bitter fruit. Now trashing program disk.\", after which it caused the floppy disk drive to emit alarming noises with the intent of scaring the user away from attempting it again.<ref name=\"SecurityEngineeringRA\">{{cite book | url=http://www.cl.cam.ac.uk/~rja14/book.html | author=Ross J. Anderson | title=Security Engineering | isbn = 0-471-38922-6 | page=684 }}<ref name=\"toastytech\">{{cite web | url=http://toastytech.com/guis/word1153.html | title=Microsoft Word for DOS 1.15}}\\n'"
      ]
     },
     "execution_count": 51,
     "metadata": {},
     "output_type": "execute_result"
    }
   ],
   "source": [
    "article"
   ]
  },
  {
   "cell_type": "code",
   "execution_count": 52,
   "metadata": {},
   "outputs": [
    {
     "data": {
      "text/plain": [
       "[\"'\", \"''\", 'Debugging', \"''\", \"'\", 'is', 'the', 'process', 'of', 'finding']"
      ]
     },
     "execution_count": 52,
     "metadata": {},
     "output_type": "execute_result"
    }
   ],
   "source": [
    "# tokenize the article: tokens\n",
    "tokens = word_tokenize(article)\n",
    "tokens[:10]"
   ]
  },
  {
   "cell_type": "code",
   "execution_count": 53,
   "metadata": {},
   "outputs": [
    {
     "data": {
      "text/plain": [
       "[\"'\", \"''\", 'debugging', \"''\", \"'\", 'is', 'the', 'process', 'of', 'finding']"
      ]
     },
     "execution_count": 53,
     "metadata": {},
     "output_type": "execute_result"
    }
   ],
   "source": [
    "#convert the tokens into lowercase\n",
    "lower_tokens = [t.lower() for t in tokens]\n",
    "lower_tokens[0:10]"
   ]
  },
  {
   "cell_type": "code",
   "execution_count": 54,
   "metadata": {},
   "outputs": [
    {
     "name": "stdout",
     "output_type": "stream",
     "text": [
      "[(',', 151), ('the', 150), ('.', 89), ('of', 81), (\"''\", 68), ('to', 63), ('a', 60), ('in', 44), ('and', 41), ('debugging', 40)]\n"
     ]
    }
   ],
   "source": [
    "# create a counter with the lowercase tokens\n",
    "bow_simple = Counter(lower_tokens)\n",
    "\n",
    "print(bow_simple.most_common(10))"
   ]
  },
  {
   "cell_type": "markdown",
   "metadata": {},
   "source": [
    "## Simple text preprocessing\n",
    "- makes for better input data\n",
    "    - for machine learning or other statistical methods\n",
    "- examples:\n",
    "    - tokenization to create a bag of words\n",
    "    - lowercasing words\n",
    "- lemmatization/stemming\n",
    "    - shorten words to their root stems\n",
    "- removing stop words, puntuation, or unwanted tokens"
   ]
  },
  {
   "cell_type": "code",
   "execution_count": 55,
   "metadata": {},
   "outputs": [],
   "source": [
    "from nltk.corpus import stopwords"
   ]
  },
  {
   "cell_type": "code",
   "execution_count": 56,
   "metadata": {},
   "outputs": [],
   "source": [
    "text = \"The cat is in the box. The cat likes the box. The box is over the cat.\""
   ]
  },
  {
   "cell_type": "code",
   "execution_count": 57,
   "metadata": {
    "collapsed": true
   },
   "outputs": [],
   "source": [
    "tokens = [w for w in word_tokenize(text.lower()) if w.isalpha()]\n",
    "#only return alphabetic strings\n",
    "# i.e. no punctuation or digits"
   ]
  },
  {
   "cell_type": "code",
   "execution_count": 58,
   "metadata": {
    "collapsed": true
   },
   "outputs": [],
   "source": [
    "no_stops = [t for t in tokens if t not in stopwords.words('english')]"
   ]
  },
  {
   "cell_type": "code",
   "execution_count": 59,
   "metadata": {},
   "outputs": [
    {
     "data": {
      "text/plain": [
       "[('cat', 3), ('box', 3)]"
      ]
     },
     "execution_count": 59,
     "metadata": {},
     "output_type": "execute_result"
    }
   ],
   "source": [
    "Counter(no_stops).most_common(2)"
   ]
  },
  {
   "cell_type": "code",
   "execution_count": 60,
   "metadata": {},
   "outputs": [
    {
     "name": "stdout",
     "output_type": "stream",
     "text": [
      "lower tokens [\"'\", \"''\", 'debugging', \"''\", \"'\", 'is', 'the', 'process', 'of', 'finding']\n",
      "alpha only ['debugging', 'is', 'the', 'process', 'of', 'finding', 'and', 'resolving', 'of', 'defects']\n",
      "no stops ['debugging', 'process', 'finding', 'resolving', 'defects', 'prevent', 'correct', 'operation', 'computer', 'software']\n",
      "lemmatized ['debugging', 'process', 'finding', 'resolving', 'defect', 'prevent', 'correct', 'operation', 'computer', 'software']\n"
     ]
    }
   ],
   "source": [
    "# Import WordNetLemmatizer\n",
    "from nltk.stem import WordNetLemmatizer\n",
    "\n",
    "print('lower tokens', lower_tokens[0:10])\n",
    "# Retain alphabetic words: alpha_only\n",
    "alpha_only = [t for t in lower_tokens if t.isalpha()]\n",
    "print('alpha only', alpha_only[0:10])\n",
    "# Remove all stop words: no_stops\n",
    "no_stops = [t for t in alpha_only if t not in stopwords.words('english')]\n",
    "print('no stops', no_stops[0:10])\n",
    "# Instantiate the WordNetLemmatizer\n",
    "wordnet_lemmatizer = WordNetLemmatizer()\n",
    "\n",
    "# Lemmatize all tokens into a new list: lemmatized\n",
    "lemmatized = [wordnet_lemmatizer.lemmatize(t) for t in no_stops]\n",
    "print('lemmatized', lemmatized[0:10])\n"
   ]
  },
  {
   "cell_type": "code",
   "execution_count": 61,
   "metadata": {},
   "outputs": [
    {
     "name": "stdout",
     "output_type": "stream",
     "text": [
      "[('debugging', 40), ('system', 25), ('software', 16), ('bug', 16), ('problem', 15), ('tool', 15), ('computer', 14), ('process', 13), ('term', 13), ('used', 12)]\n"
     ]
    }
   ],
   "source": [
    "# Create the bag-of-words: bow\n",
    "bow = Counter(lemmatized)\n",
    "\n",
    "# Print the 10 most common tokens\n",
    "print(bow.most_common(10))"
   ]
  },
  {
   "cell_type": "markdown",
   "metadata": {},
   "source": [
    "## Introduction to gensim\n",
    "- popular open-source NLP library\n",
    "- uses top academic models to perform complex tasks\n",
    "    - building document or word vectors\n",
    "    - performing topic identification and document comparison\n",
    "\n",
    "![](images/word-vector-visualized.png)\n",
    "\n",
    "Like a multidimensional array with sparse zeros and some ones\n",
    "- King - Queen is approximate to man - woman\n",
    "- spain is to madrid as italy is to rome\n",
    "\n",
    "The deep learning algorithm used to create word vectors has distilled this meaning based on how those words are used in the text\n",
    "\n",
    "**LDA visualization**\n",
    "Latent Dirichlet Alocation\n",
    "\n",
    "![](images/lda-visualization.png)\n",
    "\n",
    "A statistical model for gensim topical analysis and modeling\n",
    "\n",
    "### Creating a gensim"
   ]
  },
  {
   "cell_type": "code",
   "execution_count": 62,
   "metadata": {},
   "outputs": [],
   "source": [
    "from gensim.corpora.dictionary import Dictionary"
   ]
  },
  {
   "cell_type": "code",
   "execution_count": 107,
   "metadata": {
    "collapsed": true
   },
   "outputs": [],
   "source": [
    "my_documents = ['I added this sentence in particular, because I am looking for a sentence that has multiple counts of the same words in it. Unfortunately the sentences from the original example happened to be composed of unique words. That was an unfortunaet coincidence since it left me with some unhelpful values for the following examples.',\n",
    "                'The movie was a bout a spaceship and aliens.',\n",
    "                'I really liked the movie!', \n",
    "               'Awesome action scenes, but boring characters.', \n",
    "               'The movie was awful! I hate alien films.',\n",
    "               'Space is cool! I liked the movie.', \n",
    "               'More space films, please!']"
   ]
  },
  {
   "cell_type": "code",
   "execution_count": 108,
   "metadata": {
    "collapsed": true
   },
   "outputs": [],
   "source": [
    "tokenized_docs = [word_tokenize(doc.lower()) for doc in my_documents]"
   ]
  },
  {
   "cell_type": "code",
   "execution_count": 109,
   "metadata": {
    "collapsed": true
   },
   "outputs": [],
   "source": [
    "dictionary = Dictionary(tokenized_docs)\n",
    "#creates a mapping with an id for each token\n",
    "# the beginning of our corpus"
   ]
  },
  {
   "cell_type": "code",
   "execution_count": 110,
   "metadata": {
    "scrolled": true
   },
   "outputs": [
    {
     "data": {
      "text/plain": [
       "{'!': 50,\n",
       " ',': 0,\n",
       " '.': 1,\n",
       " 'a': 2,\n",
       " 'action': 53,\n",
       " 'added': 3,\n",
       " 'alien': 59,\n",
       " 'aliens': 45,\n",
       " 'am': 4,\n",
       " 'an': 5,\n",
       " 'and': 46,\n",
       " 'awesome': 54,\n",
       " 'awful': 60,\n",
       " 'be': 6,\n",
       " 'because': 7,\n",
       " 'boring': 55,\n",
       " 'bout': 47,\n",
       " 'but': 56,\n",
       " 'characters': 57,\n",
       " 'coincidence': 8,\n",
       " 'composed': 9,\n",
       " 'cool': 63,\n",
       " 'counts': 10,\n",
       " 'example': 11,\n",
       " 'examples': 12,\n",
       " 'films': 61,\n",
       " 'following': 13,\n",
       " 'for': 14,\n",
       " 'from': 15,\n",
       " 'happened': 16,\n",
       " 'has': 17,\n",
       " 'hate': 62,\n",
       " 'i': 18,\n",
       " 'in': 19,\n",
       " 'is': 64,\n",
       " 'it': 20,\n",
       " 'left': 21,\n",
       " 'liked': 51,\n",
       " 'looking': 22,\n",
       " 'me': 23,\n",
       " 'more': 66,\n",
       " 'movie': 48,\n",
       " 'multiple': 24,\n",
       " 'of': 25,\n",
       " 'original': 26,\n",
       " 'particular': 27,\n",
       " 'please': 67,\n",
       " 'really': 52,\n",
       " 'same': 28,\n",
       " 'scenes': 58,\n",
       " 'sentence': 29,\n",
       " 'sentences': 30,\n",
       " 'since': 31,\n",
       " 'some': 32,\n",
       " 'space': 65,\n",
       " 'spaceship': 49,\n",
       " 'that': 33,\n",
       " 'the': 34,\n",
       " 'this': 35,\n",
       " 'to': 36,\n",
       " 'unfortunaet': 37,\n",
       " 'unfortunately': 38,\n",
       " 'unhelpful': 39,\n",
       " 'unique': 40,\n",
       " 'values': 41,\n",
       " 'was': 42,\n",
       " 'with': 43,\n",
       " 'words': 44}"
      ]
     },
     "execution_count": 110,
     "metadata": {},
     "output_type": "execute_result"
    }
   ],
   "source": [
    "dictionary.token2id"
   ]
  },
  {
   "cell_type": "code",
   "execution_count": 111,
   "metadata": {},
   "outputs": [
    {
     "name": "stdout",
     "output_type": "stream",
     "text": [
      "corpus[0] [(0, 1), (1, 3), (2, 1), (3, 1), (4, 1), (5, 1), (6, 1), (7, 1), (8, 1), (9, 1), (10, 1), (11, 1), (12, 1), (13, 1), (14, 2), (15, 1), (16, 1), (17, 1), (18, 2), (19, 2), (20, 2), (21, 1), (22, 1), (23, 1), (24, 1), (25, 2), (26, 1), (27, 1), (28, 1), (29, 2), (30, 1), (31, 1), (32, 1), (33, 2), (34, 4), (35, 1), (36, 1), (37, 1), (38, 1), (39, 1), (40, 1), (41, 1), (42, 1), (43, 1), (44, 2)]\n",
      "corpus[1] [(1, 1), (2, 2), (34, 1), (42, 1), (45, 1), (46, 1), (47, 1), (48, 1), (49, 1)]\n"
     ]
    }
   ],
   "source": [
    "#creating a gensim corpus\n",
    "corpus = [dictionary.doc2bow(doc) for doc in tokenized_docs]\n",
    "print('corpus[0]', corpus[0])\n",
    "print('corpus[1]', corpus[1])"
   ]
  },
  {
   "cell_type": "markdown",
   "metadata": {},
   "source": [
    "each doc gets turned into bow using token ids and the frequency of each token in the document.\n",
    "\n",
    "each doc is now a series of tuples. first item representing the token id from the dictionary and the second the token frequency.\n",
    "\n",
    "- this gensim model can be easily saved, updated, and reused\n",
    "- Our dictionary can also be updated\n",
    "\n",
    "### Creating and querying a corpus with gensim"
   ]
  },
  {
   "cell_type": "code",
   "execution_count": 112,
   "metadata": {},
   "outputs": [
    {
     "name": "stdout",
     "output_type": "stream",
     "text": [
      "['i', 'added', 'this', 'sentence', 'in', 'particular', ',', 'because', 'i', 'am', 'looking', 'for', 'a', 'sentence', 'that', 'has', 'multiple', 'counts', 'of', 'the', 'same', 'words', 'in', 'it', '.', 'unfortunately', 'the', 'sentences', 'from', 'the', 'original', 'example', 'happened', 'to', 'be', 'composed', 'of', 'unique', 'words', '.', 'that', 'was', 'an', 'unfortunaet', 'coincidence', 'since', 'it', 'left', 'me', 'with', 'some', 'unhelpful', 'values', 'for', 'the', 'following', 'examples', '.']\n",
      "\n",
      "['the', 'movie', 'was', 'a', 'bout', 'a', 'spaceship', 'and', 'aliens', '.']\n"
     ]
    }
   ],
   "source": [
    "print(tokenized_docs[0])\n",
    "print(\"\")\n",
    "print(tokenized_docs[1])"
   ]
  },
  {
   "cell_type": "code",
   "execution_count": 113,
   "metadata": {},
   "outputs": [],
   "source": [
    "from gensim.corpora.dictionary import Dictionary\n",
    "\n",
    "# create a dict from tokenized_docs\n",
    "dictionary = Dictionary(tokenized_docs)\n",
    "# assign a numeric encoding to each token"
   ]
  },
  {
   "cell_type": "code",
   "execution_count": 114,
   "metadata": {
    "scrolled": true
   },
   "outputs": [
    {
     "data": {
      "text/plain": [
       "{'!': 50,\n",
       " ',': 0,\n",
       " '.': 1,\n",
       " 'a': 2,\n",
       " 'action': 53,\n",
       " 'added': 3,\n",
       " 'alien': 59,\n",
       " 'aliens': 45,\n",
       " 'am': 4,\n",
       " 'an': 5,\n",
       " 'and': 46,\n",
       " 'awesome': 54,\n",
       " 'awful': 60,\n",
       " 'be': 6,\n",
       " 'because': 7,\n",
       " 'boring': 55,\n",
       " 'bout': 47,\n",
       " 'but': 56,\n",
       " 'characters': 57,\n",
       " 'coincidence': 8,\n",
       " 'composed': 9,\n",
       " 'cool': 63,\n",
       " 'counts': 10,\n",
       " 'example': 11,\n",
       " 'examples': 12,\n",
       " 'films': 61,\n",
       " 'following': 13,\n",
       " 'for': 14,\n",
       " 'from': 15,\n",
       " 'happened': 16,\n",
       " 'has': 17,\n",
       " 'hate': 62,\n",
       " 'i': 18,\n",
       " 'in': 19,\n",
       " 'is': 64,\n",
       " 'it': 20,\n",
       " 'left': 21,\n",
       " 'liked': 51,\n",
       " 'looking': 22,\n",
       " 'me': 23,\n",
       " 'more': 66,\n",
       " 'movie': 48,\n",
       " 'multiple': 24,\n",
       " 'of': 25,\n",
       " 'original': 26,\n",
       " 'particular': 27,\n",
       " 'please': 67,\n",
       " 'really': 52,\n",
       " 'same': 28,\n",
       " 'scenes': 58,\n",
       " 'sentence': 29,\n",
       " 'sentences': 30,\n",
       " 'since': 31,\n",
       " 'some': 32,\n",
       " 'space': 65,\n",
       " 'spaceship': 49,\n",
       " 'that': 33,\n",
       " 'the': 34,\n",
       " 'this': 35,\n",
       " 'to': 36,\n",
       " 'unfortunaet': 37,\n",
       " 'unfortunately': 38,\n",
       " 'unhelpful': 39,\n",
       " 'unique': 40,\n",
       " 'values': 41,\n",
       " 'was': 42,\n",
       " 'with': 43,\n",
       " 'words': 44}"
      ]
     },
     "execution_count": 114,
     "metadata": {},
     "output_type": "execute_result"
    }
   ],
   "source": [
    "dictionary.token2id"
   ]
  },
  {
   "cell_type": "code",
   "execution_count": 115,
   "metadata": {},
   "outputs": [
    {
     "name": "stdout",
     "output_type": "stream",
     "text": [
      "65\n"
     ]
    }
   ],
   "source": [
    "# select the id for \"space\"\n",
    "space_id = dictionary.token2id.get(\"space\")\n",
    "print(space_id)"
   ]
  },
  {
   "cell_type": "code",
   "execution_count": 117,
   "metadata": {
    "scrolled": true
   },
   "outputs": [
    {
     "data": {
      "text/plain": [
       "[[(0, 1),\n",
       "  (1, 3),\n",
       "  (2, 1),\n",
       "  (3, 1),\n",
       "  (4, 1),\n",
       "  (5, 1),\n",
       "  (6, 1),\n",
       "  (7, 1),\n",
       "  (8, 1),\n",
       "  (9, 1),\n",
       "  (10, 1),\n",
       "  (11, 1),\n",
       "  (12, 1),\n",
       "  (13, 1),\n",
       "  (14, 2),\n",
       "  (15, 1),\n",
       "  (16, 1),\n",
       "  (17, 1),\n",
       "  (18, 2),\n",
       "  (19, 2),\n",
       "  (20, 2),\n",
       "  (21, 1),\n",
       "  (22, 1),\n",
       "  (23, 1),\n",
       "  (24, 1),\n",
       "  (25, 2),\n",
       "  (26, 1),\n",
       "  (27, 1),\n",
       "  (28, 1),\n",
       "  (29, 2),\n",
       "  (30, 1),\n",
       "  (31, 1),\n",
       "  (32, 1),\n",
       "  (33, 2),\n",
       "  (34, 4),\n",
       "  (35, 1),\n",
       "  (36, 1),\n",
       "  (37, 1),\n",
       "  (38, 1),\n",
       "  (39, 1),\n",
       "  (40, 1),\n",
       "  (41, 1),\n",
       "  (42, 1),\n",
       "  (43, 1),\n",
       "  (44, 2)],\n",
       " [(1, 1),\n",
       "  (2, 2),\n",
       "  (34, 1),\n",
       "  (42, 1),\n",
       "  (45, 1),\n",
       "  (46, 1),\n",
       "  (47, 1),\n",
       "  (48, 1),\n",
       "  (49, 1)]]"
      ]
     },
     "execution_count": 117,
     "metadata": {},
     "output_type": "execute_result"
    }
   ],
   "source": [
    "#create a MmCorpus: corpus\n",
    "corpus = [dictionary.doc2bow(tokenized_doc) for tokenized_doc in tokenized_docs]\n",
    "corpus[0:2]\n",
    "# this makes a list for each tokenized doc.\n",
    "    # each list contains touples with the numeric encoding of \n",
    "    # the tokenized word in that doc and it's frequency count"
   ]
  },
  {
   "cell_type": "code",
   "execution_count": 118,
   "metadata": {},
   "outputs": [
    {
     "name": "stdout",
     "output_type": "stream",
     "text": [
      "[(1, 1), (18, 1), (34, 1), (42, 1), (48, 1), (50, 1), (59, 1), (60, 1), (61, 1), (62, 1)]\n"
     ]
    }
   ],
   "source": [
    "#print first 10 word ids with their frequency counts from \n",
    "# the fifth document\n",
    "print(corpus[4][:10])"
   ]
  },
  {
   "cell_type": "code",
   "execution_count": 124,
   "metadata": {
    "collapsed": true
   },
   "outputs": [],
   "source": [
    "# save the fifth document: doc\n",
    "doc = corpus[0]"
   ]
  },
  {
   "cell_type": "code",
   "execution_count": 127,
   "metadata": {
    "collapsed": true
   },
   "outputs": [],
   "source": [
    "# sort the doc for frequency:\n",
    "bow_doc = sorted(doc, key = lambda w: w[1], reverse = True)\n",
    "#sort doc by the second value of each element in doc (i.e. the frequency count)"
   ]
  },
  {
   "cell_type": "code",
   "execution_count": 128,
   "metadata": {
    "scrolled": true
   },
   "outputs": [
    {
     "data": {
      "text/plain": [
       "[(34, 4),\n",
       " (1, 3),\n",
       " (14, 2),\n",
       " (18, 2),\n",
       " (19, 2),\n",
       " (20, 2),\n",
       " (25, 2),\n",
       " (29, 2),\n",
       " (33, 2),\n",
       " (44, 2),\n",
       " (0, 1),\n",
       " (2, 1),\n",
       " (3, 1),\n",
       " (4, 1),\n",
       " (5, 1),\n",
       " (6, 1),\n",
       " (7, 1),\n",
       " (8, 1),\n",
       " (9, 1),\n",
       " (10, 1),\n",
       " (11, 1),\n",
       " (12, 1),\n",
       " (13, 1),\n",
       " (15, 1),\n",
       " (16, 1),\n",
       " (17, 1),\n",
       " (21, 1),\n",
       " (22, 1),\n",
       " (23, 1),\n",
       " (24, 1),\n",
       " (26, 1),\n",
       " (27, 1),\n",
       " (28, 1),\n",
       " (30, 1),\n",
       " (31, 1),\n",
       " (32, 1),\n",
       " (35, 1),\n",
       " (36, 1),\n",
       " (37, 1),\n",
       " (38, 1),\n",
       " (39, 1),\n",
       " (40, 1),\n",
       " (41, 1),\n",
       " (42, 1),\n",
       " (43, 1)]"
      ]
     },
     "execution_count": 128,
     "metadata": {},
     "output_type": "execute_result"
    }
   ],
   "source": [
    "bow_doc\n",
    "#notice that in my example this is not helpful since all of my words only appear once"
   ]
  },
  {
   "cell_type": "code",
   "execution_count": 129,
   "metadata": {},
   "outputs": [
    {
     "name": "stdout",
     "output_type": "stream",
     "text": [
      "the 4\n",
      ". 3\n",
      "for 2\n",
      "i 2\n",
      "in 2\n"
     ]
    }
   ],
   "source": [
    "# print the top5 words of the document alongside the count\n",
    "for word_id, word_count in bow_doc[:5]:\n",
    "    print(dictionary.get(word_id), word_count)"
   ]
  },
  {
   "cell_type": "code",
   "execution_count": 130,
   "metadata": {},
   "outputs": [],
   "source": [
    "from collections import defaultdict\n",
    "# Create the defaultdict: total_word_count\n",
    "total_word_count = defaultdict(int)"
   ]
  },
  {
   "cell_type": "code",
   "execution_count": 131,
   "metadata": {},
   "outputs": [
    {
     "data": {
      "text/plain": [
       "defaultdict(int, {})"
      ]
     },
     "execution_count": 131,
     "metadata": {},
     "output_type": "execute_result"
    }
   ],
   "source": [
    "total_word_count"
   ]
  },
  {
   "cell_type": "code",
   "execution_count": 132,
   "metadata": {
    "collapsed": true
   },
   "outputs": [],
   "source": [
    "from itertools import chain"
   ]
  },
  {
   "cell_type": "code",
   "execution_count": 134,
   "metadata": {
    "collapsed": true
   },
   "outputs": [],
   "source": [
    "import itertools"
   ]
  },
  {
   "cell_type": "code",
   "execution_count": 135,
   "metadata": {},
   "outputs": [],
   "source": [
    "for word_id, word_count in itertools.chain.from_iterable(corpus):\n",
    "    total_word_count[word_id] += word_count"
   ]
  },
  {
   "cell_type": "code",
   "execution_count": 136,
   "metadata": {
    "scrolled": true
   },
   "outputs": [
    {
     "data": {
      "text/plain": [
       "defaultdict(int,\n",
       "            {0: 3,\n",
       "             1: 7,\n",
       "             2: 3,\n",
       "             3: 1,\n",
       "             4: 1,\n",
       "             5: 1,\n",
       "             6: 1,\n",
       "             7: 1,\n",
       "             8: 1,\n",
       "             9: 1,\n",
       "             10: 1,\n",
       "             11: 1,\n",
       "             12: 1,\n",
       "             13: 1,\n",
       "             14: 2,\n",
       "             15: 1,\n",
       "             16: 1,\n",
       "             17: 1,\n",
       "             18: 5,\n",
       "             19: 2,\n",
       "             20: 2,\n",
       "             21: 1,\n",
       "             22: 1,\n",
       "             23: 1,\n",
       "             24: 1,\n",
       "             25: 2,\n",
       "             26: 1,\n",
       "             27: 1,\n",
       "             28: 1,\n",
       "             29: 2,\n",
       "             30: 1,\n",
       "             31: 1,\n",
       "             32: 1,\n",
       "             33: 2,\n",
       "             34: 8,\n",
       "             35: 1,\n",
       "             36: 1,\n",
       "             37: 1,\n",
       "             38: 1,\n",
       "             39: 1,\n",
       "             40: 1,\n",
       "             41: 1,\n",
       "             42: 3,\n",
       "             43: 1,\n",
       "             44: 2,\n",
       "             45: 1,\n",
       "             46: 1,\n",
       "             47: 1,\n",
       "             48: 4,\n",
       "             49: 1,\n",
       "             50: 4,\n",
       "             51: 2,\n",
       "             52: 1,\n",
       "             53: 1,\n",
       "             54: 1,\n",
       "             55: 1,\n",
       "             56: 1,\n",
       "             57: 1,\n",
       "             58: 1,\n",
       "             59: 1,\n",
       "             60: 1,\n",
       "             61: 2,\n",
       "             62: 1,\n",
       "             63: 1,\n",
       "             64: 1,\n",
       "             65: 2,\n",
       "             66: 1,\n",
       "             67: 1})"
      ]
     },
     "execution_count": 136,
     "metadata": {},
     "output_type": "execute_result"
    }
   ],
   "source": [
    "total_word_count"
   ]
  },
  {
   "cell_type": "code",
   "execution_count": 137,
   "metadata": {
    "collapsed": true
   },
   "outputs": [],
   "source": [
    "# create a sorted list from the defaultdict\n",
    "sorted_word_count = sorted(total_word_count.items(), \n",
    "                           key = lambda w: w[1], reverse = True)"
   ]
  },
  {
   "cell_type": "code",
   "execution_count": 138,
   "metadata": {},
   "outputs": [
    {
     "name": "stdout",
     "output_type": "stream",
     "text": [
      "the 8\n",
      ". 7\n",
      "i 5\n",
      "movie 4\n",
      "! 4\n"
     ]
    }
   ],
   "source": [
    "# print the top 5 words across all documents alongside the count\n",
    "for word_id, word_count in sorted_word_count[0:5]:\n",
    "    print(dictionary.get(word_id), word_count)"
   ]
  },
  {
   "cell_type": "markdown",
   "metadata": {},
   "source": [
    "## Tf-idf with gensim\n",
    "- Term frequency - inverse document frequency\n",
    "- allows you to determine the most important words in each document\n",
    "- Each corpus may have shared words beyond just stopwords\n",
    "    - These words should be down-weighted in importance\n",
    "    - Example from astronomy: \"Sky\"\n",
    "        - very frequent in the corpus, but not actually thematically in any document. (more of a baseline).\n",
    "- Ensures most common words don't show up as key words\n",
    "- Keeps document specific frequent words weighted high\n",
    "![](images/tf-idf-formula.png)\n",
    "\n",
    "weight will be low if the term does not appear often in the doc\n",
    "weight will also be low if the log is close to 0\n",
    "- meaning the internal equation is low\n",
    "    - if the ratio of docs to docs with token is close to 1, then the log will be close to 0. So, words common across all docs will have a low weight.\n",
    "\n",
    "### building a Tf-idf with `gensim`"
   ]
  },
  {
   "cell_type": "code",
   "execution_count": 141,
   "metadata": {},
   "outputs": [],
   "source": [
    "from gensim.models.tfidfmodel import TfidfModel"
   ]
  },
  {
   "cell_type": "code",
   "execution_count": 142,
   "metadata": {
    "collapsed": true
   },
   "outputs": [],
   "source": [
    "tfidf = TfidfModel(corpus)"
   ]
  },
  {
   "cell_type": "code",
   "execution_count": 143,
   "metadata": {},
   "outputs": [
    {
     "data": {
      "text/plain": [
       "[(1, 0.070650291939331325),\n",
       " (2, 0.52609433897882019),\n",
       " (34, 0.070650291939331325),\n",
       " (42, 0.17791019490061769),\n",
       " (45, 0.40858978886045261),\n",
       " (46, 0.40858978886045261),\n",
       " (47, 0.40858978886045261),\n",
       " (48, 0.11750455011836757),\n",
       " (49, 0.40858978886045261)]"
      ]
     },
     "execution_count": 143,
     "metadata": {},
     "output_type": "execute_result"
    }
   ],
   "source": [
    "tfidf[corpus[1]]\n",
    "#token id's and their weights"
   ]
  },
  {
   "cell_type": "code",
   "execution_count": 144,
   "metadata": {},
   "outputs": [
    {
     "name": "stdout",
     "output_type": "stream",
     "text": [
      "[(0, 0.055356219975633288), (1, 0.065947875063388367), (2, 0.081846332563221325), (3, 0.12713147914087439), (4, 0.12713147914087439)]\n",
      "for 0.254262958282\n",
      "in 0.254262958282\n",
      "it 0.254262958282\n",
      "of 0.254262958282\n",
      "sentence 0.254262958282\n"
     ]
    }
   ],
   "source": [
    "# Import TfidfModel\n",
    "from gensim.models.tfidfmodel import TfidfModel\n",
    "\n",
    "# Create a new TfidfModel using the corpus: tfidf\n",
    "tfidf = TfidfModel(corpus)\n",
    "\n",
    "# Calculate the tfidf weights of doc: tfidf_weights\n",
    "tfidf_weights = tfidf[doc]\n",
    "\n",
    "# Print the first five weights\n",
    "print(tfidf_weights[:5])\n",
    "\n",
    "# Sort the weights from highest to lowest: sorted_tfidf_weights\n",
    "sorted_tfidf_weights = sorted(tfidf_weights, key=lambda w: w[1], reverse=True)\n",
    "\n",
    "# Print the top 5 weighted words\n",
    "for term_id, weight in sorted_tfidf_weights[:5]:\n",
    "    print(dictionary.get(term_id), weight)\n"
   ]
  },
  {
   "cell_type": "markdown",
   "metadata": {},
   "source": [
    "# Chp. 3) Named Entity Recognition\n",
    "**NER**\n",
    "- recognize important named entities in text\n",
    "    - people, places, orgs\n",
    "    - dates, states, works of art, etc...\n",
    "- Can be used with topic recognition\n",
    "    - who, when, where\n",
    "\n",
    "## `nltk` and the Stanford Core NLP Library\n",
    "- The Stanford CoreNLP library:\n",
    "    - integrated in Python via nltk\n",
    "    - Java based\n",
    "    - Support for NER as well as coreference and dependency trees\n",
    "\n",
    "## Using `nltk` for Named Entity Recognition"
   ]
  },
  {
   "cell_type": "code",
   "execution_count": 145,
   "metadata": {
    "collapsed": true
   },
   "outputs": [],
   "source": [
    "import nltk"
   ]
  },
  {
   "cell_type": "code",
   "execution_count": 146,
   "metadata": {
    "collapsed": true
   },
   "outputs": [],
   "source": [
    "sentence = '''In New York, I like to ride the Metro to visit MOMA \n",
    "and some restaurants rated well by Ruth Reichl.'''"
   ]
  },
  {
   "cell_type": "code",
   "execution_count": 148,
   "metadata": {},
   "outputs": [
    {
     "data": {
      "text/plain": [
       "['In',\n",
       " 'New',\n",
       " 'York',\n",
       " ',',\n",
       " 'I',\n",
       " 'like',\n",
       " 'to',\n",
       " 'ride',\n",
       " 'the',\n",
       " 'Metro',\n",
       " 'to',\n",
       " 'visit',\n",
       " 'MOMA',\n",
       " 'and',\n",
       " 'some',\n",
       " 'restaurants',\n",
       " 'rated',\n",
       " 'well',\n",
       " 'by',\n",
       " 'Ruth',\n",
       " 'Reichl',\n",
       " '.']"
      ]
     },
     "execution_count": 148,
     "metadata": {},
     "output_type": "execute_result"
    }
   ],
   "source": [
    "tokenized_sent = nltk.word_tokenize(sentence)\n",
    "tokenized_sent"
   ]
  },
  {
   "cell_type": "code",
   "execution_count": 149,
   "metadata": {},
   "outputs": [
    {
     "data": {
      "text/plain": [
       "[('In', 'IN'),\n",
       " ('New', 'NNP'),\n",
       " ('York', 'NNP'),\n",
       " (',', ','),\n",
       " ('I', 'PRP'),\n",
       " ('like', 'VBP'),\n",
       " ('to', 'TO'),\n",
       " ('ride', 'VB'),\n",
       " ('the', 'DT'),\n",
       " ('Metro', 'NNP'),\n",
       " ('to', 'TO'),\n",
       " ('visit', 'VB'),\n",
       " ('MOMA', 'NNP'),\n",
       " ('and', 'CC'),\n",
       " ('some', 'DT'),\n",
       " ('restaurants', 'NNS'),\n",
       " ('rated', 'VBN'),\n",
       " ('well', 'RB'),\n",
       " ('by', 'IN'),\n",
       " ('Ruth', 'NNP'),\n",
       " ('Reichl', 'NNP'),\n",
       " ('.', '.')]"
      ]
     },
     "execution_count": 149,
     "metadata": {},
     "output_type": "execute_result"
    }
   ],
   "source": [
    "tagged_sent = nltk.pos_tag(tokenized_sent)\n",
    "tagged_sent #NNP is proper noun singular"
   ]
  },
  {
   "cell_type": "code",
   "execution_count": 150,
   "metadata": {},
   "outputs": [
    {
     "name": "stdout",
     "output_type": "stream",
     "text": [
      "(S\n",
      "  In/IN\n",
      "  (GPE New/NNP York/NNP)\n",
      "  ,/,\n",
      "  I/PRP\n",
      "  like/VBP\n",
      "  to/TO\n",
      "  ride/VB\n",
      "  the/DT\n",
      "  (ORGANIZATION Metro/NNP)\n",
      "  to/TO\n",
      "  visit/VB\n",
      "  (ORGANIZATION MOMA/NNP)\n",
      "  and/CC\n",
      "  some/DT\n",
      "  restaurants/NNS\n",
      "  rated/VBN\n",
      "  well/RB\n",
      "  by/IN\n",
      "  (PERSON Ruth/NNP Reichl/NNP)\n",
      "  ./.)\n"
     ]
    }
   ],
   "source": [
    "print(nltk.ne_chunk(tagged_sent))"
   ]
  },
  {
   "cell_type": "markdown",
   "metadata": {},
   "source": [
    "**GPE** is a geo-political-entity\n",
    "Ruth Reichl was identified as a proper noun without reference to a knowledge base. Rather it she was identified based on statistical models. "
   ]
  },
  {
   "cell_type": "code",
   "execution_count": 151,
   "metadata": {
    "collapsed": true
   },
   "outputs": [],
   "source": [
    "article = '\\ufeffThe taxi-hailing company Uber brings into very sharp focus the question of whether corporations can be said to have a moral character. If any human being were to behave with the single-minded and ruthless greed of the company, we would consider them sociopathic. Uber wanted to know as much as possible about the people who use its service, and those who don’t. It has an arrangement with unroll.me, a company which offered a free service for unsubscribing from junk mail, to buy the contacts unroll.me customers had had with rival taxi companies. Even if their email was notionally anonymised, this use of it was not something the users had bargained for. Beyond that, it keeps track of the phones that have been used to summon its services even after the original owner has sold them, attempting this with Apple’s phones even thought it is forbidden by the company.\\r\\n\\r\\n\\r\\nUber has also tweaked its software so that regulatory agencies that the company regarded as hostile would, when they tried to hire a driver, be given false reports about the location of its cars. Uber management booked and then cancelled rides with a rival taxi-hailing company which took their vehicles out of circulation. Uber deny this was the intention. The punishment for this behaviour was negligible. Uber promised not to use this “greyball” software against law enforcement – one wonders what would happen to someone carrying a knife who promised never to stab a policeman with it. Travis Kalanick of Uber got a personal dressing down from Tim Cook, who runs Apple, but the company did not prohibit the use of the app. Too much money was at stake for that.\\r\\n\\r\\n\\r\\nMillions of people around the world value the cheapness and convenience of Uber’s rides too much to care about the lack of drivers’ rights or pay. Many of the users themselves are not much richer than the drivers. The “sharing economy” encourages the insecure and exploited to exploit others equally insecure to the profit of a tiny clique of billionaires. Silicon Valley’s culture seems hostile to humane and democratic values. The outgoing CEO of Yahoo, Marissa Mayer, who is widely judged to have been a failure, is likely to get a $186m payout. This may not be a cause for panic, any more than the previous hero worship should have been a cause for euphoria. Yet there’s an urgent political task to tame these companies, to ensure they are punished when they break the law, that they pay their taxes fairly and that they behave responsibly.'"
   ]
  },
  {
   "cell_type": "code",
   "execution_count": 152,
   "metadata": {
    "scrolled": true
   },
   "outputs": [
    {
     "data": {
      "text/plain": [
       "['\\ufeffThe taxi-hailing company Uber brings into very sharp focus the question of whether corporations can be said to have a moral character.',\n",
       " 'If any human being were to behave with the single-minded and ruthless greed of the company, we would consider them sociopathic.',\n",
       " 'Uber wanted to know as much as possible about the people who use its service, and those who don’t.',\n",
       " 'It has an arrangement with unroll.me, a company which offered a free service for unsubscribing from junk mail, to buy the contacts unroll.me customers had had with rival taxi companies.',\n",
       " 'Even if their email was notionally anonymised, this use of it was not something the users had bargained for.',\n",
       " 'Beyond that, it keeps track of the phones that have been used to summon its services even after the original owner has sold them, attempting this with Apple’s phones even thought it is forbidden by the company.',\n",
       " 'Uber has also tweaked its software so that regulatory agencies that the company regarded as hostile would, when they tried to hire a driver, be given false reports about the location of its cars.',\n",
       " 'Uber management booked and then cancelled rides with a rival taxi-hailing company which took their vehicles out of circulation.',\n",
       " 'Uber deny this was the intention.',\n",
       " 'The punishment for this behaviour was negligible.',\n",
       " 'Uber promised not to use this “greyball” software against law enforcement – one wonders what would happen to someone carrying a knife who promised never to stab a policeman with it.',\n",
       " 'Travis Kalanick of Uber got a personal dressing down from Tim Cook, who runs Apple, but the company did not prohibit the use of the app.',\n",
       " 'Too much money was at stake for that.',\n",
       " 'Millions of people around the world value the cheapness and convenience of Uber’s rides too much to care about the lack of drivers’ rights or pay.',\n",
       " 'Many of the users themselves are not much richer than the drivers.',\n",
       " 'The “sharing economy” encourages the insecure and exploited to exploit others equally insecure to the profit of a tiny clique of billionaires.',\n",
       " 'Silicon Valley’s culture seems hostile to humane and democratic values.',\n",
       " 'The outgoing CEO of Yahoo, Marissa Mayer, who is widely judged to have been a failure, is likely to get a $186m payout.',\n",
       " 'This may not be a cause for panic, any more than the previous hero worship should have been a cause for euphoria.',\n",
       " 'Yet there’s an urgent political task to tame these companies, to ensure they are punished when they break the law, that they pay their taxes fairly and that they behave responsibly.']"
      ]
     },
     "execution_count": 152,
     "metadata": {},
     "output_type": "execute_result"
    }
   ],
   "source": [
    "# tokenize the article into sentences:\n",
    "sentences = nltk.sent_tokenize(article)\n",
    "sentences"
   ]
  },
  {
   "cell_type": "code",
   "execution_count": 153,
   "metadata": {},
   "outputs": [
    {
     "data": {
      "text/plain": [
       "[['\\ufeffThe',\n",
       "  'taxi-hailing',\n",
       "  'company',\n",
       "  'Uber',\n",
       "  'brings',\n",
       "  'into',\n",
       "  'very',\n",
       "  'sharp',\n",
       "  'focus',\n",
       "  'the',\n",
       "  'question',\n",
       "  'of',\n",
       "  'whether',\n",
       "  'corporations',\n",
       "  'can',\n",
       "  'be',\n",
       "  'said',\n",
       "  'to',\n",
       "  'have',\n",
       "  'a',\n",
       "  'moral',\n",
       "  'character',\n",
       "  '.'],\n",
       " ['If',\n",
       "  'any',\n",
       "  'human',\n",
       "  'being',\n",
       "  'were',\n",
       "  'to',\n",
       "  'behave',\n",
       "  'with',\n",
       "  'the',\n",
       "  'single-minded',\n",
       "  'and',\n",
       "  'ruthless',\n",
       "  'greed',\n",
       "  'of',\n",
       "  'the',\n",
       "  'company',\n",
       "  ',',\n",
       "  'we',\n",
       "  'would',\n",
       "  'consider',\n",
       "  'them',\n",
       "  'sociopathic',\n",
       "  '.'],\n",
       " ['Uber',\n",
       "  'wanted',\n",
       "  'to',\n",
       "  'know',\n",
       "  'as',\n",
       "  'much',\n",
       "  'as',\n",
       "  'possible',\n",
       "  'about',\n",
       "  'the',\n",
       "  'people',\n",
       "  'who',\n",
       "  'use',\n",
       "  'its',\n",
       "  'service',\n",
       "  ',',\n",
       "  'and',\n",
       "  'those',\n",
       "  'who',\n",
       "  'don',\n",
       "  '’',\n",
       "  't',\n",
       "  '.'],\n",
       " ['It',\n",
       "  'has',\n",
       "  'an',\n",
       "  'arrangement',\n",
       "  'with',\n",
       "  'unroll.me',\n",
       "  ',',\n",
       "  'a',\n",
       "  'company',\n",
       "  'which',\n",
       "  'offered',\n",
       "  'a',\n",
       "  'free',\n",
       "  'service',\n",
       "  'for',\n",
       "  'unsubscribing',\n",
       "  'from',\n",
       "  'junk',\n",
       "  'mail',\n",
       "  ',',\n",
       "  'to',\n",
       "  'buy',\n",
       "  'the',\n",
       "  'contacts',\n",
       "  'unroll.me',\n",
       "  'customers',\n",
       "  'had',\n",
       "  'had',\n",
       "  'with',\n",
       "  'rival',\n",
       "  'taxi',\n",
       "  'companies',\n",
       "  '.'],\n",
       " ['Even',\n",
       "  'if',\n",
       "  'their',\n",
       "  'email',\n",
       "  'was',\n",
       "  'notionally',\n",
       "  'anonymised',\n",
       "  ',',\n",
       "  'this',\n",
       "  'use',\n",
       "  'of',\n",
       "  'it',\n",
       "  'was',\n",
       "  'not',\n",
       "  'something',\n",
       "  'the',\n",
       "  'users',\n",
       "  'had',\n",
       "  'bargained',\n",
       "  'for',\n",
       "  '.'],\n",
       " ['Beyond',\n",
       "  'that',\n",
       "  ',',\n",
       "  'it',\n",
       "  'keeps',\n",
       "  'track',\n",
       "  'of',\n",
       "  'the',\n",
       "  'phones',\n",
       "  'that',\n",
       "  'have',\n",
       "  'been',\n",
       "  'used',\n",
       "  'to',\n",
       "  'summon',\n",
       "  'its',\n",
       "  'services',\n",
       "  'even',\n",
       "  'after',\n",
       "  'the',\n",
       "  'original',\n",
       "  'owner',\n",
       "  'has',\n",
       "  'sold',\n",
       "  'them',\n",
       "  ',',\n",
       "  'attempting',\n",
       "  'this',\n",
       "  'with',\n",
       "  'Apple',\n",
       "  '’',\n",
       "  's',\n",
       "  'phones',\n",
       "  'even',\n",
       "  'thought',\n",
       "  'it',\n",
       "  'is',\n",
       "  'forbidden',\n",
       "  'by',\n",
       "  'the',\n",
       "  'company',\n",
       "  '.'],\n",
       " ['Uber',\n",
       "  'has',\n",
       "  'also',\n",
       "  'tweaked',\n",
       "  'its',\n",
       "  'software',\n",
       "  'so',\n",
       "  'that',\n",
       "  'regulatory',\n",
       "  'agencies',\n",
       "  'that',\n",
       "  'the',\n",
       "  'company',\n",
       "  'regarded',\n",
       "  'as',\n",
       "  'hostile',\n",
       "  'would',\n",
       "  ',',\n",
       "  'when',\n",
       "  'they',\n",
       "  'tried',\n",
       "  'to',\n",
       "  'hire',\n",
       "  'a',\n",
       "  'driver',\n",
       "  ',',\n",
       "  'be',\n",
       "  'given',\n",
       "  'false',\n",
       "  'reports',\n",
       "  'about',\n",
       "  'the',\n",
       "  'location',\n",
       "  'of',\n",
       "  'its',\n",
       "  'cars',\n",
       "  '.'],\n",
       " ['Uber',\n",
       "  'management',\n",
       "  'booked',\n",
       "  'and',\n",
       "  'then',\n",
       "  'cancelled',\n",
       "  'rides',\n",
       "  'with',\n",
       "  'a',\n",
       "  'rival',\n",
       "  'taxi-hailing',\n",
       "  'company',\n",
       "  'which',\n",
       "  'took',\n",
       "  'their',\n",
       "  'vehicles',\n",
       "  'out',\n",
       "  'of',\n",
       "  'circulation',\n",
       "  '.'],\n",
       " ['Uber', 'deny', 'this', 'was', 'the', 'intention', '.'],\n",
       " ['The', 'punishment', 'for', 'this', 'behaviour', 'was', 'negligible', '.'],\n",
       " ['Uber',\n",
       "  'promised',\n",
       "  'not',\n",
       "  'to',\n",
       "  'use',\n",
       "  'this',\n",
       "  '“',\n",
       "  'greyball',\n",
       "  '”',\n",
       "  'software',\n",
       "  'against',\n",
       "  'law',\n",
       "  'enforcement',\n",
       "  '–',\n",
       "  'one',\n",
       "  'wonders',\n",
       "  'what',\n",
       "  'would',\n",
       "  'happen',\n",
       "  'to',\n",
       "  'someone',\n",
       "  'carrying',\n",
       "  'a',\n",
       "  'knife',\n",
       "  'who',\n",
       "  'promised',\n",
       "  'never',\n",
       "  'to',\n",
       "  'stab',\n",
       "  'a',\n",
       "  'policeman',\n",
       "  'with',\n",
       "  'it',\n",
       "  '.'],\n",
       " ['Travis',\n",
       "  'Kalanick',\n",
       "  'of',\n",
       "  'Uber',\n",
       "  'got',\n",
       "  'a',\n",
       "  'personal',\n",
       "  'dressing',\n",
       "  'down',\n",
       "  'from',\n",
       "  'Tim',\n",
       "  'Cook',\n",
       "  ',',\n",
       "  'who',\n",
       "  'runs',\n",
       "  'Apple',\n",
       "  ',',\n",
       "  'but',\n",
       "  'the',\n",
       "  'company',\n",
       "  'did',\n",
       "  'not',\n",
       "  'prohibit',\n",
       "  'the',\n",
       "  'use',\n",
       "  'of',\n",
       "  'the',\n",
       "  'app',\n",
       "  '.'],\n",
       " ['Too', 'much', 'money', 'was', 'at', 'stake', 'for', 'that', '.'],\n",
       " ['Millions',\n",
       "  'of',\n",
       "  'people',\n",
       "  'around',\n",
       "  'the',\n",
       "  'world',\n",
       "  'value',\n",
       "  'the',\n",
       "  'cheapness',\n",
       "  'and',\n",
       "  'convenience',\n",
       "  'of',\n",
       "  'Uber',\n",
       "  '’',\n",
       "  's',\n",
       "  'rides',\n",
       "  'too',\n",
       "  'much',\n",
       "  'to',\n",
       "  'care',\n",
       "  'about',\n",
       "  'the',\n",
       "  'lack',\n",
       "  'of',\n",
       "  'drivers',\n",
       "  '’',\n",
       "  'rights',\n",
       "  'or',\n",
       "  'pay',\n",
       "  '.'],\n",
       " ['Many',\n",
       "  'of',\n",
       "  'the',\n",
       "  'users',\n",
       "  'themselves',\n",
       "  'are',\n",
       "  'not',\n",
       "  'much',\n",
       "  'richer',\n",
       "  'than',\n",
       "  'the',\n",
       "  'drivers',\n",
       "  '.'],\n",
       " ['The',\n",
       "  '“',\n",
       "  'sharing',\n",
       "  'economy',\n",
       "  '”',\n",
       "  'encourages',\n",
       "  'the',\n",
       "  'insecure',\n",
       "  'and',\n",
       "  'exploited',\n",
       "  'to',\n",
       "  'exploit',\n",
       "  'others',\n",
       "  'equally',\n",
       "  'insecure',\n",
       "  'to',\n",
       "  'the',\n",
       "  'profit',\n",
       "  'of',\n",
       "  'a',\n",
       "  'tiny',\n",
       "  'clique',\n",
       "  'of',\n",
       "  'billionaires',\n",
       "  '.'],\n",
       " ['Silicon',\n",
       "  'Valley',\n",
       "  '’',\n",
       "  's',\n",
       "  'culture',\n",
       "  'seems',\n",
       "  'hostile',\n",
       "  'to',\n",
       "  'humane',\n",
       "  'and',\n",
       "  'democratic',\n",
       "  'values',\n",
       "  '.'],\n",
       " ['The',\n",
       "  'outgoing',\n",
       "  'CEO',\n",
       "  'of',\n",
       "  'Yahoo',\n",
       "  ',',\n",
       "  'Marissa',\n",
       "  'Mayer',\n",
       "  ',',\n",
       "  'who',\n",
       "  'is',\n",
       "  'widely',\n",
       "  'judged',\n",
       "  'to',\n",
       "  'have',\n",
       "  'been',\n",
       "  'a',\n",
       "  'failure',\n",
       "  ',',\n",
       "  'is',\n",
       "  'likely',\n",
       "  'to',\n",
       "  'get',\n",
       "  'a',\n",
       "  '$',\n",
       "  '186m',\n",
       "  'payout',\n",
       "  '.'],\n",
       " ['This',\n",
       "  'may',\n",
       "  'not',\n",
       "  'be',\n",
       "  'a',\n",
       "  'cause',\n",
       "  'for',\n",
       "  'panic',\n",
       "  ',',\n",
       "  'any',\n",
       "  'more',\n",
       "  'than',\n",
       "  'the',\n",
       "  'previous',\n",
       "  'hero',\n",
       "  'worship',\n",
       "  'should',\n",
       "  'have',\n",
       "  'been',\n",
       "  'a',\n",
       "  'cause',\n",
       "  'for',\n",
       "  'euphoria',\n",
       "  '.'],\n",
       " ['Yet',\n",
       "  'there',\n",
       "  '’',\n",
       "  's',\n",
       "  'an',\n",
       "  'urgent',\n",
       "  'political',\n",
       "  'task',\n",
       "  'to',\n",
       "  'tame',\n",
       "  'these',\n",
       "  'companies',\n",
       "  ',',\n",
       "  'to',\n",
       "  'ensure',\n",
       "  'they',\n",
       "  'are',\n",
       "  'punished',\n",
       "  'when',\n",
       "  'they',\n",
       "  'break',\n",
       "  'the',\n",
       "  'law',\n",
       "  ',',\n",
       "  'that',\n",
       "  'they',\n",
       "  'pay',\n",
       "  'their',\n",
       "  'taxes',\n",
       "  'fairly',\n",
       "  'and',\n",
       "  'that',\n",
       "  'they',\n",
       "  'behave',\n",
       "  'responsibly',\n",
       "  '.']]"
      ]
     },
     "execution_count": 153,
     "metadata": {},
     "output_type": "execute_result"
    }
   ],
   "source": [
    "# tokenize each sentence into words:\n",
    "token_sentences = [nltk.word_tokenize(sent) for sent in sentences]\n",
    "token_sentences"
   ]
  },
  {
   "cell_type": "code",
   "execution_count": 156,
   "metadata": {},
   "outputs": [
    {
     "data": {
      "text/plain": [
       "[[('\\ufeffThe', 'JJ'),\n",
       "  ('taxi-hailing', 'JJ'),\n",
       "  ('company', 'NN'),\n",
       "  ('Uber', 'NNP'),\n",
       "  ('brings', 'VBZ'),\n",
       "  ('into', 'IN'),\n",
       "  ('very', 'RB'),\n",
       "  ('sharp', 'JJ'),\n",
       "  ('focus', 'VB'),\n",
       "  ('the', 'DT'),\n",
       "  ('question', 'NN'),\n",
       "  ('of', 'IN'),\n",
       "  ('whether', 'IN'),\n",
       "  ('corporations', 'NNS'),\n",
       "  ('can', 'MD'),\n",
       "  ('be', 'VB'),\n",
       "  ('said', 'VBD'),\n",
       "  ('to', 'TO'),\n",
       "  ('have', 'VB'),\n",
       "  ('a', 'DT'),\n",
       "  ('moral', 'JJ'),\n",
       "  ('character', 'NN'),\n",
       "  ('.', '.')],\n",
       " [('If', 'IN'),\n",
       "  ('any', 'DT'),\n",
       "  ('human', 'JJ'),\n",
       "  ('being', 'VBG'),\n",
       "  ('were', 'VBD'),\n",
       "  ('to', 'TO'),\n",
       "  ('behave', 'VB'),\n",
       "  ('with', 'IN'),\n",
       "  ('the', 'DT'),\n",
       "  ('single-minded', 'JJ'),\n",
       "  ('and', 'CC'),\n",
       "  ('ruthless', 'JJ'),\n",
       "  ('greed', 'NN'),\n",
       "  ('of', 'IN'),\n",
       "  ('the', 'DT'),\n",
       "  ('company', 'NN'),\n",
       "  (',', ','),\n",
       "  ('we', 'PRP'),\n",
       "  ('would', 'MD'),\n",
       "  ('consider', 'VB'),\n",
       "  ('them', 'PRP'),\n",
       "  ('sociopathic', 'JJ'),\n",
       "  ('.', '.')],\n",
       " [('Uber', 'NNP'),\n",
       "  ('wanted', 'VBD'),\n",
       "  ('to', 'TO'),\n",
       "  ('know', 'VB'),\n",
       "  ('as', 'RB'),\n",
       "  ('much', 'JJ'),\n",
       "  ('as', 'IN'),\n",
       "  ('possible', 'JJ'),\n",
       "  ('about', 'IN'),\n",
       "  ('the', 'DT'),\n",
       "  ('people', 'NNS'),\n",
       "  ('who', 'WP'),\n",
       "  ('use', 'VBP'),\n",
       "  ('its', 'PRP$'),\n",
       "  ('service', 'NN'),\n",
       "  (',', ','),\n",
       "  ('and', 'CC'),\n",
       "  ('those', 'DT'),\n",
       "  ('who', 'WP'),\n",
       "  ('don', 'VBP'),\n",
       "  ('’', 'JJ'),\n",
       "  ('t', 'NN'),\n",
       "  ('.', '.')],\n",
       " [('It', 'PRP'),\n",
       "  ('has', 'VBZ'),\n",
       "  ('an', 'DT'),\n",
       "  ('arrangement', 'NN'),\n",
       "  ('with', 'IN'),\n",
       "  ('unroll.me', 'JJ'),\n",
       "  (',', ','),\n",
       "  ('a', 'DT'),\n",
       "  ('company', 'NN'),\n",
       "  ('which', 'WDT'),\n",
       "  ('offered', 'VBD'),\n",
       "  ('a', 'DT'),\n",
       "  ('free', 'JJ'),\n",
       "  ('service', 'NN'),\n",
       "  ('for', 'IN'),\n",
       "  ('unsubscribing', 'VBG'),\n",
       "  ('from', 'IN'),\n",
       "  ('junk', 'NN'),\n",
       "  ('mail', 'NN'),\n",
       "  (',', ','),\n",
       "  ('to', 'TO'),\n",
       "  ('buy', 'VB'),\n",
       "  ('the', 'DT'),\n",
       "  ('contacts', 'NNS'),\n",
       "  ('unroll.me', 'JJ'),\n",
       "  ('customers', 'NNS'),\n",
       "  ('had', 'VBD'),\n",
       "  ('had', 'VBN'),\n",
       "  ('with', 'IN'),\n",
       "  ('rival', 'JJ'),\n",
       "  ('taxi', 'NN'),\n",
       "  ('companies', 'NNS'),\n",
       "  ('.', '.')],\n",
       " [('Even', 'RB'),\n",
       "  ('if', 'IN'),\n",
       "  ('their', 'PRP$'),\n",
       "  ('email', 'NN'),\n",
       "  ('was', 'VBD'),\n",
       "  ('notionally', 'RB'),\n",
       "  ('anonymised', 'VBN'),\n",
       "  (',', ','),\n",
       "  ('this', 'DT'),\n",
       "  ('use', 'NN'),\n",
       "  ('of', 'IN'),\n",
       "  ('it', 'PRP'),\n",
       "  ('was', 'VBD'),\n",
       "  ('not', 'RB'),\n",
       "  ('something', 'NN'),\n",
       "  ('the', 'DT'),\n",
       "  ('users', 'NNS'),\n",
       "  ('had', 'VBD'),\n",
       "  ('bargained', 'VBN'),\n",
       "  ('for', 'IN'),\n",
       "  ('.', '.')],\n",
       " [('Beyond', 'NN'),\n",
       "  ('that', 'IN'),\n",
       "  (',', ','),\n",
       "  ('it', 'PRP'),\n",
       "  ('keeps', 'VBZ'),\n",
       "  ('track', 'NN'),\n",
       "  ('of', 'IN'),\n",
       "  ('the', 'DT'),\n",
       "  ('phones', 'NNS'),\n",
       "  ('that', 'WDT'),\n",
       "  ('have', 'VBP'),\n",
       "  ('been', 'VBN'),\n",
       "  ('used', 'VBN'),\n",
       "  ('to', 'TO'),\n",
       "  ('summon', 'VB'),\n",
       "  ('its', 'PRP$'),\n",
       "  ('services', 'NNS'),\n",
       "  ('even', 'RB'),\n",
       "  ('after', 'IN'),\n",
       "  ('the', 'DT'),\n",
       "  ('original', 'JJ'),\n",
       "  ('owner', 'NN'),\n",
       "  ('has', 'VBZ'),\n",
       "  ('sold', 'VBN'),\n",
       "  ('them', 'PRP'),\n",
       "  (',', ','),\n",
       "  ('attempting', 'VBG'),\n",
       "  ('this', 'DT'),\n",
       "  ('with', 'IN'),\n",
       "  ('Apple', 'NNP'),\n",
       "  ('’', 'NNP'),\n",
       "  ('s', 'VBP'),\n",
       "  ('phones', 'NNS'),\n",
       "  ('even', 'RB'),\n",
       "  ('thought', 'VBD'),\n",
       "  ('it', 'PRP'),\n",
       "  ('is', 'VBZ'),\n",
       "  ('forbidden', 'VBN'),\n",
       "  ('by', 'IN'),\n",
       "  ('the', 'DT'),\n",
       "  ('company', 'NN'),\n",
       "  ('.', '.')],\n",
       " [('Uber', 'NNP'),\n",
       "  ('has', 'VBZ'),\n",
       "  ('also', 'RB'),\n",
       "  ('tweaked', 'VBN'),\n",
       "  ('its', 'PRP$'),\n",
       "  ('software', 'NN'),\n",
       "  ('so', 'IN'),\n",
       "  ('that', 'DT'),\n",
       "  ('regulatory', 'JJ'),\n",
       "  ('agencies', 'NNS'),\n",
       "  ('that', 'IN'),\n",
       "  ('the', 'DT'),\n",
       "  ('company', 'NN'),\n",
       "  ('regarded', 'VBD'),\n",
       "  ('as', 'IN'),\n",
       "  ('hostile', 'NN'),\n",
       "  ('would', 'MD'),\n",
       "  (',', ','),\n",
       "  ('when', 'WRB'),\n",
       "  ('they', 'PRP'),\n",
       "  ('tried', 'VBD'),\n",
       "  ('to', 'TO'),\n",
       "  ('hire', 'VB'),\n",
       "  ('a', 'DT'),\n",
       "  ('driver', 'NN'),\n",
       "  (',', ','),\n",
       "  ('be', 'VB'),\n",
       "  ('given', 'VBN'),\n",
       "  ('false', 'JJ'),\n",
       "  ('reports', 'NNS'),\n",
       "  ('about', 'IN'),\n",
       "  ('the', 'DT'),\n",
       "  ('location', 'NN'),\n",
       "  ('of', 'IN'),\n",
       "  ('its', 'PRP$'),\n",
       "  ('cars', 'NNS'),\n",
       "  ('.', '.')],\n",
       " [('Uber', 'NNP'),\n",
       "  ('management', 'NN'),\n",
       "  ('booked', 'VBD'),\n",
       "  ('and', 'CC'),\n",
       "  ('then', 'RB'),\n",
       "  ('cancelled', 'VBD'),\n",
       "  ('rides', 'NNS'),\n",
       "  ('with', 'IN'),\n",
       "  ('a', 'DT'),\n",
       "  ('rival', 'JJ'),\n",
       "  ('taxi-hailing', 'JJ'),\n",
       "  ('company', 'NN'),\n",
       "  ('which', 'WDT'),\n",
       "  ('took', 'VBD'),\n",
       "  ('their', 'PRP$'),\n",
       "  ('vehicles', 'NNS'),\n",
       "  ('out', 'IN'),\n",
       "  ('of', 'IN'),\n",
       "  ('circulation', 'NN'),\n",
       "  ('.', '.')],\n",
       " [('Uber', 'NNP'),\n",
       "  ('deny', 'NN'),\n",
       "  ('this', 'DT'),\n",
       "  ('was', 'VBD'),\n",
       "  ('the', 'DT'),\n",
       "  ('intention', 'NN'),\n",
       "  ('.', '.')],\n",
       " [('The', 'DT'),\n",
       "  ('punishment', 'NN'),\n",
       "  ('for', 'IN'),\n",
       "  ('this', 'DT'),\n",
       "  ('behaviour', 'NN'),\n",
       "  ('was', 'VBD'),\n",
       "  ('negligible', 'JJ'),\n",
       "  ('.', '.')],\n",
       " [('Uber', 'NNP'),\n",
       "  ('promised', 'VBD'),\n",
       "  ('not', 'RB'),\n",
       "  ('to', 'TO'),\n",
       "  ('use', 'VB'),\n",
       "  ('this', 'DT'),\n",
       "  ('“', 'NN'),\n",
       "  ('greyball', 'NN'),\n",
       "  ('”', 'NNP'),\n",
       "  ('software', 'NN'),\n",
       "  ('against', 'IN'),\n",
       "  ('law', 'NN'),\n",
       "  ('enforcement', 'NN'),\n",
       "  ('–', 'NNP'),\n",
       "  ('one', 'NN'),\n",
       "  ('wonders', 'VBZ'),\n",
       "  ('what', 'WDT'),\n",
       "  ('would', 'MD'),\n",
       "  ('happen', 'VB'),\n",
       "  ('to', 'TO'),\n",
       "  ('someone', 'NN'),\n",
       "  ('carrying', 'VBG'),\n",
       "  ('a', 'DT'),\n",
       "  ('knife', 'NN'),\n",
       "  ('who', 'WP'),\n",
       "  ('promised', 'VBD'),\n",
       "  ('never', 'RB'),\n",
       "  ('to', 'TO'),\n",
       "  ('stab', 'VB'),\n",
       "  ('a', 'DT'),\n",
       "  ('policeman', 'NN'),\n",
       "  ('with', 'IN'),\n",
       "  ('it', 'PRP'),\n",
       "  ('.', '.')],\n",
       " [('Travis', 'NNP'),\n",
       "  ('Kalanick', 'NNP'),\n",
       "  ('of', 'IN'),\n",
       "  ('Uber', 'NNP'),\n",
       "  ('got', 'VBD'),\n",
       "  ('a', 'DT'),\n",
       "  ('personal', 'JJ'),\n",
       "  ('dressing', 'VBG'),\n",
       "  ('down', 'RP'),\n",
       "  ('from', 'IN'),\n",
       "  ('Tim', 'NNP'),\n",
       "  ('Cook', 'NNP'),\n",
       "  (',', ','),\n",
       "  ('who', 'WP'),\n",
       "  ('runs', 'VBZ'),\n",
       "  ('Apple', 'NNP'),\n",
       "  (',', ','),\n",
       "  ('but', 'CC'),\n",
       "  ('the', 'DT'),\n",
       "  ('company', 'NN'),\n",
       "  ('did', 'VBD'),\n",
       "  ('not', 'RB'),\n",
       "  ('prohibit', 'VB'),\n",
       "  ('the', 'DT'),\n",
       "  ('use', 'NN'),\n",
       "  ('of', 'IN'),\n",
       "  ('the', 'DT'),\n",
       "  ('app', 'NN'),\n",
       "  ('.', '.')],\n",
       " [('Too', 'RB'),\n",
       "  ('much', 'JJ'),\n",
       "  ('money', 'NN'),\n",
       "  ('was', 'VBD'),\n",
       "  ('at', 'IN'),\n",
       "  ('stake', 'NN'),\n",
       "  ('for', 'IN'),\n",
       "  ('that', 'DT'),\n",
       "  ('.', '.')],\n",
       " [('Millions', 'NNS'),\n",
       "  ('of', 'IN'),\n",
       "  ('people', 'NNS'),\n",
       "  ('around', 'IN'),\n",
       "  ('the', 'DT'),\n",
       "  ('world', 'NN'),\n",
       "  ('value', 'NN'),\n",
       "  ('the', 'DT'),\n",
       "  ('cheapness', 'NN'),\n",
       "  ('and', 'CC'),\n",
       "  ('convenience', 'NN'),\n",
       "  ('of', 'IN'),\n",
       "  ('Uber', 'NNP'),\n",
       "  ('’', 'NNP'),\n",
       "  ('s', 'VBD'),\n",
       "  ('rides', 'NNS'),\n",
       "  ('too', 'RB'),\n",
       "  ('much', 'RB'),\n",
       "  ('to', 'TO'),\n",
       "  ('care', 'VB'),\n",
       "  ('about', 'IN'),\n",
       "  ('the', 'DT'),\n",
       "  ('lack', 'NN'),\n",
       "  ('of', 'IN'),\n",
       "  ('drivers', 'NNS'),\n",
       "  ('’', 'NNP'),\n",
       "  ('rights', 'NNS'),\n",
       "  ('or', 'CC'),\n",
       "  ('pay', 'NN'),\n",
       "  ('.', '.')],\n",
       " [('Many', 'JJ'),\n",
       "  ('of', 'IN'),\n",
       "  ('the', 'DT'),\n",
       "  ('users', 'NNS'),\n",
       "  ('themselves', 'PRP'),\n",
       "  ('are', 'VBP'),\n",
       "  ('not', 'RB'),\n",
       "  ('much', 'RB'),\n",
       "  ('richer', 'JJR'),\n",
       "  ('than', 'IN'),\n",
       "  ('the', 'DT'),\n",
       "  ('drivers', 'NNS'),\n",
       "  ('.', '.')],\n",
       " [('The', 'DT'),\n",
       "  ('“', 'JJ'),\n",
       "  ('sharing', 'VBG'),\n",
       "  ('economy', 'NN'),\n",
       "  ('”', 'JJ'),\n",
       "  ('encourages', 'VBZ'),\n",
       "  ('the', 'DT'),\n",
       "  ('insecure', 'NN'),\n",
       "  ('and', 'CC'),\n",
       "  ('exploited', 'VBD'),\n",
       "  ('to', 'TO'),\n",
       "  ('exploit', 'VB'),\n",
       "  ('others', 'NNS'),\n",
       "  ('equally', 'RB'),\n",
       "  ('insecure', 'VBP'),\n",
       "  ('to', 'TO'),\n",
       "  ('the', 'DT'),\n",
       "  ('profit', 'NN'),\n",
       "  ('of', 'IN'),\n",
       "  ('a', 'DT'),\n",
       "  ('tiny', 'JJ'),\n",
       "  ('clique', 'NN'),\n",
       "  ('of', 'IN'),\n",
       "  ('billionaires', 'NNS'),\n",
       "  ('.', '.')],\n",
       " [('Silicon', 'NNP'),\n",
       "  ('Valley', 'NNP'),\n",
       "  ('’', 'NNP'),\n",
       "  ('s', 'JJ'),\n",
       "  ('culture', 'NN'),\n",
       "  ('seems', 'VBZ'),\n",
       "  ('hostile', 'JJ'),\n",
       "  ('to', 'TO'),\n",
       "  ('humane', 'NN'),\n",
       "  ('and', 'CC'),\n",
       "  ('democratic', 'JJ'),\n",
       "  ('values', 'NNS'),\n",
       "  ('.', '.')],\n",
       " [('The', 'DT'),\n",
       "  ('outgoing', 'VBG'),\n",
       "  ('CEO', 'NNP'),\n",
       "  ('of', 'IN'),\n",
       "  ('Yahoo', 'NNP'),\n",
       "  (',', ','),\n",
       "  ('Marissa', 'NNP'),\n",
       "  ('Mayer', 'NNP'),\n",
       "  (',', ','),\n",
       "  ('who', 'WP'),\n",
       "  ('is', 'VBZ'),\n",
       "  ('widely', 'RB'),\n",
       "  ('judged', 'VBN'),\n",
       "  ('to', 'TO'),\n",
       "  ('have', 'VB'),\n",
       "  ('been', 'VBN'),\n",
       "  ('a', 'DT'),\n",
       "  ('failure', 'NN'),\n",
       "  (',', ','),\n",
       "  ('is', 'VBZ'),\n",
       "  ('likely', 'JJ'),\n",
       "  ('to', 'TO'),\n",
       "  ('get', 'VB'),\n",
       "  ('a', 'DT'),\n",
       "  ('$', '$'),\n",
       "  ('186m', 'CD'),\n",
       "  ('payout', 'NN'),\n",
       "  ('.', '.')],\n",
       " [('This', 'DT'),\n",
       "  ('may', 'MD'),\n",
       "  ('not', 'RB'),\n",
       "  ('be', 'VB'),\n",
       "  ('a', 'DT'),\n",
       "  ('cause', 'NN'),\n",
       "  ('for', 'IN'),\n",
       "  ('panic', 'NN'),\n",
       "  (',', ','),\n",
       "  ('any', 'DT'),\n",
       "  ('more', 'JJR'),\n",
       "  ('than', 'IN'),\n",
       "  ('the', 'DT'),\n",
       "  ('previous', 'JJ'),\n",
       "  ('hero', 'NN'),\n",
       "  ('worship', 'NN'),\n",
       "  ('should', 'MD'),\n",
       "  ('have', 'VB'),\n",
       "  ('been', 'VBN'),\n",
       "  ('a', 'DT'),\n",
       "  ('cause', 'NN'),\n",
       "  ('for', 'IN'),\n",
       "  ('euphoria', 'NN'),\n",
       "  ('.', '.')],\n",
       " [('Yet', 'RB'),\n",
       "  ('there', 'EX'),\n",
       "  ('’', 'NNP'),\n",
       "  ('s', 'VBD'),\n",
       "  ('an', 'DT'),\n",
       "  ('urgent', 'JJ'),\n",
       "  ('political', 'JJ'),\n",
       "  ('task', 'NN'),\n",
       "  ('to', 'TO'),\n",
       "  ('tame', 'VB'),\n",
       "  ('these', 'DT'),\n",
       "  ('companies', 'NNS'),\n",
       "  (',', ','),\n",
       "  ('to', 'TO'),\n",
       "  ('ensure', 'VB'),\n",
       "  ('they', 'PRP'),\n",
       "  ('are', 'VBP'),\n",
       "  ('punished', 'VBN'),\n",
       "  ('when', 'WRB'),\n",
       "  ('they', 'PRP'),\n",
       "  ('break', 'VBP'),\n",
       "  ('the', 'DT'),\n",
       "  ('law', 'NN'),\n",
       "  (',', ','),\n",
       "  ('that', 'IN'),\n",
       "  ('they', 'PRP'),\n",
       "  ('pay', 'VBP'),\n",
       "  ('their', 'PRP$'),\n",
       "  ('taxes', 'NNS'),\n",
       "  ('fairly', 'RB'),\n",
       "  ('and', 'CC'),\n",
       "  ('that', 'IN'),\n",
       "  ('they', 'PRP'),\n",
       "  ('behave', 'VBP'),\n",
       "  ('responsibly', 'RB'),\n",
       "  ('.', '.')]]"
      ]
     },
     "execution_count": 156,
     "metadata": {},
     "output_type": "execute_result"
    }
   ],
   "source": [
    "# Tag each tokenized sentene into parts of speech:\n",
    "pos_sentences = [nltk.pos_tag(sent) for sent in token_sentences]\n",
    "pos_sentences"
   ]
  },
  {
   "cell_type": "code",
   "execution_count": 163,
   "metadata": {},
   "outputs": [
    {
     "data": {
      "text/plain": [
       "<generator object ParserI.parse_sents.<locals>.<genexpr> at 0x1a26132f68>"
      ]
     },
     "execution_count": 163,
     "metadata": {},
     "output_type": "execute_result"
    }
   ],
   "source": [
    "# Create the named entity chunks:\n",
    "chunked_sentences = nltk.ne_chunk_sents(pos_sentences, binary = True)\n",
    "chunked_sentences"
   ]
  },
  {
   "cell_type": "code",
   "execution_count": 164,
   "metadata": {},
   "outputs": [
    {
     "name": "stdout",
     "output_type": "stream",
     "text": [
      "(NE Uber/NNP)\n",
      "(NE Beyond/NN)\n",
      "(NE Apple/NNP)\n",
      "(NE Uber/NNP)\n",
      "(NE Uber/NNP)\n",
      "(NE Travis/NNP Kalanick/NNP)\n",
      "(NE Tim/NNP Cook/NNP)\n",
      "(NE Apple/NNP)\n",
      "(NE Silicon/NNP Valley/NNP)\n",
      "(NE CEO/NNP)\n",
      "(NE Yahoo/NNP)\n",
      "(NE Marissa/NNP Mayer/NNP)\n"
     ]
    }
   ],
   "source": [
    "# test for stems of the tree with 'NE' tages\n",
    "for sent in chunked_sentences:\n",
    "    for chunk in sent:\n",
    "        if hasattr(chunk, 'label') and chunk.label() == 'NE':\n",
    "            print(chunk)"
   ]
  },
  {
   "cell_type": "markdown",
   "metadata": {},
   "source": [
    "## Charting Practice\n",
    "chart the diversity of named entity types in the article\n",
    "\n",
    "use a `defaultdict` called ner_categories, with keys representing every named entity group type, and values to count the number of each different named entity type. "
   ]
  },
  {
   "cell_type": "code",
   "execution_count": 183,
   "metadata": {
    "collapsed": true
   },
   "outputs": [],
   "source": [
    "ner_categories = defaultdict(int)"
   ]
  },
  {
   "cell_type": "code",
   "execution_count": 184,
   "metadata": {},
   "outputs": [
    {
     "data": {
      "text/plain": [
       "<generator object ParserI.parse_sents.<locals>.<genexpr> at 0x1a246f55c8>"
      ]
     },
     "execution_count": 184,
     "metadata": {},
     "output_type": "execute_result"
    }
   ],
   "source": [
    "#Use a chunked sentence list called `chunked_sentences` similar \n",
    "#to the last one, but this time with non-binary category names\n",
    "chunked_sentences = nltk.ne_chunk_sents(pos_sentences, binary = False)\n",
    "chunked_sentences"
   ]
  },
  {
   "cell_type": "code",
   "execution_count": 185,
   "metadata": {
    "collapsed": true
   },
   "outputs": [],
   "source": [
    "#use hasattr() to determine if each chunk has a 'label' and \n",
    "# then simply use the chunk's .label() method as the dict key\n",
    "for sent in chunked_sentences:\n",
    "    for chunk in sent:\n",
    "        if hasattr(chunk, 'label'):\n",
    "            ner_categories[chunk.label()] += 1"
   ]
  },
  {
   "cell_type": "code",
   "execution_count": 186,
   "metadata": {},
   "outputs": [
    {
     "data": {
      "text/plain": [
       "defaultdict(int, {'GPE': 2, 'ORGANIZATION': 1, 'PERSON': 7})"
      ]
     },
     "execution_count": 186,
     "metadata": {},
     "output_type": "execute_result"
    }
   ],
   "source": [
    "ner_categories"
   ]
  },
  {
   "cell_type": "code",
   "execution_count": 187,
   "metadata": {},
   "outputs": [
    {
     "data": {
      "text/plain": [
       "['GPE', 'PERSON', 'ORGANIZATION']"
      ]
     },
     "execution_count": 187,
     "metadata": {},
     "output_type": "execute_result"
    }
   ],
   "source": [
    "# create a list from the dict keys for the chart labels\n",
    "labels = list(ner_categories.keys())\n",
    "labels"
   ]
  },
  {
   "cell_type": "code",
   "execution_count": 190,
   "metadata": {},
   "outputs": [
    {
     "data": {
      "text/plain": [
       "[2, 7, 1]"
      ]
     },
     "execution_count": 190,
     "metadata": {},
     "output_type": "execute_result"
    }
   ],
   "source": [
    "values = [ner_categories.get(l) for l in labels]\n",
    "values"
   ]
  },
  {
   "cell_type": "code",
   "execution_count": 191,
   "metadata": {},
   "outputs": [
    {
     "data": {
      "image/png": "[encoded data removed]",
      "text/plain": [
       "<matplotlib.figure.Figure at 0x1a1dfa7ba8>"
      ]
     },
     "metadata": {},
     "output_type": "display_data"
    }
   ],
   "source": [
    "# create the pie chart\n",
    "plt.pie(values, labels = labels, autopct = '%1.1f%%', startangle = 140)\n",
    "plt.show()"
   ]
  },
  {
   "cell_type": "markdown",
   "metadata": {},
   "source": [
    "## SpaCy\n",
    "NLP library like gensim but with different implementations\n",
    "- open source\n",
    "    - displacy\n",
    "    - visualizing trees\n",
    "- Focus on creating NLP pipelines to generate models and corpora"
   ]
  },
  {
   "cell_type": "code",
   "execution_count": 192,
   "metadata": {
    "collapsed": true
   },
   "outputs": [],
   "source": [
    "import spacy"
   ]
  },
  {
   "cell_type": "code",
   "execution_count": 193,
   "metadata": {
    "collapsed": true
   },
   "outputs": [],
   "source": [
    "nlp = spacy.load('en')"
   ]
  },
  {
   "cell_type": "code",
   "execution_count": 194,
   "metadata": {},
   "outputs": [
    {
     "data": {
      "text/plain": [
       "<spacy.pipeline.EntityRecognizer at 0x1a2cd4d0a0>"
      ]
     },
     "execution_count": 194,
     "metadata": {},
     "output_type": "execute_result"
    }
   ],
   "source": [
    "nlp.entity"
   ]
  },
  {
   "cell_type": "code",
   "execution_count": 195,
   "metadata": {
    "collapsed": true
   },
   "outputs": [],
   "source": [
    "doc = nlp(\"\"\"Berlin is the capital of Germany;\n",
    "and the residence of Chancellor Angela Merkel.\"\"\")"
   ]
  },
  {
   "cell_type": "code",
   "execution_count": 196,
   "metadata": {},
   "outputs": [
    {
     "data": {
      "text/plain": [
       "(Berlin, Germany, , Angela Merkel)"
      ]
     },
     "execution_count": 196,
     "metadata": {},
     "output_type": "execute_result"
    }
   ],
   "source": [
    "doc.ents"
   ]
  },
  {
   "cell_type": "code",
   "execution_count": 197,
   "metadata": {},
   "outputs": [
    {
     "name": "stdout",
     "output_type": "stream",
     "text": [
      "Berlin GPE\n"
     ]
    }
   ],
   "source": [
    "print(doc.ents[0], doc.ents[0].label_)"
   ]
  },
  {
   "cell_type": "markdown",
   "metadata": {},
   "source": [
    "spacy also has advanced german and chinese implementations\n",
    "\n",
    "## Why use SpaCy for NER?\n",
    "- Easy pipeline creation\n",
    "- Different entity types compared to `nltk`\n",
    "- informal language corpora\n",
    "    - easily find entities in Tweets and chat messages\n",
    "    - quickly growing!\n",
    "    \n",
    "### Comparing NLTK with spaCy NER\n",
    "- results of using spaCy's NER annotator."
   ]
  },
  {
   "cell_type": "code",
   "execution_count": 203,
   "metadata": {
    "scrolled": true
   },
   "outputs": [
    {
     "data": {
      "text/plain": [
       "'\\ufeffThe taxi-hailing company Uber brings into very sharp focus the question of whether corporations can be said to have a moral character. If any human being were to behave with the single-minded and ruthless greed of the company, we would consider them sociopathic. Uber wanted to know as much as possible about the people who use its service, and those who don’t. It has an arrangement with unroll.me, a company which offered a free service for unsubscribing from junk mail, to buy the contacts unroll.me customers had had with rival taxi companies. Even if their email was notionally anonymised, this use of it was not something the users had bargained for. Beyond that, it keeps track of the phones that have been used to summon its services even after the original owner has sold them, attempting this with Apple’s phones even thought it is forbidden by the company.\\r\\n\\r\\n\\r\\nUber has also tweaked its software so that regulatory agencies that the company regarded as hostile would, when they tried to hire a driver, be given false reports about the location of its cars. Uber management booked and then cancelled rides with a rival taxi-hailing company which took their vehicles out of circulation. Uber deny this was the intention. The punishment for this behaviour was negligible. Uber promised not to use this “greyball” software against law enforcement – one wonders what would happen to someone carrying a knife who promised never to stab a policeman with it. Travis Kalanick of Uber got a personal dressing down from Tim Cook, who runs Apple, but the company did not prohibit the use of the app. Too much money was at stake for that.\\r\\n\\r\\n\\r\\nMillions of people around the world value the cheapness and convenience of Uber’s rides too much to care about the lack of drivers’ rights or pay. Many of the users themselves are not much richer than the drivers. The “sharing economy” encourages the insecure and exploited to exploit others equally insecure to the profit of a tiny clique of billionaires. Silicon Valley’s culture seems hostile to humane and democratic values. The outgoing CEO of Yahoo, Marissa Mayer, who is widely judged to have been a failure, is likely to get a $186m payout. This may not be a cause for panic, any more than the previous hero worship should have been a cause for euphoria. Yet there’s an urgent political task to tame these companies, to ensure they are punished when they break the law, that they pay their taxes fairly and that they behave responsibly.'"
      ]
     },
     "execution_count": 203,
     "metadata": {},
     "output_type": "execute_result"
    }
   ],
   "source": [
    "article"
   ]
  },
  {
   "cell_type": "code",
   "execution_count": 202,
   "metadata": {
    "scrolled": true
   },
   "outputs": [
    {
     "data": {
      "text/plain": [
       "﻿The taxi-hailing company Uber brings into very sharp focus the question of whether corporations can be said to have a moral character. If any human being were to behave with the single-minded and ruthless greed of the company, we would consider them sociopathic. Uber wanted to know as much as possible about the people who use its service, and those who don’t. It has an arrangement with unroll.me, a company which offered a free service for unsubscribing from junk mail, to buy the contacts unroll.me customers had had with rival taxi companies. Even if their email was notionally anonymised, this use of it was not something the users had bargained for. Beyond that, it keeps track of the phones that have been used to summon its services even after the original owner has sold them, attempting this with Apple’s phones even thought it is forbidden by the company.\n",
       "\n",
       "\n",
       "Uber has also tweaked its software so that regulatory agencies that the company regarded as hostile would, when they tried to hire a driver, be given false reports about the location of its cars. Uber management booked and then cancelled rides with a rival taxi-hailing company which took their vehicles out of circulation. Uber deny this was the intention. The punishment for this behaviour was negligible. Uber promised not to use this “greyball” software against law enforcement – one wonders what would happen to someone carrying a knife who promised never to stab a policeman with it. Travis Kalanick of Uber got a personal dressing down from Tim Cook, who runs Apple, but the company did not prohibit the use of the app. Too much money was at stake for that.\n",
       "\n",
       "\n",
       "Millions of people around the world value the cheapness and convenience of Uber’s rides too much to care about the lack of drivers’ rights or pay. Many of the users themselves are not much richer than the drivers. The “sharing economy” encourages the insecure and exploited to exploit others equally insecure to the profit of a tiny clique of billionaires. Silicon Valley’s culture seems hostile to humane and democratic values. The outgoing CEO of Yahoo, Marissa Mayer, who is widely judged to have been a failure, is likely to get a $186m payout. This may not be a cause for panic, any more than the previous hero worship should have been a cause for euphoria. Yet there’s an urgent political task to tame these companies, to ensure they are punished when they break the law, that they pay their taxes fairly and that they behave responsibly."
      ]
     },
     "execution_count": 202,
     "metadata": {},
     "output_type": "execute_result"
    }
   ],
   "source": [
    "doc = nlp(article)\n",
    "doc"
   ]
  },
  {
   "cell_type": "code",
   "execution_count": 204,
   "metadata": {},
   "outputs": [
    {
     "name": "stdout",
     "output_type": "stream",
     "text": [
      "ORG Uber\n",
      "ORG Uber\n",
      "ORG Apple\n",
      "ORG Uber\n",
      "ORG Uber\n",
      "PERSON Travis Kalanick\n",
      "ORG Uber\n",
      "PERSON Tim Cook\n",
      "ORG Apple\n",
      "CARDINAL Millions\n",
      "ORG Uber\n",
      "GPE drivers’\n",
      "LOC Silicon Valley’s\n",
      "ORG Yahoo\n",
      "PERSON Marissa Mayer\n",
      "MONEY $186m\n"
     ]
    }
   ],
   "source": [
    "for ent in doc.ents:\n",
    "    print(ent.label_, ent.text)"
   ]
  },
  {
   "cell_type": "markdown",
   "metadata": {},
   "source": [
    "## Multilingual NER with polyglot\n",
    "- word vectors for NLP\n",
    "- Why `polyglot?`\n",
    "    - vectors for many different languages\n",
    "        - More than 130!\n",
    "    - can handle transliteration\n",
    "\n",
    "French & Spanish NER with `polyglot`"
   ]
  },
  {
   "cell_type": "code",
   "execution_count": 228,
   "metadata": {},
   "outputs": [],
   "source": [
    "from polyglot.text import Text"
   ]
  },
  {
   "cell_type": "code",
   "execution_count": 229,
   "metadata": {},
   "outputs": [],
   "source": [
    "article = \"\\ufeffédition abonné\\r\\n\\r\\n\\r\\nDans une tribune au « Monde », l’universitaire Charles Cuvelliez estime que le fantasme d’un remplacement de l’homme par l’algorithme et le robot repose sur un malentendu.\\r\\n\\r\\n\\r\\nLe Monde | 10.05.2017 à 06h44 • Mis à jour le 10.05.2017 à 09h47 | Par Charles Cuvelliez (Professeur à l’Ecole polytechnique de l'université libre de Bruxelles)\\r\\n\\r\\n\\r\\nTRIBUNE. L’usage morbide, par certains, de Facebook Live a amené son fondateur à annoncer précipitamment le recrutement de 3 000 modérateurs supplémentaires. Il est vrai que l’intelligence artificielle (IA) est bien en peine de reconnaître des contenus violents, surtout diffusés en direct.\\r\\n\\r\\n\\r\\nLe quotidien affreux de ces modérateurs, contraints de visionner des horreurs à longueur de journée, mériterait pourtant qu’on les remplace vite par des machines !\\r\\n\\r\\n\\r\\nL’IA ne peut pas tout, mais là où elle peut beaucoup, on la maudit, accusée de détruire nos emplois, de remplacer la convivialité humaine. Ce débat repose sur un malentendu.\\r\\n\\r\\n\\r\\nIl vient d’une définition de l’IA qui n’a, dans la réalité, jamais pu être mise en pratique : en 1955, elle était vue comme la création de programmes informatiques qui, quoi qu’on leur confie, le feraient un jour mieux que les humains. On pensait que toute caractéristique de l’intelligence humaine pourrait un jour être si précisément décrite qu’il suffirait d’une machine pour la simuler. Ce n’est pas vrai.\\r\\n\\r\\n\\r\\nAngoisses infondées\\r\\n\\r\\n\\r\\nComme le dit un récent Livre blanc sur la question (Pourquoi il ne faut pas avoir peur de l’Intelligence arti\\xadficielle, Julien Maldonato, Deloitte, mars 2017), rien ne pourra remplacer un humain dans sa globalité.\\r\\n\\r\\n\\r\\nL’IA, c’est de l’apprentissage automatique doté d’un processus d’ajustement de modèles statistiques à des masses de données, explique l’auteur. Il s’agit d’un apprentissage sur des paramètres pour lesquels une vision humaine n’explique pas pourquoi ils marchent si bien dans un contexte donné.\\r\\n\\r\\n\\r\\nC’est aussi ce que dit le rapport de l’Office parlementaire d’évaluation des choix scientifiques et technologiques (« Pour une intelligence artificielle maîtrisée, utile et démystifiée », 29 mars 2017), pour qui ce côté « boîte noire » explique des angoisses infondées. Ethiquement, se fonder sur l’IA pour des tâches critiques sans bien comprendre le comment...\""
   ]
  },
  {
   "cell_type": "code",
   "execution_count": 230,
   "metadata": {},
   "outputs": [],
   "source": [
    "# Create a new text object using Polyglot's Text class: txt\n",
    "txt = Text(article)"
   ]
  },
  {
   "cell_type": "code",
   "execution_count": 231,
   "metadata": {
    "scrolled": true
   },
   "outputs": [
    {
     "data": {
      "text/plain": [
       "Text(\"﻿édition abonné\n",
       "\n",
       "\n",
       "Dans une tribune au « Monde », l’universitaire Charles Cuvelliez estime que le fantasme d’un remplacement de l’homme par l’algorithme et le robot repose sur un malentendu.\n",
       "\n",
       "\n",
       "Le Monde | 10.05.2017 à 06h44 • Mis à jour le 10.05.2017 à 09h47 | Par Charles Cuvelliez (Professeur à l’Ecole polytechnique de l'université libre de Bruxelles)\n",
       "\n",
       "\n",
       "TRIBUNE. L’usage morbide, par certains, de Facebook Live a amené son fondateur à annoncer précipitamment le recrutement de 3 000 modérat...prentissage sur des paramètres pour lesquels une vision humaine n’explique pas pourquoi ils marchent si bien dans un contexte donné.\n",
       "\n",
       "\n",
       "C’est aussi ce que dit le rapport de l’Office parlementaire d’évaluation des choix scientifiques et technologiques (« Pour une intelligence artificielle maîtrisée, utile et démystifiée », 29 mars 2017), pour qui ce côté « boîte noire » explique des angoisses infondées. Ethiquement, se fonder sur l’IA pour des tâches critiques sans bien comprendre le comment...\")"
      ]
     },
     "execution_count": 231,
     "metadata": {},
     "output_type": "execute_result"
    }
   ],
   "source": [
    "txt"
   ]
  },
  {
   "cell_type": "code",
   "execution_count": 237,
   "metadata": {},
   "outputs": [
    {
     "name": "stdout",
     "output_type": "stream",
     "text": [
      "['Charles', 'Cuvelliez']\n",
      "<class 'polyglot.text.Chunk'>\n",
      "['Charles', 'Cuvelliez']\n",
      "<class 'polyglot.text.Chunk'>\n",
      "['Bruxelles']\n",
      "<class 'polyglot.text.Chunk'>\n",
      "['l’IA']\n",
      "<class 'polyglot.text.Chunk'>\n",
      "['Julien', 'Maldonato']\n",
      "<class 'polyglot.text.Chunk'>\n",
      "['Deloitte']\n",
      "<class 'polyglot.text.Chunk'>\n",
      "['Ethiquement']\n",
      "<class 'polyglot.text.Chunk'>\n",
      "['l’IA']\n",
      "<class 'polyglot.text.Chunk'>\n",
      "['.']\n",
      "<class 'polyglot.text.Chunk'>\n"
     ]
    }
   ],
   "source": [
    "# print each of the entities found\n",
    "for ent in txt.entities:\n",
    "    print(ent)\n",
    "    #print(type(ent))"
   ]
  },
  {
   "cell_type": "code",
   "execution_count": 236,
   "metadata": {},
   "outputs": [
    {
     "name": "stdout",
     "output_type": "stream",
     "text": [
      "<class 'polyglot.text.Chunk'>\n"
     ]
    }
   ],
   "source": [
    "print(type(ent))"
   ]
  },
  {
   "cell_type": "code",
   "execution_count": 238,
   "metadata": {},
   "outputs": [
    {
     "name": "stdout",
     "output_type": "stream",
     "text": [
      "[('I-PER', 'Charles Cuvelliez'), ('I-PER', 'Charles Cuvelliez'), ('I-ORG', 'Bruxelles'), ('I-PER', 'l’IA'), ('I-PER', 'Julien Maldonato'), ('I-ORG', 'Deloitte'), ('I-PER', 'Ethiquement'), ('I-LOC', 'l’IA'), ('I-PER', '.')]\n"
     ]
    }
   ],
   "source": [
    "entities = [(ent.tag, ' '.join(ent)) for ent in txt.entities]\n",
    "\n",
    "print(entities)"
   ]
  },
  {
   "cell_type": "markdown",
   "metadata": {},
   "source": [
    "#### Spanish NER with polyglot"
   ]
  },
  {
   "cell_type": "code",
   "execution_count": 246,
   "metadata": {
    "collapsed": true
   },
   "outputs": [],
   "source": [
    "articulo = \"Lina del Castillo es profesora en el Instituto de Estudios Latinoamericanos Teresa Lozano Long (LLILAS) y el Departamento de Historia de la Universidad de Texas en Austin. Ella será la moderadora del panel “Los Mundos Políticos de Gabriel García Márquez” este viernes, Oct. 30, en el simposio Gabriel García Márquez: Vida y Legado.\\n\\n\\nLIna del Castillo\\n\\n\\nActualmente, sus investigaciones abarcan la intersección de cartografía, disputas a las demandas de tierra y recursos, y la formación del n...el tren de medianoche que lleva a miles y miles de cadáveres uno encima del otro como tantos racimos del banano que acabarán tirados al mar. Ningún recuento periodístico podría provocar nuestra imaginación y nuestra memoria como este relato de García Márquez.\\n\\n\\nContenido Relacionado\\n\\n\\nLea más artículos sobre el archivo de Gabriel García Márquez\\n\\n\\nReciba mensualmente las últimas noticias e información del Harry Ransom Center con eNews, nuestro correo electrónico mensual. ¡Suscríbase hoy!\""
   ]
  },
  {
   "cell_type": "code",
   "execution_count": 247,
   "metadata": {},
   "outputs": [],
   "source": [
    "txt = Text(articulo)"
   ]
  },
  {
   "cell_type": "code",
   "execution_count": 248,
   "metadata": {},
   "outputs": [
    {
     "data": {
      "text/plain": [
       "Text(\"Lina del Castillo es profesora en el Instituto de Estudios Latinoamericanos Teresa Lozano Long (LLILAS) y el Departamento de Historia de la Universidad de Texas en Austin. Ella será la moderadora del panel “Los Mundos Políticos de Gabriel García Márquez” este viernes, Oct. 30, en el simposio Gabriel García Márquez: Vida y Legado.\n",
       "\n",
       "\n",
       "LIna del Castillo\n",
       "\n",
       "\n",
       "Actualmente, sus investigaciones abarcan la intersección de cartografía, disputas a las demandas de tierra y recursos, y la formación del n...el tren de medianoche que lleva a miles y miles de cadáveres uno encima del otro como tantos racimos del banano que acabarán tirados al mar. Ningún recuento periodístico podría provocar nuestra imaginación y nuestra memoria como este relato de García Márquez.\n",
       "\n",
       "\n",
       "Contenido Relacionado\n",
       "\n",
       "\n",
       "Lea más artículos sobre el archivo de Gabriel García Márquez\n",
       "\n",
       "\n",
       "Reciba mensualmente las últimas noticias e información del Harry Ransom Center con eNews, nuestro correo electrónico mensual. ¡Suscríbase hoy!\")"
      ]
     },
     "execution_count": 248,
     "metadata": {},
     "output_type": "execute_result"
    }
   ],
   "source": [
    "txt"
   ]
  },
  {
   "cell_type": "code",
   "execution_count": 251,
   "metadata": {},
   "outputs": [
    {
     "name": "stdout",
     "output_type": "stream",
     "text": [
      "4\n",
      "0.26666666666666666\n"
     ]
    }
   ],
   "source": [
    "# initialize the count variable: count\n",
    "count = 0\n",
    "\n",
    "# iterate over all the entities\n",
    "for ent in txt.entities:\n",
    "    # Check wheter the entity contains 'Márquez' or 'Gabo'\n",
    "    if \"Márquez\" in ent or 'Gabo' in ent:\n",
    "        # Increment count\n",
    "        count += 1\n",
    "\n",
    "#print count\n",
    "print(count)\n",
    "\n",
    "#calculate the percentage of entities that reger to \"Gabo\": percentage\n",
    "percentage = count * 1.0 / len(txt.entities)\n",
    "\n",
    "print(percentage)"
   ]
  },
  {
   "cell_type": "markdown",
   "metadata": {},
   "source": [
    "# Chp. 4, Classifying fake news using supervised learning with NLP\n",
    "**Supervised Learning**\n",
    "- Form of machine learning\n",
    "    - problem has predefined training data\n",
    "    - This data has a label (or outcome) you want the model to learn\n",
    "- Classification problems\n",
    "    - use language features\n",
    "    - use scikit-learn\n",
    "- Use **bag-of-words** models \n",
    "- or use **tf-idf** as features\n",
    "\n",
    "IMDB Movie Dataset\n",
    "- classify movies into Action or Sci-Fi\n",
    "    - Categorical features generated using preprocessing\n",
    "### Supervised learning steps\n",
    "- collect and preprocess our data\n",
    "- determine a label(Example: Movie genre)\n",
    "- Split data into training and test sets\n",
    "- Extract features from the text to help predict the label\n",
    "    - Bag-of-words vector built into scikit-learn\n",
    "- Evaluate the model\n",
    "\n",
    "## Building word count vectors with scikit-learn\n",
    "\n",
    "### Predicting movie genre\n",
    "- Dataset consisting of movie plots and correspoding genre\n",
    "- Goal: Create bag-of-word vectors for the movie plots\n",
    "    - Can we predict genre based on the words used in the plot summary?\n",
    "\n",
    "### Count Vectorizer with Python"
   ]
  },
  {
   "cell_type": "code",
   "execution_count": 252,
   "metadata": {
    "collapsed": true
   },
   "outputs": [],
   "source": [
    "import pandas as pd\n",
    "from sklearn.model_selection import train_test_split\n",
    "from sklearn.feature_extraction.text import CountVectorizer"
   ]
  },
  {
   "cell_type": "code",
   "execution_count": 263,
   "metadata": {},
   "outputs": [
    {
     "data": {
      "text/html": [
       "<div>\n",
       "<style>\n",
       "    .dataframe thead tr:only-child th {\n",
       "        text-align: right;\n",
       "    }\n",
       "\n",
       "    .dataframe thead th {\n",
       "        text-align: left;\n",
       "    }\n",
       "\n",
       "    .dataframe tbody tr th {\n",
       "        vertical-align: top;\n",
       "    }\n",
       "</style>\n",
       "<table border=\"1\" class=\"dataframe\">\n",
       "  <thead>\n",
       "    <tr style=\"text-align: right;\">\n",
       "      <th></th>\n",
       "      <th>Rank</th>\n",
       "      <th>Title</th>\n",
       "      <th>Genre</th>\n",
       "      <th>Description</th>\n",
       "      <th>Director</th>\n",
       "      <th>Actors</th>\n",
       "      <th>Year</th>\n",
       "      <th>Runtime (Minutes)</th>\n",
       "      <th>Rating</th>\n",
       "      <th>Votes</th>\n",
       "      <th>Revenue (Millions)</th>\n",
       "      <th>Metascore</th>\n",
       "    </tr>\n",
       "  </thead>\n",
       "  <tbody>\n",
       "    <tr>\n",
       "      <th>0</th>\n",
       "      <td>1</td>\n",
       "      <td>Guardians of the Galaxy</td>\n",
       "      <td>Action,Adventure,Sci-Fi</td>\n",
       "      <td>A group of intergalactic criminals are forced ...</td>\n",
       "      <td>James Gunn</td>\n",
       "      <td>Chris Pratt, Vin Diesel, Bradley Cooper, Zoe S...</td>\n",
       "      <td>2014</td>\n",
       "      <td>121</td>\n",
       "      <td>8.1</td>\n",
       "      <td>757074</td>\n",
       "      <td>333.13</td>\n",
       "      <td>76.0</td>\n",
       "    </tr>\n",
       "    <tr>\n",
       "      <th>1</th>\n",
       "      <td>2</td>\n",
       "      <td>Prometheus</td>\n",
       "      <td>Adventure,Mystery,Sci-Fi</td>\n",
       "      <td>Following clues to the origin of mankind, a te...</td>\n",
       "      <td>Ridley Scott</td>\n",
       "      <td>Noomi Rapace, Logan Marshall-Green, Michael Fa...</td>\n",
       "      <td>2012</td>\n",
       "      <td>124</td>\n",
       "      <td>7.0</td>\n",
       "      <td>485820</td>\n",
       "      <td>126.46</td>\n",
       "      <td>65.0</td>\n",
       "    </tr>\n",
       "  </tbody>\n",
       "</table>\n",
       "</div>"
      ],
      "text/plain": [
       "   Rank                    Title                     Genre  \\\n",
       "0     1  Guardians of the Galaxy   Action,Adventure,Sci-Fi   \n",
       "1     2               Prometheus  Adventure,Mystery,Sci-Fi   \n",
       "\n",
       "                                         Description      Director  \\\n",
       "0  A group of intergalactic criminals are forced ...    James Gunn   \n",
       "1  Following clues to the origin of mankind, a te...  Ridley Scott   \n",
       "\n",
       "                                              Actors  Year  Runtime (Minutes)  \\\n",
       "0  Chris Pratt, Vin Diesel, Bradley Cooper, Zoe S...  2014                121   \n",
       "1  Noomi Rapace, Logan Marshall-Green, Michael Fa...  2012                124   \n",
       "\n",
       "   Rating   Votes  Revenue (Millions)  Metascore  \n",
       "0     8.1  757074              333.13       76.0  \n",
       "1     7.0  485820              126.46       65.0  "
      ]
     },
     "execution_count": 263,
     "metadata": {},
     "output_type": "execute_result"
    }
   ],
   "source": [
    "df = pd.read_csv('data/IMDB-Movie-Data.csv')\n",
    "df.head(2)"
   ]
  },
  {
   "cell_type": "code",
   "execution_count": 269,
   "metadata": {},
   "outputs": [
    {
     "name": "stdout",
     "output_type": "stream",
     "text": [
      "<class 'pandas.core.frame.DataFrame'>\n",
      "RangeIndex: 1000 entries, 0 to 999\n",
      "Data columns (total 14 columns):\n",
      "Rank                  1000 non-null int64\n",
      "Title                 1000 non-null object\n",
      "Genre                 1000 non-null object\n",
      "Description           1000 non-null object\n",
      "Director              1000 non-null object\n",
      "Actors                1000 non-null object\n",
      "Year                  1000 non-null int64\n",
      "Runtime (Minutes)     1000 non-null int64\n",
      "Rating                1000 non-null float64\n",
      "Votes                 1000 non-null int64\n",
      "Revenue (Millions)    872 non-null float64\n",
      "Metascore             936 non-null float64\n",
      "scifi                 1000 non-null int64\n",
      "action                1000 non-null int64\n",
      "dtypes: float64(3), int64(6), object(5)\n",
      "memory usage: 109.5+ KB\n"
     ]
    }
   ],
   "source": [
    "df.info()"
   ]
  },
  {
   "cell_type": "code",
   "execution_count": 266,
   "metadata": {
    "collapsed": true
   },
   "outputs": [],
   "source": [
    "df['scifi'] = [int(('Sci-Fi' in g) and ('Action' not in g)) for g in df.Genre]"
   ]
  },
  {
   "cell_type": "code",
   "execution_count": 268,
   "metadata": {
    "collapsed": true
   },
   "outputs": [],
   "source": [
    "df['action'] = [int(('Sci-Fi' not in g) and ('Action' in g)) for g in df.Genre]"
   ]
  },
  {
   "cell_type": "code",
   "execution_count": 277,
   "metadata": {},
   "outputs": [],
   "source": [
    "#drop rows where movie is neither scifi nor action\n",
    "df = df[[bool(s + f) for s,f in zip(df.scifi, df.action)]]"
   ]
  },
  {
   "cell_type": "code",
   "execution_count": 278,
   "metadata": {},
   "outputs": [
    {
     "name": "stdout",
     "output_type": "stream",
     "text": [
      "<class 'pandas.core.frame.DataFrame'>\n",
      "Int64Index: 275 entries, 1 to 993\n",
      "Data columns (total 14 columns):\n",
      "Rank                  275 non-null int64\n",
      "Title                 275 non-null object\n",
      "Genre                 275 non-null object\n",
      "Description           275 non-null object\n",
      "Director              275 non-null object\n",
      "Actors                275 non-null object\n",
      "Year                  275 non-null int64\n",
      "Runtime (Minutes)     275 non-null int64\n",
      "Rating                275 non-null float64\n",
      "Votes                 275 non-null int64\n",
      "Revenue (Millions)    254 non-null float64\n",
      "Metascore             263 non-null float64\n",
      "scifi                 275 non-null int64\n",
      "action                275 non-null int64\n",
      "dtypes: float64(3), int64(6), object(5)\n",
      "memory usage: 32.2+ KB\n"
     ]
    }
   ],
   "source": [
    "df.info()"
   ]
  },
  {
   "cell_type": "code",
   "execution_count": 279,
   "metadata": {
    "scrolled": true
   },
   "outputs": [
    {
     "data": {
      "text/plain": [
       "1      1\n",
       "4      0\n",
       "5      0\n",
       "8      0\n",
       "14     0\n",
       "17     0\n",
       "19     1\n",
       "26     0\n",
       "29     0\n",
       "33     0\n",
       "36     1\n",
       "37     0\n",
       "38     0\n",
       "45     0\n",
       "50     0\n",
       "51     0\n",
       "53     0\n",
       "54     0\n",
       "64     1\n",
       "65     0\n",
       "69     0\n",
       "71     0\n",
       "75     0\n",
       "78     0\n",
       "79     0\n",
       "84     0\n",
       "87     0\n",
       "89     0\n",
       "91     0\n",
       "95     0\n",
       "      ..\n",
       "844    0\n",
       "854    0\n",
       "856    0\n",
       "869    0\n",
       "871    0\n",
       "872    0\n",
       "875    1\n",
       "879    0\n",
       "880    0\n",
       "884    1\n",
       "892    0\n",
       "894    0\n",
       "895    0\n",
       "901    0\n",
       "903    0\n",
       "908    1\n",
       "913    1\n",
       "916    0\n",
       "920    0\n",
       "921    0\n",
       "923    0\n",
       "935    0\n",
       "938    0\n",
       "956    0\n",
       "958    0\n",
       "961    1\n",
       "968    0\n",
       "969    0\n",
       "990    0\n",
       "993    0\n",
       "Name: scifi, Length: 275, dtype: int64"
      ]
     },
     "execution_count": 279,
     "metadata": {},
     "output_type": "execute_result"
    }
   ],
   "source": [
    "y = df['scifi']\n",
    "y"
   ]
  },
  {
   "cell_type": "code",
   "execution_count": 280,
   "metadata": {
    "collapsed": true
   },
   "outputs": [],
   "source": [
    "X_train, X_test, y_train, y_test = train_test_split(df['Description'],\n",
    "                                                   y, \n",
    "                                                   test_size = 0.33,\n",
    "                                                   random_state = 53)"
   ]
  },
  {
   "cell_type": "code",
   "execution_count": 282,
   "metadata": {
    "collapsed": true
   },
   "outputs": [],
   "source": [
    "# turns text into bag of word vectors\n",
    "# also removes stop words as a preprocessing step\n",
    "# each token now acts as a feature for the machine learning classification problem.\n",
    "    # just like flower measurements in iris\n",
    "count_vectorizer = CountVectorizer(stop_words='english')\n",
    "# similar to a gensim corpus\n",
    "\n",
    "\n",
    "count_train = count_vectorizer.fit_transform(X_train.values)\n",
    "#shortcut which calls the fit and then transform methods of the model\n",
    "# generates a mapping of words with ids and vectors representing how many times each word appears in the plot\n",
    "# operates diff for each model. but generally will find parameters or norms in the data\n",
    "# transform will apply the algorithm or approximation\n",
    "    # like preprocessing but with a specific use-case in mind\n",
    "    \n",
    "# for count vectorizer class. fit_transform will create bag of words \n",
    "# dict and vectors for each doc using the training data\n",
    "\n",
    "# after calling fit_transform on the training data\n",
    "# we call transform on the test data\n",
    "# to create bag of words vectors using the same dictionary\n",
    "# the training and test vectors need to use a consisten set of words\n",
    "# so the trained model can understand the test input\n",
    "# if we don't have much data there can be an issue with words in test\n",
    "# that don't appear in training. Which will cause an error\n",
    "# could remove the unknowns from the test data set"
   ]
  },
  {
   "cell_type": "code",
   "execution_count": 283,
   "metadata": {
    "collapsed": true
   },
   "outputs": [],
   "source": [
    "count_test = count_vectorizer.transform(X_test.values)"
   ]
  },
  {
   "cell_type": "code",
   "execution_count": 285,
   "metadata": {},
   "outputs": [
    {
     "data": {
      "text/plain": [
       "<91x1781 sparse matrix of type '<class 'numpy.int64'>'\n",
       "\twith 784 stored elements in Compressed Sparse Row format>"
      ]
     },
     "execution_count": 285,
     "metadata": {},
     "output_type": "execute_result"
    }
   ],
   "source": [
    "count_test"
   ]
  },
  {
   "cell_type": "code",
   "execution_count": 290,
   "metadata": {},
   "outputs": [
    {
     "data": {
      "text/plain": [
       "['000',\n",
       " '007',\n",
       " '10',\n",
       " '10th',\n",
       " '12',\n",
       " '17',\n",
       " '1920',\n",
       " '1942',\n",
       " '1949',\n",
       " '1952',\n",
       " '1960s',\n",
       " '1969',\n",
       " '1970s',\n",
       " '1979',\n",
       " '1980s',\n",
       " '1985',\n",
       " '1996',\n",
       " '1997',\n",
       " '2027',\n",
       " '2084',\n",
       " '2307',\n",
       " '300',\n",
       " '480',\n",
       " '51',\n",
       " '600',\n",
       " '60s',\n",
       " '70s',\n",
       " '74th',\n",
       " '80',\n",
       " 'aang',\n",
       " 'abandoned',\n",
       " 'abby',\n",
       " 'abilities',\n",
       " 'ability',\n",
       " 'aboard',\n",
       " 'abusive',\n",
       " 'accelerated',\n",
       " 'accept',\n",
       " 'accident',\n",
       " 'accidental',\n",
       " 'accidents',\n",
       " 'acclimated',\n",
       " 'accused',\n",
       " 'accuses',\n",
       " 'act',\n",
       " 'action',\n",
       " 'actions',\n",
       " 'active',\n",
       " 'activist',\n",
       " 'activities',\n",
       " 'actors',\n",
       " 'adopted',\n",
       " 'adventure',\n",
       " 'adventures',\n",
       " 'adventurous',\n",
       " 'adversary',\n",
       " 'aether',\n",
       " 'affair',\n",
       " 'affected',\n",
       " 'africa']"
      ]
     },
     "execution_count": 290,
     "metadata": {},
     "output_type": "execute_result"
    }
   ],
   "source": [
    "count_vectorizer.get_feature_names()[:60]"
   ]
  },
  {
   "cell_type": "markdown",
   "metadata": {},
   "source": [
    "## tf-idf Vectorizer for text classification\n",
    "Similar to the sparse `CountVectorizer` created above."
   ]
  },
  {
   "cell_type": "code",
   "execution_count": 292,
   "metadata": {},
   "outputs": [
    {
     "name": "stdout",
     "output_type": "stream",
     "text": [
      "['000', '007', '10', '10th', '12', '17', '1920', '1942', '1949', '1952', '1960s', '1969', '1970s', '1979', '1980s', '1985', '1996', '1997', '2027', '2084', '2307', '300', '480', '51', '600', '60s', '70s', '74th', '80', 'aang', 'abandoned', 'abby', 'abilities', 'ability', 'aboard', 'abusive', 'accelerated', 'accept', 'accident', 'accidental', 'accidents', 'acclimated', 'accused', 'accuses', 'act', 'action', 'actions', 'active', 'activist', 'activities']\n"
     ]
    }
   ],
   "source": [
    "from sklearn.feature_extraction.text import TfidfVectorizer\n",
    "\n",
    "# Initialize a TfidfVectorizer object:\n",
    "tfidf_vectorizer = TfidfVectorizer(stop_words = 'english', max_df = 0.7)\n",
    "\n",
    "#Transform the training data:\n",
    "tfidf_train = tfidf_vectorizer.fit_transform(X_train)\n",
    "\n",
    "# Transform the test data: tfidf_test\n",
    "tfidf_test = tfidf_vectorizer.transform(X_test)\n",
    "\n",
    "#look at first 50 features\n",
    "print(tfidf_vectorizer.get_feature_names()[0:50])"
   ]
  },
  {
   "cell_type": "code",
   "execution_count": 294,
   "metadata": {},
   "outputs": [
    {
     "name": "stdout",
     "output_type": "stream",
     "text": [
      "[[ 0.  0.  0. ...,  0.  0.  0.]\n",
      " [ 0.  0.  0. ...,  0.  0.  0.]\n",
      " [ 0.  0.  0. ...,  0.  0.  0.]\n",
      " [ 0.  0.  0. ...,  0.  0.  0.]\n",
      " [ 0.  0.  0. ...,  0.  0.  0.]]\n"
     ]
    }
   ],
   "source": [
    "# print the first 5 vectors of the tfidf training data\n",
    "print(tfidf_train.A[:5])"
   ]
  },
  {
   "cell_type": "markdown",
   "metadata": {},
   "source": [
    "## Inspect the vectors\n",
    "convert the vectors into pandas data-frames to get a better look at them. "
   ]
  },
  {
   "cell_type": "code",
   "execution_count": 296,
   "metadata": {},
   "outputs": [],
   "source": [
    "# Create the CountVectorizer DataFrame: count_df\n",
    "count_df = pd.DataFrame(count_train.A, columns=count_vectorizer.get_feature_names())\n",
    "\n",
    "# Create the TfidfVectorizer DataFrame: tfidf_df\n",
    "tfidf_df = pd.DataFrame(tfidf_train.A, columns = tfidf_vectorizer.get_feature_names())"
   ]
  },
  {
   "cell_type": "code",
   "execution_count": 297,
   "metadata": {},
   "outputs": [
    {
     "data": {
      "text/html": [
       "<div>\n",
       "<style>\n",
       "    .dataframe thead tr:only-child th {\n",
       "        text-align: right;\n",
       "    }\n",
       "\n",
       "    .dataframe thead th {\n",
       "        text-align: left;\n",
       "    }\n",
       "\n",
       "    .dataframe tbody tr th {\n",
       "        vertical-align: top;\n",
       "    }\n",
       "</style>\n",
       "<table border=\"1\" class=\"dataframe\">\n",
       "  <thead>\n",
       "    <tr style=\"text-align: right;\">\n",
       "      <th></th>\n",
       "      <th>000</th>\n",
       "      <th>007</th>\n",
       "      <th>10</th>\n",
       "      <th>10th</th>\n",
       "      <th>12</th>\n",
       "      <th>17</th>\n",
       "      <th>1920</th>\n",
       "      <th>1942</th>\n",
       "      <th>1949</th>\n",
       "      <th>1952</th>\n",
       "      <th>...</th>\n",
       "      <th>years</th>\n",
       "      <th>york</th>\n",
       "      <th>young</th>\n",
       "      <th>younger</th>\n",
       "      <th>youngest</th>\n",
       "      <th>youth</th>\n",
       "      <th>zealand</th>\n",
       "      <th>zeus</th>\n",
       "      <th>zombie</th>\n",
       "      <th>zombies</th>\n",
       "    </tr>\n",
       "  </thead>\n",
       "  <tbody>\n",
       "    <tr>\n",
       "      <th>0</th>\n",
       "      <td>0</td>\n",
       "      <td>0</td>\n",
       "      <td>0</td>\n",
       "      <td>0</td>\n",
       "      <td>0</td>\n",
       "      <td>0</td>\n",
       "      <td>0</td>\n",
       "      <td>0</td>\n",
       "      <td>0</td>\n",
       "      <td>0</td>\n",
       "      <td>...</td>\n",
       "      <td>1</td>\n",
       "      <td>0</td>\n",
       "      <td>0</td>\n",
       "      <td>0</td>\n",
       "      <td>0</td>\n",
       "      <td>0</td>\n",
       "      <td>0</td>\n",
       "      <td>0</td>\n",
       "      <td>0</td>\n",
       "      <td>0</td>\n",
       "    </tr>\n",
       "    <tr>\n",
       "      <th>1</th>\n",
       "      <td>0</td>\n",
       "      <td>0</td>\n",
       "      <td>0</td>\n",
       "      <td>0</td>\n",
       "      <td>0</td>\n",
       "      <td>0</td>\n",
       "      <td>0</td>\n",
       "      <td>0</td>\n",
       "      <td>0</td>\n",
       "      <td>0</td>\n",
       "      <td>...</td>\n",
       "      <td>0</td>\n",
       "      <td>0</td>\n",
       "      <td>0</td>\n",
       "      <td>0</td>\n",
       "      <td>0</td>\n",
       "      <td>0</td>\n",
       "      <td>0</td>\n",
       "      <td>0</td>\n",
       "      <td>0</td>\n",
       "      <td>0</td>\n",
       "    </tr>\n",
       "    <tr>\n",
       "      <th>2</th>\n",
       "      <td>0</td>\n",
       "      <td>0</td>\n",
       "      <td>0</td>\n",
       "      <td>0</td>\n",
       "      <td>0</td>\n",
       "      <td>0</td>\n",
       "      <td>0</td>\n",
       "      <td>0</td>\n",
       "      <td>0</td>\n",
       "      <td>0</td>\n",
       "      <td>...</td>\n",
       "      <td>0</td>\n",
       "      <td>0</td>\n",
       "      <td>0</td>\n",
       "      <td>0</td>\n",
       "      <td>0</td>\n",
       "      <td>0</td>\n",
       "      <td>0</td>\n",
       "      <td>0</td>\n",
       "      <td>0</td>\n",
       "      <td>0</td>\n",
       "    </tr>\n",
       "    <tr>\n",
       "      <th>3</th>\n",
       "      <td>0</td>\n",
       "      <td>0</td>\n",
       "      <td>0</td>\n",
       "      <td>0</td>\n",
       "      <td>0</td>\n",
       "      <td>0</td>\n",
       "      <td>1</td>\n",
       "      <td>0</td>\n",
       "      <td>0</td>\n",
       "      <td>0</td>\n",
       "      <td>...</td>\n",
       "      <td>0</td>\n",
       "      <td>0</td>\n",
       "      <td>0</td>\n",
       "      <td>0</td>\n",
       "      <td>0</td>\n",
       "      <td>0</td>\n",
       "      <td>0</td>\n",
       "      <td>0</td>\n",
       "      <td>0</td>\n",
       "      <td>0</td>\n",
       "    </tr>\n",
       "    <tr>\n",
       "      <th>4</th>\n",
       "      <td>0</td>\n",
       "      <td>0</td>\n",
       "      <td>0</td>\n",
       "      <td>0</td>\n",
       "      <td>0</td>\n",
       "      <td>0</td>\n",
       "      <td>0</td>\n",
       "      <td>0</td>\n",
       "      <td>0</td>\n",
       "      <td>0</td>\n",
       "      <td>...</td>\n",
       "      <td>0</td>\n",
       "      <td>0</td>\n",
       "      <td>0</td>\n",
       "      <td>0</td>\n",
       "      <td>0</td>\n",
       "      <td>0</td>\n",
       "      <td>0</td>\n",
       "      <td>0</td>\n",
       "      <td>0</td>\n",
       "      <td>0</td>\n",
       "    </tr>\n",
       "  </tbody>\n",
       "</table>\n",
       "<p>5 rows × 1781 columns</p>\n",
       "</div>"
      ],
      "text/plain": [
       "   000  007  10  10th  12  17  1920  1942  1949  1952   ...     years  york  \\\n",
       "0    0    0   0     0   0   0     0     0     0     0   ...         1     0   \n",
       "1    0    0   0     0   0   0     0     0     0     0   ...         0     0   \n",
       "2    0    0   0     0   0   0     0     0     0     0   ...         0     0   \n",
       "3    0    0   0     0   0   0     1     0     0     0   ...         0     0   \n",
       "4    0    0   0     0   0   0     0     0     0     0   ...         0     0   \n",
       "\n",
       "   young  younger  youngest  youth  zealand  zeus  zombie  zombies  \n",
       "0      0        0         0      0        0     0       0        0  \n",
       "1      0        0         0      0        0     0       0        0  \n",
       "2      0        0         0      0        0     0       0        0  \n",
       "3      0        0         0      0        0     0       0        0  \n",
       "4      0        0         0      0        0     0       0        0  \n",
       "\n",
       "[5 rows x 1781 columns]"
      ]
     },
     "execution_count": 297,
     "metadata": {},
     "output_type": "execute_result"
    }
   ],
   "source": [
    "count_df.head()"
   ]
  },
  {
   "cell_type": "code",
   "execution_count": 298,
   "metadata": {},
   "outputs": [
    {
     "data": {
      "text/html": [
       "<div>\n",
       "<style>\n",
       "    .dataframe thead tr:only-child th {\n",
       "        text-align: right;\n",
       "    }\n",
       "\n",
       "    .dataframe thead th {\n",
       "        text-align: left;\n",
       "    }\n",
       "\n",
       "    .dataframe tbody tr th {\n",
       "        vertical-align: top;\n",
       "    }\n",
       "</style>\n",
       "<table border=\"1\" class=\"dataframe\">\n",
       "  <thead>\n",
       "    <tr style=\"text-align: right;\">\n",
       "      <th></th>\n",
       "      <th>000</th>\n",
       "      <th>007</th>\n",
       "      <th>10</th>\n",
       "      <th>10th</th>\n",
       "      <th>12</th>\n",
       "      <th>17</th>\n",
       "      <th>1920</th>\n",
       "      <th>1942</th>\n",
       "      <th>1949</th>\n",
       "      <th>1952</th>\n",
       "      <th>...</th>\n",
       "      <th>years</th>\n",
       "      <th>york</th>\n",
       "      <th>young</th>\n",
       "      <th>younger</th>\n",
       "      <th>youngest</th>\n",
       "      <th>youth</th>\n",
       "      <th>zealand</th>\n",
       "      <th>zeus</th>\n",
       "      <th>zombie</th>\n",
       "      <th>zombies</th>\n",
       "    </tr>\n",
       "  </thead>\n",
       "  <tbody>\n",
       "    <tr>\n",
       "      <th>0</th>\n",
       "      <td>0.0</td>\n",
       "      <td>0.0</td>\n",
       "      <td>0.0</td>\n",
       "      <td>0.0</td>\n",
       "      <td>0.0</td>\n",
       "      <td>0.0</td>\n",
       "      <td>0.000000</td>\n",
       "      <td>0.0</td>\n",
       "      <td>0.0</td>\n",
       "      <td>0.0</td>\n",
       "      <td>...</td>\n",
       "      <td>0.186368</td>\n",
       "      <td>0.0</td>\n",
       "      <td>0.0</td>\n",
       "      <td>0.0</td>\n",
       "      <td>0.0</td>\n",
       "      <td>0.0</td>\n",
       "      <td>0.0</td>\n",
       "      <td>0.0</td>\n",
       "      <td>0.0</td>\n",
       "      <td>0.0</td>\n",
       "    </tr>\n",
       "    <tr>\n",
       "      <th>1</th>\n",
       "      <td>0.0</td>\n",
       "      <td>0.0</td>\n",
       "      <td>0.0</td>\n",
       "      <td>0.0</td>\n",
       "      <td>0.0</td>\n",
       "      <td>0.0</td>\n",
       "      <td>0.000000</td>\n",
       "      <td>0.0</td>\n",
       "      <td>0.0</td>\n",
       "      <td>0.0</td>\n",
       "      <td>...</td>\n",
       "      <td>0.000000</td>\n",
       "      <td>0.0</td>\n",
       "      <td>0.0</td>\n",
       "      <td>0.0</td>\n",
       "      <td>0.0</td>\n",
       "      <td>0.0</td>\n",
       "      <td>0.0</td>\n",
       "      <td>0.0</td>\n",
       "      <td>0.0</td>\n",
       "      <td>0.0</td>\n",
       "    </tr>\n",
       "    <tr>\n",
       "      <th>2</th>\n",
       "      <td>0.0</td>\n",
       "      <td>0.0</td>\n",
       "      <td>0.0</td>\n",
       "      <td>0.0</td>\n",
       "      <td>0.0</td>\n",
       "      <td>0.0</td>\n",
       "      <td>0.000000</td>\n",
       "      <td>0.0</td>\n",
       "      <td>0.0</td>\n",
       "      <td>0.0</td>\n",
       "      <td>...</td>\n",
       "      <td>0.000000</td>\n",
       "      <td>0.0</td>\n",
       "      <td>0.0</td>\n",
       "      <td>0.0</td>\n",
       "      <td>0.0</td>\n",
       "      <td>0.0</td>\n",
       "      <td>0.0</td>\n",
       "      <td>0.0</td>\n",
       "      <td>0.0</td>\n",
       "      <td>0.0</td>\n",
       "    </tr>\n",
       "    <tr>\n",
       "      <th>3</th>\n",
       "      <td>0.0</td>\n",
       "      <td>0.0</td>\n",
       "      <td>0.0</td>\n",
       "      <td>0.0</td>\n",
       "      <td>0.0</td>\n",
       "      <td>0.0</td>\n",
       "      <td>0.349041</td>\n",
       "      <td>0.0</td>\n",
       "      <td>0.0</td>\n",
       "      <td>0.0</td>\n",
       "      <td>...</td>\n",
       "      <td>0.000000</td>\n",
       "      <td>0.0</td>\n",
       "      <td>0.0</td>\n",
       "      <td>0.0</td>\n",
       "      <td>0.0</td>\n",
       "      <td>0.0</td>\n",
       "      <td>0.0</td>\n",
       "      <td>0.0</td>\n",
       "      <td>0.0</td>\n",
       "      <td>0.0</td>\n",
       "    </tr>\n",
       "    <tr>\n",
       "      <th>4</th>\n",
       "      <td>0.0</td>\n",
       "      <td>0.0</td>\n",
       "      <td>0.0</td>\n",
       "      <td>0.0</td>\n",
       "      <td>0.0</td>\n",
       "      <td>0.0</td>\n",
       "      <td>0.000000</td>\n",
       "      <td>0.0</td>\n",
       "      <td>0.0</td>\n",
       "      <td>0.0</td>\n",
       "      <td>...</td>\n",
       "      <td>0.000000</td>\n",
       "      <td>0.0</td>\n",
       "      <td>0.0</td>\n",
       "      <td>0.0</td>\n",
       "      <td>0.0</td>\n",
       "      <td>0.0</td>\n",
       "      <td>0.0</td>\n",
       "      <td>0.0</td>\n",
       "      <td>0.0</td>\n",
       "      <td>0.0</td>\n",
       "    </tr>\n",
       "  </tbody>\n",
       "</table>\n",
       "<p>5 rows × 1781 columns</p>\n",
       "</div>"
      ],
      "text/plain": [
       "   000  007   10  10th   12   17      1920  1942  1949  1952   ...     \\\n",
       "0  0.0  0.0  0.0   0.0  0.0  0.0  0.000000   0.0   0.0   0.0   ...      \n",
       "1  0.0  0.0  0.0   0.0  0.0  0.0  0.000000   0.0   0.0   0.0   ...      \n",
       "2  0.0  0.0  0.0   0.0  0.0  0.0  0.000000   0.0   0.0   0.0   ...      \n",
       "3  0.0  0.0  0.0   0.0  0.0  0.0  0.349041   0.0   0.0   0.0   ...      \n",
       "4  0.0  0.0  0.0   0.0  0.0  0.0  0.000000   0.0   0.0   0.0   ...      \n",
       "\n",
       "      years  york  young  younger  youngest  youth  zealand  zeus  zombie  \\\n",
       "0  0.186368   0.0    0.0      0.0       0.0    0.0      0.0   0.0     0.0   \n",
       "1  0.000000   0.0    0.0      0.0       0.0    0.0      0.0   0.0     0.0   \n",
       "2  0.000000   0.0    0.0      0.0       0.0    0.0      0.0   0.0     0.0   \n",
       "3  0.000000   0.0    0.0      0.0       0.0    0.0      0.0   0.0     0.0   \n",
       "4  0.000000   0.0    0.0      0.0       0.0    0.0      0.0   0.0     0.0   \n",
       "\n",
       "   zombies  \n",
       "0      0.0  \n",
       "1      0.0  \n",
       "2      0.0  \n",
       "3      0.0  \n",
       "4      0.0  \n",
       "\n",
       "[5 rows x 1781 columns]"
      ]
     },
     "execution_count": 298,
     "metadata": {},
     "output_type": "execute_result"
    }
   ],
   "source": [
    "tfidf_df.head()"
   ]
  },
  {
   "cell_type": "code",
   "execution_count": 300,
   "metadata": {},
   "outputs": [
    {
     "name": "stdout",
     "output_type": "stream",
     "text": [
      "set()\n"
     ]
    }
   ],
   "source": [
    "#Calculate the difference in columns:\n",
    "difference = set(count_df.columns) - set(tfidf_df.columns)\n",
    "print(difference)"
   ]
  },
  {
   "cell_type": "code",
   "execution_count": 301,
   "metadata": {},
   "outputs": [
    {
     "name": "stdout",
     "output_type": "stream",
     "text": [
      "False\n"
     ]
    }
   ],
   "source": [
    "# check if df are equal\n",
    "print(count_df.equals(tfidf_df))"
   ]
  },
  {
   "cell_type": "markdown",
   "metadata": {},
   "source": [
    "## Training and testing a classification model with scikit-learn\n",
    "A **Naive Bayes Model**\n",
    "    - Commonly used for testing NLP classification problems\n",
    "    - Basis in probability\n",
    "- Given a particular piece of data, how likely is a particular outcome?\n",
    "    - if the plot has a spaceship, how likely is it to be sci-fi?\n",
    "    - Given a spaceship and an alien, how likely now is it sci-fi?\n",
    " - Each word from `CountVectorizer` acts as a feature\n",
    " - in use since the 1960s and still going (simple, effective, but not always the best)\n",
    " \n",
    "### Naive Bayes with `scikit-learn`"
   ]
  },
  {
   "cell_type": "code",
   "execution_count": 306,
   "metadata": {
    "collapsed": true
   },
   "outputs": [],
   "source": [
    "from sklearn.naive_bayes import MultinomialNB\n",
    "\n",
    "from sklearn import metrics"
   ]
  },
  {
   "cell_type": "markdown",
   "metadata": {},
   "source": [
    "works well with integers (count vectorizer).\n",
    "- Also used for multiple label classification\n",
    "- does not work well with floats like tf-idf\n",
    "    - but try it first"
   ]
  },
  {
   "cell_type": "code",
   "execution_count": 303,
   "metadata": {},
   "outputs": [
    {
     "data": {
      "text/plain": [
       "MultinomialNB(alpha=1.0, class_prior=None, fit_prior=True)"
      ]
     },
     "execution_count": 303,
     "metadata": {},
     "output_type": "execute_result"
    }
   ],
   "source": [
    "nb_classifier = MultinomialNB()\n",
    "\n",
    "nb_classifier.fit(count_train, y_train)"
   ]
  },
  {
   "cell_type": "markdown",
   "metadata": {},
   "source": [
    "this will determine the internal parameters based on the dataset"
   ]
  },
  {
   "cell_type": "code",
   "execution_count": 304,
   "metadata": {
    "collapsed": true
   },
   "outputs": [],
   "source": [
    "pred = nb_classifier.predict(count_test)"
   ]
  },
  {
   "cell_type": "code",
   "execution_count": 307,
   "metadata": {},
   "outputs": [
    {
     "data": {
      "text/plain": [
       "0.80219780219780223"
      ]
     },
     "execution_count": 307,
     "metadata": {},
     "output_type": "execute_result"
    }
   ],
   "source": [
    "metrics.accuracy_score(y_test, pred)"
   ]
  },
  {
   "cell_type": "code",
   "execution_count": 323,
   "metadata": {},
   "outputs": [
    {
     "name": "stdout",
     "output_type": "stream",
     "text": [
      "Action Sci-Fi\n",
      "[[71  8]\n",
      " [10  2]]\n"
     ]
    }
   ],
   "source": [
    "print('Action', 'Sci-Fi')\n",
    "print(metrics.confusion_matrix(y_test, pred, labels=[0,1]))"
   ]
  },
  {
   "cell_type": "code",
   "execution_count": 316,
   "metadata": {},
   "outputs": [
    {
     "name": "stdout",
     "output_type": "stream",
     "text": [
      "             precision    recall  f1-score   support\n",
      "\n",
      "          a       0.88      0.90      0.89        79\n",
      "          s       0.20      0.17      0.18        12\n",
      "\n",
      "avg / total       0.79      0.80      0.79        91\n",
      "\n"
     ]
    }
   ],
   "source": [
    "print(metrics.classification_report(y_test, pred, target_names=['a', 's'],\n",
    "                             labels = [0,1]))"
   ]
  },
  {
   "cell_type": "markdown",
   "metadata": {},
   "source": [
    "## Training and testing the model with TfidfVectorizer\n"
   ]
  },
  {
   "cell_type": "code",
   "execution_count": 327,
   "metadata": {},
   "outputs": [
    {
     "name": "stdout",
     "output_type": "stream",
     "text": [
      "0.868131868132\n",
      "[[79  0]\n",
      " [12  0]]\n"
     ]
    }
   ],
   "source": [
    "# Create a Multinomial Naive Bayes classifier: nb_classifier\n",
    "nb_classifier = MultinomialNB()\n",
    "\n",
    "# Fit the classifier to the training data\n",
    "nb_classifier.fit(tfidf_train, y_train)\n",
    "\n",
    "# Create the predicted tags: pred\n",
    "pred = nb_classifier.predict(tfidf_test)\n",
    "\n",
    "# Calculate the accuracy score: score\n",
    "score = metrics.accuracy_score(y_test, pred)\n",
    "print(score)\n",
    "\n",
    "# Calculate the confusion matrix: cm\n",
    "cm = metrics.confusion_matrix(y_test, pred, labels = [0,1])\n",
    "print(cm)\n"
   ]
  },
  {
   "cell_type": "code",
   "execution_count": 328,
   "metadata": {},
   "outputs": [
    {
     "name": "stdout",
     "output_type": "stream",
     "text": [
      "             precision    recall  f1-score   support\n",
      "\n",
      "          0       0.87      1.00      0.93        79\n",
      "          1       0.00      0.00      0.00        12\n",
      "\n",
      "avg / total       0.75      0.87      0.81        91\n",
      "\n"
     ]
    },
    {
     "name": "stderr",
     "output_type": "stream",
     "text": [
      "/Users/paulomartinez/anaconda3/lib/python3.6/site-packages/sklearn/metrics/classification.py:1135: UndefinedMetricWarning: Precision and F-score are ill-defined and being set to 0.0 in labels with no predicted samples.\n",
      "  'precision', 'predicted', average, warn_for)\n"
     ]
    }
   ],
   "source": [
    "print(metrics.classification_report(y_test, pred))"
   ]
  },
  {
   "cell_type": "markdown",
   "metadata": {},
   "source": [
    "## Simple NLP, complex problems\n",
    "\n",
    "### Sentiment Analysis still an open problem\n",
    "- snark, negation\n",
    "\n",
    "### Gendered pronouns and Language Biases\n",
    "\n",
    "### improving your model\n",
    "test different alpha levels using Tfidf vectors to determine if there is a better performing combination."
   ]
  },
  {
   "cell_type": "code",
   "execution_count": 330,
   "metadata": {
    "collapsed": true
   },
   "outputs": [],
   "source": [
    "import numpy as np"
   ]
  },
  {
   "cell_type": "code",
   "execution_count": 332,
   "metadata": {},
   "outputs": [
    {
     "name": "stdout",
     "output_type": "stream",
     "text": [
      "Alpha:  0.0\n",
      "Score:  0.868131868132\n",
      "\n",
      "Alpha:  0.1\n",
      "Score:  0.824175824176\n",
      "\n",
      "Alpha:  0.2\n",
      "Score:  0.868131868132\n",
      "\n",
      "Alpha:  0.3\n",
      "Score:  0.879120879121\n",
      "\n",
      "Alpha:  0.4\n",
      "Score:  0.879120879121\n",
      "\n",
      "Alpha:  0.5\n",
      "Score:  0.868131868132\n",
      "\n",
      "Alpha:  0.6\n",
      "Score:  0.868131868132\n",
      "\n",
      "Alpha:  0.7\n",
      "Score:  0.868131868132\n",
      "\n",
      "Alpha:  0.8\n",
      "Score:  0.868131868132\n",
      "\n",
      "Alpha:  0.9\n",
      "Score:  0.868131868132\n",
      "\n"
     ]
    },
    {
     "name": "stderr",
     "output_type": "stream",
     "text": [
      "/Users/paulomartinez/anaconda3/lib/python3.6/site-packages/sklearn/naive_bayes.py:472: UserWarning: alpha too small will result in numeric errors, setting alpha = 1.0e-10\n",
      "  'setting alpha = %.1e' % _ALPHA_MIN)\n"
     ]
    }
   ],
   "source": [
    "# Create the list of alphas: alphas\n",
    "alphas = np.arange(0, 1, .1)\n",
    "\n",
    "# Define train_and_predict()\n",
    "def train_and_predict(alpha):\n",
    "    # Instantiate the classifier: nb_classifier\n",
    "    nb_classifier = MultinomialNB(alpha=alpha)\n",
    "    # Fit to the training data\n",
    "    nb_classifier.fit(tfidf_train, y_train)\n",
    "    # Predict the labels: pred\n",
    "    pred = nb_classifier.predict(tfidf_test)\n",
    "    # Compute accuracy: score\n",
    "    score = metrics.accuracy_score(y_test, pred)\n",
    "    return score\n",
    "\n",
    "# Iterate over the alphas and print the corresponding score\n",
    "for alpha in alphas:\n",
    "    print('Alpha: ', alpha)\n",
    "    print('Score: ', train_and_predict(alpha))\n",
    "    print()\n",
    "    "
   ]
  },
  {
   "cell_type": "code",
   "execution_count": 334,
   "metadata": {},
   "outputs": [
    {
     "data": {
      "text/plain": [
       "array([0, 1])"
      ]
     },
     "execution_count": 334,
     "metadata": {},
     "output_type": "execute_result"
    }
   ],
   "source": [
    "# Get the class labels: class_labels\n",
    "class_labels = nb_classifier.classes_\n",
    "class_labels"
   ]
  },
  {
   "cell_type": "code",
   "execution_count": 335,
   "metadata": {},
   "outputs": [
    {
     "data": {
      "text/plain": [
       "['000',\n",
       " '007',\n",
       " '10',\n",
       " '10th',\n",
       " '12',\n",
       " '17',\n",
       " '1920',\n",
       " '1942',\n",
       " '1949',\n",
       " '1952',\n",
       " '1960s',\n",
       " '1969',\n",
       " '1970s',\n",
       " '1979',\n",
       " '1980s',\n",
       " '1985',\n",
       " '1996',\n",
       " '1997',\n",
       " '2027',\n",
       " '2084',\n",
       " '2307',\n",
       " '300',\n",
       " '480',\n",
       " '51',\n",
       " '600',\n",
       " '60s',\n",
       " '70s',\n",
       " '74th',\n",
       " '80',\n",
       " 'aang',\n",
       " 'abandoned',\n",
       " 'abby',\n",
       " 'abilities',\n",
       " 'ability',\n",
       " 'aboard',\n",
       " 'abusive',\n",
       " 'accelerated',\n",
       " 'accept',\n",
       " 'accident',\n",
       " 'accidental',\n",
       " 'accidents',\n",
       " 'acclimated',\n",
       " 'accused',\n",
       " 'accuses',\n",
       " 'act',\n",
       " 'action',\n",
       " 'actions',\n",
       " 'active',\n",
       " 'activist',\n",
       " 'activities',\n",
       " 'actors',\n",
       " 'adopted',\n",
       " 'adventure',\n",
       " 'adventures',\n",
       " 'adventurous',\n",
       " 'adversary',\n",
       " 'aether',\n",
       " 'affair',\n",
       " 'affected',\n",
       " 'africa',\n",
       " 'agency',\n",
       " 'agenda',\n",
       " 'agent',\n",
       " 'agents',\n",
       " 'agrees',\n",
       " 'aid',\n",
       " 'alcoholic',\n",
       " 'alice',\n",
       " 'alien',\n",
       " 'alive',\n",
       " 'alliance',\n",
       " 'alliances',\n",
       " 'ally',\n",
       " 'alongside',\n",
       " 'altered',\n",
       " 'alternate',\n",
       " 'alternative',\n",
       " 'america',\n",
       " 'american',\n",
       " 'americans',\n",
       " 'amnesia',\n",
       " 'anarchy',\n",
       " 'ancient',\n",
       " 'angeles',\n",
       " 'angry',\n",
       " 'annihilation',\n",
       " 'anti',\n",
       " 'apart',\n",
       " 'apes',\n",
       " 'apocalyptic',\n",
       " 'apparent',\n",
       " 'appear',\n",
       " 'arcadia',\n",
       " 'arcel',\n",
       " 'archangel',\n",
       " 'area',\n",
       " 'ares',\n",
       " 'arises',\n",
       " 'aristocratic',\n",
       " 'armed',\n",
       " 'armies',\n",
       " 'armored',\n",
       " 'army',\n",
       " 'arrogant',\n",
       " 'artemisia',\n",
       " 'arthur',\n",
       " 'artificially',\n",
       " 'artist',\n",
       " 'arts',\n",
       " 'ascend',\n",
       " 'asgard',\n",
       " 'assassin',\n",
       " 'assassinate',\n",
       " 'assassinating',\n",
       " 'assassination',\n",
       " 'assassinations',\n",
       " 'assembles',\n",
       " 'assigned',\n",
       " 'assignment',\n",
       " 'assistant',\n",
       " 'associate',\n",
       " 'assume',\n",
       " 'astonishing',\n",
       " 'astronaut',\n",
       " 'astronauts',\n",
       " 'athletes',\n",
       " 'atop',\n",
       " 'attack',\n",
       " 'attacked',\n",
       " 'attempt',\n",
       " 'attempts',\n",
       " 'attending',\n",
       " 'attracting',\n",
       " 'attractions',\n",
       " 'authority',\n",
       " 'autobahn',\n",
       " 'avatars',\n",
       " 'average',\n",
       " 'avoid',\n",
       " 'awakes',\n",
       " 'backpacker',\n",
       " 'badlands',\n",
       " 'balance',\n",
       " 'band',\n",
       " 'bane',\n",
       " 'bank',\n",
       " 'banks',\n",
       " 'banning',\n",
       " 'barbarian',\n",
       " 'barbossa',\n",
       " 'barred',\n",
       " 'barreling',\n",
       " 'based',\n",
       " 'battle',\n",
       " 'battles',\n",
       " 'bauers',\n",
       " 'baxter',\n",
       " 'beatrice',\n",
       " 'bebop',\n",
       " 'beckinsale',\n",
       " 'begin',\n",
       " 'beginning',\n",
       " 'begins',\n",
       " 'behavior',\n",
       " 'bek',\n",
       " 'believes',\n",
       " 'beloved',\n",
       " 'ben',\n",
       " 'beowulf',\n",
       " 'best',\n",
       " 'bestowed',\n",
       " 'betrayal',\n",
       " 'betrayed',\n",
       " 'betrothed',\n",
       " 'big',\n",
       " 'biggest',\n",
       " 'bio',\n",
       " 'biologist',\n",
       " 'birds',\n",
       " 'bishop',\n",
       " 'bitten',\n",
       " 'black',\n",
       " 'blackbeard',\n",
       " 'blackheart',\n",
       " 'blaze',\n",
       " 'blend',\n",
       " 'blizzard',\n",
       " 'bloodthirsty',\n",
       " 'bob',\n",
       " 'bobby',\n",
       " 'bodies',\n",
       " 'body',\n",
       " 'bogotá',\n",
       " 'boiled',\n",
       " 'bomb',\n",
       " 'bomber',\n",
       " 'bombing',\n",
       " 'bond',\n",
       " 'bonds',\n",
       " 'book',\n",
       " 'books',\n",
       " 'border',\n",
       " 'boss',\n",
       " 'boston',\n",
       " 'bounty',\n",
       " 'bourne',\n",
       " 'boxer',\n",
       " 'boxing',\n",
       " 'boy',\n",
       " 'boyka',\n",
       " 'braves',\n",
       " 'brawn',\n",
       " 'brazilian',\n",
       " 'breaking',\n",
       " 'breaks',\n",
       " 'breath',\n",
       " 'brian',\n",
       " 'brilliant',\n",
       " 'bring',\n",
       " 'brings',\n",
       " 'brink',\n",
       " 'britain',\n",
       " 'british',\n",
       " 'brooks',\n",
       " 'brother',\n",
       " 'brotherhood',\n",
       " 'bruce',\n",
       " 'brutal',\n",
       " 'bryan',\n",
       " 'budget',\n",
       " 'build',\n",
       " 'burglar',\n",
       " 'busan',\n",
       " 'business',\n",
       " 'buy',\n",
       " 'caesar',\n",
       " 'cal',\n",
       " 'california',\n",
       " 'called',\n",
       " 'calling',\n",
       " 'canadian',\n",
       " 'cannibals',\n",
       " 'cape',\n",
       " 'capitol',\n",
       " 'captain',\n",
       " 'captured',\n",
       " 'car',\n",
       " 'cares',\n",
       " 'cartels',\n",
       " 'case',\n",
       " 'cash',\n",
       " 'casino',\n",
       " 'cast',\n",
       " 'cat',\n",
       " 'catastrophe',\n",
       " 'causes',\n",
       " 'causing',\n",
       " 'centered',\n",
       " 'centuries',\n",
       " 'century',\n",
       " 'challenges',\n",
       " 'champion',\n",
       " 'chance',\n",
       " 'change',\n",
       " 'changes',\n",
       " 'changing',\n",
       " 'chaos',\n",
       " 'chaotic',\n",
       " 'charge',\n",
       " 'charged',\n",
       " 'charles',\n",
       " 'child',\n",
       " 'china',\n",
       " 'choice',\n",
       " 'chosen',\n",
       " 'chuck',\n",
       " 'cia',\n",
       " 'citizens',\n",
       " 'city',\n",
       " 'claim',\n",
       " 'clan',\n",
       " 'clark',\n",
       " 'clary',\n",
       " 'clash',\n",
       " 'cleanses',\n",
       " 'clear',\n",
       " 'client',\n",
       " 'clock',\n",
       " 'close',\n",
       " 'closes',\n",
       " 'clue',\n",
       " 'coast',\n",
       " 'cod',\n",
       " 'cohen',\n",
       " 'collapsed',\n",
       " 'colleague',\n",
       " 'collision',\n",
       " 'cologne',\n",
       " 'colombia',\n",
       " 'comatose',\n",
       " 'combine',\n",
       " 'combined',\n",
       " 'come',\n",
       " 'comes',\n",
       " 'comet',\n",
       " 'comic',\n",
       " 'coming',\n",
       " 'commander',\n",
       " 'commit',\n",
       " 'committed',\n",
       " 'committing',\n",
       " 'commonwealth',\n",
       " 'community',\n",
       " 'commuter',\n",
       " 'companion',\n",
       " 'company',\n",
       " 'competition',\n",
       " 'competitive',\n",
       " 'competitor',\n",
       " 'complete',\n",
       " 'completely',\n",
       " 'compound',\n",
       " 'conceal',\n",
       " 'conductor',\n",
       " 'conflict',\n",
       " 'confront',\n",
       " 'congo',\n",
       " 'connected',\n",
       " 'conner',\n",
       " 'conquer',\n",
       " 'considered',\n",
       " 'conspiracy',\n",
       " 'construction',\n",
       " 'consultant',\n",
       " 'contemporary',\n",
       " 'contends',\n",
       " 'continue',\n",
       " 'control',\n",
       " 'convergence',\n",
       " 'convert',\n",
       " 'convoluted',\n",
       " 'cop',\n",
       " 'coping',\n",
       " 'cops',\n",
       " 'corporate',\n",
       " 'corporation',\n",
       " 'corrupt',\n",
       " 'corruption',\n",
       " 'cosmic',\n",
       " 'cost',\n",
       " 'count',\n",
       " 'country',\n",
       " 'couple',\n",
       " 'course',\n",
       " 'cousins',\n",
       " 'crash',\n",
       " 'create',\n",
       " 'created',\n",
       " 'creator',\n",
       " 'creature',\n",
       " 'creatures',\n",
       " 'crew',\n",
       " 'crewmen',\n",
       " 'crime',\n",
       " 'criminal',\n",
       " 'criminals',\n",
       " 'cross',\n",
       " 'crumbles',\n",
       " 'cryptic',\n",
       " 'cult',\n",
       " 'cure',\n",
       " 'curse',\n",
       " 'cursed',\n",
       " 'cut',\n",
       " 'cycle',\n",
       " 'damage',\n",
       " 'dancer',\n",
       " 'dangerous',\n",
       " 'daring',\n",
       " 'dark',\n",
       " 'darkness',\n",
       " 'daughter',\n",
       " 'daughters',\n",
       " 'davy',\n",
       " 'days',\n",
       " 'dead',\n",
       " 'deadly',\n",
       " 'dealer',\n",
       " 'dealers',\n",
       " 'death',\n",
       " 'deaths',\n",
       " 'decade',\n",
       " 'decades',\n",
       " 'deceased',\n",
       " 'deceit',\n",
       " 'decide',\n",
       " 'decides',\n",
       " 'decimated',\n",
       " 'decisive',\n",
       " 'deckard',\n",
       " 'decline',\n",
       " 'dedicated',\n",
       " 'deep',\n",
       " 'deeper',\n",
       " 'defeat',\n",
       " 'defeating',\n",
       " 'defector',\n",
       " 'defenders',\n",
       " 'defense',\n",
       " 'defiant',\n",
       " 'definition',\n",
       " 'deliberately',\n",
       " 'demigod',\n",
       " 'demonic',\n",
       " 'demons',\n",
       " 'denmark',\n",
       " 'department',\n",
       " 'descends',\n",
       " 'desert',\n",
       " 'designed',\n",
       " 'destroy',\n",
       " 'destroyed',\n",
       " 'destroying',\n",
       " 'destruction',\n",
       " 'detective',\n",
       " 'detectives',\n",
       " 'determined',\n",
       " 'devastating',\n",
       " 'develops',\n",
       " 'devil',\n",
       " 'devotion',\n",
       " 'dhampir',\n",
       " 'diagnosed',\n",
       " 'dictator',\n",
       " 'differences',\n",
       " 'digs',\n",
       " 'diner',\n",
       " 'dinner',\n",
       " 'disappears',\n",
       " 'disaster',\n",
       " 'discarded',\n",
       " 'discover',\n",
       " 'discovering',\n",
       " 'discovers',\n",
       " 'discreetly',\n",
       " 'disease',\n",
       " 'disgraced',\n",
       " 'disguised',\n",
       " 'dispatched',\n",
       " 'distant',\n",
       " 'districts',\n",
       " 'divergent',\n",
       " 'divergents',\n",
       " 'divided',\n",
       " 'doctor',\n",
       " 'dodges',\n",
       " 'does',\n",
       " 'dollar',\n",
       " 'dominic',\n",
       " 'don',\n",
       " 'double',\n",
       " 'dr',\n",
       " 'dragon',\n",
       " 'drawn',\n",
       " 'drift',\n",
       " 'driven',\n",
       " 'driver',\n",
       " 'drug',\n",
       " 'drugged',\n",
       " 'drugs',\n",
       " 'dumbed',\n",
       " 'duran',\n",
       " 'dusty',\n",
       " 'dying',\n",
       " 'dystopian',\n",
       " 'earlier',\n",
       " 'early',\n",
       " 'earth',\n",
       " 'easily',\n",
       " 'economic',\n",
       " 'eden',\n",
       " 'edge',\n",
       " 'edwin',\n",
       " 'egypt',\n",
       " 'egyptian',\n",
       " 'elderly',\n",
       " 'elements',\n",
       " 'eliminate',\n",
       " 'elizabeth',\n",
       " 'elusive',\n",
       " 'elves',\n",
       " 'embark',\n",
       " 'embrace',\n",
       " 'embraces',\n",
       " 'embroiled',\n",
       " 'emerge',\n",
       " 'emergence',\n",
       " 'emerges',\n",
       " 'emily',\n",
       " 'emotionless',\n",
       " 'empire',\n",
       " 'employ',\n",
       " 'employee',\n",
       " 'employers',\n",
       " 'encampment',\n",
       " 'encounter',\n",
       " 'encounters',\n",
       " 'end',\n",
       " 'endured',\n",
       " 'enemy',\n",
       " 'engage',\n",
       " 'engineer',\n",
       " 'england',\n",
       " 'enigmatic',\n",
       " 'enlisted',\n",
       " 'enslaving',\n",
       " 'ensure',\n",
       " 'enters',\n",
       " 'enthusiasts',\n",
       " 'entity',\n",
       " 'envisioning',\n",
       " 'epidemic',\n",
       " 'equally',\n",
       " 'eradicating',\n",
       " 'erasing',\n",
       " 'eric',\n",
       " 'erin',\n",
       " 'erupts',\n",
       " 'escalating',\n",
       " 'escape',\n",
       " 'established',\n",
       " 'estate',\n",
       " 'estranged',\n",
       " 'eternal',\n",
       " 'ethan',\n",
       " 'europe',\n",
       " 'european',\n",
       " 'evaluating',\n",
       " 'evening',\n",
       " 'event',\n",
       " 'events',\n",
       " 'everdeen',\n",
       " 'everest',\n",
       " 'everyday',\n",
       " 'evidence',\n",
       " 'evil',\n",
       " 'evolve',\n",
       " 'evolved',\n",
       " 'ex',\n",
       " 'exchange',\n",
       " 'exile',\n",
       " 'exist',\n",
       " 'existence',\n",
       " 'expedition',\n",
       " 'experiment',\n",
       " 'experimental',\n",
       " 'exploitation',\n",
       " 'exploration',\n",
       " 'explorers',\n",
       " 'explosive',\n",
       " 'extinguished',\n",
       " 'extract',\n",
       " 'extraordinary',\n",
       " 'extreme',\n",
       " 'eyes',\n",
       " 'eyewitnesses',\n",
       " 'face',\n",
       " 'faces',\n",
       " 'facing',\n",
       " 'faction',\n",
       " 'factions',\n",
       " 'fairy',\n",
       " 'fake',\n",
       " 'fakes',\n",
       " 'fall',\n",
       " 'falls',\n",
       " 'falsely',\n",
       " 'family',\n",
       " 'fargo',\n",
       " 'farm',\n",
       " 'fast',\n",
       " 'fatal',\n",
       " 'fate',\n",
       " 'father',\n",
       " 'fbi',\n",
       " 'features',\n",
       " 'federal',\n",
       " 'feelings',\n",
       " 'feels',\n",
       " 'fellow',\n",
       " 'female',\n",
       " 'feud',\n",
       " 'fiercest',\n",
       " 'fight',\n",
       " 'fighter',\n",
       " 'fighting',\n",
       " 'fights',\n",
       " 'figure',\n",
       " 'films',\n",
       " 'final',\n",
       " 'finds',\n",
       " 'finest',\n",
       " 'fischer',\n",
       " 'fit',\n",
       " 'flaw',\n",
       " 'flees',\n",
       " 'flightless',\n",
       " 'flood',\n",
       " 'flown',\n",
       " 'foe',\n",
       " 'foes',\n",
       " 'foil',\n",
       " 'following',\n",
       " 'follows',\n",
       " 'food',\n",
       " 'football',\n",
       " 'forbidden',\n",
       " 'force',\n",
       " 'forced',\n",
       " 'forces',\n",
       " 'forcibly',\n",
       " 'forest',\n",
       " 'forever',\n",
       " 'forgotten',\n",
       " 'formidable',\n",
       " 'forms',\n",
       " 'formula',\n",
       " 'foster',\n",
       " 'foul',\n",
       " 'fountain',\n",
       " 'fourth',\n",
       " 'framed',\n",
       " 'france',\n",
       " 'franchise',\n",
       " 'frankenstein',\n",
       " 'fray',\n",
       " 'freak',\n",
       " 'freedom',\n",
       " 'freeze',\n",
       " 'freight',\n",
       " 'french',\n",
       " 'fresh',\n",
       " 'freya',\n",
       " 'friend',\n",
       " 'friends',\n",
       " 'friendship',\n",
       " 'frozen',\n",
       " 'frustrated',\n",
       " 'fu',\n",
       " 'fugitive',\n",
       " 'fundamentally',\n",
       " 'funeral',\n",
       " 'future',\n",
       " 'gains',\n",
       " 'galactic',\n",
       " 'galaxy',\n",
       " 'game',\n",
       " 'games',\n",
       " 'gangs',\n",
       " 'gangsters',\n",
       " 'gather',\n",
       " 'geeks',\n",
       " 'gender',\n",
       " 'general',\n",
       " 'genetically',\n",
       " 'genius',\n",
       " 'genocidal',\n",
       " 'gerry',\n",
       " 'gets',\n",
       " 'ghost',\n",
       " 'giant',\n",
       " 'gilbert',\n",
       " 'girl',\n",
       " 'girlfriend',\n",
       " 'given',\n",
       " 'gives',\n",
       " 'gladiator',\n",
       " 'global',\n",
       " 'globe',\n",
       " 'gloria',\n",
       " 'glory',\n",
       " 'gluing',\n",
       " 'god',\n",
       " 'goes',\n",
       " 'going',\n",
       " 'gotham',\n",
       " 'government',\n",
       " 'governments',\n",
       " 'grabs',\n",
       " 'gradually',\n",
       " 'great',\n",
       " 'greater',\n",
       " 'greatest',\n",
       " 'greek',\n",
       " 'green',\n",
       " 'grendel',\n",
       " 'ground',\n",
       " 'group',\n",
       " 'growing',\n",
       " 'guard',\n",
       " 'guardian',\n",
       " 'guerrilla',\n",
       " 'guide',\n",
       " 'guinea',\n",
       " 'gunmen',\n",
       " 'guy',\n",
       " 'guys',\n",
       " 'hades',\n",
       " 'hair',\n",
       " 'half',\n",
       " 'hall',\n",
       " 'hancock',\n",
       " 'hangs',\n",
       " 'hank',\n",
       " 'happen',\n",
       " 'happens',\n",
       " 'happy',\n",
       " 'harboring',\n",
       " 'hard',\n",
       " 'harness',\n",
       " 'hatches',\n",
       " 'hathaway',\n",
       " 'haunt',\n",
       " 'haven',\n",
       " 'having',\n",
       " 'havoc',\n",
       " 'head',\n",
       " 'heads',\n",
       " 'healing',\n",
       " 'heap',\n",
       " 'heart',\n",
       " 'heavily',\n",
       " 'heist',\n",
       " 'heists',\n",
       " 'held',\n",
       " 'hellblazing',\n",
       " 'hellboy',\n",
       " 'help',\n",
       " 'helped',\n",
       " 'helps',\n",
       " 'henchmen',\n",
       " 'heralded',\n",
       " 'herb',\n",
       " 'hercules',\n",
       " 'hero',\n",
       " 'heroes',\n",
       " 'heroin',\n",
       " 'hibernation',\n",
       " 'hidden',\n",
       " 'hiding',\n",
       " 'high',\n",
       " 'highly',\n",
       " 'highway',\n",
       " 'hire',\n",
       " 'hires',\n",
       " 'history',\n",
       " 'hit',\n",
       " 'hitman',\n",
       " 'hitmen',\n",
       " 'hobbs',\n",
       " 'holds',\n",
       " 'holmes',\n",
       " 'holtzmann',\n",
       " 'homage',\n",
       " 'home',\n",
       " 'homeland',\n",
       " 'homicide',\n",
       " 'honolulu',\n",
       " 'hooligan',\n",
       " 'hope',\n",
       " 'horde',\n",
       " 'horrifying',\n",
       " 'horsemen',\n",
       " 'horus',\n",
       " 'hospital',\n",
       " 'hostage',\n",
       " 'hour',\n",
       " 'house',\n",
       " 'hughes',\n",
       " 'human',\n",
       " 'humanity',\n",
       " 'humankind',\n",
       " 'humanoid',\n",
       " 'humans',\n",
       " 'humor',\n",
       " 'hunger',\n",
       " 'hungry',\n",
       " 'hunt',\n",
       " 'hunter',\n",
       " 'huntsman',\n",
       " 'hur',\n",
       " 'husband',\n",
       " 'ice',\n",
       " 'idealistic',\n",
       " 'identities',\n",
       " 'identity',\n",
       " 'idly',\n",
       " 'idolize',\n",
       " 'igor',\n",
       " 'ii',\n",
       " 'ill',\n",
       " 'illusion',\n",
       " 'illya',\n",
       " 'image',\n",
       " 'imf',\n",
       " 'immortal',\n",
       " 'impact',\n",
       " 'implicated',\n",
       " 'importer',\n",
       " 'imposed',\n",
       " 'impossible',\n",
       " 'improve',\n",
       " 'incarcerated',\n",
       " 'include',\n",
       " 'increase',\n",
       " 'increasingly',\n",
       " 'incredibly',\n",
       " 'india',\n",
       " 'individual',\n",
       " 'infant',\n",
       " 'infected',\n",
       " 'infertile',\n",
       " 'infested',\n",
       " 'infiltrates',\n",
       " 'infiltrating',\n",
       " 'inflicted',\n",
       " 'informs',\n",
       " 'ingenuity',\n",
       " 'inhabitants',\n",
       " 'injustice',\n",
       " 'inner',\n",
       " 'inside',\n",
       " 'insist',\n",
       " 'inspire',\n",
       " 'installment',\n",
       " 'institutionalized',\n",
       " 'intelligence',\n",
       " 'intelligent',\n",
       " 'intentions',\n",
       " 'intercom',\n",
       " 'international',\n",
       " 'interpreting',\n",
       " 'invaded',\n",
       " 'invaders',\n",
       " 'invading',\n",
       " 'invasion',\n",
       " 'inventor',\n",
       " 'investigate',\n",
       " 'investigation',\n",
       " 'investigator',\n",
       " 'involved',\n",
       " 'involving',\n",
       " 'iraq',\n",
       " 'irish',\n",
       " 'island',\n",
       " 'isolated',\n",
       " 'israeli',\n",
       " 'italian',\n",
       " 'jack',\n",
       " 'jaguar',\n",
       " 'jail',\n",
       " 'james',\n",
       " 'jane',\n",
       " 'japanese',\n",
       " 'jason',\n",
       " 'jerry',\n",
       " 'jillian',\n",
       " 'joe',\n",
       " 'john',\n",
       " 'johnny',\n",
       " 'join',\n",
       " 'joined',\n",
       " 'joins',\n",
       " 'joint',\n",
       " 'joker',\n",
       " 'jones',\n",
       " 'journey',\n",
       " 'jr',\n",
       " 'judah',\n",
       " 'jungle',\n",
       " 'just',\n",
       " 'justice',\n",
       " 'kate',\n",
       " 'katniss',\n",
       " 'keeping',\n",
       " 'kent',\n",
       " 'kevin',\n",
       " 'key',\n",
       " 'kgb',\n",
       " 'kid',\n",
       " 'kidnappers',\n",
       " 'kidnaps',\n",
       " 'kievan',\n",
       " 'kill',\n",
       " 'killed',\n",
       " 'killer',\n",
       " 'killing',\n",
       " 'kills',\n",
       " 'kindness',\n",
       " 'king',\n",
       " 'kingdom',\n",
       " 'kingpin',\n",
       " 'kitten',\n",
       " 'knight',\n",
       " 'know',\n",
       " 'knowledge',\n",
       " 'known',\n",
       " 'knows',\n",
       " 'korea',\n",
       " 'korean',\n",
       " 'krang',\n",
       " 'kremlin',\n",
       " 'kung',\n",
       " 'kuryakin',\n",
       " 'laboratory',\n",
       " 'labors',\n",
       " 'ladder',\n",
       " 'land',\n",
       " 'lane',\n",
       " 'lang',\n",
       " 'langdon',\n",
       " 'language',\n",
       " 'late',\n",
       " 'later',\n",
       " 'latin',\n",
       " 'lauda',\n",
       " 'law',\n",
       " 'layers',\n",
       " 'leader',\n",
       " 'leaders',\n",
       " 'leads',\n",
       " 'leagues',\n",
       " 'learn',\n",
       " 'learning',\n",
       " 'learns',\n",
       " 'leave',\n",
       " 'leaves',\n",
       " 'leaving',\n",
       " 'led',\n",
       " 'lee',\n",
       " 'left',\n",
       " 'legal',\n",
       " 'legend',\n",
       " 'legendary',\n",
       " 'legion',\n",
       " 'lego',\n",
       " 'leonidas',\n",
       " 'lesley',\n",
       " 'letty',\n",
       " 'libya',\n",
       " 'licence',\n",
       " 'lies',\n",
       " 'life',\n",
       " 'like',\n",
       " 'line',\n",
       " 'lines',\n",
       " 'linguistics',\n",
       " 'live',\n",
       " 'lives',\n",
       " 'living',\n",
       " 'local',\n",
       " 'locked',\n",
       " 'london',\n",
       " 'lone',\n",
       " 'lonely',\n",
       " 'long',\n",
       " 'look',\n",
       " 'looking',\n",
       " 'looks',\n",
       " 'loomis',\n",
       " 'lord',\n",
       " 'los',\n",
       " 'lost',\n",
       " 'louise',\n",
       " 'love',\n",
       " 'lovers',\n",
       " 'loyalty',\n",
       " 'luck',\n",
       " 'lung',\n",
       " 'lycan',\n",
       " 'lycans',\n",
       " 'mad',\n",
       " 'magically',\n",
       " 'magicians',\n",
       " 'magneto',\n",
       " 'mahavir',\n",
       " 'major',\n",
       " 'make',\n",
       " 'makes',\n",
       " 'malicious',\n",
       " 'man',\n",
       " 'management',\n",
       " 'manhattan',\n",
       " 'mankind',\n",
       " 'mantle',\n",
       " 'map',\n",
       " 'mara',\n",
       " 'marc',\n",
       " 'married',\n",
       " 'mars',\n",
       " ...]"
      ]
     },
     "execution_count": 335,
     "metadata": {},
     "output_type": "execute_result"
    }
   ],
   "source": [
    "# Extract the features: feature_names\n",
    "feature_names = tfidf_vectorizer.get_feature_names()\n",
    "feature_names"
   ]
  },
  {
   "cell_type": "code",
   "execution_count": 336,
   "metadata": {},
   "outputs": [
    {
     "data": {
      "text/plain": [
       "[(-7.551007560471759, '000'),\n",
       " (-7.551007560471759, '007'),\n",
       " (-7.551007560471759, '10'),\n",
       " (-7.551007560471759, '10th'),\n",
       " (-7.551007560471759, '17'),\n",
       " (-7.551007560471759, '1920'),\n",
       " (-7.551007560471759, '1942'),\n",
       " (-7.551007560471759, '1949'),\n",
       " (-7.551007560471759, '1952'),\n",
       " (-7.551007560471759, '1960s'),\n",
       " (-7.551007560471759, '1969'),\n",
       " (-7.551007560471759, '1970s'),\n",
       " (-7.551007560471759, '1980s'),\n",
       " (-7.551007560471759, '1985'),\n",
       " (-7.551007560471759, '1996'),\n",
       " (-7.551007560471759, '1997'),\n",
       " (-7.551007560471759, '300'),\n",
       " (-7.551007560471759, '480'),\n",
       " (-7.551007560471759, '600'),\n",
       " (-7.551007560471759, '60s'),\n",
       " (-7.551007560471759, '70s'),\n",
       " (-7.551007560471759, '74th'),\n",
       " (-7.551007560471759, '80'),\n",
       " (-7.551007560471759, 'aang'),\n",
       " (-7.551007560471759, 'abby'),\n",
       " (-7.551007560471759, 'abilities'),\n",
       " (-7.551007560471759, 'ability'),\n",
       " (-7.551007560471759, 'aboard'),\n",
       " (-7.551007560471759, 'abusive'),\n",
       " (-7.551007560471759, 'accelerated'),\n",
       " (-7.551007560471759, 'accidental'),\n",
       " (-7.551007560471759, 'accidents'),\n",
       " (-7.551007560471759, 'acclimated'),\n",
       " (-7.551007560471759, 'accused'),\n",
       " (-7.551007560471759, 'accuses'),\n",
       " (-7.551007560471759, 'action'),\n",
       " (-7.551007560471759, 'active'),\n",
       " (-7.551007560471759, 'activities'),\n",
       " (-7.551007560471759, 'actors'),\n",
       " (-7.551007560471759, 'adopted'),\n",
       " (-7.551007560471759, 'adventure'),\n",
       " (-7.551007560471759, 'adventures'),\n",
       " (-7.551007560471759, 'adventurous'),\n",
       " (-7.551007560471759, 'adversary'),\n",
       " (-7.551007560471759, 'aether'),\n",
       " (-7.551007560471759, 'africa'),\n",
       " (-7.551007560471759, 'agency'),\n",
       " (-7.551007560471759, 'agenda'),\n",
       " (-7.551007560471759, 'agent'),\n",
       " (-7.551007560471759, 'agents'),\n",
       " (-7.551007560471759, 'aid'),\n",
       " (-7.551007560471759, 'alcoholic'),\n",
       " (-7.551007560471759, 'alice'),\n",
       " (-7.551007560471759, 'alliances'),\n",
       " (-7.551007560471759, 'ally'),\n",
       " (-7.551007560471759, 'alongside'),\n",
       " (-7.551007560471759, 'altered'),\n",
       " (-7.551007560471759, 'alternate'),\n",
       " (-7.551007560471759, 'alternative'),\n",
       " (-7.551007560471759, 'america'),\n",
       " (-7.551007560471759, 'americans'),\n",
       " (-7.551007560471759, 'amnesia'),\n",
       " (-7.551007560471759, 'anarchy'),\n",
       " (-7.551007560471759, 'ancient'),\n",
       " (-7.551007560471759, 'angeles'),\n",
       " (-7.551007560471759, 'angry'),\n",
       " (-7.551007560471759, 'annihilation'),\n",
       " (-7.551007560471759, 'anti'),\n",
       " (-7.551007560471759, 'apes'),\n",
       " (-7.551007560471759, 'apocalyptic'),\n",
       " (-7.551007560471759, 'arcadia'),\n",
       " (-7.551007560471759, 'arcel'),\n",
       " (-7.551007560471759, 'archangel'),\n",
       " (-7.551007560471759, 'ares'),\n",
       " (-7.551007560471759, 'arises'),\n",
       " (-7.551007560471759, 'aristocratic'),\n",
       " (-7.551007560471759, 'armed'),\n",
       " (-7.551007560471759, 'armies'),\n",
       " (-7.551007560471759, 'armored'),\n",
       " (-7.551007560471759, 'arrogant'),\n",
       " (-7.551007560471759, 'artemisia'),\n",
       " (-7.551007560471759, 'arthur'),\n",
       " (-7.551007560471759, 'artist'),\n",
       " (-7.551007560471759, 'arts'),\n",
       " (-7.551007560471759, 'ascend'),\n",
       " (-7.551007560471759, 'asgard'),\n",
       " (-7.551007560471759, 'assassin'),\n",
       " (-7.551007560471759, 'assassinate'),\n",
       " (-7.551007560471759, 'assassinating'),\n",
       " (-7.551007560471759, 'assassination'),\n",
       " (-7.551007560471759, 'assassinations'),\n",
       " (-7.551007560471759, 'assembles'),\n",
       " (-7.551007560471759, 'assigned'),\n",
       " (-7.551007560471759, 'assignment'),\n",
       " (-7.551007560471759, 'associate'),\n",
       " (-7.551007560471759, 'astonishing'),\n",
       " (-7.551007560471759, 'athletes'),\n",
       " (-7.551007560471759, 'atop'),\n",
       " (-7.551007560471759, 'attack'),\n",
       " (-7.551007560471759, 'attacked'),\n",
       " (-7.551007560471759, 'attempts'),\n",
       " (-7.551007560471759, 'attending'),\n",
       " (-7.551007560471759, 'attracting'),\n",
       " (-7.551007560471759, 'attractions'),\n",
       " (-7.551007560471759, 'authority'),\n",
       " (-7.551007560471759, 'autobahn'),\n",
       " (-7.551007560471759, 'avatars'),\n",
       " (-7.551007560471759, 'avoid'),\n",
       " (-7.551007560471759, 'backpacker'),\n",
       " (-7.551007560471759, 'badlands'),\n",
       " (-7.551007560471759, 'balance'),\n",
       " (-7.551007560471759, 'band'),\n",
       " (-7.551007560471759, 'bane'),\n",
       " (-7.551007560471759, 'bank'),\n",
       " (-7.551007560471759, 'banning'),\n",
       " (-7.551007560471759, 'barbarian'),\n",
       " (-7.551007560471759, 'barbossa'),\n",
       " (-7.551007560471759, 'barred'),\n",
       " (-7.551007560471759, 'barreling'),\n",
       " (-7.551007560471759, 'battle'),\n",
       " (-7.551007560471759, 'battles'),\n",
       " (-7.551007560471759, 'baxter'),\n",
       " (-7.551007560471759, 'bebop'),\n",
       " (-7.551007560471759, 'beckinsale'),\n",
       " (-7.551007560471759, 'beginning'),\n",
       " (-7.551007560471759, 'begins'),\n",
       " (-7.551007560471759, 'behavior'),\n",
       " (-7.551007560471759, 'bek'),\n",
       " (-7.551007560471759, 'believes'),\n",
       " (-7.551007560471759, 'beloved'),\n",
       " (-7.551007560471759, 'ben'),\n",
       " (-7.551007560471759, 'beowulf'),\n",
       " (-7.551007560471759, 'best'),\n",
       " (-7.551007560471759, 'bestowed'),\n",
       " (-7.551007560471759, 'betrayal'),\n",
       " (-7.551007560471759, 'betrayed'),\n",
       " (-7.551007560471759, 'betrothed'),\n",
       " (-7.551007560471759, 'big'),\n",
       " (-7.551007560471759, 'biggest'),\n",
       " (-7.551007560471759, 'bio'),\n",
       " (-7.551007560471759, 'birds'),\n",
       " (-7.551007560471759, 'bishop'),\n",
       " (-7.551007560471759, 'bitten'),\n",
       " (-7.551007560471759, 'black'),\n",
       " (-7.551007560471759, 'blackbeard'),\n",
       " (-7.551007560471759, 'blackheart'),\n",
       " (-7.551007560471759, 'blaze'),\n",
       " (-7.551007560471759, 'blend'),\n",
       " (-7.551007560471759, 'blizzard'),\n",
       " (-7.551007560471759, 'bloodthirsty'),\n",
       " (-7.551007560471759, 'bob'),\n",
       " (-7.551007560471759, 'bobby'),\n",
       " (-7.551007560471759, 'bodies'),\n",
       " (-7.551007560471759, 'bogotá'),\n",
       " (-7.551007560471759, 'boiled'),\n",
       " (-7.551007560471759, 'bomb'),\n",
       " (-7.551007560471759, 'bombing'),\n",
       " (-7.551007560471759, 'bond'),\n",
       " (-7.551007560471759, 'bonds'),\n",
       " (-7.551007560471759, 'books'),\n",
       " (-7.551007560471759, 'border'),\n",
       " (-7.551007560471759, 'boss'),\n",
       " (-7.551007560471759, 'boston'),\n",
       " (-7.551007560471759, 'bounty'),\n",
       " (-7.551007560471759, 'bourne'),\n",
       " (-7.551007560471759, 'boxer'),\n",
       " (-7.551007560471759, 'boxing'),\n",
       " (-7.551007560471759, 'boyka'),\n",
       " (-7.551007560471759, 'braves'),\n",
       " (-7.551007560471759, 'brawn'),\n",
       " (-7.551007560471759, 'brazilian'),\n",
       " (-7.551007560471759, 'breaks'),\n",
       " (-7.551007560471759, 'brian'),\n",
       " (-7.551007560471759, 'brilliant'),\n",
       " (-7.551007560471759, 'bring'),\n",
       " (-7.551007560471759, 'brings'),\n",
       " (-7.551007560471759, 'brink'),\n",
       " (-7.551007560471759, 'brooks'),\n",
       " (-7.551007560471759, 'brother'),\n",
       " (-7.551007560471759, 'brotherhood'),\n",
       " (-7.551007560471759, 'bruce'),\n",
       " (-7.551007560471759, 'brutal'),\n",
       " (-7.551007560471759, 'bryan'),\n",
       " (-7.551007560471759, 'budget'),\n",
       " (-7.551007560471759, 'build'),\n",
       " (-7.551007560471759, 'burglar'),\n",
       " (-7.551007560471759, 'busan'),\n",
       " (-7.551007560471759, 'business'),\n",
       " (-7.551007560471759, 'buy'),\n",
       " (-7.551007560471759, 'caesar'),\n",
       " (-7.551007560471759, 'cal'),\n",
       " (-7.551007560471759, 'california'),\n",
       " (-7.551007560471759, 'called'),\n",
       " (-7.551007560471759, 'calling'),\n",
       " (-7.551007560471759, 'canadian'),\n",
       " (-7.551007560471759, 'cape'),\n",
       " (-7.551007560471759, 'capitol'),\n",
       " (-7.551007560471759, 'captain'),\n",
       " (-7.551007560471759, 'captured'),\n",
       " (-7.551007560471759, 'car'),\n",
       " (-7.551007560471759, 'cares'),\n",
       " (-7.551007560471759, 'cartels'),\n",
       " (-7.551007560471759, 'case'),\n",
       " (-7.551007560471759, 'cash'),\n",
       " (-7.551007560471759, 'casino'),\n",
       " (-7.551007560471759, 'cast'),\n",
       " (-7.551007560471759, 'cat'),\n",
       " (-7.551007560471759, 'catastrophe'),\n",
       " (-7.551007560471759, 'centered'),\n",
       " (-7.551007560471759, 'century'),\n",
       " (-7.551007560471759, 'challenges'),\n",
       " (-7.551007560471759, 'champion'),\n",
       " (-7.551007560471759, 'chance'),\n",
       " (-7.551007560471759, 'changes'),\n",
       " (-7.551007560471759, 'changing'),\n",
       " (-7.551007560471759, 'chaos'),\n",
       " (-7.551007560471759, 'charge'),\n",
       " (-7.551007560471759, 'charged'),\n",
       " (-7.551007560471759, 'charles'),\n",
       " (-7.551007560471759, 'china'),\n",
       " (-7.551007560471759, 'chuck'),\n",
       " (-7.551007560471759, 'cia'),\n",
       " (-7.551007560471759, 'citizens'),\n",
       " (-7.551007560471759, 'city'),\n",
       " (-7.551007560471759, 'claim'),\n",
       " (-7.551007560471759, 'clan'),\n",
       " (-7.551007560471759, 'clark'),\n",
       " (-7.551007560471759, 'clary'),\n",
       " (-7.551007560471759, 'clash'),\n",
       " (-7.551007560471759, 'cleanses'),\n",
       " (-7.551007560471759, 'clear'),\n",
       " (-7.551007560471759, 'client'),\n",
       " (-7.551007560471759, 'clock'),\n",
       " (-7.551007560471759, 'close'),\n",
       " (-7.551007560471759, 'closes'),\n",
       " (-7.551007560471759, 'clue'),\n",
       " (-7.551007560471759, 'coast'),\n",
       " (-7.551007560471759, 'cod'),\n",
       " (-7.551007560471759, 'cohen'),\n",
       " (-7.551007560471759, 'colleague'),\n",
       " (-7.551007560471759, 'collision'),\n",
       " (-7.551007560471759, 'cologne'),\n",
       " (-7.551007560471759, 'colombia'),\n",
       " (-7.551007560471759, 'comatose'),\n",
       " (-7.551007560471759, 'combine'),\n",
       " (-7.551007560471759, 'combined'),\n",
       " (-7.551007560471759, 'come'),\n",
       " (-7.551007560471759, 'comes'),\n",
       " (-7.551007560471759, 'coming'),\n",
       " (-7.551007560471759, 'commander'),\n",
       " (-7.551007560471759, 'committed'),\n",
       " (-7.551007560471759, 'committing'),\n",
       " (-7.551007560471759, 'commonwealth'),\n",
       " (-7.551007560471759, 'companion'),\n",
       " (-7.551007560471759, 'company'),\n",
       " (-7.551007560471759, 'competitor'),\n",
       " (-7.551007560471759, 'completely'),\n",
       " (-7.551007560471759, 'compound'),\n",
       " (-7.551007560471759, 'conceal'),\n",
       " (-7.551007560471759, 'conductor'),\n",
       " (-7.551007560471759, 'conflict'),\n",
       " (-7.551007560471759, 'congo'),\n",
       " (-7.551007560471759, 'connected'),\n",
       " (-7.551007560471759, 'conner'),\n",
       " (-7.551007560471759, 'conquer'),\n",
       " (-7.551007560471759, 'considered'),\n",
       " (-7.551007560471759, 'conspiracy'),\n",
       " (-7.551007560471759, 'construction'),\n",
       " (-7.551007560471759, 'contends'),\n",
       " (-7.551007560471759, 'control'),\n",
       " (-7.551007560471759, 'convergence'),\n",
       " (-7.551007560471759, 'convert'),\n",
       " (-7.551007560471759, 'convoluted'),\n",
       " (-7.551007560471759, 'cop'),\n",
       " (-7.551007560471759, 'coping'),\n",
       " (-7.551007560471759, 'cops'),\n",
       " (-7.551007560471759, 'corporation'),\n",
       " (-7.551007560471759, 'corrupt'),\n",
       " (-7.551007560471759, 'corruption'),\n",
       " (-7.551007560471759, 'cosmic'),\n",
       " (-7.551007560471759, 'cost'),\n",
       " (-7.551007560471759, 'count'),\n",
       " (-7.551007560471759, 'couple'),\n",
       " (-7.551007560471759, 'course'),\n",
       " (-7.551007560471759, 'cousins'),\n",
       " (-7.551007560471759, 'creator'),\n",
       " (-7.551007560471759, 'creature'),\n",
       " (-7.551007560471759, 'creatures'),\n",
       " (-7.551007560471759, 'crew'),\n",
       " (-7.551007560471759, 'crewmen'),\n",
       " (-7.551007560471759, 'criminal'),\n",
       " (-7.551007560471759, 'criminals'),\n",
       " (-7.551007560471759, 'cross'),\n",
       " (-7.551007560471759, 'crumbles'),\n",
       " (-7.551007560471759, 'cryptic'),\n",
       " (-7.551007560471759, 'cure'),\n",
       " (-7.551007560471759, 'curse'),\n",
       " (-7.551007560471759, 'cursed'),\n",
       " (-7.551007560471759, 'cut'),\n",
       " (-7.551007560471759, 'cycle'),\n",
       " (-7.551007560471759, 'damage'),\n",
       " (-7.551007560471759, 'daring'),\n",
       " (-7.551007560471759, 'darkness'),\n",
       " (-7.551007560471759, 'daughter'),\n",
       " (-7.551007560471759, 'daughters'),\n",
       " (-7.551007560471759, 'davy'),\n",
       " (-7.551007560471759, 'days'),\n",
       " (-7.551007560471759, 'deadly'),\n",
       " (-7.551007560471759, 'dealer'),\n",
       " (-7.551007560471759, 'dealers'),\n",
       " (-7.551007560471759, 'deaths'),\n",
       " (-7.551007560471759, 'decade'),\n",
       " (-7.551007560471759, 'decades'),\n",
       " (-7.551007560471759, 'deceased'),\n",
       " (-7.551007560471759, 'deceit'),\n",
       " (-7.551007560471759, 'decimated'),\n",
       " (-7.551007560471759, 'decisive'),\n",
       " (-7.551007560471759, 'deckard'),\n",
       " (-7.551007560471759, 'decline'),\n",
       " (-7.551007560471759, 'dedicated'),\n",
       " (-7.551007560471759, 'deeper'),\n",
       " (-7.551007560471759, 'defeat'),\n",
       " (-7.551007560471759, 'defeating'),\n",
       " (-7.551007560471759, 'defector'),\n",
       " (-7.551007560471759, 'defenders'),\n",
       " (-7.551007560471759, 'defense'),\n",
       " (-7.551007560471759, 'defiant'),\n",
       " (-7.551007560471759, 'deliberately'),\n",
       " (-7.551007560471759, 'demigod'),\n",
       " (-7.551007560471759, 'demonic'),\n",
       " (-7.551007560471759, 'denmark'),\n",
       " (-7.551007560471759, 'department'),\n",
       " (-7.551007560471759, 'descends'),\n",
       " (-7.551007560471759, 'desert'),\n",
       " (-7.551007560471759, 'destroyed'),\n",
       " (-7.551007560471759, 'destroying'),\n",
       " (-7.551007560471759, 'destruction'),\n",
       " (-7.551007560471759, 'detective'),\n",
       " (-7.551007560471759, 'detectives'),\n",
       " (-7.551007560471759, 'determined'),\n",
       " (-7.551007560471759, 'devastating'),\n",
       " (-7.551007560471759, 'devil'),\n",
       " (-7.551007560471759, 'devotion'),\n",
       " (-7.551007560471759, 'dhampir'),\n",
       " (-7.551007560471759, 'dictator'),\n",
       " (-7.551007560471759, 'digs'),\n",
       " (-7.551007560471759, 'diner'),\n",
       " (-7.551007560471759, 'disappears'),\n",
       " (-7.551007560471759, 'discarded'),\n",
       " (-7.551007560471759, 'discovering'),\n",
       " (-7.551007560471759, 'discreetly'),\n",
       " (-7.551007560471759, 'disgraced'),\n",
       " (-7.551007560471759, 'disguised'),\n",
       " (-7.551007560471759, 'dispatched'),\n",
       " (-7.551007560471759, 'distant'),\n",
       " (-7.551007560471759, 'doctor'),\n",
       " (-7.551007560471759, 'dodges'),\n",
       " (-7.551007560471759, 'does'),\n",
       " (-7.551007560471759, 'dollar'),\n",
       " (-7.551007560471759, 'dominic'),\n",
       " (-7.551007560471759, 'don'),\n",
       " (-7.551007560471759, 'double'),\n",
       " (-7.551007560471759, 'dr'),\n",
       " (-7.551007560471759, 'dragon'),\n",
       " (-7.551007560471759, 'drift'),\n",
       " (-7.551007560471759, 'driven'),\n",
       " (-7.551007560471759, 'driver'),\n",
       " (-7.551007560471759, 'drug'),\n",
       " (-7.551007560471759, 'drugged'),\n",
       " (-7.551007560471759, 'drugs'),\n",
       " (-7.551007560471759, 'duran'),\n",
       " (-7.551007560471759, 'dusty'),\n",
       " (-7.551007560471759, 'dying'),\n",
       " (-7.551007560471759, 'earlier'),\n",
       " (-7.551007560471759, 'early'),\n",
       " (-7.551007560471759, 'eden'),\n",
       " (-7.551007560471759, 'edge'),\n",
       " (-7.551007560471759, 'edwin'),\n",
       " (-7.551007560471759, 'egypt'),\n",
       " (-7.551007560471759, 'egyptian'),\n",
       " (-7.551007560471759, 'elements'),\n",
       " (-7.551007560471759, 'eliminate'),\n",
       " (-7.551007560471759, 'elizabeth'),\n",
       " (-7.551007560471759, 'elusive'),\n",
       " (-7.551007560471759, 'elves'),\n",
       " (-7.551007560471759, 'embark'),\n",
       " (-7.551007560471759, 'embrace'),\n",
       " (-7.551007560471759, 'embraces'),\n",
       " (-7.551007560471759, 'embroiled'),\n",
       " (-7.551007560471759, 'emerge'),\n",
       " (-7.551007560471759, 'emerges'),\n",
       " (-7.551007560471759, 'emily'),\n",
       " (-7.551007560471759, 'empire'),\n",
       " (-7.551007560471759, 'employ'),\n",
       " (-7.551007560471759, 'employee'),\n",
       " (-7.551007560471759, 'employers'),\n",
       " (-7.551007560471759, 'encampment'),\n",
       " (-7.551007560471759, 'encounters'),\n",
       " (-7.551007560471759, 'endured'),\n",
       " (-7.551007560471759, 'enemy'),\n",
       " (-7.551007560471759, 'engineer'),\n",
       " (-7.551007560471759, 'england'),\n",
       " (-7.551007560471759, 'enigmatic'),\n",
       " (-7.551007560471759, 'enlisted'),\n",
       " (-7.551007560471759, 'enslaving'),\n",
       " (-7.551007560471759, 'enters'),\n",
       " (-7.551007560471759, 'enthusiasts'),\n",
       " (-7.551007560471759, 'entity'),\n",
       " (-7.551007560471759, 'envisioning'),\n",
       " (-7.551007560471759, 'equally'),\n",
       " (-7.551007560471759, 'eradicating'),\n",
       " (-7.551007560471759, 'erasing'),\n",
       " (-7.551007560471759, 'eric'),\n",
       " (-7.551007560471759, 'erin'),\n",
       " (-7.551007560471759, 'erupts'),\n",
       " (-7.551007560471759, 'escalating'),\n",
       " (-7.551007560471759, 'escape'),\n",
       " (-7.551007560471759, 'established'),\n",
       " (-7.551007560471759, 'estate'),\n",
       " (-7.551007560471759, 'estranged'),\n",
       " (-7.551007560471759, 'eternal'),\n",
       " (-7.551007560471759, 'ethan'),\n",
       " (-7.551007560471759, 'europe'),\n",
       " (-7.551007560471759, 'european'),\n",
       " (-7.551007560471759, 'event'),\n",
       " (-7.551007560471759, 'everest'),\n",
       " (-7.551007560471759, 'everyday'),\n",
       " (-7.551007560471759, 'evil'),\n",
       " (-7.551007560471759, 'evolve'),\n",
       " (-7.551007560471759, 'evolved'),\n",
       " (-7.551007560471759, 'ex'),\n",
       " (-7.551007560471759, 'exchange'),\n",
       " (-7.551007560471759, 'exile'),\n",
       " (-7.551007560471759, 'exist'),\n",
       " (-7.551007560471759, 'expedition'),\n",
       " (-7.551007560471759, 'exploitation'),\n",
       " (-7.551007560471759, 'explosive'),\n",
       " (-7.551007560471759, 'extinguished'),\n",
       " (-7.551007560471759, 'extract'),\n",
       " (-7.551007560471759, 'extraordinary'),\n",
       " (-7.551007560471759, 'extreme'),\n",
       " (-7.551007560471759, 'eyes'),\n",
       " (-7.551007560471759, 'face'),\n",
       " (-7.551007560471759, 'faces'),\n",
       " (-7.551007560471759, 'facing'),\n",
       " (-7.551007560471759, 'faction'),\n",
       " (-7.551007560471759, 'fairy'),\n",
       " (-7.551007560471759, 'fake'),\n",
       " (-7.551007560471759, 'fakes'),\n",
       " (-7.551007560471759, 'falls'),\n",
       " (-7.551007560471759, 'falsely'),\n",
       " (-7.551007560471759, 'fargo'),\n",
       " (-7.551007560471759, 'fast'),\n",
       " (-7.551007560471759, 'fatal'),\n",
       " (-7.551007560471759, 'fate'),\n",
       " (-7.551007560471759, 'fbi'),\n",
       " (-7.551007560471759, 'features'),\n",
       " (-7.551007560471759, 'federal'),\n",
       " (-7.551007560471759, 'feels'),\n",
       " (-7.551007560471759, 'fellow'),\n",
       " (-7.551007560471759, 'female'),\n",
       " (-7.551007560471759, 'feud'),\n",
       " (-7.551007560471759, 'fiercest'),\n",
       " (-7.551007560471759, 'fighter'),\n",
       " (-7.551007560471759, 'fighting'),\n",
       " (-7.551007560471759, 'fights'),\n",
       " (-7.551007560471759, 'figure'),\n",
       " (-7.551007560471759, 'films'),\n",
       " (-7.551007560471759, 'final'),\n",
       " (-7.551007560471759, 'finest'),\n",
       " (-7.551007560471759, 'fischer'),\n",
       " (-7.551007560471759, 'flaw'),\n",
       " (-7.551007560471759, 'flees'),\n",
       " (-7.551007560471759, 'flightless'),\n",
       " (-7.551007560471759, 'flood'),\n",
       " (-7.551007560471759, 'flown'),\n",
       " (-7.551007560471759, 'foe'),\n",
       " (-7.551007560471759, 'foes'),\n",
       " (-7.551007560471759, 'foil'),\n",
       " (-7.551007560471759, 'following'),\n",
       " (-7.551007560471759, 'follows'),\n",
       " (-7.551007560471759, 'football'),\n",
       " (-7.551007560471759, 'forbidden'),\n",
       " (-7.551007560471759, 'force'),\n",
       " (-7.551007560471759, 'forced'),\n",
       " (-7.551007560471759, 'forcibly'),\n",
       " (-7.551007560471759, 'forever'),\n",
       " (-7.551007560471759, 'formidable'),\n",
       " (-7.551007560471759, 'formula'),\n",
       " (-7.551007560471759, 'foster'),\n",
       " (-7.551007560471759, 'foul'),\n",
       " (-7.551007560471759, 'fountain'),\n",
       " (-7.551007560471759, 'fourth'),\n",
       " (-7.551007560471759, 'framed'),\n",
       " (-7.551007560471759, 'france'),\n",
       " (-7.551007560471759, 'franchise'),\n",
       " (-7.551007560471759, 'fray'),\n",
       " (-7.551007560471759, 'freak'),\n",
       " (-7.551007560471759, 'freedom'),\n",
       " (-7.551007560471759, 'freight'),\n",
       " (-7.551007560471759, 'french'),\n",
       " (-7.551007560471759, 'fresh'),\n",
       " (-7.551007560471759, 'freya'),\n",
       " (-7.551007560471759, 'friend'),\n",
       " (-7.551007560471759, 'frozen'),\n",
       " (-7.551007560471759, 'frustrated'),\n",
       " (-7.551007560471759, 'fu'),\n",
       " (-7.551007560471759, 'fugitive'),\n",
       " (-7.551007560471759, 'funeral'),\n",
       " (-7.551007560471759, 'gains'),\n",
       " (-7.551007560471759, 'galactic'),\n",
       " (-7.551007560471759, 'galaxy'),\n",
       " (-7.551007560471759, 'game'),\n",
       " (-7.551007560471759, 'gangs'),\n",
       " (-7.551007560471759, 'gangsters'),\n",
       " (-7.551007560471759, 'gender'),\n",
       " (-7.551007560471759, 'general'),\n",
       " (-7.551007560471759, 'genetically'),\n",
       " (-7.551007560471759, 'genius'),\n",
       " (-7.551007560471759, 'genocidal'),\n",
       " (-7.551007560471759, 'gerry'),\n",
       " (-7.551007560471759, 'gets'),\n",
       " (-7.551007560471759, 'ghost'),\n",
       " (-7.551007560471759, 'giant'),\n",
       " (-7.551007560471759, 'gilbert'),\n",
       " (-7.551007560471759, 'girlfriend'),\n",
       " (-7.551007560471759, 'gives'),\n",
       " (-7.551007560471759, 'gladiator'),\n",
       " (-7.551007560471759, 'global'),\n",
       " (-7.551007560471759, 'globe'),\n",
       " (-7.551007560471759, 'gloria'),\n",
       " (-7.551007560471759, 'glory'),\n",
       " (-7.551007560471759, 'gluing'),\n",
       " (-7.551007560471759, 'god'),\n",
       " (-7.551007560471759, 'going'),\n",
       " (-7.551007560471759, 'gotham'),\n",
       " (-7.551007560471759, 'governments'),\n",
       " (-7.551007560471759, 'grabs'),\n",
       " (-7.551007560471759, 'gradually'),\n",
       " (-7.551007560471759, 'greater'),\n",
       " (-7.551007560471759, 'greatest'),\n",
       " (-7.551007560471759, 'greek'),\n",
       " (-7.551007560471759, 'green'),\n",
       " (-7.551007560471759, 'grendel'),\n",
       " (-7.551007560471759, 'growing'),\n",
       " (-7.551007560471759, 'guard'),\n",
       " (-7.551007560471759, 'guardian'),\n",
       " (-7.551007560471759, 'guerrilla'),\n",
       " (-7.551007560471759, 'guide'),\n",
       " (-7.551007560471759, 'gunmen'),\n",
       " (-7.551007560471759, 'guy'),\n",
       " (-7.551007560471759, 'guys'),\n",
       " (-7.551007560471759, 'hades'),\n",
       " (-7.551007560471759, 'hair'),\n",
       " (-7.551007560471759, 'half'),\n",
       " (-7.551007560471759, 'hall'),\n",
       " (-7.551007560471759, 'hancock'),\n",
       " (-7.551007560471759, 'hangs'),\n",
       " (-7.551007560471759, 'hank'),\n",
       " (-7.551007560471759, 'happens'),\n",
       " (-7.551007560471759, 'happy'),\n",
       " (-7.551007560471759, 'hard'),\n",
       " (-7.551007560471759, 'harness'),\n",
       " (-7.551007560471759, 'hatches'),\n",
       " (-7.551007560471759, 'hathaway'),\n",
       " (-7.551007560471759, 'haunt'),\n",
       " (-7.551007560471759, 'haven'),\n",
       " (-7.551007560471759, 'having'),\n",
       " (-7.551007560471759, 'havoc'),\n",
       " (-7.551007560471759, 'head'),\n",
       " (-7.551007560471759, 'heads'),\n",
       " (-7.551007560471759, 'healing'),\n",
       " (-7.551007560471759, 'heap'),\n",
       " (-7.551007560471759, 'heart'),\n",
       " (-7.551007560471759, 'heavily'),\n",
       " (-7.551007560471759, 'heist'),\n",
       " (-7.551007560471759, 'heists'),\n",
       " (-7.551007560471759, 'hellblazing'),\n",
       " (-7.551007560471759, 'hellboy'),\n",
       " (-7.551007560471759, 'helped'),\n",
       " (-7.551007560471759, 'henchmen'),\n",
       " (-7.551007560471759, 'heralded'),\n",
       " (-7.551007560471759, 'herb'),\n",
       " (-7.551007560471759, 'hercules'),\n",
       " (-7.551007560471759, 'heroes'),\n",
       " (-7.551007560471759, 'heroin'),\n",
       " (-7.551007560471759, 'hiding'),\n",
       " (-7.551007560471759, 'high'),\n",
       " (-7.551007560471759, 'highly'),\n",
       " (-7.551007560471759, 'highway'),\n",
       " (-7.551007560471759, 'hire'),\n",
       " (-7.551007560471759, 'hires'),\n",
       " (-7.551007560471759, 'history'),\n",
       " (-7.551007560471759, 'hit'),\n",
       " (-7.551007560471759, 'hitman'),\n",
       " (-7.551007560471759, 'hitmen'),\n",
       " (-7.551007560471759, 'hobbs'),\n",
       " (-7.551007560471759, 'holds'),\n",
       " (-7.551007560471759, 'holmes'),\n",
       " (-7.551007560471759, 'holtzmann'),\n",
       " (-7.551007560471759, 'homage'),\n",
       " (-7.551007560471759, 'homeland'),\n",
       " (-7.551007560471759, 'homicide'),\n",
       " (-7.551007560471759, 'honolulu'),\n",
       " (-7.551007560471759, 'hooligan'),\n",
       " (-7.551007560471759, 'hope'),\n",
       " (-7.551007560471759, 'horde'),\n",
       " (-7.551007560471759, 'horrifying'),\n",
       " (-7.551007560471759, 'horsemen'),\n",
       " (-7.551007560471759, 'horus'),\n",
       " (-7.551007560471759, 'hospital'),\n",
       " (-7.551007560471759, 'house'),\n",
       " (-7.551007560471759, 'humankind'),\n",
       " (-7.551007560471759, 'humans'),\n",
       " (-7.551007560471759, 'humor'),\n",
       " (-7.551007560471759, 'hungry'),\n",
       " (-7.551007560471759, 'hunter'),\n",
       " (-7.551007560471759, 'huntsman'),\n",
       " (-7.551007560471759, 'hur'),\n",
       " (-7.551007560471759, 'husband'),\n",
       " (-7.551007560471759, 'ice'),\n",
       " (-7.551007560471759, 'idealistic'),\n",
       " (-7.551007560471759, 'identities'),\n",
       " (-7.551007560471759, 'identity'),\n",
       " (-7.551007560471759, 'idly'),\n",
       " (-7.551007560471759, 'idolize'),\n",
       " (-7.551007560471759, 'ii'),\n",
       " (-7.551007560471759, 'ill'),\n",
       " (-7.551007560471759, 'illya'),\n",
       " (-7.551007560471759, 'image'),\n",
       " (-7.551007560471759, 'imf'),\n",
       " (-7.551007560471759, 'immortal'),\n",
       " (-7.551007560471759, 'implicated'),\n",
       " (-7.551007560471759, 'importer'),\n",
       " (-7.551007560471759, 'imposed'),\n",
       " (-7.551007560471759, 'impossible'),\n",
       " (-7.551007560471759, 'improve'),\n",
       " (-7.551007560471759, 'incarcerated'),\n",
       " (-7.551007560471759, 'include'),\n",
       " (-7.551007560471759, 'increase'),\n",
       " (-7.551007560471759, 'increasingly'),\n",
       " (-7.551007560471759, 'india'),\n",
       " (-7.551007560471759, 'infant'),\n",
       " (-7.551007560471759, 'infested'),\n",
       " (-7.551007560471759, 'infiltrates'),\n",
       " (-7.551007560471759, 'infiltrating'),\n",
       " (-7.551007560471759, 'informs'),\n",
       " (-7.551007560471759, 'inhabitants'),\n",
       " (-7.551007560471759, 'injustice'),\n",
       " (-7.551007560471759, 'inside'),\n",
       " (-7.551007560471759, 'insist'),\n",
       " (-7.551007560471759, 'installment'),\n",
       " (-7.551007560471759, 'institutionalized'),\n",
       " (-7.551007560471759, 'intentions'),\n",
       " (-7.551007560471759, 'intercom'),\n",
       " (-7.551007560471759, 'international'),\n",
       " (-7.551007560471759, 'invaded'),\n",
       " (-7.551007560471759, 'invaders'),\n",
       " (-7.551007560471759, 'invading'),\n",
       " (-7.551007560471759, 'invasion'),\n",
       " (-7.551007560471759, 'inventor'),\n",
       " (-7.551007560471759, 'investigation'),\n",
       " (-7.551007560471759, 'investigator'),\n",
       " (-7.551007560471759, 'involved'),\n",
       " (-7.551007560471759, 'involving'),\n",
       " (-7.551007560471759, 'iraq'),\n",
       " (-7.551007560471759, 'irish'),\n",
       " (-7.551007560471759, 'island'),\n",
       " (-7.551007560471759, 'israeli'),\n",
       " (-7.551007560471759, 'italian'),\n",
       " (-7.551007560471759, 'jack'),\n",
       " (-7.551007560471759, 'jaguar'),\n",
       " (-7.551007560471759, 'jail'),\n",
       " (-7.551007560471759, 'james'),\n",
       " (-7.551007560471759, 'jane'),\n",
       " (-7.551007560471759, 'japanese'),\n",
       " (-7.551007560471759, 'jason'),\n",
       " (-7.551007560471759, 'jerry'),\n",
       " (-7.551007560471759, 'jillian'),\n",
       " (-7.551007560471759, 'john'),\n",
       " (-7.551007560471759, 'johnny'),\n",
       " (-7.551007560471759, 'join'),\n",
       " (-7.551007560471759, 'joined'),\n",
       " (-7.551007560471759, 'joins'),\n",
       " (-7.551007560471759, 'joint'),\n",
       " (-7.551007560471759, 'joker'),\n",
       " (-7.551007560471759, 'jones'),\n",
       " (-7.551007560471759, 'journey'),\n",
       " (-7.551007560471759, 'jr'),\n",
       " (-7.551007560471759, 'judah'),\n",
       " (-7.551007560471759, 'jungle'),\n",
       " (-7.551007560471759, 'just'),\n",
       " (-7.551007560471759, 'justice'),\n",
       " (-7.551007560471759, 'kate'),\n",
       " (-7.551007560471759, 'kent'),\n",
       " (-7.551007560471759, 'kevin'),\n",
       " (-7.551007560471759, 'key'),\n",
       " (-7.551007560471759, 'kgb'),\n",
       " (-7.551007560471759, 'kid'),\n",
       " (-7.551007560471759, 'kidnappers'),\n",
       " (-7.551007560471759, 'kidnaps'),\n",
       " (-7.551007560471759, 'kievan'),\n",
       " (-7.551007560471759, 'kill'),\n",
       " (-7.551007560471759, 'killed'),\n",
       " (-7.551007560471759, 'killing'),\n",
       " (-7.551007560471759, 'kills'),\n",
       " (-7.551007560471759, 'king'),\n",
       " (-7.551007560471759, 'kingdom'),\n",
       " (-7.551007560471759, 'kingpin'),\n",
       " (-7.551007560471759, 'kitten'),\n",
       " (-7.551007560471759, 'knight'),\n",
       " (-7.551007560471759, 'knowledge'),\n",
       " (-7.551007560471759, 'known'),\n",
       " (-7.551007560471759, 'knows'),\n",
       " (-7.551007560471759, 'korea'),\n",
       " (-7.551007560471759, 'korean'),\n",
       " (-7.551007560471759, 'krang'),\n",
       " (-7.551007560471759, 'kremlin'),\n",
       " (-7.551007560471759, 'kung'),\n",
       " (-7.551007560471759, 'kuryakin'),\n",
       " (-7.551007560471759, 'labors'),\n",
       " (-7.551007560471759, 'ladder'),\n",
       " (-7.551007560471759, 'lane'),\n",
       " (-7.551007560471759, 'lang'),\n",
       " (-7.551007560471759, 'langdon'),\n",
       " (-7.551007560471759, 'latin'),\n",
       " (-7.551007560471759, 'lauda'),\n",
       " (-7.551007560471759, 'law'),\n",
       " (-7.551007560471759, 'layers'),\n",
       " (-7.551007560471759, 'leaders'),\n",
       " (-7.551007560471759, 'leads'),\n",
       " (-7.551007560471759, 'leagues'),\n",
       " (-7.551007560471759, 'learning'),\n",
       " (-7.551007560471759, 'leave'),\n",
       " (-7.551007560471759, 'leaving'),\n",
       " (-7.551007560471759, 'led'),\n",
       " (-7.551007560471759, 'lee'),\n",
       " (-7.551007560471759, 'legendary'),\n",
       " (-7.551007560471759, 'legion'),\n",
       " (-7.551007560471759, 'lego'),\n",
       " (-7.551007560471759, 'leonidas'),\n",
       " (-7.551007560471759, 'lesley'),\n",
       " (-7.551007560471759, 'letty'),\n",
       " (-7.551007560471759, 'libya'),\n",
       " (-7.551007560471759, 'licence'),\n",
       " (-7.551007560471759, 'lies'),\n",
       " (-7.551007560471759, 'life'),\n",
       " (-7.551007560471759, 'like'),\n",
       " (-7.551007560471759, 'line'),\n",
       " (-7.551007560471759, 'lines'),\n",
       " (-7.551007560471759, 'living'),\n",
       " (-7.551007560471759, 'local'),\n",
       " (-7.551007560471759, 'locked'),\n",
       " (-7.551007560471759, 'lone'),\n",
       " (-7.551007560471759, 'long'),\n",
       " (-7.551007560471759, 'look'),\n",
       " (-7.551007560471759, 'looking'),\n",
       " (-7.551007560471759, 'looks'),\n",
       " (-7.551007560471759, 'loomis'),\n",
       " (-7.551007560471759, 'lord'),\n",
       " (-7.551007560471759, 'los'),\n",
       " (-7.551007560471759, 'lost'),\n",
       " (-7.551007560471759, 'loyalty'),\n",
       " (-7.551007560471759, 'luck'),\n",
       " (-7.551007560471759, 'lung'),\n",
       " (-7.551007560471759, 'lycan'),\n",
       " (-7.551007560471759, 'lycans'),\n",
       " (-7.551007560471759, 'mad'),\n",
       " (-7.551007560471759, 'magically'),\n",
       " (-7.551007560471759, 'magneto'),\n",
       " (-7.551007560471759, 'mahavir'),\n",
       " (-7.551007560471759, 'major'),\n",
       " (-7.551007560471759, 'make'),\n",
       " (-7.551007560471759, 'malicious'),\n",
       " (-7.551007560471759, 'manhattan'),\n",
       " (-7.551007560471759, 'mankind'),\n",
       " (-7.551007560471759, 'mantle'),\n",
       " (-7.551007560471759, 'map'),\n",
       " (-7.551007560471759, 'mara'),\n",
       " (-7.551007560471759, 'married'),\n",
       " (-7.551007560471759, 'martial'),\n",
       " (-7.551007560471759, 'master'),\n",
       " (-7.551007560471759, 'masterminding'),\n",
       " (-7.551007560471759, 'math'),\n",
       " (-7.551007560471759, 'matter'),\n",
       " (-7.551007560471759, 'max'),\n",
       " (-7.551007560471759, 'mayan'),\n",
       " (-7.551007560471759, 'mcgrath'),\n",
       " (-7.551007560471759, 'meets'),\n",
       " (-7.551007560471759, 'melanie'),\n",
       " (-7.551007560471759, 'mellark'),\n",
       " (-7.551007560471759, 'members'),\n",
       " (-7.551007560471759, 'memories'),\n",
       " (-7.551007560471759, 'memory'),\n",
       " (-7.551007560471759, 'men'),\n",
       " (-7.551007560471759, 'menace'),\n",
       " (-7.551007560471759, 'mentor'),\n",
       " (-7.551007560471759, 'mercenaries'),\n",
       " (-7.551007560471759, 'mercenary'),\n",
       " (-7.551007560471759, 'merciless'),\n",
       " (-7.551007560471759, 'message'),\n",
       " (-7.551007560471759, 'met'),\n",
       " (-7.551007560471759, 'mexico'),\n",
       " (-7.551007560471759, 'mi6'),\n",
       " (-7.551007560471759, 'michael'),\n",
       " (-7.551007560471759, 'mickey'),\n",
       " (-7.551007560471759, 'micky'),\n",
       " (-7.551007560471759, 'mid'),\n",
       " (-7.551007560471759, 'midgard'),\n",
       " (-7.551007560471759, 'mike'),\n",
       " (-7.551007560471759, 'mile'),\n",
       " (-7.551007560471759, 'military'),\n",
       " (-7.551007560471759, 'million'),\n",
       " (-7.551007560471759, 'millions'),\n",
       " (-7.551007560471759, 'mills'),\n",
       " (-7.551007560471759, 'mind'),\n",
       " (-7.551007560471759, 'mines'),\n",
       " (-7.551007560471759, 'mining'),\n",
       " (-7.551007560471759, 'minions'),\n",
       " (-7.551007560471759, 'minister'),\n",
       " (-7.551007560471759, 'mismatched'),\n",
       " (-7.551007560471759, 'missing'),\n",
       " (-7.551007560471759, 'mistaken'),\n",
       " (-7.551007560471759, 'mister'),\n",
       " (-7.551007560471759, 'mixed'),\n",
       " (-7.551007560471759, 'mob'),\n",
       " (-7.551007560471759, 'mobster'),\n",
       " (-7.551007560471759, 'momentous'),\n",
       " (-7.551007560471759, 'monster'),\n",
       " (-7.551007560471759, 'monstrous'),\n",
       " (-7.551007560471759, 'monumental'),\n",
       " (-7.551007560471759, 'morbid'),\n",
       " (-7.551007560471759, 'moriarty'),\n",
       " (-7.551007560471759, 'moroi'),\n",
       " (-7.551007560471759, 'mortal'),\n",
       " (-7.551007560471759, 'moses'),\n",
       " (-7.551007560471759, 'mother'),\n",
       " (-7.551007560471759, 'motorcyclist'),\n",
       " (-7.551007560471759, 'mount'),\n",
       " (-7.551007560471759, 'mouthed'),\n",
       " (-7.551007560471759, 'movie'),\n",
       " (-7.551007560471759, 'moving'),\n",
       " (-7.551007560471759, 'multi'),\n",
       " (-7.551007560471759, 'murder'),\n",
       " (-7.551007560471759, 'murdered'),\n",
       " (-7.551007560471759, 'mutants'),\n",
       " (-7.551007560471759, 'mutations'),\n",
       " (-7.551007560471759, 'mystery'),\n",
       " (-7.551007560471759, 'mystic'),\n",
       " (-7.551007560471759, 'mythical'),\n",
       " (-7.551007560471759, 'named'),\n",
       " (-7.551007560471759, 'napoleon'),\n",
       " (-7.551007560471759, 'nascar'),\n",
       " (-7.551007560471759, 'national'),\n",
       " (-7.551007560471759, 'nations'),\n",
       " (-7.551007560471759, 'native'),\n",
       " (-7.551007560471759, 'naughton'),\n",
       " (-7.551007560471759, 'navigate'),\n",
       " (-7.551007560471759, 'navy'),\n",
       " (-7.551007560471759, 'near'),\n",
       " (-7.551007560471759, 'nemesis'),\n",
       " (-7.551007560471759, 'neurosurgeon'),\n",
       " (-7.551007560471759, 'new'),\n",
       " (-7.551007560471759, 'newfound'),\n",
       " (-7.551007560471759, 'niki'),\n",
       " (-7.551007560471759, 'north'),\n",
       " (-7.551007560471759, 'northern'),\n",
       " (-7.551007560471759, 'notorious'),\n",
       " (-7.551007560471759, 'novgorod'),\n",
       " (-7.551007560471759, 'nuclear'),\n",
       " (-7.551007560471759, 'obese'),\n",
       " (-7.551007560471759, 'occurrences'),\n",
       " (-7.551007560471759, 'october'),\n",
       " (-7.551007560471759, 'offer'),\n",
       " (-7.551007560471759, 'offered'),\n",
       " (-7.551007560471759, 'office'),\n",
       " (-7.551007560471759, 'officer'),\n",
       " (-7.551007560471759, 'official'),\n",
       " (-7.551007560471759, 'oil'),\n",
       " (-7.551007560471759, 'old'),\n",
       " (-7.551007560471759, 'older'),\n",
       " (-7.551007560471759, 'onetime'),\n",
       " (-7.551007560471759, 'operation'),\n",
       " (-7.551007560471759, 'operative'),\n",
       " (-7.551007560471759, 'operatives'),\n",
       " (-7.551007560471759, 'opportunity'),\n",
       " (-7.551007560471759, 'oppression'),\n",
       " (-7.551007560471759, 'order'),\n",
       " (-7.551007560471759, 'ordered'),\n",
       " (-7.551007560471759, 'ordinary'),\n",
       " (-7.551007560471759, 'organization'),\n",
       " (-7.551007560471759, 'organized'),\n",
       " (-7.551007560471759, 'organizes'),\n",
       " (-7.551007560471759, 'otherworldly'),\n",
       " (-7.551007560471759, 'outcasts'),\n",
       " (-7.551007560471759, 'outwit'),\n",
       " (-7.551007560471759, 'overkill'),\n",
       " (-7.551007560471759, 'pact'),\n",
       " (-7.551007560471759, 'pair'),\n",
       " (-7.551007560471759, 'paired'),\n",
       " (-7.551007560471759, 'panda'),\n",
       " (-7.551007560471759, 'pandemic'),\n",
       " (-7.551007560471759, 'paramilitary'),\n",
       " (-7.551007560471759, 'paranormal'),\n",
       " (-7.551007560471759, 'parent'),\n",
       " (-7.551007560471759, 'parker'),\n",
       " (-7.551007560471759, 'particular'),\n",
       " (-7.551007560471759, 'passengers'),\n",
       " (-7.551007560471759, 'path'),\n",
       " (-7.551007560471759, 'paths'),\n",
       " (-7.551007560471759, 'patty'),\n",
       " (-7.551007560471759, 'paw'),\n",
       " (-7.551007560471759, 'peace'),\n",
       " (-7.551007560471759, 'peaceful'),\n",
       " (-7.551007560471759, 'peels'),\n",
       " (-7.551007560471759, 'peeta'),\n",
       " (-7.551007560471759, 'perseus'),\n",
       " (-7.551007560471759, 'persian'),\n",
       " (-7.551007560471759, 'persians'),\n",
       " (-7.551007560471759, 'personal'),\n",
       " (-7.551007560471759, 'peter'),\n",
       " (-7.551007560471759, 'pharaoh'),\n",
       " (-7.551007560471759, 'phenomenon'),\n",
       " (-7.551007560471759, 'phogat'),\n",
       " (-7.551007560471759, 'phone'),\n",
       " (-7.551007560471759, 'physical'),\n",
       " (-7.551007560471759, 'piggies'),\n",
       " (-7.551007560471759, 'pigs'),\n",
       " (-7.551007560471759, 'places'),\n",
       " (-7.551007560471759, 'plagues'),\n",
       " (-7.551007560471759, 'plane'),\n",
       " (-7.551007560471759, 'planet'),\n",
       " (-7.551007560471759, 'planned'),\n",
       " (-7.551007560471759, 'player'),\n",
       " (-7.551007560471759, 'plunging'),\n",
       " (-7.551007560471759, 'poker'),\n",
       " (-7.551007560471759, 'policeman'),\n",
       " (-7.551007560471759, 'pompeii'),\n",
       " (-7.551007560471759, 'poor'),\n",
       " (-7.551007560471759, 'populated'),\n",
       " (-7.551007560471759, 'porn'),\n",
       " (-7.551007560471759, 'portraying'),\n",
       " (-7.551007560471759, 'post'),\n",
       " (-7.551007560471759, 'potential'),\n",
       " (-7.551007560471759, 'pounds'),\n",
       " (-7.551007560471759, 'powder'),\n",
       " (-7.551007560471759, 'president'),\n",
       " (-7.551007560471759, 'presidential'),\n",
       " (-7.551007560471759, 'pressures'),\n",
       " (-7.551007560471759, 'presumed'),\n",
       " (-7.551007560471759, 'pretending'),\n",
       " (-7.551007560471759, 'prevent'),\n",
       " (-7.551007560471759, 'previews'),\n",
       " (-7.551007560471759, 'prime'),\n",
       " (-7.551007560471759, 'prince'),\n",
       " (-7.551007560471759, 'princess'),\n",
       " (-7.551007560471759, 'prison'),\n",
       " (-7.551007560471759, 'prize'),\n",
       " (-7.551007560471759, 'pro'),\n",
       " (-7.551007560471759, 'professional'),\n",
       " (-7.551007560471759, 'proliferate'),\n",
       " (-7.551007560471759, 'promising'),\n",
       " (-7.551007560471759, 'promoter'),\n",
       " (-7.551007560471759, 'prophesied'),\n",
       " (-7.551007560471759, 'prosperity'),\n",
       " (-7.551007560471759, 'prosperous'),\n",
       " (-7.551007560471759, 'protect'),\n",
       " (-7.551007560471759, 'protector'),\n",
       " (-7.551007560471759, 'proving'),\n",
       " (-7.551007560471759, 'psychological'),\n",
       " (-7.551007560471759, 'psychotic'),\n",
       " (-7.551007560471759, 'public'),\n",
       " (-7.551007560471759, 'pull'),\n",
       " (-7.551007560471759, 'pushes'),\n",
       " (-7.551007560471759, 'puts'),\n",
       " (-7.551007560471759, 'pym'),\n",
       " (-7.551007560471759, 'queen'),\n",
       " (-7.551007560471759, 'quentin'),\n",
       " (-7.551007560471759, 'quest'),\n",
       " (-7.551007560471759, 'question'),\n",
       " (-7.551007560471759, 'quick'),\n",
       " (-7.551007560471759, 'quiet'),\n",
       " (-7.551007560471759, 'quite'),\n",
       " (-7.551007560471759, 'race'),\n",
       " (-7.551007560471759, 'racer'),\n",
       " (-7.551007560471759, 'racers'),\n",
       " (-7.551007560471759, 'races'),\n",
       " (-7.551007560471759, 'rachel'),\n",
       " (-7.551007560471759, 'racing'),\n",
       " (-7.551007560471759, 'rag'),\n",
       " (-7.551007560471759, 'ragtag'),\n",
       " (-7.551007560471759, 'raised'),\n",
       " (-7.551007560471759, 'ramses'),\n",
       " (-7.551007560471759, 'ravenna'),\n",
       " (-7.551007560471759, 'ray'),\n",
       " (-7.551007560471759, 'reacher'),\n",
       " (-7.551007560471759, 'ready'),\n",
       " (-7.551007560471759, 'reality'),\n",
       " (-7.551007560471759, 'realization'),\n",
       " (-7.551007560471759, 'reassemble'),\n",
       " ...]"
      ]
     },
     "execution_count": 336,
     "metadata": {},
     "output_type": "execute_result"
    }
   ],
   "source": [
    "# Zip the feature names together with the coefficient array and sort by weights: feat_with_weights\n",
    "feat_with_weights = sorted(zip(nb_classifier.coef_[0], feature_names))\n",
    "feat_with_weights\n"
   ]
  },
  {
   "cell_type": "code",
   "execution_count": 338,
   "metadata": {},
   "outputs": [
    {
     "name": "stdout",
     "output_type": "stream",
     "text": [
      "0 [(-7.551007560471759, '000'), (-7.551007560471759, '007'), (-7.551007560471759, '10'), (-7.551007560471759, '10th'), (-7.551007560471759, '17'), (-7.551007560471759, '1920'), (-7.551007560471759, '1942'), (-7.551007560471759, '1949'), (-7.551007560471759, '1952'), (-7.551007560471759, '1960s'), (-7.551007560471759, '1969'), (-7.551007560471759, '1970s'), (-7.551007560471759, '1980s'), (-7.551007560471759, '1985'), (-7.551007560471759, '1996'), (-7.551007560471759, '1997'), (-7.551007560471759, '300'), (-7.551007560471759, '480'), (-7.551007560471759, '600'), (-7.551007560471759, '60s'), (-7.551007560471759, '70s'), (-7.551007560471759, '74th'), (-7.551007560471759, '80'), (-7.551007560471759, 'aang'), (-7.551007560471759, 'abby'), (-7.551007560471759, 'abilities'), (-7.551007560471759, 'ability'), (-7.551007560471759, 'aboard'), (-7.551007560471759, 'abusive'), (-7.551007560471759, 'accelerated'), (-7.551007560471759, 'accidental'), (-7.551007560471759, 'accidents'), (-7.551007560471759, 'acclimated'), (-7.551007560471759, 'accused'), (-7.551007560471759, 'accuses'), (-7.551007560471759, 'action'), (-7.551007560471759, 'active'), (-7.551007560471759, 'activities'), (-7.551007560471759, 'actors'), (-7.551007560471759, 'adopted'), (-7.551007560471759, 'adventure'), (-7.551007560471759, 'adventures'), (-7.551007560471759, 'adventurous'), (-7.551007560471759, 'adversary'), (-7.551007560471759, 'aether'), (-7.551007560471759, 'africa'), (-7.551007560471759, 'agency'), (-7.551007560471759, 'agenda'), (-7.551007560471759, 'agent'), (-7.551007560471759, 'agents'), (-7.551007560471759, 'aid'), (-7.551007560471759, 'alcoholic'), (-7.551007560471759, 'alice'), (-7.551007560471759, 'alliances'), (-7.551007560471759, 'ally'), (-7.551007560471759, 'alongside'), (-7.551007560471759, 'altered'), (-7.551007560471759, 'alternate'), (-7.551007560471759, 'alternative'), (-7.551007560471759, 'america')]\n"
     ]
    }
   ],
   "source": [
    "# Print the first class label and the top 60 feat_with_weights entries\n",
    "print(class_labels[0], feat_with_weights[:60])"
   ]
  },
  {
   "cell_type": "code",
   "execution_count": 339,
   "metadata": {},
   "outputs": [
    {
     "name": "stdout",
     "output_type": "stream",
     "text": [
      "1 [(-7.1089379094839549, 'learn'), (-7.108070560872541, 'government'), (-7.0975370368139954, 'town'), (-7.0968881321049997, 'community'), (-7.0941078442086267, 'attempt'), (-7.088788378472568, 'apart'), (-7.087132903251061, 'stage'), (-7.0859014411133963, 'plague'), (-7.0846830445360389, 'world'), (-7.0742751162602975, 'soldier'), (-7.0659747681303244, 'discovers'), (-7.0159739747153367, 'future'), (-6.9930241067444783, 'alien'), (-6.9916616534631277, 'space'), (-6.9715348825904053, 'mysterious'), (-6.9712128882805029, 'young'), (-6.9162864338090069, 'humanoid'), (-6.9092318406014224, 'survive'), (-6.8902944313812435, 'small'), (-6.8710916245245546, 'society')]\n"
     ]
    }
   ],
   "source": [
    "# Print the second class label and the bottom 20 feat_with_weights entries\n",
    "print(class_labels[1], feat_with_weights[-20:])"
   ]
  },
  {
   "cell_type": "code",
   "execution_count": null,
   "metadata": {
    "collapsed": true
   },
   "outputs": [],
   "source": []
  },
  {
   "cell_type": "code",
   "execution_count": null,
   "metadata": {
    "collapsed": true
   },
   "outputs": [],
   "source": []
  },
  {
   "cell_type": "code",
   "execution_count": null,
   "metadata": {
    "collapsed": true
   },
   "outputs": [],
   "source": []
  }
 ],
 "metadata": {
  "kernelspec": {
   "display_name": "Python 3",
   "language": "python",
   "name": "python3"
  },
  "language_info": {
   "codemirror_mode": {
    "name": "ipython",
    "version": 3
   },
   "file_extension": ".py",
   "mimetype": "text/x-python",
   "name": "python",
   "nbconvert_exporter": "python",
   "pygments_lexer": "ipython3",
   "version": "3.6.2"
  }
 },
 "nbformat": 4,
 "nbformat_minor": 2
}
